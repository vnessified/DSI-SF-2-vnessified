{
 "cells": [
  {
   "cell_type": "markdown",
   "metadata": {},
   "source": [
    "<img src=\"http://imgur.com/1ZcRyrc.png\" style=\"float: left; margin: 15px; height: 80px\">\n",
    "\n",
    "# Project 3\n",
    "\n",
    "### Iowa Liquor Sales \n",
    "\n",
    "---\n",
    "\n",
    "Project 3, unlike project 2 which combined skills from weeks 1 and 2, will now be review of week 2. Projects going forward will fit this format: you learn material one week and review it through a project the following week.\n",
    "\n",
    "That being said, this is as you might expect more challenging. You will be using the pandas data transformation functionality (melt, pivot, groupby, apply) that was not a factor in Project 2.\n",
    "\n",
    "---\n",
    "\n",
    "#### Context of the data\n",
    "\n",
    "The state of Iowa provides many data sets on their website, including [this dataset](https://www.dropbox.com/sh/pf5n5sgfgiri3i8/AACkaMeL_i_WgZ00rpxOOcysa?dl=0) which contains transactions for all stores that have a class E liquor license. You can choose one of the following two scenarios.\n",
    "\n",
    "The data can also be found [directly on their website](https://data.iowa.gov/Economy/Iowa-Liquor-Sales/m3tr-qhgy), which allows you to explore it graphically and download it (though it doesn't work very well).\n",
    "\n",
    "NOTE: Some of you may have computer issues with the full dataset. In this case, feel free to use [this 10% dataset version of Iowa liquor sales](https://drive.google.com/file/d/0Bx2SHQGVqWaseDB4QU9ZSVFDY2M/view?usp=sharing). You may want to use it anyway to test and prototype your code since it will be faster, before running it on the full dataset.\n",
    "\n",
    "---\n",
    "\n",
    "#### Package imports"
   ]
  },
  {
   "cell_type": "code",
   "execution_count": 1,
   "metadata": {
    "collapsed": true
   },
   "outputs": [],
   "source": [
    "import numpy as np\n",
    "import scipy.stats as stats\n",
    "import pandas as pd\n",
    "import csv\n",
    "import datetime\n",
    "import seaborn as sns\n",
    "import matplotlib.pyplot as plt\n",
    "\n",
    "\n",
    "# this line tells jupyter notebook to put the plots in the notebook rather than saving them to file.\n",
    "%matplotlib inline\n",
    "\n",
    "# this line makes plots prettier on mac retina screens. If you don't have one it shouldn't do anything.\n",
    "%config InlineBackend.figure_format = 'retina'"
   ]
  },
  {
   "cell_type": "markdown",
   "metadata": {},
   "source": [
    "<img src=\"http://imgur.com/l5NasQj.png\" style=\"float: left; margin: 25px 15px 0px 0px; height: 25px\">\n",
    "\n",
    "## 1. Load the data from file\n",
    "\n",
    "---"
   ]
  },
  {
   "cell_type": "code",
   "execution_count": 2,
   "metadata": {
    "collapsed": false
   },
   "outputs": [],
   "source": [
    "iowa = pd.read_csv('/Users/VanessaG/desktop/DSI-SF-2-vnessified/datasets/iowa_liquor/Iowa_Liquor_sales_sample_10pct.csv')"
   ]
  },
  {
   "cell_type": "markdown",
   "metadata": {},
   "source": [
    "<img src=\"http://imgur.com/l5NasQj.png\" style=\"float: left; margin: 25px 15px 0px 0px; height: 25px\">\n",
    "\n",
    "## 2. Do an initial overview of the data\n",
    "\n",
    "---\n",
    "\n",
    "At the very least describe the columns/variables and the datatypes. "
   ]
  },
  {
   "cell_type": "code",
   "execution_count": 3,
   "metadata": {
    "collapsed": false
   },
   "outputs": [
    {
     "data": {
      "text/html": [
       "<div>\n",
       "<table border=\"1\" class=\"dataframe\">\n",
       "  <thead>\n",
       "    <tr style=\"text-align: right;\">\n",
       "      <th></th>\n",
       "      <th>Date</th>\n",
       "      <th>Store Number</th>\n",
       "      <th>City</th>\n",
       "      <th>Zip Code</th>\n",
       "      <th>County Number</th>\n",
       "      <th>County</th>\n",
       "      <th>Category</th>\n",
       "      <th>Category Name</th>\n",
       "      <th>Vendor Number</th>\n",
       "      <th>Item Number</th>\n",
       "      <th>Item Description</th>\n",
       "      <th>Bottle Volume (ml)</th>\n",
       "      <th>State Bottle Cost</th>\n",
       "      <th>State Bottle Retail</th>\n",
       "      <th>Bottles Sold</th>\n",
       "      <th>Sale (Dollars)</th>\n",
       "      <th>Volume Sold (Liters)</th>\n",
       "      <th>Volume Sold (Gallons)</th>\n",
       "    </tr>\n",
       "  </thead>\n",
       "  <tbody>\n",
       "    <tr>\n",
       "      <th>0</th>\n",
       "      <td>11/04/2015</td>\n",
       "      <td>3717</td>\n",
       "      <td>SUMNER</td>\n",
       "      <td>50674</td>\n",
       "      <td>9.0</td>\n",
       "      <td>Bremer</td>\n",
       "      <td>1051100.0</td>\n",
       "      <td>APRICOT BRANDIES</td>\n",
       "      <td>55</td>\n",
       "      <td>54436</td>\n",
       "      <td>Mr. Boston Apricot Brandy</td>\n",
       "      <td>750</td>\n",
       "      <td>$4.50</td>\n",
       "      <td>$6.75</td>\n",
       "      <td>12</td>\n",
       "      <td>$81.00</td>\n",
       "      <td>9.0</td>\n",
       "      <td>2.38</td>\n",
       "    </tr>\n",
       "    <tr>\n",
       "      <th>1</th>\n",
       "      <td>03/02/2016</td>\n",
       "      <td>2614</td>\n",
       "      <td>DAVENPORT</td>\n",
       "      <td>52807</td>\n",
       "      <td>82.0</td>\n",
       "      <td>Scott</td>\n",
       "      <td>1011100.0</td>\n",
       "      <td>BLENDED WHISKIES</td>\n",
       "      <td>395</td>\n",
       "      <td>27605</td>\n",
       "      <td>Tin Cup</td>\n",
       "      <td>750</td>\n",
       "      <td>$13.75</td>\n",
       "      <td>$20.63</td>\n",
       "      <td>2</td>\n",
       "      <td>$41.26</td>\n",
       "      <td>1.5</td>\n",
       "      <td>0.40</td>\n",
       "    </tr>\n",
       "    <tr>\n",
       "      <th>2</th>\n",
       "      <td>02/11/2016</td>\n",
       "      <td>2106</td>\n",
       "      <td>CEDAR FALLS</td>\n",
       "      <td>50613</td>\n",
       "      <td>7.0</td>\n",
       "      <td>Black Hawk</td>\n",
       "      <td>1011200.0</td>\n",
       "      <td>STRAIGHT BOURBON WHISKIES</td>\n",
       "      <td>65</td>\n",
       "      <td>19067</td>\n",
       "      <td>Jim Beam</td>\n",
       "      <td>1000</td>\n",
       "      <td>$12.59</td>\n",
       "      <td>$18.89</td>\n",
       "      <td>24</td>\n",
       "      <td>$453.36</td>\n",
       "      <td>24.0</td>\n",
       "      <td>6.34</td>\n",
       "    </tr>\n",
       "  </tbody>\n",
       "</table>\n",
       "</div>"
      ],
      "text/plain": [
       "         Date  Store Number         City Zip Code  County Number      County  \\\n",
       "0  11/04/2015          3717       SUMNER    50674            9.0      Bremer   \n",
       "1  03/02/2016          2614    DAVENPORT    52807           82.0       Scott   \n",
       "2  02/11/2016          2106  CEDAR FALLS    50613            7.0  Black Hawk   \n",
       "\n",
       "    Category              Category Name  Vendor Number  Item Number  \\\n",
       "0  1051100.0           APRICOT BRANDIES             55        54436   \n",
       "1  1011100.0           BLENDED WHISKIES            395        27605   \n",
       "2  1011200.0  STRAIGHT BOURBON WHISKIES             65        19067   \n",
       "\n",
       "            Item Description  Bottle Volume (ml) State Bottle Cost  \\\n",
       "0  Mr. Boston Apricot Brandy                 750             $4.50   \n",
       "1                    Tin Cup                 750            $13.75   \n",
       "2                   Jim Beam                1000            $12.59   \n",
       "\n",
       "  State Bottle Retail  Bottles Sold Sale (Dollars)  Volume Sold (Liters)  \\\n",
       "0               $6.75            12         $81.00                   9.0   \n",
       "1              $20.63             2         $41.26                   1.5   \n",
       "2              $18.89            24        $453.36                  24.0   \n",
       "\n",
       "   Volume Sold (Gallons)  \n",
       "0                   2.38  \n",
       "1                   0.40  \n",
       "2                   6.34  "
      ]
     },
     "execution_count": 3,
     "metadata": {},
     "output_type": "execute_result"
    }
   ],
   "source": [
    "iowa.head(3)"
   ]
  },
  {
   "cell_type": "code",
   "execution_count": 4,
   "metadata": {
    "collapsed": false
   },
   "outputs": [
    {
     "data": {
      "text/plain": [
       "(270955, 18)"
      ]
     },
     "execution_count": 4,
     "metadata": {},
     "output_type": "execute_result"
    }
   ],
   "source": [
    "#whoa how large is the original\n",
    "iowa.shape"
   ]
  },
  {
   "cell_type": "code",
   "execution_count": 5,
   "metadata": {
    "collapsed": false
   },
   "outputs": [
    {
     "data": {
      "text/plain": [
       "Index([u'Date', u'Store Number', u'City', u'Zip Code', u'County Number',\n",
       "       u'County', u'Category', u'Category Name', u'Vendor Number',\n",
       "       u'Item Number', u'Item Description', u'Bottle Volume (ml)',\n",
       "       u'State Bottle Cost', u'State Bottle Retail', u'Bottles Sold',\n",
       "       u'Sale (Dollars)', u'Volume Sold (Liters)', u'Volume Sold (Gallons)'],\n",
       "      dtype='object')"
      ]
     },
     "execution_count": 5,
     "metadata": {},
     "output_type": "execute_result"
    }
   ],
   "source": [
    "iowa.columns"
   ]
  },
  {
   "cell_type": "markdown",
   "metadata": {},
   "source": [
    "<img src=\"http://imgur.com/l5NasQj.png\" style=\"float: left; margin: 25px 15px 0px 0px; height: 25px\">\n",
    "\n",
    "## 3. Clean the dataset\n",
    "\n",
    "---\n",
    "\n",
    "### 3.1 Identify columns that you will need to convert and clean. Where and how is the data corrupted?\n",
    "\n",
    "Don't worry about converting the date column to a pandas/numpy \"datetime\" datatype, unless you want to (not required for these problems and is a challenging thing to work with in its own right.)"
   ]
  },
  {
   "cell_type": "code",
   "execution_count": 6,
   "metadata": {
    "collapsed": false
   },
   "outputs": [
    {
     "name": "stdout",
     "output_type": "stream",
     "text": [
      "<class 'pandas.core.frame.DataFrame'>\n",
      "RangeIndex: 270955 entries, 0 to 270954\n",
      "Data columns (total 18 columns):\n",
      "Date                     270955 non-null object\n",
      "Store Number             270955 non-null int64\n",
      "City                     270955 non-null object\n",
      "Zip Code                 270955 non-null object\n",
      "County Number            269878 non-null float64\n",
      "County                   269878 non-null object\n",
      "Category                 270887 non-null float64\n",
      "Category Name            270323 non-null object\n",
      "Vendor Number            270955 non-null int64\n",
      "Item Number              270955 non-null int64\n",
      "Item Description         270955 non-null object\n",
      "Bottle Volume (ml)       270955 non-null int64\n",
      "State Bottle Cost        270955 non-null object\n",
      "State Bottle Retail      270955 non-null object\n",
      "Bottles Sold             270955 non-null int64\n",
      "Sale (Dollars)           270955 non-null object\n",
      "Volume Sold (Liters)     270955 non-null float64\n",
      "Volume Sold (Gallons)    270955 non-null float64\n",
      "dtypes: float64(4), int64(5), object(9)\n",
      "memory usage: 37.2+ MB\n"
     ]
    }
   ],
   "source": [
    "iowa.info()"
   ]
  },
  {
   "cell_type": "markdown",
   "metadata": {
    "collapsed": true
   },
   "source": [
    "**To clean:**\n",
    "\n",
    "* Date: convert object to datetime\n",
    "* County Number: missing values\n",
    "* County: missing values\n",
    "* Category: missing values\n",
    "* Category Name: missing values\n",
    "* State Bottle Cost: remove dollar sign, convert object to float\n",
    "* State Bottle Retail: remove dollar sign, convert object to float\n",
    "* Sale (Dollars): remove dollar sign, convert object to float\n",
    "\n",
    "I know zip code is a categorical variable but is there ever some benefit to converting it to a continuous variable?"
   ]
  },
  {
   "cell_type": "markdown",
   "metadata": {},
   "source": [
    "### 3.2 Clean the columns"
   ]
  },
  {
   "cell_type": "code",
   "execution_count": 7,
   "metadata": {
    "collapsed": false
   },
   "outputs": [
    {
     "data": {
      "text/plain": [
       "0     $4.50\n",
       "1    $13.75\n",
       "2    $12.59\n",
       "3     $9.50\n",
       "4     $7.20\n",
       "Name: State Bottle Cost, dtype: object"
      ]
     },
     "execution_count": 7,
     "metadata": {},
     "output_type": "execute_result"
    }
   ],
   "source": [
    "iowa['State Bottle Cost'].head()"
   ]
  },
  {
   "cell_type": "code",
   "execution_count": 8,
   "metadata": {
    "collapsed": false
   },
   "outputs": [
    {
     "data": {
      "text/plain": [
       "0     $6.75\n",
       "1    $20.63\n",
       "2    $18.89\n",
       "3    $14.25\n",
       "4    $10.80\n",
       "Name: State Bottle Retail, dtype: object"
      ]
     },
     "execution_count": 8,
     "metadata": {},
     "output_type": "execute_result"
    }
   ],
   "source": [
    "iowa['State Bottle Retail'].head()"
   ]
  },
  {
   "cell_type": "code",
   "execution_count": 9,
   "metadata": {
    "collapsed": false
   },
   "outputs": [
    {
     "data": {
      "text/plain": [
       "0     $81.00\n",
       "1     $41.26\n",
       "2    $453.36\n",
       "3     $85.50\n",
       "4    $129.60\n",
       "Name: Sale (Dollars), dtype: object"
      ]
     },
     "execution_count": 9,
     "metadata": {},
     "output_type": "execute_result"
    }
   ],
   "source": [
    "iowa['Sale (Dollars)'].head()"
   ]
  },
  {
   "cell_type": "code",
   "execution_count": 10,
   "metadata": {
    "collapsed": false,
    "scrolled": true
   },
   "outputs": [],
   "source": [
    "iowa.ix[:,['State Bottle Cost','State Bottle Retail','Sale (Dollars)']] = iowa.ix[:,['State Bottle Cost','State Bottle Retail','Sale (Dollars)']].replace('[\\$,]', '', regex=True).astype(float)"
   ]
  },
  {
   "cell_type": "code",
   "execution_count": 11,
   "metadata": {
    "collapsed": false,
    "scrolled": true
   },
   "outputs": [
    {
     "data": {
      "text/plain": [
       "dtype('float64')"
      ]
     },
     "execution_count": 11,
     "metadata": {},
     "output_type": "execute_result"
    }
   ],
   "source": [
    "# iowa['State Bottle Cost'].dtype\n",
    "# iowa['State Bottle Retail'].dtype\n",
    "iowa['Sale (Dollars)'].dtype"
   ]
  },
  {
   "cell_type": "code",
   "execution_count": 12,
   "metadata": {
    "collapsed": false
   },
   "outputs": [
    {
     "data": {
      "text/plain": [
       "Date                        0\n",
       "Store Number                0\n",
       "City                        0\n",
       "Zip Code                    0\n",
       "County Number            1077\n",
       "County                   1077\n",
       "Category                   68\n",
       "Category Name             632\n",
       "Vendor Number               0\n",
       "Item Number                 0\n",
       "Item Description            0\n",
       "Bottle Volume (ml)          0\n",
       "State Bottle Cost           0\n",
       "State Bottle Retail         0\n",
       "Bottles Sold                0\n",
       "Sale (Dollars)              0\n",
       "Volume Sold (Liters)        0\n",
       "Volume Sold (Gallons)       0\n",
       "dtype: int64"
      ]
     },
     "execution_count": 12,
     "metadata": {},
     "output_type": "execute_result"
    }
   ],
   "source": [
    "iowa.isnull().sum()"
   ]
  },
  {
   "cell_type": "code",
   "execution_count": 13,
   "metadata": {
    "collapsed": true
   },
   "outputs": [],
   "source": [
    "#dropping since the number of missing is relatively low\n",
    "iowa = iowa.dropna()"
   ]
  },
  {
   "cell_type": "code",
   "execution_count": 14,
   "metadata": {
    "collapsed": false
   },
   "outputs": [
    {
     "name": "stdout",
     "output_type": "stream",
     "text": [
      "<class 'pandas.core.frame.DataFrame'>\n",
      "Int64Index: 269258 entries, 0 to 270954\n",
      "Data columns (total 18 columns):\n",
      "Date                     269258 non-null object\n",
      "Store Number             269258 non-null int64\n",
      "City                     269258 non-null object\n",
      "Zip Code                 269258 non-null object\n",
      "County Number            269258 non-null float64\n",
      "County                   269258 non-null object\n",
      "Category                 269258 non-null float64\n",
      "Category Name            269258 non-null object\n",
      "Vendor Number            269258 non-null int64\n",
      "Item Number              269258 non-null int64\n",
      "Item Description         269258 non-null object\n",
      "Bottle Volume (ml)       269258 non-null int64\n",
      "State Bottle Cost        269258 non-null float64\n",
      "State Bottle Retail      269258 non-null float64\n",
      "Bottles Sold             269258 non-null int64\n",
      "Sale (Dollars)           269258 non-null float64\n",
      "Volume Sold (Liters)     269258 non-null float64\n",
      "Volume Sold (Gallons)    269258 non-null float64\n",
      "dtypes: float64(7), int64(5), object(6)\n",
      "memory usage: 39.0+ MB\n"
     ]
    }
   ],
   "source": [
    "iowa.info()"
   ]
  },
  {
   "cell_type": "markdown",
   "metadata": {},
   "source": [
    "<img src=\"http://imgur.com/xDpSobf.png\" style=\"float: left; margin: 25px 15px 0px 0px; height: 25px\">\n",
    "\n",
    "### 3.3 Perform more extensive cleaning of the dataset\n",
    "\n",
    "Cleaning of data can mean a lot more than just fixing strings and numbers in columns. There are often logical errors with data, useless or nonsensical categories, redundancy of information, outliers, and many more problems.\n",
    "\n",
    "This dataset has problems beyond just fixing the types of columns. Though resolving them may not be required for EDA and analysis, if you want experience with \"deeper\" cleaning of data this is a great dataset to start practicing with.\n",
    "\n",
    "Keep in mind that some types of \"data cleaning\" is subjective: it's not always a cut-and-dry conversion of type or removal of null values. Subjectivity when dealing with data is just a fact of life for a data scientist. This isn't a kind of programming where things are just right or wrong."
   ]
  },
  {
   "cell_type": "markdown",
   "metadata": {},
   "source": [
    "______________________________________________________________________________________________________________________\n",
    "\n",
    "#### Answer:\n",
    "For more extensive cleaning I think it makes sense to drop some of the redundant, seemingly unuseful columns:\n",
    "* County Number (redundant, info also in County)\n",
    "* Category (redundant and not informative)\n",
    "\n",
    "Since we already know volume sold ml and can calculate any volume we want later so Volume Sold Liters (and Gallons) is a bit redundant (but since I read ahead and see we are using Gallons I'll leave it in this case).\n",
    "\n",
    "\n",
    "Category Names could be simplfied/grouped better (ie Vodka, Tequila, Rum, etc). Same goes for Item Description could also be group better.\n",
    "\n",
    "In terms of outliers, right now I'm not quite sure how to determine what are outliers I should disregard. I looked at .value_counts for each column (aside from data where I used .describe to essentially check the range), but I don't think .value_counts is enough to determine true outliers. With more time I would plot each one to get a better sense of outliers.\n"
   ]
  },
  {
   "cell_type": "code",
   "execution_count": 15,
   "metadata": {
    "collapsed": false
   },
   "outputs": [],
   "source": [
    "#rename columns for easier reference\n",
    "iowa.columns = [x.lower().replace(' ','_').replace('(','').replace(')','') for x in iowa.columns]"
   ]
  },
  {
   "cell_type": "code",
   "execution_count": 16,
   "metadata": {
    "collapsed": false
   },
   "outputs": [
    {
     "data": {
      "text/plain": [
       "Index([u'date', u'store_number', u'city', u'zip_code', u'county_number',\n",
       "       u'county', u'category', u'category_name', u'vendor_number',\n",
       "       u'item_number', u'item_description', u'bottle_volume_ml',\n",
       "       u'state_bottle_cost', u'state_bottle_retail', u'bottles_sold',\n",
       "       u'sale_dollars', u'volume_sold_liters', u'volume_sold_gallons'],\n",
       "      dtype='object')"
      ]
     },
     "execution_count": 16,
     "metadata": {},
     "output_type": "execute_result"
    }
   ],
   "source": [
    "iowa.columns"
   ]
  },
  {
   "cell_type": "code",
   "execution_count": 17,
   "metadata": {
    "collapsed": false
   },
   "outputs": [],
   "source": [
    "# this was a very slow operation until I added format\n",
    "iowa['date'] = pd.to_datetime(iowa['date'], format='%m/%d/%Y')"
   ]
  },
  {
   "cell_type": "code",
   "execution_count": 18,
   "metadata": {
    "collapsed": false
   },
   "outputs": [
    {
     "data": {
      "text/plain": [
       "count                  269258\n",
       "unique                    274\n",
       "top       2015-12-01 00:00:00\n",
       "freq                     1554\n",
       "first     2015-01-05 00:00:00\n",
       "last      2016-03-31 00:00:00\n",
       "Name: date, dtype: object"
      ]
     },
     "execution_count": 18,
     "metadata": {},
     "output_type": "execute_result"
    }
   ],
   "source": [
    "iowa.date.describe()"
   ]
  },
  {
   "cell_type": "markdown",
   "metadata": {},
   "source": [
    "Below I looked at value_counts for all the columns to get a better sense of the data... just commenting out to not clutter up the notebook"
   ]
  },
  {
   "cell_type": "code",
   "execution_count": 19,
   "metadata": {
    "collapsed": false
   },
   "outputs": [],
   "source": [
    "# iowa.store_number.value_counts()"
   ]
  },
  {
   "cell_type": "code",
   "execution_count": 20,
   "metadata": {
    "collapsed": false
   },
   "outputs": [],
   "source": [
    "# iowa.city.value_counts()"
   ]
  },
  {
   "cell_type": "code",
   "execution_count": 21,
   "metadata": {
    "collapsed": false
   },
   "outputs": [],
   "source": [
    "# iowa.zip_code.value_counts()"
   ]
  },
  {
   "cell_type": "code",
   "execution_count": 22,
   "metadata": {
    "collapsed": false,
    "scrolled": true
   },
   "outputs": [],
   "source": [
    "# iowa.county_number.value_counts()"
   ]
  },
  {
   "cell_type": "code",
   "execution_count": 23,
   "metadata": {
    "collapsed": false
   },
   "outputs": [],
   "source": [
    "# iowa.county.value_counts()"
   ]
  },
  {
   "cell_type": "code",
   "execution_count": 24,
   "metadata": {
    "collapsed": false,
    "scrolled": true
   },
   "outputs": [],
   "source": [
    "#hmm is this column even really useful? category_name is much more informative...\n",
    "# iowa.category.value_counts()"
   ]
  },
  {
   "cell_type": "code",
   "execution_count": 25,
   "metadata": {
    "collapsed": false
   },
   "outputs": [],
   "source": [
    "#this could definitely be simplified into fewer categories\n",
    "# iowa.category_name.value_counts()"
   ]
  },
  {
   "cell_type": "code",
   "execution_count": 26,
   "metadata": {
    "collapsed": false
   },
   "outputs": [],
   "source": [
    "# iowa.vendor_number.value_counts()"
   ]
  },
  {
   "cell_type": "code",
   "execution_count": 27,
   "metadata": {
    "collapsed": false
   },
   "outputs": [],
   "source": [
    "# iowa.item_number.value_counts()"
   ]
  },
  {
   "cell_type": "code",
   "execution_count": 28,
   "metadata": {
    "collapsed": false
   },
   "outputs": [],
   "source": [
    "# iowa.item_description.value_counts()"
   ]
  },
  {
   "cell_type": "code",
   "execution_count": 29,
   "metadata": {
    "collapsed": false
   },
   "outputs": [],
   "source": [
    "# iowa.bottle_volume_ml.value_counts()"
   ]
  },
  {
   "cell_type": "code",
   "execution_count": 30,
   "metadata": {
    "collapsed": false
   },
   "outputs": [],
   "source": [
    "# iowa.state_bottle_cost.value_counts()"
   ]
  },
  {
   "cell_type": "code",
   "execution_count": 31,
   "metadata": {
    "collapsed": false
   },
   "outputs": [],
   "source": [
    "# iowa.state_bottle_retail.value_counts()"
   ]
  },
  {
   "cell_type": "code",
   "execution_count": 32,
   "metadata": {
    "collapsed": false
   },
   "outputs": [],
   "source": [
    "# iowa.bottles_sold.value_counts()"
   ]
  },
  {
   "cell_type": "code",
   "execution_count": 33,
   "metadata": {
    "collapsed": false
   },
   "outputs": [],
   "source": [
    "# iowa.sale_dollars.value_counts()"
   ]
  },
  {
   "cell_type": "code",
   "execution_count": 34,
   "metadata": {
    "collapsed": false
   },
   "outputs": [],
   "source": [
    "# iowa.volume_sold_liters.value_counts()"
   ]
  },
  {
   "cell_type": "code",
   "execution_count": 35,
   "metadata": {
    "collapsed": false
   },
   "outputs": [],
   "source": [
    "# iowa.volume_sold_gallons.value_counts()"
   ]
  },
  {
   "cell_type": "code",
   "execution_count": 36,
   "metadata": {
    "collapsed": false
   },
   "outputs": [],
   "source": [
    "#drop useless columns\n",
    "iowa.drop(iowa[['county_number', 'category', 'volume_sold_liters']], axis=1, inplace=True)"
   ]
  },
  {
   "cell_type": "code",
   "execution_count": 37,
   "metadata": {
    "collapsed": false
   },
   "outputs": [
    {
     "data": {
      "text/plain": [
       "Index([u'date', u'store_number', u'city', u'zip_code', u'county',\n",
       "       u'category_name', u'vendor_number', u'item_number', u'item_description',\n",
       "       u'bottle_volume_ml', u'state_bottle_cost', u'state_bottle_retail',\n",
       "       u'bottles_sold', u'sale_dollars', u'volume_sold_gallons'],\n",
       "      dtype='object')"
      ]
     },
     "execution_count": 37,
     "metadata": {},
     "output_type": "execute_result"
    }
   ],
   "source": [
    "iowa.columns"
   ]
  },
  {
   "cell_type": "markdown",
   "metadata": {},
   "source": [
    "<img src=\"http://imgur.com/l5NasQj.png\" style=\"float: left; margin: 25px 15px 0px 0px; height: 25px\">\n",
    "\n",
    "## 4. Filter/adjust the store data\n",
    "\n",
    "---\n",
    "\n",
    "Some stores may have opened or closed in 2015. These stores will have incorrect yearly summary statistics since they were not open the full year. We need to filter them out or find another way to deal with the inconsistent numbers of months across stores.\n",
    "\n",
    "It is up to you how you want to deal with this problem.\n",
    "\n",
    "1. Investigate problematic stores.\n",
    "2. Decide on an approach to deal with stores not open for the full 2015 year.\n",
    "3. Implement your plan.\n",
    "4. Briefly report on what you did and why.\n"
   ]
  },
  {
   "cell_type": "code",
   "execution_count": 38,
   "metadata": {
    "collapsed": false
   },
   "outputs": [
    {
     "data": {
      "text/plain": [
       "(218348, 15)"
      ]
     },
     "execution_count": 38,
     "metadata": {},
     "output_type": "execute_result"
    }
   ],
   "source": [
    "#2015 sale count\n",
    "iowa[(iowa['date'] > '2015/01/01') & (iowa['date'] < '2016/01/01')].shape"
   ]
  },
  {
   "cell_type": "code",
   "execution_count": 39,
   "metadata": {
    "collapsed": true
   },
   "outputs": [],
   "source": [
    "#getting month and year values from date and creating new columns for them\n",
    "iowa['month'] = iowa['date'].map(lambda val: val.month)\n",
    "iowa['year'] = iowa['date'].map(lambda val: val.year)"
   ]
  },
  {
   "cell_type": "code",
   "execution_count": 40,
   "metadata": {
    "collapsed": false,
    "scrolled": true
   },
   "outputs": [
    {
     "data": {
      "text/html": [
       "<div>\n",
       "<table border=\"1\" class=\"dataframe\">\n",
       "  <thead>\n",
       "    <tr style=\"text-align: right;\">\n",
       "      <th></th>\n",
       "      <th>date</th>\n",
       "      <th>store_number</th>\n",
       "      <th>city</th>\n",
       "      <th>zip_code</th>\n",
       "      <th>county</th>\n",
       "      <th>category_name</th>\n",
       "      <th>vendor_number</th>\n",
       "      <th>item_number</th>\n",
       "      <th>item_description</th>\n",
       "      <th>bottle_volume_ml</th>\n",
       "      <th>state_bottle_cost</th>\n",
       "      <th>state_bottle_retail</th>\n",
       "      <th>bottles_sold</th>\n",
       "      <th>sale_dollars</th>\n",
       "      <th>volume_sold_gallons</th>\n",
       "      <th>month</th>\n",
       "      <th>year</th>\n",
       "    </tr>\n",
       "  </thead>\n",
       "  <tbody>\n",
       "    <tr>\n",
       "      <th>71437</th>\n",
       "      <td>2016-03-31</td>\n",
       "      <td>2106</td>\n",
       "      <td>CEDAR FALLS</td>\n",
       "      <td>50613</td>\n",
       "      <td>Black Hawk</td>\n",
       "      <td>VODKA 80 PROOF</td>\n",
       "      <td>260</td>\n",
       "      <td>37997</td>\n",
       "      <td>Smirnoff Vodka 80 Prf</td>\n",
       "      <td>1000</td>\n",
       "      <td>9.25</td>\n",
       "      <td>13.88</td>\n",
       "      <td>12</td>\n",
       "      <td>166.56</td>\n",
       "      <td>3.17</td>\n",
       "      <td>3</td>\n",
       "      <td>2016</td>\n",
       "    </tr>\n",
       "    <tr>\n",
       "      <th>115129</th>\n",
       "      <td>2016-03-31</td>\n",
       "      <td>2106</td>\n",
       "      <td>CEDAR FALLS</td>\n",
       "      <td>50613</td>\n",
       "      <td>Black Hawk</td>\n",
       "      <td>IMPORTED VODKA</td>\n",
       "      <td>260</td>\n",
       "      <td>34457</td>\n",
       "      <td>Ketel One Imported Vodka</td>\n",
       "      <td>1000</td>\n",
       "      <td>16.50</td>\n",
       "      <td>24.75</td>\n",
       "      <td>12</td>\n",
       "      <td>297.00</td>\n",
       "      <td>3.17</td>\n",
       "      <td>3</td>\n",
       "      <td>2016</td>\n",
       "    </tr>\n",
       "    <tr>\n",
       "      <th>120049</th>\n",
       "      <td>2016-03-31</td>\n",
       "      <td>2106</td>\n",
       "      <td>CEDAR FALLS</td>\n",
       "      <td>50613</td>\n",
       "      <td>Black Hawk</td>\n",
       "      <td>AMERICAN DRY GINS</td>\n",
       "      <td>260</td>\n",
       "      <td>30316</td>\n",
       "      <td>Gordon's Gin London Dry</td>\n",
       "      <td>750</td>\n",
       "      <td>5.00</td>\n",
       "      <td>7.50</td>\n",
       "      <td>12</td>\n",
       "      <td>90.00</td>\n",
       "      <td>2.38</td>\n",
       "      <td>3</td>\n",
       "      <td>2016</td>\n",
       "    </tr>\n",
       "    <tr>\n",
       "      <th>248548</th>\n",
       "      <td>2016-03-31</td>\n",
       "      <td>2106</td>\n",
       "      <td>CEDAR FALLS</td>\n",
       "      <td>50613</td>\n",
       "      <td>Black Hawk</td>\n",
       "      <td>FLAVORED RUM</td>\n",
       "      <td>35</td>\n",
       "      <td>43050</td>\n",
       "      <td>Bacardi Dragon Berry</td>\n",
       "      <td>1000</td>\n",
       "      <td>9.50</td>\n",
       "      <td>14.25</td>\n",
       "      <td>12</td>\n",
       "      <td>171.00</td>\n",
       "      <td>3.17</td>\n",
       "      <td>3</td>\n",
       "      <td>2016</td>\n",
       "    </tr>\n",
       "    <tr>\n",
       "      <th>188435</th>\n",
       "      <td>2016-03-31</td>\n",
       "      <td>2106</td>\n",
       "      <td>CEDAR FALLS</td>\n",
       "      <td>50613</td>\n",
       "      <td>Black Hawk</td>\n",
       "      <td>IMPORTED VODKA - MISC</td>\n",
       "      <td>434</td>\n",
       "      <td>76669</td>\n",
       "      <td>Pearl Vanilla Bean</td>\n",
       "      <td>750</td>\n",
       "      <td>7.00</td>\n",
       "      <td>10.50</td>\n",
       "      <td>12</td>\n",
       "      <td>126.00</td>\n",
       "      <td>2.38</td>\n",
       "      <td>3</td>\n",
       "      <td>2016</td>\n",
       "    </tr>\n",
       "  </tbody>\n",
       "</table>\n",
       "</div>"
      ],
      "text/plain": [
       "             date  store_number         city zip_code      county  \\\n",
       "71437  2016-03-31          2106  CEDAR FALLS    50613  Black Hawk   \n",
       "115129 2016-03-31          2106  CEDAR FALLS    50613  Black Hawk   \n",
       "120049 2016-03-31          2106  CEDAR FALLS    50613  Black Hawk   \n",
       "248548 2016-03-31          2106  CEDAR FALLS    50613  Black Hawk   \n",
       "188435 2016-03-31          2106  CEDAR FALLS    50613  Black Hawk   \n",
       "\n",
       "                category_name  vendor_number  item_number  \\\n",
       "71437          VODKA 80 PROOF            260        37997   \n",
       "115129         IMPORTED VODKA            260        34457   \n",
       "120049      AMERICAN DRY GINS            260        30316   \n",
       "248548           FLAVORED RUM             35        43050   \n",
       "188435  IMPORTED VODKA - MISC            434        76669   \n",
       "\n",
       "                item_description  bottle_volume_ml  state_bottle_cost  \\\n",
       "71437      Smirnoff Vodka 80 Prf              1000               9.25   \n",
       "115129  Ketel One Imported Vodka              1000              16.50   \n",
       "120049   Gordon's Gin London Dry               750               5.00   \n",
       "248548      Bacardi Dragon Berry              1000               9.50   \n",
       "188435        Pearl Vanilla Bean               750               7.00   \n",
       "\n",
       "        state_bottle_retail  bottles_sold  sale_dollars  volume_sold_gallons  \\\n",
       "71437                 13.88            12        166.56                 3.17   \n",
       "115129                24.75            12        297.00                 3.17   \n",
       "120049                 7.50            12         90.00                 2.38   \n",
       "248548                14.25            12        171.00                 3.17   \n",
       "188435                10.50            12        126.00                 2.38   \n",
       "\n",
       "        month  year  \n",
       "71437       3  2016  \n",
       "115129      3  2016  \n",
       "120049      3  2016  \n",
       "248548      3  2016  \n",
       "188435      3  2016  "
      ]
     },
     "execution_count": 40,
     "metadata": {},
     "output_type": "execute_result"
    }
   ],
   "source": [
    "#just looking up a specific store (2106) to examine the data\n",
    "iowa[iowa['store_number']==2106].sort_values(by='date', ascending=False).head()"
   ]
  },
  {
   "cell_type": "code",
   "execution_count": 41,
   "metadata": {
    "collapsed": false
   },
   "outputs": [],
   "source": [
    "#masking date range to 2015\n",
    "sales_2015 = iowa[iowa['year']==2015]"
   ]
  },
  {
   "cell_type": "code",
   "execution_count": 42,
   "metadata": {
    "collapsed": false
   },
   "outputs": [
    {
     "data": {
      "text/plain": [
       "(218348, 17)"
      ]
     },
     "execution_count": 42,
     "metadata": {},
     "output_type": "execute_result"
    }
   ],
   "source": [
    "sales_2015.shape"
   ]
  },
  {
   "cell_type": "code",
   "execution_count": 43,
   "metadata": {
    "collapsed": false,
    "scrolled": true
   },
   "outputs": [
    {
     "data": {
      "text/html": [
       "<div>\n",
       "<table border=\"1\" class=\"dataframe\">\n",
       "  <thead>\n",
       "    <tr style=\"text-align: right;\">\n",
       "      <th></th>\n",
       "      <th>store_number</th>\n",
       "      <th>month</th>\n",
       "      <th>date</th>\n",
       "      <th>city</th>\n",
       "      <th>zip_code</th>\n",
       "      <th>county</th>\n",
       "      <th>category_name</th>\n",
       "      <th>vendor_number</th>\n",
       "      <th>item_number</th>\n",
       "      <th>item_description</th>\n",
       "      <th>bottle_volume_ml</th>\n",
       "      <th>state_bottle_cost</th>\n",
       "      <th>state_bottle_retail</th>\n",
       "      <th>bottles_sold</th>\n",
       "      <th>sale_dollars</th>\n",
       "      <th>volume_sold_gallons</th>\n",
       "      <th>year</th>\n",
       "    </tr>\n",
       "  </thead>\n",
       "  <tbody>\n",
       "    <tr>\n",
       "      <th>0</th>\n",
       "      <td>2106</td>\n",
       "      <td>1</td>\n",
       "      <td>44</td>\n",
       "      <td>44</td>\n",
       "      <td>44</td>\n",
       "      <td>44</td>\n",
       "      <td>44</td>\n",
       "      <td>44</td>\n",
       "      <td>44</td>\n",
       "      <td>44</td>\n",
       "      <td>44</td>\n",
       "      <td>44</td>\n",
       "      <td>44</td>\n",
       "      <td>44</td>\n",
       "      <td>44</td>\n",
       "      <td>44</td>\n",
       "      <td>44</td>\n",
       "    </tr>\n",
       "    <tr>\n",
       "      <th>1</th>\n",
       "      <td>2106</td>\n",
       "      <td>2</td>\n",
       "      <td>42</td>\n",
       "      <td>42</td>\n",
       "      <td>42</td>\n",
       "      <td>42</td>\n",
       "      <td>42</td>\n",
       "      <td>42</td>\n",
       "      <td>42</td>\n",
       "      <td>42</td>\n",
       "      <td>42</td>\n",
       "      <td>42</td>\n",
       "      <td>42</td>\n",
       "      <td>42</td>\n",
       "      <td>42</td>\n",
       "      <td>42</td>\n",
       "      <td>42</td>\n",
       "    </tr>\n",
       "    <tr>\n",
       "      <th>2</th>\n",
       "      <td>2106</td>\n",
       "      <td>3</td>\n",
       "      <td>43</td>\n",
       "      <td>43</td>\n",
       "      <td>43</td>\n",
       "      <td>43</td>\n",
       "      <td>43</td>\n",
       "      <td>43</td>\n",
       "      <td>43</td>\n",
       "      <td>43</td>\n",
       "      <td>43</td>\n",
       "      <td>43</td>\n",
       "      <td>43</td>\n",
       "      <td>43</td>\n",
       "      <td>43</td>\n",
       "      <td>43</td>\n",
       "      <td>43</td>\n",
       "    </tr>\n",
       "  </tbody>\n",
       "</table>\n",
       "</div>"
      ],
      "text/plain": [
       "   store_number  month  date  city  zip_code  county  category_name  \\\n",
       "0          2106      1    44    44        44      44             44   \n",
       "1          2106      2    42    42        42      42             42   \n",
       "2          2106      3    43    43        43      43             43   \n",
       "\n",
       "   vendor_number  item_number  item_description  bottle_volume_ml  \\\n",
       "0             44           44                44                44   \n",
       "1             42           42                42                42   \n",
       "2             43           43                43                43   \n",
       "\n",
       "   state_bottle_cost  state_bottle_retail  bottles_sold  sale_dollars  \\\n",
       "0                 44                   44            44            44   \n",
       "1                 42                   42            42            42   \n",
       "2                 43                   43            43            43   \n",
       "\n",
       "   volume_sold_gallons  year  \n",
       "0                   44    44  \n",
       "1                   42    42  \n",
       "2                   43    43  "
      ]
     },
     "execution_count": 43,
     "metadata": {},
     "output_type": "execute_result"
    }
   ],
   "source": [
    "#groupby store_number and months to get unique months each store had sales in 2015\n",
    "store_by_month = sales_2015.groupby(['store_number','month']).count().reset_index()\n",
    "store_by_month.head(3)"
   ]
  },
  {
   "cell_type": "code",
   "execution_count": 44,
   "metadata": {
    "collapsed": false
   },
   "outputs": [],
   "source": [
    "#pivot by store, months\n",
    "#stores with NaN means there were no sales that month so we want to drop them\n",
    "open_all_year = store_by_month.pivot_table(index='store_number', \n",
    "                                                 columns=['month'], values='sale_dollars').dropna().reset_index()"
   ]
  },
  {
   "cell_type": "code",
   "execution_count": 45,
   "metadata": {
    "collapsed": false
   },
   "outputs": [
    {
     "data": {
      "text/html": [
       "<div>\n",
       "<table border=\"1\" class=\"dataframe\">\n",
       "  <thead>\n",
       "    <tr style=\"text-align: right;\">\n",
       "      <th>month</th>\n",
       "      <th>store_number</th>\n",
       "      <th>1</th>\n",
       "      <th>2</th>\n",
       "      <th>3</th>\n",
       "      <th>4</th>\n",
       "      <th>5</th>\n",
       "      <th>6</th>\n",
       "      <th>7</th>\n",
       "      <th>8</th>\n",
       "      <th>9</th>\n",
       "      <th>10</th>\n",
       "      <th>11</th>\n",
       "      <th>12</th>\n",
       "    </tr>\n",
       "  </thead>\n",
       "  <tbody>\n",
       "    <tr>\n",
       "      <th>0</th>\n",
       "      <td>2106</td>\n",
       "      <td>44.0</td>\n",
       "      <td>42.0</td>\n",
       "      <td>43.0</td>\n",
       "      <td>44.0</td>\n",
       "      <td>41.0</td>\n",
       "      <td>46.0</td>\n",
       "      <td>52.0</td>\n",
       "      <td>40.0</td>\n",
       "      <td>41.0</td>\n",
       "      <td>54.0</td>\n",
       "      <td>35.0</td>\n",
       "      <td>44.0</td>\n",
       "    </tr>\n",
       "    <tr>\n",
       "      <th>1</th>\n",
       "      <td>2113</td>\n",
       "      <td>15.0</td>\n",
       "      <td>9.0</td>\n",
       "      <td>18.0</td>\n",
       "      <td>6.0</td>\n",
       "      <td>10.0</td>\n",
       "      <td>16.0</td>\n",
       "      <td>10.0</td>\n",
       "      <td>7.0</td>\n",
       "      <td>17.0</td>\n",
       "      <td>11.0</td>\n",
       "      <td>11.0</td>\n",
       "      <td>17.0</td>\n",
       "    </tr>\n",
       "  </tbody>\n",
       "</table>\n",
       "</div>"
      ],
      "text/plain": [
       "month  store_number     1     2     3     4     5     6     7     8     9  \\\n",
       "0              2106  44.0  42.0  43.0  44.0  41.0  46.0  52.0  40.0  41.0   \n",
       "1              2113  15.0   9.0  18.0   6.0  10.0  16.0  10.0   7.0  17.0   \n",
       "\n",
       "month    10    11    12  \n",
       "0      54.0  35.0  44.0  \n",
       "1      11.0  11.0  17.0  "
      ]
     },
     "execution_count": 45,
     "metadata": {},
     "output_type": "execute_result"
    }
   ],
   "source": [
    "open_all_year.head(2)"
   ]
  },
  {
   "cell_type": "code",
   "execution_count": 46,
   "metadata": {
    "collapsed": true
   },
   "outputs": [],
   "source": [
    "#melt this back our original dataframe structure\n",
    "store_list_2015 = pd.melt(open_all_year, id_vars='store_number', value_vars='month')"
   ]
  },
  {
   "cell_type": "code",
   "execution_count": 47,
   "metadata": {
    "collapsed": false
   },
   "outputs": [
    {
     "data": {
      "text/html": [
       "<div>\n",
       "<table border=\"1\" class=\"dataframe\">\n",
       "  <thead>\n",
       "    <tr style=\"text-align: right;\">\n",
       "      <th></th>\n",
       "      <th>store_number</th>\n",
       "      <th>month</th>\n",
       "      <th>value</th>\n",
       "    </tr>\n",
       "  </thead>\n",
       "  <tbody>\n",
       "    <tr>\n",
       "      <th>0</th>\n",
       "      <td>2106</td>\n",
       "      <td>month</td>\n",
       "      <td>NaN</td>\n",
       "    </tr>\n",
       "    <tr>\n",
       "      <th>1</th>\n",
       "      <td>2113</td>\n",
       "      <td>month</td>\n",
       "      <td>NaN</td>\n",
       "    </tr>\n",
       "    <tr>\n",
       "      <th>2</th>\n",
       "      <td>2130</td>\n",
       "      <td>month</td>\n",
       "      <td>NaN</td>\n",
       "    </tr>\n",
       "  </tbody>\n",
       "</table>\n",
       "</div>"
      ],
      "text/plain": [
       "   store_number  month  value\n",
       "0          2106  month    NaN\n",
       "1          2113  month    NaN\n",
       "2          2130  month    NaN"
      ]
     },
     "execution_count": 47,
     "metadata": {},
     "output_type": "execute_result"
    }
   ],
   "source": [
    "#stores that had sales for 12 months in 2015\n",
    "store_list_2015.head(3)"
   ]
  },
  {
   "cell_type": "code",
   "execution_count": 48,
   "metadata": {
    "collapsed": false,
    "scrolled": true
   },
   "outputs": [],
   "source": [
    "#use isin to compare stores in store_list_2015 to stores in sales_2015\n",
    "sales_2015_12_months = sales_2015[sales_2015['store_number'].isin(store_list_2015['store_number'])]"
   ]
  },
  {
   "cell_type": "code",
   "execution_count": 49,
   "metadata": {
    "collapsed": false,
    "scrolled": false
   },
   "outputs": [
    {
     "data": {
      "text/html": [
       "<div>\n",
       "<table border=\"1\" class=\"dataframe\">\n",
       "  <thead>\n",
       "    <tr style=\"text-align: right;\">\n",
       "      <th></th>\n",
       "      <th>date</th>\n",
       "      <th>store_number</th>\n",
       "      <th>city</th>\n",
       "      <th>zip_code</th>\n",
       "      <th>county</th>\n",
       "      <th>category_name</th>\n",
       "      <th>vendor_number</th>\n",
       "      <th>item_number</th>\n",
       "      <th>item_description</th>\n",
       "      <th>bottle_volume_ml</th>\n",
       "      <th>state_bottle_cost</th>\n",
       "      <th>state_bottle_retail</th>\n",
       "      <th>bottles_sold</th>\n",
       "      <th>sale_dollars</th>\n",
       "      <th>volume_sold_gallons</th>\n",
       "      <th>month</th>\n",
       "      <th>year</th>\n",
       "    </tr>\n",
       "  </thead>\n",
       "  <tbody>\n",
       "    <tr>\n",
       "      <th>0</th>\n",
       "      <td>2015-11-04</td>\n",
       "      <td>3717</td>\n",
       "      <td>SUMNER</td>\n",
       "      <td>50674</td>\n",
       "      <td>Bremer</td>\n",
       "      <td>APRICOT BRANDIES</td>\n",
       "      <td>55</td>\n",
       "      <td>54436</td>\n",
       "      <td>Mr. Boston Apricot Brandy</td>\n",
       "      <td>750</td>\n",
       "      <td>4.50</td>\n",
       "      <td>6.75</td>\n",
       "      <td>12</td>\n",
       "      <td>81.00</td>\n",
       "      <td>2.38</td>\n",
       "      <td>11</td>\n",
       "      <td>2015</td>\n",
       "    </tr>\n",
       "    <tr>\n",
       "      <th>4</th>\n",
       "      <td>2015-08-18</td>\n",
       "      <td>3654</td>\n",
       "      <td>BELMOND</td>\n",
       "      <td>50421</td>\n",
       "      <td>Wright</td>\n",
       "      <td>VODKA 80 PROOF</td>\n",
       "      <td>297</td>\n",
       "      <td>35918</td>\n",
       "      <td>Five O'clock Vodka</td>\n",
       "      <td>1750</td>\n",
       "      <td>7.20</td>\n",
       "      <td>10.80</td>\n",
       "      <td>12</td>\n",
       "      <td>129.60</td>\n",
       "      <td>5.55</td>\n",
       "      <td>8</td>\n",
       "      <td>2015</td>\n",
       "    </tr>\n",
       "    <tr>\n",
       "      <th>5</th>\n",
       "      <td>2015-04-20</td>\n",
       "      <td>2569</td>\n",
       "      <td>CEDAR RAPIDS</td>\n",
       "      <td>52402</td>\n",
       "      <td>Linn</td>\n",
       "      <td>AMERICAN DRY GINS</td>\n",
       "      <td>205</td>\n",
       "      <td>31473</td>\n",
       "      <td>New Amsterdam Gin</td>\n",
       "      <td>1750</td>\n",
       "      <td>13.32</td>\n",
       "      <td>19.98</td>\n",
       "      <td>6</td>\n",
       "      <td>119.88</td>\n",
       "      <td>2.77</td>\n",
       "      <td>4</td>\n",
       "      <td>2015</td>\n",
       "    </tr>\n",
       "    <tr>\n",
       "      <th>6</th>\n",
       "      <td>2015-08-05</td>\n",
       "      <td>2596</td>\n",
       "      <td>OTTUMWA</td>\n",
       "      <td>52501</td>\n",
       "      <td>Wapello</td>\n",
       "      <td>AMERICAN GRAPE BRANDIES</td>\n",
       "      <td>85</td>\n",
       "      <td>52806</td>\n",
       "      <td>Korbel Brandy</td>\n",
       "      <td>750</td>\n",
       "      <td>6.66</td>\n",
       "      <td>9.99</td>\n",
       "      <td>3</td>\n",
       "      <td>29.97</td>\n",
       "      <td>0.59</td>\n",
       "      <td>8</td>\n",
       "      <td>2015</td>\n",
       "    </tr>\n",
       "    <tr>\n",
       "      <th>7</th>\n",
       "      <td>2015-06-25</td>\n",
       "      <td>3456</td>\n",
       "      <td>CLEAR LAKE</td>\n",
       "      <td>50428</td>\n",
       "      <td>Cerro Gordo</td>\n",
       "      <td>CANADIAN WHISKIES</td>\n",
       "      <td>65</td>\n",
       "      <td>10628</td>\n",
       "      <td>Canadian Club Whisky</td>\n",
       "      <td>1750</td>\n",
       "      <td>15.75</td>\n",
       "      <td>23.63</td>\n",
       "      <td>2</td>\n",
       "      <td>47.26</td>\n",
       "      <td>0.92</td>\n",
       "      <td>6</td>\n",
       "      <td>2015</td>\n",
       "    </tr>\n",
       "  </tbody>\n",
       "</table>\n",
       "</div>"
      ],
      "text/plain": [
       "        date  store_number          city zip_code       county  \\\n",
       "0 2015-11-04          3717        SUMNER    50674       Bremer   \n",
       "4 2015-08-18          3654       BELMOND    50421       Wright   \n",
       "5 2015-04-20          2569  CEDAR RAPIDS    52402         Linn   \n",
       "6 2015-08-05          2596       OTTUMWA    52501      Wapello   \n",
       "7 2015-06-25          3456    CLEAR LAKE    50428  Cerro Gordo   \n",
       "\n",
       "             category_name  vendor_number  item_number  \\\n",
       "0         APRICOT BRANDIES             55        54436   \n",
       "4           VODKA 80 PROOF            297        35918   \n",
       "5        AMERICAN DRY GINS            205        31473   \n",
       "6  AMERICAN GRAPE BRANDIES             85        52806   \n",
       "7        CANADIAN WHISKIES             65        10628   \n",
       "\n",
       "            item_description  bottle_volume_ml  state_bottle_cost  \\\n",
       "0  Mr. Boston Apricot Brandy               750               4.50   \n",
       "4         Five O'clock Vodka              1750               7.20   \n",
       "5          New Amsterdam Gin              1750              13.32   \n",
       "6              Korbel Brandy               750               6.66   \n",
       "7       Canadian Club Whisky              1750              15.75   \n",
       "\n",
       "   state_bottle_retail  bottles_sold  sale_dollars  volume_sold_gallons  \\\n",
       "0                 6.75            12         81.00                 2.38   \n",
       "4                10.80            12        129.60                 5.55   \n",
       "5                19.98             6        119.88                 2.77   \n",
       "6                 9.99             3         29.97                 0.59   \n",
       "7                23.63             2         47.26                 0.92   \n",
       "\n",
       "   month  year  \n",
       "0     11  2015  \n",
       "4      8  2015  \n",
       "5      4  2015  \n",
       "6      8  2015  \n",
       "7      6  2015  "
      ]
     },
     "execution_count": 49,
     "metadata": {},
     "output_type": "execute_result"
    }
   ],
   "source": [
    "sales_2015_12_months.head()"
   ]
  },
  {
   "cell_type": "code",
   "execution_count": 50,
   "metadata": {
    "collapsed": false
   },
   "outputs": [
    {
     "data": {
      "text/plain": [
       "(196682, 17)"
      ]
     },
     "execution_count": 50,
     "metadata": {},
     "output_type": "execute_result"
    }
   ],
   "source": [
    "#check to see if drop worked... yes less rows now\n",
    "sales_2015_12_months.shape"
   ]
  },
  {
   "cell_type": "code",
   "execution_count": 51,
   "metadata": {
    "collapsed": false,
    "scrolled": true
   },
   "outputs": [
    {
     "name": "stdout",
     "output_type": "stream",
     "text": [
      "Number of stores open any time during 2015: 1372\n",
      "Number of stores open all 12 months of 2015: 829\n"
     ]
    }
   ],
   "source": [
    "print 'Number of stores open any time during 2015:', len(sales_2015['store_number'].unique())\n",
    "print 'Number of stores open all 12 months of 2015:',len(sales_2015_12_months['store_number'].unique())"
   ]
  },
  {
   "cell_type": "markdown",
   "metadata": {},
   "source": [
    "### Another approach I tried with less success"
   ]
  },
  {
   "cell_type": "code",
   "execution_count": 52,
   "metadata": {
    "collapsed": false,
    "scrolled": true
   },
   "outputs": [],
   "source": [
    "store_months = sales_2015.groupby('store_number')[ ['month'] ].agg(['count', 'min', 'max','unique'])"
   ]
  },
  {
   "cell_type": "code",
   "execution_count": 53,
   "metadata": {
    "collapsed": false,
    "scrolled": false
   },
   "outputs": [
    {
     "data": {
      "text/html": [
       "<div>\n",
       "<table border=\"1\" class=\"dataframe\">\n",
       "  <thead>\n",
       "    <tr>\n",
       "      <th></th>\n",
       "      <th colspan=\"4\" halign=\"left\">month</th>\n",
       "    </tr>\n",
       "    <tr>\n",
       "      <th></th>\n",
       "      <th>count</th>\n",
       "      <th>min</th>\n",
       "      <th>max</th>\n",
       "      <th>unique</th>\n",
       "    </tr>\n",
       "    <tr>\n",
       "      <th>store_number</th>\n",
       "      <th></th>\n",
       "      <th></th>\n",
       "      <th></th>\n",
       "      <th></th>\n",
       "    </tr>\n",
       "  </thead>\n",
       "  <tbody>\n",
       "    <tr>\n",
       "      <th>2106</th>\n",
       "      <td>526</td>\n",
       "      <td>1</td>\n",
       "      <td>12</td>\n",
       "      <td>[8, 3, 7, 1, 12, 10, 4, 9, 5, 2, 6, 11]</td>\n",
       "    </tr>\n",
       "    <tr>\n",
       "      <th>2113</th>\n",
       "      <td>147</td>\n",
       "      <td>1</td>\n",
       "      <td>12</td>\n",
       "      <td>[10, 5, 3, 12, 6, 7, 1, 9, 11, 2, 8, 4]</td>\n",
       "    </tr>\n",
       "    <tr>\n",
       "      <th>2130</th>\n",
       "      <td>391</td>\n",
       "      <td>1</td>\n",
       "      <td>12</td>\n",
       "      <td>[10, 11, 1, 8, 12, 6, 7, 5, 2, 4, 3, 9]</td>\n",
       "    </tr>\n",
       "  </tbody>\n",
       "</table>\n",
       "</div>"
      ],
      "text/plain": [
       "             month                                                 \n",
       "             count min max                                   unique\n",
       "store_number                                                       \n",
       "2106           526   1  12  [8, 3, 7, 1, 12, 10, 4, 9, 5, 2, 6, 11]\n",
       "2113           147   1  12  [10, 5, 3, 12, 6, 7, 1, 9, 11, 2, 8, 4]\n",
       "2130           391   1  12  [10, 11, 1, 8, 12, 6, 7, 5, 2, 4, 3, 9]"
      ]
     },
     "execution_count": 53,
     "metadata": {},
     "output_type": "execute_result"
    }
   ],
   "source": [
    "store_months.head(3)"
   ]
  },
  {
   "cell_type": "code",
   "execution_count": 54,
   "metadata": {
    "collapsed": false
   },
   "outputs": [],
   "source": [
    "mask = store_months['month']['unique'].map(lambda row: True if len(row) == 12 else False)"
   ]
  },
  {
   "cell_type": "code",
   "execution_count": 55,
   "metadata": {
    "collapsed": false
   },
   "outputs": [
    {
     "name": "stderr",
     "output_type": "stream",
     "text": [
      "/Users/VanessaG/anaconda/lib/python2.7/site-packages/ipykernel/__main__.py:1: UserWarning: Boolean Series key will be reindexed to match DataFrame index.\n",
      "  if __name__ == '__main__':\n"
     ]
    },
    {
     "ename": "IndexingError",
     "evalue": "Unalignable boolean Series key provided",
     "output_type": "error",
     "traceback": [
      "\u001b[0;31m---------------------------------------------------------------------------\u001b[0m",
      "\u001b[0;31mIndexingError\u001b[0m                             Traceback (most recent call last)",
      "\u001b[0;32m<ipython-input-55-655bf3839e6b>\u001b[0m in \u001b[0;36m<module>\u001b[0;34m()\u001b[0m\n\u001b[0;32m----> 1\u001b[0;31m \u001b[0msales_2015\u001b[0m\u001b[0;34m[\u001b[0m\u001b[0mmask\u001b[0m\u001b[0;34m]\u001b[0m\u001b[0;34m\u001b[0m\u001b[0m\n\u001b[0m",
      "\u001b[0;32m/Users/VanessaG/anaconda/lib/python2.7/site-packages/pandas/core/frame.pyc\u001b[0m in \u001b[0;36m__getitem__\u001b[0;34m(self, key)\u001b[0m\n\u001b[1;32m   1984\u001b[0m         \u001b[0;32mif\u001b[0m \u001b[0misinstance\u001b[0m\u001b[0;34m(\u001b[0m\u001b[0mkey\u001b[0m\u001b[0;34m,\u001b[0m \u001b[0;34m(\u001b[0m\u001b[0mSeries\u001b[0m\u001b[0;34m,\u001b[0m \u001b[0mnp\u001b[0m\u001b[0;34m.\u001b[0m\u001b[0mndarray\u001b[0m\u001b[0;34m,\u001b[0m \u001b[0mIndex\u001b[0m\u001b[0;34m,\u001b[0m \u001b[0mlist\u001b[0m\u001b[0;34m)\u001b[0m\u001b[0;34m)\u001b[0m\u001b[0;34m:\u001b[0m\u001b[0;34m\u001b[0m\u001b[0m\n\u001b[1;32m   1985\u001b[0m             \u001b[0;31m# either boolean or fancy integer index\u001b[0m\u001b[0;34m\u001b[0m\u001b[0;34m\u001b[0m\u001b[0m\n\u001b[0;32m-> 1986\u001b[0;31m             \u001b[0;32mreturn\u001b[0m \u001b[0mself\u001b[0m\u001b[0;34m.\u001b[0m\u001b[0m_getitem_array\u001b[0m\u001b[0;34m(\u001b[0m\u001b[0mkey\u001b[0m\u001b[0;34m)\u001b[0m\u001b[0;34m\u001b[0m\u001b[0m\n\u001b[0m\u001b[1;32m   1987\u001b[0m         \u001b[0;32melif\u001b[0m \u001b[0misinstance\u001b[0m\u001b[0;34m(\u001b[0m\u001b[0mkey\u001b[0m\u001b[0;34m,\u001b[0m \u001b[0mDataFrame\u001b[0m\u001b[0;34m)\u001b[0m\u001b[0;34m:\u001b[0m\u001b[0;34m\u001b[0m\u001b[0m\n\u001b[1;32m   1988\u001b[0m             \u001b[0;32mreturn\u001b[0m \u001b[0mself\u001b[0m\u001b[0;34m.\u001b[0m\u001b[0m_getitem_frame\u001b[0m\u001b[0;34m(\u001b[0m\u001b[0mkey\u001b[0m\u001b[0;34m)\u001b[0m\u001b[0;34m\u001b[0m\u001b[0m\n",
      "\u001b[0;32m/Users/VanessaG/anaconda/lib/python2.7/site-packages/pandas/core/frame.pyc\u001b[0m in \u001b[0;36m_getitem_array\u001b[0;34m(self, key)\u001b[0m\n\u001b[1;32m   2024\u001b[0m             \u001b[0;31m# check_bool_indexer will throw exception if Series key cannot\u001b[0m\u001b[0;34m\u001b[0m\u001b[0;34m\u001b[0m\u001b[0m\n\u001b[1;32m   2025\u001b[0m             \u001b[0;31m# be reindexed to match DataFrame rows\u001b[0m\u001b[0;34m\u001b[0m\u001b[0;34m\u001b[0m\u001b[0m\n\u001b[0;32m-> 2026\u001b[0;31m             \u001b[0mkey\u001b[0m \u001b[0;34m=\u001b[0m \u001b[0mcheck_bool_indexer\u001b[0m\u001b[0;34m(\u001b[0m\u001b[0mself\u001b[0m\u001b[0;34m.\u001b[0m\u001b[0mindex\u001b[0m\u001b[0;34m,\u001b[0m \u001b[0mkey\u001b[0m\u001b[0;34m)\u001b[0m\u001b[0;34m\u001b[0m\u001b[0m\n\u001b[0m\u001b[1;32m   2027\u001b[0m             \u001b[0mindexer\u001b[0m \u001b[0;34m=\u001b[0m \u001b[0mkey\u001b[0m\u001b[0;34m.\u001b[0m\u001b[0mnonzero\u001b[0m\u001b[0;34m(\u001b[0m\u001b[0;34m)\u001b[0m\u001b[0;34m[\u001b[0m\u001b[0;36m0\u001b[0m\u001b[0;34m]\u001b[0m\u001b[0;34m\u001b[0m\u001b[0m\n\u001b[1;32m   2028\u001b[0m             \u001b[0;32mreturn\u001b[0m \u001b[0mself\u001b[0m\u001b[0;34m.\u001b[0m\u001b[0mtake\u001b[0m\u001b[0;34m(\u001b[0m\u001b[0mindexer\u001b[0m\u001b[0;34m,\u001b[0m \u001b[0maxis\u001b[0m\u001b[0;34m=\u001b[0m\u001b[0;36m0\u001b[0m\u001b[0;34m,\u001b[0m \u001b[0mconvert\u001b[0m\u001b[0;34m=\u001b[0m\u001b[0mFalse\u001b[0m\u001b[0;34m)\u001b[0m\u001b[0;34m\u001b[0m\u001b[0m\n",
      "\u001b[0;32m/Users/VanessaG/anaconda/lib/python2.7/site-packages/pandas/core/indexing.pyc\u001b[0m in \u001b[0;36mcheck_bool_indexer\u001b[0;34m(ax, key)\u001b[0m\n\u001b[1;32m   1753\u001b[0m         \u001b[0mmask\u001b[0m \u001b[0;34m=\u001b[0m \u001b[0mcom\u001b[0m\u001b[0;34m.\u001b[0m\u001b[0misnull\u001b[0m\u001b[0;34m(\u001b[0m\u001b[0mresult\u001b[0m\u001b[0;34m.\u001b[0m\u001b[0m_values\u001b[0m\u001b[0;34m)\u001b[0m\u001b[0;34m\u001b[0m\u001b[0m\n\u001b[1;32m   1754\u001b[0m         \u001b[0;32mif\u001b[0m \u001b[0mmask\u001b[0m\u001b[0;34m.\u001b[0m\u001b[0many\u001b[0m\u001b[0;34m(\u001b[0m\u001b[0;34m)\u001b[0m\u001b[0;34m:\u001b[0m\u001b[0;34m\u001b[0m\u001b[0m\n\u001b[0;32m-> 1755\u001b[0;31m             \u001b[0;32mraise\u001b[0m \u001b[0mIndexingError\u001b[0m\u001b[0;34m(\u001b[0m\u001b[0;34m'Unalignable boolean Series key provided'\u001b[0m\u001b[0;34m)\u001b[0m\u001b[0;34m\u001b[0m\u001b[0m\n\u001b[0m\u001b[1;32m   1756\u001b[0m \u001b[0;34m\u001b[0m\u001b[0m\n\u001b[1;32m   1757\u001b[0m         \u001b[0mresult\u001b[0m \u001b[0;34m=\u001b[0m \u001b[0mresult\u001b[0m\u001b[0;34m.\u001b[0m\u001b[0mastype\u001b[0m\u001b[0;34m(\u001b[0m\u001b[0mbool\u001b[0m\u001b[0;34m)\u001b[0m\u001b[0;34m.\u001b[0m\u001b[0m_values\u001b[0m\u001b[0;34m\u001b[0m\u001b[0m\n",
      "\u001b[0;31mIndexingError\u001b[0m: Unalignable boolean Series key provided"
     ]
    }
   ],
   "source": [
    "sales_2015[mask]"
   ]
  },
  {
   "cell_type": "markdown",
   "metadata": {},
   "source": [
    "### And yet another..."
   ]
  },
  {
   "cell_type": "code",
   "execution_count": 56,
   "metadata": {
    "collapsed": true
   },
   "outputs": [],
   "source": [
    "month_uniques = sales_2015[['store_number', 'month']].drop_duplicates()"
   ]
  },
  {
   "cell_type": "code",
   "execution_count": 57,
   "metadata": {
    "collapsed": false
   },
   "outputs": [
    {
     "data": {
      "text/plain": [
       "12    829\n",
       "11    113\n",
       "10     88\n",
       "9      72\n",
       "8      62\n",
       "7      35\n",
       "6      32\n",
       "3      32\n",
       "5      29\n",
       "1      28\n",
       "4      27\n",
       "2      25\n",
       "Name: month, dtype: int64"
      ]
     },
     "execution_count": 57,
     "metadata": {},
     "output_type": "execute_result"
    }
   ],
   "source": [
    "month_uniques.groupby('store_number').agg(len).reset_index().month.value_counts() "
   ]
  },
  {
   "cell_type": "code",
   "execution_count": 58,
   "metadata": {
    "collapsed": false
   },
   "outputs": [
    {
     "data": {
      "text/html": [
       "<div>\n",
       "<table border=\"1\" class=\"dataframe\">\n",
       "  <thead>\n",
       "    <tr style=\"text-align: right;\">\n",
       "      <th></th>\n",
       "      <th>store_number</th>\n",
       "      <th>month</th>\n",
       "    </tr>\n",
       "  </thead>\n",
       "  <tbody>\n",
       "    <tr>\n",
       "      <th>0</th>\n",
       "      <td>3717</td>\n",
       "      <td>11</td>\n",
       "    </tr>\n",
       "    <tr>\n",
       "      <th>4</th>\n",
       "      <td>3654</td>\n",
       "      <td>8</td>\n",
       "    </tr>\n",
       "  </tbody>\n",
       "</table>\n",
       "</div>"
      ],
      "text/plain": [
       "   store_number  month\n",
       "0          3717     11\n",
       "4          3654      8"
      ]
     },
     "execution_count": 58,
     "metadata": {},
     "output_type": "execute_result"
    }
   ],
   "source": [
    "month_uniques.head(2)"
   ]
  },
  {
   "cell_type": "code",
   "execution_count": 59,
   "metadata": {
    "collapsed": false,
    "scrolled": false
   },
   "outputs": [],
   "source": [
    "mask = month_uniques.month < 12"
   ]
  },
  {
   "cell_type": "code",
   "execution_count": 60,
   "metadata": {
    "collapsed": false
   },
   "outputs": [
    {
     "data": {
      "text/plain": [
       "0    True\n",
       "4    True\n",
       "5    True\n",
       "6    True\n",
       "7    True\n",
       "Name: month, dtype: bool"
      ]
     },
     "execution_count": 60,
     "metadata": {},
     "output_type": "execute_result"
    }
   ],
   "source": [
    "mask.head()"
   ]
  },
  {
   "cell_type": "code",
   "execution_count": 61,
   "metadata": {
    "collapsed": false
   },
   "outputs": [
    {
     "data": {
      "text/html": [
       "<div>\n",
       "<table border=\"1\" class=\"dataframe\">\n",
       "  <thead>\n",
       "    <tr style=\"text-align: right;\">\n",
       "      <th></th>\n",
       "      <th>store_number</th>\n",
       "      <th>month</th>\n",
       "    </tr>\n",
       "  </thead>\n",
       "  <tbody>\n",
       "    <tr>\n",
       "      <th>3292</th>\n",
       "      <td>3717</td>\n",
       "      <td>1</td>\n",
       "    </tr>\n",
       "    <tr>\n",
       "      <th>3778</th>\n",
       "      <td>3717</td>\n",
       "      <td>2</td>\n",
       "    </tr>\n",
       "    <tr>\n",
       "      <th>36558</th>\n",
       "      <td>3717</td>\n",
       "      <td>3</td>\n",
       "    </tr>\n",
       "    <tr>\n",
       "      <th>15133</th>\n",
       "      <td>3717</td>\n",
       "      <td>4</td>\n",
       "    </tr>\n",
       "    <tr>\n",
       "      <th>41918</th>\n",
       "      <td>3717</td>\n",
       "      <td>5</td>\n",
       "    </tr>\n",
       "    <tr>\n",
       "      <th>15</th>\n",
       "      <td>3717</td>\n",
       "      <td>6</td>\n",
       "    </tr>\n",
       "    <tr>\n",
       "      <th>42314</th>\n",
       "      <td>3717</td>\n",
       "      <td>7</td>\n",
       "    </tr>\n",
       "    <tr>\n",
       "      <th>4073</th>\n",
       "      <td>3717</td>\n",
       "      <td>8</td>\n",
       "    </tr>\n",
       "    <tr>\n",
       "      <th>29104</th>\n",
       "      <td>3717</td>\n",
       "      <td>9</td>\n",
       "    </tr>\n",
       "    <tr>\n",
       "      <th>19994</th>\n",
       "      <td>3717</td>\n",
       "      <td>10</td>\n",
       "    </tr>\n",
       "    <tr>\n",
       "      <th>0</th>\n",
       "      <td>3717</td>\n",
       "      <td>11</td>\n",
       "    </tr>\n",
       "    <tr>\n",
       "      <th>5611</th>\n",
       "      <td>3717</td>\n",
       "      <td>12</td>\n",
       "    </tr>\n",
       "  </tbody>\n",
       "</table>\n",
       "</div>"
      ],
      "text/plain": [
       "       store_number  month\n",
       "3292           3717      1\n",
       "3778           3717      2\n",
       "36558          3717      3\n",
       "15133          3717      4\n",
       "41918          3717      5\n",
       "15             3717      6\n",
       "42314          3717      7\n",
       "4073           3717      8\n",
       "29104          3717      9\n",
       "19994          3717     10\n",
       "0              3717     11\n",
       "5611           3717     12"
      ]
     },
     "execution_count": 61,
     "metadata": {},
     "output_type": "execute_result"
    }
   ],
   "source": [
    "month_uniques[month_uniques['store_number']==3717].sort_values('month')"
   ]
  },
  {
   "cell_type": "code",
   "execution_count": 62,
   "metadata": {
    "collapsed": false,
    "scrolled": true
   },
   "outputs": [
    {
     "data": {
      "text/plain": [
       "12"
      ]
     },
     "execution_count": 62,
     "metadata": {},
     "output_type": "execute_result"
    }
   ],
   "source": [
    "len(month_uniques[month_uniques['store_number']==3717])"
   ]
  },
  {
   "cell_type": "markdown",
   "metadata": {},
   "source": [
    "<img src=\"http://imgur.com/l5NasQj.png\" style=\"float: left; margin: 25px 15px 0px 0px; height: 25px\">\n",
    "\n",
    "## 5. Proposals for new tax rates (Scenario 1)\n",
    "\n",
    "---\n",
    "\n",
    "You are a data scientist in residence at the Iowa State tax board. The Iowa State legislature is considering changes in the liquor tax rates and has assigned you to the project.\n",
    "\n",
    "### 5.1 Calculate yearly liquor sales for each store in 2015."
   ]
  },
  {
   "cell_type": "code",
   "execution_count": 63,
   "metadata": {
    "collapsed": false
   },
   "outputs": [],
   "source": [
    "sales_per_store_2015 = sales_2015_12_months.groupby('store_number')['sale_dollars'].sum().reset_index()\n",
    "sales_per_store_2015.rename(columns={'sale_dollars':'2015_sales'},inplace=True)"
   ]
  },
  {
   "cell_type": "code",
   "execution_count": 64,
   "metadata": {
    "collapsed": false
   },
   "outputs": [
    {
     "data": {
      "text/html": [
       "<div>\n",
       "<table border=\"1\" class=\"dataframe\">\n",
       "  <thead>\n",
       "    <tr style=\"text-align: right;\">\n",
       "      <th></th>\n",
       "      <th>store_number</th>\n",
       "      <th>2015_sales</th>\n",
       "    </tr>\n",
       "  </thead>\n",
       "  <tbody>\n",
       "    <tr>\n",
       "      <th>120</th>\n",
       "      <td>2633</td>\n",
       "      <td>997924.42</td>\n",
       "    </tr>\n",
       "    <tr>\n",
       "      <th>714</th>\n",
       "      <td>4829</td>\n",
       "      <td>874664.18</td>\n",
       "    </tr>\n",
       "    <tr>\n",
       "      <th>168</th>\n",
       "      <td>3385</td>\n",
       "      <td>439584.35</td>\n",
       "    </tr>\n",
       "    <tr>\n",
       "      <th>32</th>\n",
       "      <td>2512</td>\n",
       "      <td>419534.61</td>\n",
       "    </tr>\n",
       "    <tr>\n",
       "      <th>173</th>\n",
       "      <td>3420</td>\n",
       "      <td>348837.36</td>\n",
       "    </tr>\n",
       "    <tr>\n",
       "      <th>338</th>\n",
       "      <td>3952</td>\n",
       "      <td>331874.38</td>\n",
       "    </tr>\n",
       "    <tr>\n",
       "      <th>282</th>\n",
       "      <td>3814</td>\n",
       "      <td>247417.42</td>\n",
       "    </tr>\n",
       "    <tr>\n",
       "      <th>167</th>\n",
       "      <td>3354</td>\n",
       "      <td>240153.72</td>\n",
       "    </tr>\n",
       "    <tr>\n",
       "      <th>266</th>\n",
       "      <td>3773</td>\n",
       "      <td>232066.78</td>\n",
       "    </tr>\n",
       "    <tr>\n",
       "      <th>147</th>\n",
       "      <td>2670</td>\n",
       "      <td>227060.96</td>\n",
       "    </tr>\n",
       "  </tbody>\n",
       "</table>\n",
       "</div>"
      ],
      "text/plain": [
       "     store_number  2015_sales\n",
       "120          2633   997924.42\n",
       "714          4829   874664.18\n",
       "168          3385   439584.35\n",
       "32           2512   419534.61\n",
       "173          3420   348837.36\n",
       "338          3952   331874.38\n",
       "282          3814   247417.42\n",
       "167          3354   240153.72\n",
       "266          3773   232066.78\n",
       "147          2670   227060.96"
      ]
     },
     "execution_count": 64,
     "metadata": {},
     "output_type": "execute_result"
    }
   ],
   "source": [
    "sales_per_store_2015.sort_values('2015_sales', ascending=False).head(10)"
   ]
  },
  {
   "cell_type": "markdown",
   "metadata": {},
   "source": [
    "### 5.2 Calculate the profit each store is making in 2015.\n"
   ]
  },
  {
   "cell_type": "code",
   "execution_count": 65,
   "metadata": {
    "collapsed": false
   },
   "outputs": [
    {
     "name": "stderr",
     "output_type": "stream",
     "text": [
      "/Users/VanessaG/anaconda/lib/python2.7/site-packages/pandas/core/indexing.py:284: SettingWithCopyWarning: \n",
      "A value is trying to be set on a copy of a slice from a DataFrame.\n",
      "Try using .loc[row_indexer,col_indexer] = value instead\n",
      "\n",
      "See the caveats in the documentation: http://pandas.pydata.org/pandas-docs/stable/indexing.html#indexing-view-versus-copy\n",
      "  self.obj[key] = _infer_fill_value(value)\n",
      "/Users/VanessaG/anaconda/lib/python2.7/site-packages/pandas/core/indexing.py:461: SettingWithCopyWarning: \n",
      "A value is trying to be set on a copy of a slice from a DataFrame.\n",
      "Try using .loc[row_indexer,col_indexer] = value instead\n",
      "\n",
      "See the caveats in the documentation: http://pandas.pydata.org/pandas-docs/stable/indexing.html#indexing-view-versus-copy\n",
      "  self.obj[item] = s\n"
     ]
    }
   ],
   "source": [
    "#calculate profit = (retail - cost)*bottles across columns & make new column for it\n",
    "#groupby by store again to aggregate for all stores\n",
    "\n",
    "sales_2015_12_months.loc[:,'profit'] = (sales_2015_12_months.loc[:,'state_bottle_retail'] - \\\n",
    "                                        sales_2015_12_months.loc[:,'state_bottle_cost']) * \\\n",
    "                                        sales_2015_12_months.loc[:,'bottles_sold']"
   ]
  },
  {
   "cell_type": "code",
   "execution_count": 66,
   "metadata": {
    "collapsed": false
   },
   "outputs": [
    {
     "data": {
      "text/html": [
       "<div>\n",
       "<table border=\"1\" class=\"dataframe\">\n",
       "  <thead>\n",
       "    <tr style=\"text-align: right;\">\n",
       "      <th></th>\n",
       "      <th>store_number</th>\n",
       "      <th>state_bottle_retail</th>\n",
       "      <th>state_bottle_cost</th>\n",
       "      <th>bottles_sold</th>\n",
       "      <th>profit</th>\n",
       "    </tr>\n",
       "  </thead>\n",
       "  <tbody>\n",
       "    <tr>\n",
       "      <th>0</th>\n",
       "      <td>3717</td>\n",
       "      <td>6.75</td>\n",
       "      <td>4.5</td>\n",
       "      <td>12</td>\n",
       "      <td>27.0</td>\n",
       "    </tr>\n",
       "    <tr>\n",
       "      <th>4</th>\n",
       "      <td>3654</td>\n",
       "      <td>10.80</td>\n",
       "      <td>7.2</td>\n",
       "      <td>12</td>\n",
       "      <td>43.2</td>\n",
       "    </tr>\n",
       "  </tbody>\n",
       "</table>\n",
       "</div>"
      ],
      "text/plain": [
       "   store_number  state_bottle_retail  state_bottle_cost  bottles_sold  profit\n",
       "0          3717                 6.75                4.5            12    27.0\n",
       "4          3654                10.80                7.2            12    43.2"
      ]
     },
     "execution_count": 66,
     "metadata": {},
     "output_type": "execute_result"
    }
   ],
   "source": [
    "sales_2015_12_months[['store_number','state_bottle_retail', 'state_bottle_cost', 'bottles_sold', 'profit']].head(2)"
   ]
  },
  {
   "cell_type": "code",
   "execution_count": 67,
   "metadata": {
    "collapsed": true
   },
   "outputs": [],
   "source": [
    "store_profit_2015 = sales_2015_12_months.groupby('store_number').sum().reset_index()"
   ]
  },
  {
   "cell_type": "code",
   "execution_count": 68,
   "metadata": {
    "collapsed": false
   },
   "outputs": [
    {
     "data": {
      "text/html": [
       "<div>\n",
       "<table border=\"1\" class=\"dataframe\">\n",
       "  <thead>\n",
       "    <tr style=\"text-align: right;\">\n",
       "      <th></th>\n",
       "      <th>store_number</th>\n",
       "      <th>profit</th>\n",
       "      <th>sale_dollars</th>\n",
       "    </tr>\n",
       "  </thead>\n",
       "  <tbody>\n",
       "    <tr>\n",
       "      <th>120</th>\n",
       "      <td>2633</td>\n",
       "      <td>332863.87</td>\n",
       "      <td>997924.42</td>\n",
       "    </tr>\n",
       "    <tr>\n",
       "      <th>714</th>\n",
       "      <td>4829</td>\n",
       "      <td>291813.75</td>\n",
       "      <td>874664.18</td>\n",
       "    </tr>\n",
       "    <tr>\n",
       "      <th>168</th>\n",
       "      <td>3385</td>\n",
       "      <td>147084.62</td>\n",
       "      <td>439584.35</td>\n",
       "    </tr>\n",
       "    <tr>\n",
       "      <th>32</th>\n",
       "      <td>2512</td>\n",
       "      <td>140072.72</td>\n",
       "      <td>419534.61</td>\n",
       "    </tr>\n",
       "    <tr>\n",
       "      <th>173</th>\n",
       "      <td>3420</td>\n",
       "      <td>116532.24</td>\n",
       "      <td>348837.36</td>\n",
       "    </tr>\n",
       "    <tr>\n",
       "      <th>338</th>\n",
       "      <td>3952</td>\n",
       "      <td>110750.81</td>\n",
       "      <td>331874.38</td>\n",
       "    </tr>\n",
       "    <tr>\n",
       "      <th>282</th>\n",
       "      <td>3814</td>\n",
       "      <td>83004.48</td>\n",
       "      <td>247417.42</td>\n",
       "    </tr>\n",
       "    <tr>\n",
       "      <th>167</th>\n",
       "      <td>3354</td>\n",
       "      <td>80173.95</td>\n",
       "      <td>240153.72</td>\n",
       "    </tr>\n",
       "    <tr>\n",
       "      <th>266</th>\n",
       "      <td>3773</td>\n",
       "      <td>77393.83</td>\n",
       "      <td>232066.78</td>\n",
       "    </tr>\n",
       "    <tr>\n",
       "      <th>147</th>\n",
       "      <td>2670</td>\n",
       "      <td>75818.35</td>\n",
       "      <td>227060.96</td>\n",
       "    </tr>\n",
       "  </tbody>\n",
       "</table>\n",
       "</div>"
      ],
      "text/plain": [
       "     store_number     profit  sale_dollars\n",
       "120          2633  332863.87     997924.42\n",
       "714          4829  291813.75     874664.18\n",
       "168          3385  147084.62     439584.35\n",
       "32           2512  140072.72     419534.61\n",
       "173          3420  116532.24     348837.36\n",
       "338          3952  110750.81     331874.38\n",
       "282          3814   83004.48     247417.42\n",
       "167          3354   80173.95     240153.72\n",
       "266          3773   77393.83     232066.78\n",
       "147          2670   75818.35     227060.96"
      ]
     },
     "execution_count": 68,
     "metadata": {},
     "output_type": "execute_result"
    }
   ],
   "source": [
    "store_profit_2015[['store_number', 'profit', 'sale_dollars']].sort_values('profit', ascending=False).head(10)"
   ]
  },
  {
   "cell_type": "markdown",
   "metadata": {},
   "source": [
    "### 5.3 Investigate which Iowa counties are making the most profit on liquor per gallon in 2015."
   ]
  },
  {
   "cell_type": "code",
   "execution_count": 69,
   "metadata": {
    "collapsed": false
   },
   "outputs": [],
   "source": [
    "county_gal_profit = sales_2015_12_months.groupby('county')[['volume_sold_gallons', 'profit']].sum().reset_index()"
   ]
  },
  {
   "cell_type": "code",
   "execution_count": 70,
   "metadata": {
    "collapsed": false
   },
   "outputs": [],
   "source": [
    "county_gal_profit['profit_gal'] = county_gal_profit['profit'] / county_gal_profit['volume_sold_gallons']"
   ]
  },
  {
   "cell_type": "code",
   "execution_count": 71,
   "metadata": {
    "collapsed": false
   },
   "outputs": [
    {
     "data": {
      "text/html": [
       "<div>\n",
       "<table border=\"1\" class=\"dataframe\">\n",
       "  <thead>\n",
       "    <tr style=\"text-align: right;\">\n",
       "      <th></th>\n",
       "      <th>county</th>\n",
       "      <th>volume_sold_gallons</th>\n",
       "      <th>profit</th>\n",
       "      <th>profit_gal</th>\n",
       "    </tr>\n",
       "  </thead>\n",
       "  <tbody>\n",
       "    <tr>\n",
       "      <th>23</th>\n",
       "      <td>Dallas</td>\n",
       "      <td>7267.75</td>\n",
       "      <td>156792.40</td>\n",
       "      <td>21.573720</td>\n",
       "    </tr>\n",
       "    <tr>\n",
       "      <th>49</th>\n",
       "      <td>Johnson</td>\n",
       "      <td>26056.45</td>\n",
       "      <td>531104.32</td>\n",
       "      <td>20.382835</td>\n",
       "    </tr>\n",
       "    <tr>\n",
       "      <th>74</th>\n",
       "      <td>Polk</td>\n",
       "      <td>96200.22</td>\n",
       "      <td>1897546.11</td>\n",
       "      <td>19.724966</td>\n",
       "    </tr>\n",
       "    <tr>\n",
       "      <th>48</th>\n",
       "      <td>Jefferson</td>\n",
       "      <td>1296.66</td>\n",
       "      <td>25381.56</td>\n",
       "      <td>19.574569</td>\n",
       "    </tr>\n",
       "    <tr>\n",
       "      <th>79</th>\n",
       "      <td>Scott</td>\n",
       "      <td>34169.07</td>\n",
       "      <td>662922.08</td>\n",
       "      <td>19.401233</td>\n",
       "    </tr>\n",
       "    <tr>\n",
       "      <th>27</th>\n",
       "      <td>Des Moines</td>\n",
       "      <td>6434.58</td>\n",
       "      <td>121517.91</td>\n",
       "      <td>18.885135</td>\n",
       "    </tr>\n",
       "    <tr>\n",
       "      <th>89</th>\n",
       "      <td>Washington</td>\n",
       "      <td>2476.59</td>\n",
       "      <td>46481.82</td>\n",
       "      <td>18.768476</td>\n",
       "    </tr>\n",
       "    <tr>\n",
       "      <th>94</th>\n",
       "      <td>Woodbury</td>\n",
       "      <td>16764.29</td>\n",
       "      <td>312986.09</td>\n",
       "      <td>18.669809</td>\n",
       "    </tr>\n",
       "    <tr>\n",
       "      <th>9</th>\n",
       "      <td>Buena Vista</td>\n",
       "      <td>2994.90</td>\n",
       "      <td>55724.08</td>\n",
       "      <td>18.606324</td>\n",
       "    </tr>\n",
       "    <tr>\n",
       "      <th>75</th>\n",
       "      <td>Pottawattamie</td>\n",
       "      <td>16620.43</td>\n",
       "      <td>308066.03</td>\n",
       "      <td>18.535383</td>\n",
       "    </tr>\n",
       "  </tbody>\n",
       "</table>\n",
       "</div>"
      ],
      "text/plain": [
       "           county  volume_sold_gallons      profit  profit_gal\n",
       "23         Dallas              7267.75   156792.40   21.573720\n",
       "49        Johnson             26056.45   531104.32   20.382835\n",
       "74           Polk             96200.22  1897546.11   19.724966\n",
       "48      Jefferson              1296.66    25381.56   19.574569\n",
       "79          Scott             34169.07   662922.08   19.401233\n",
       "27     Des Moines              6434.58   121517.91   18.885135\n",
       "89     Washington              2476.59    46481.82   18.768476\n",
       "94       Woodbury             16764.29   312986.09   18.669809\n",
       "9     Buena Vista              2994.90    55724.08   18.606324\n",
       "75  Pottawattamie             16620.43   308066.03   18.535383"
      ]
     },
     "execution_count": 71,
     "metadata": {},
     "output_type": "execute_result"
    }
   ],
   "source": [
    "county_gal_profit.sort_values('profit_gal',ascending=False).head(10)"
   ]
  },
  {
   "cell_type": "markdown",
   "metadata": {},
   "source": [
    "### Different approach"
   ]
  },
  {
   "cell_type": "code",
   "execution_count": 72,
   "metadata": {
    "collapsed": false
   },
   "outputs": [],
   "source": [
    "sales_2015_12_months.loc[:,'profit_gal_2'] = sales_2015_12_months.loc[:,'profit']/\\\n",
    "sales_2015_12_months.loc[:,'volume_sold_gallons']"
   ]
  },
  {
   "cell_type": "code",
   "execution_count": 73,
   "metadata": {
    "collapsed": false
   },
   "outputs": [
    {
     "data": {
      "text/html": [
       "<div>\n",
       "<table border=\"1\" class=\"dataframe\">\n",
       "  <thead>\n",
       "    <tr style=\"text-align: right;\">\n",
       "      <th></th>\n",
       "      <th>profit_gal_2</th>\n",
       "    </tr>\n",
       "  </thead>\n",
       "  <tbody>\n",
       "    <tr>\n",
       "      <th>0</th>\n",
       "      <td>11.344538</td>\n",
       "    </tr>\n",
       "    <tr>\n",
       "      <th>4</th>\n",
       "      <td>7.783784</td>\n",
       "    </tr>\n",
       "  </tbody>\n",
       "</table>\n",
       "</div>"
      ],
      "text/plain": [
       "   profit_gal_2\n",
       "0     11.344538\n",
       "4      7.783784"
      ]
     },
     "execution_count": 73,
     "metadata": {},
     "output_type": "execute_result"
    }
   ],
   "source": [
    "sales_2015_12_months[['profit_gal_2']].head(2)"
   ]
  },
  {
   "cell_type": "code",
   "execution_count": 74,
   "metadata": {
    "collapsed": false
   },
   "outputs": [],
   "source": [
    "county_gal_profit2 = sales_2015_12_months.groupby('county')[['profit_gal_2']].sum().reset_index()"
   ]
  },
  {
   "cell_type": "code",
   "execution_count": 75,
   "metadata": {
    "collapsed": false
   },
   "outputs": [
    {
     "data": {
      "text/html": [
       "<div>\n",
       "<table border=\"1\" class=\"dataframe\">\n",
       "  <thead>\n",
       "    <tr style=\"text-align: right;\">\n",
       "      <th></th>\n",
       "      <th>county</th>\n",
       "      <th>profit_gal_2</th>\n",
       "    </tr>\n",
       "  </thead>\n",
       "  <tbody>\n",
       "    <tr>\n",
       "      <th>74</th>\n",
       "      <td>Polk</td>\n",
       "      <td>854616.471462</td>\n",
       "    </tr>\n",
       "    <tr>\n",
       "      <th>54</th>\n",
       "      <td>Linn</td>\n",
       "      <td>382460.242129</td>\n",
       "    </tr>\n",
       "    <tr>\n",
       "      <th>79</th>\n",
       "      <td>Scott</td>\n",
       "      <td>311288.134264</td>\n",
       "    </tr>\n",
       "    <tr>\n",
       "      <th>5</th>\n",
       "      <td>Black Hawk</td>\n",
       "      <td>262634.793823</td>\n",
       "    </tr>\n",
       "    <tr>\n",
       "      <th>49</th>\n",
       "      <td>Johnson</td>\n",
       "      <td>238869.813126</td>\n",
       "    </tr>\n",
       "    <tr>\n",
       "      <th>82</th>\n",
       "      <td>Story</td>\n",
       "      <td>156891.479586</td>\n",
       "    </tr>\n",
       "    <tr>\n",
       "      <th>75</th>\n",
       "      <td>Pottawattamie</td>\n",
       "      <td>147475.557770</td>\n",
       "    </tr>\n",
       "    <tr>\n",
       "      <th>94</th>\n",
       "      <td>Woodbury</td>\n",
       "      <td>146107.207285</td>\n",
       "    </tr>\n",
       "    <tr>\n",
       "      <th>29</th>\n",
       "      <td>Dubuque</td>\n",
       "      <td>130080.073769</td>\n",
       "    </tr>\n",
       "    <tr>\n",
       "      <th>15</th>\n",
       "      <td>Cerro Gordo</td>\n",
       "      <td>110962.915150</td>\n",
       "    </tr>\n",
       "  </tbody>\n",
       "</table>\n",
       "</div>"
      ],
      "text/plain": [
       "           county   profit_gal_2\n",
       "74           Polk  854616.471462\n",
       "54           Linn  382460.242129\n",
       "79          Scott  311288.134264\n",
       "5      Black Hawk  262634.793823\n",
       "49        Johnson  238869.813126\n",
       "82          Story  156891.479586\n",
       "75  Pottawattamie  147475.557770\n",
       "94       Woodbury  146107.207285\n",
       "29        Dubuque  130080.073769\n",
       "15    Cerro Gordo  110962.915150"
      ]
     },
     "execution_count": 75,
     "metadata": {},
     "output_type": "execute_result"
    }
   ],
   "source": [
    "county_gal_profit2.sort_values('profit_gal_2', ascending=False).head(10)"
   ]
  },
  {
   "cell_type": "markdown",
   "metadata": {},
   "source": [
    "<img src=\"http://imgur.com/xDpSobf.png\" style=\"float: left; margin: 25px 15px 0px 0px; height: 25px\">\n",
    "\n",
    "### 5.4 Plot a color map of average profit per county in 2015.\n",
    "\n",
    "[Check out this site](http://flowingdata.com/2009/11/12/how-to-make-a-us-county-thematic-map-using-free-tools/) for  information on how to create map visualizations in python. There are other resources online for map plotting in python as well.\n",
    "\n",
    "Another interesting map plot might show the difference in profit between time periods. Change in profit from November to December, for example."
   ]
  },
  {
   "cell_type": "code",
   "execution_count": null,
   "metadata": {
    "collapsed": true
   },
   "outputs": [],
   "source": []
  },
  {
   "cell_type": "markdown",
   "metadata": {},
   "source": [
    "### 5.5  Does profit scale proportionally to store size?\n",
    "\n",
    "Size of a store can be defined as the total gallons sold in 2015. Is the profit to store size ratio increasing as store size increases? Decreasing? Consistent?"
   ]
  },
  {
   "cell_type": "code",
   "execution_count": 76,
   "metadata": {
    "collapsed": true
   },
   "outputs": [],
   "source": [
    "profit_scale = sales_2015_12_months.groupby('volume_sold_gallons')['profit'].sum().reset_index()"
   ]
  },
  {
   "cell_type": "code",
   "execution_count": 77,
   "metadata": {
    "collapsed": false
   },
   "outputs": [
    {
     "data": {
      "text/html": [
       "<div>\n",
       "<table border=\"1\" class=\"dataframe\">\n",
       "  <thead>\n",
       "    <tr style=\"text-align: right;\">\n",
       "      <th></th>\n",
       "      <th>volume_sold_gallons</th>\n",
       "      <th>profit</th>\n",
       "    </tr>\n",
       "  </thead>\n",
       "  <tbody>\n",
       "    <tr>\n",
       "      <th>65</th>\n",
       "      <td>2.38</td>\n",
       "      <td>1866831.21</td>\n",
       "    </tr>\n",
       "    <tr>\n",
       "      <th>69</th>\n",
       "      <td>2.77</td>\n",
       "      <td>900733.68</td>\n",
       "    </tr>\n",
       "    <tr>\n",
       "      <th>71</th>\n",
       "      <td>3.17</td>\n",
       "      <td>742038.80</td>\n",
       "    </tr>\n",
       "    <tr>\n",
       "      <th>43</th>\n",
       "      <td>1.19</td>\n",
       "      <td>341194.95</td>\n",
       "    </tr>\n",
       "    <tr>\n",
       "      <th>87</th>\n",
       "      <td>6.34</td>\n",
       "      <td>263873.16</td>\n",
       "    </tr>\n",
       "    <tr>\n",
       "      <th>80</th>\n",
       "      <td>4.76</td>\n",
       "      <td>254353.08</td>\n",
       "    </tr>\n",
       "    <tr>\n",
       "      <th>84</th>\n",
       "      <td>5.55</td>\n",
       "      <td>234539.14</td>\n",
       "    </tr>\n",
       "    <tr>\n",
       "      <th>26</th>\n",
       "      <td>0.59</td>\n",
       "      <td>225873.39</td>\n",
       "    </tr>\n",
       "    <tr>\n",
       "      <th>18</th>\n",
       "      <td>0.40</td>\n",
       "      <td>213970.72</td>\n",
       "    </tr>\n",
       "    <tr>\n",
       "      <th>94</th>\n",
       "      <td>9.51</td>\n",
       "      <td>209243.40</td>\n",
       "    </tr>\n",
       "  </tbody>\n",
       "</table>\n",
       "</div>"
      ],
      "text/plain": [
       "    volume_sold_gallons      profit\n",
       "65                 2.38  1866831.21\n",
       "69                 2.77   900733.68\n",
       "71                 3.17   742038.80\n",
       "43                 1.19   341194.95\n",
       "87                 6.34   263873.16\n",
       "80                 4.76   254353.08\n",
       "84                 5.55   234539.14\n",
       "26                 0.59   225873.39\n",
       "18                 0.40   213970.72\n",
       "94                 9.51   209243.40"
      ]
     },
     "execution_count": 77,
     "metadata": {},
     "output_type": "execute_result"
    }
   ],
   "source": [
    "profit_scale.sort_values('profit', ascending=False).head(10)"
   ]
  },
  {
   "cell_type": "code",
   "execution_count": 78,
   "metadata": {
    "collapsed": false
   },
   "outputs": [
    {
     "data": {
      "image/png": "[encoded data removed]",
      "text/plain": [
       "<matplotlib.figure.Figure at 0x11b46b9d0>"
      ]
     },
     "metadata": {
      "image/png": {
       "height": 354,
       "width": 353
      }
     },
     "output_type": "display_data"
    }
   ],
   "source": [
    "sns.set_style(\"darkgrid\", {\"axes.facecolor\": \".95\"})\n",
    "\n",
    "sns.lmplot(\"volume_sold_gallons\", \"profit\", data=sales_2015_12_months, fit_reg=False)\n",
    "\n",
    "plt.show()"
   ]
  },
  {
   "cell_type": "code",
   "execution_count": 79,
   "metadata": {
    "collapsed": false,
    "scrolled": true
   },
   "outputs": [
    {
     "data": {
      "text/html": [
       "<div>\n",
       "<table border=\"1\" class=\"dataframe\">\n",
       "  <thead>\n",
       "    <tr style=\"text-align: right;\">\n",
       "      <th></th>\n",
       "      <th>volume_sold_gallons</th>\n",
       "      <th>profit</th>\n",
       "    </tr>\n",
       "  </thead>\n",
       "  <tbody>\n",
       "    <tr>\n",
       "      <th>volume_sold_gallons</th>\n",
       "      <td>1.000000</td>\n",
       "      <td>0.850507</td>\n",
       "    </tr>\n",
       "    <tr>\n",
       "      <th>profit</th>\n",
       "      <td>0.850507</td>\n",
       "      <td>1.000000</td>\n",
       "    </tr>\n",
       "  </tbody>\n",
       "</table>\n",
       "</div>"
      ],
      "text/plain": [
       "                     volume_sold_gallons    profit\n",
       "volume_sold_gallons             1.000000  0.850507\n",
       "profit                          0.850507  1.000000"
      ]
     },
     "execution_count": 79,
     "metadata": {},
     "output_type": "execute_result"
    }
   ],
   "source": [
    "sales_2015_12_months[['volume_sold_gallons', 'profit']].corr()"
   ]
  },
  {
   "cell_type": "markdown",
   "metadata": {},
   "source": [
    "### 5.6 Create a broader category for liquor type.\n",
    "\n",
    "Liquor types are pretty granular in this dataset. Create a column that categorizes these types into a smaller amount of categories. The categories you decide on are up to you."
   ]
  },
  {
   "cell_type": "code",
   "execution_count": 80,
   "metadata": {
    "collapsed": false
   },
   "outputs": [
    {
     "data": {
      "text/plain": [
       "Index([u'date', u'store_number', u'city', u'zip_code', u'county',\n",
       "       u'category_name', u'vendor_number', u'item_number', u'item_description',\n",
       "       u'bottle_volume_ml', u'state_bottle_cost', u'state_bottle_retail',\n",
       "       u'bottles_sold', u'sale_dollars', u'volume_sold_gallons', u'month',\n",
       "       u'year', u'profit', u'profit_gal_2'],\n",
       "      dtype='object')"
      ]
     },
     "execution_count": 80,
     "metadata": {},
     "output_type": "execute_result"
    }
   ],
   "source": [
    "sales_2015_12_months.columns"
   ]
  },
  {
   "cell_type": "code",
   "execution_count": 81,
   "metadata": {
    "collapsed": false
   },
   "outputs": [
    {
     "data": {
      "text/plain": [
       "0                           APRICOT BRANDIES\n",
       "4                             VODKA 80 PROOF\n",
       "5                          AMERICAN DRY GINS\n",
       "6                    AMERICAN GRAPE BRANDIES\n",
       "7                          CANADIAN WHISKIES\n",
       "9                          CINNAMON SCHNAPPS\n",
       "10            SINGLE BARREL BOURBON WHISKIES\n",
       "11                        AMERICAN COCKTAILS\n",
       "12                         CANADIAN WHISKIES\n",
       "15                          APRICOT BRANDIES\n",
       "17                            VODKA FLAVORED\n",
       "18               DISTILLED SPIRITS SPECIALTY\n",
       "19                         CANADIAN WHISKIES\n",
       "20                            VODKA FLAVORED\n",
       "21                         CANADIAN WHISKIES\n",
       "22                          BLENDED WHISKIES\n",
       "23                                   TEQUILA\n",
       "25                        TENNESSEE WHISKIES\n",
       "26                         CANADIAN WHISKIES\n",
       "27                          BLENDED WHISKIES\n",
       "28                            VODKA 80 PROOF\n",
       "29                           WHISKEY LIQUEUR\n",
       "30                         AMERICAN DRY GINS\n",
       "31        MISC. AMERICAN CORDIALS & LIQUEURS\n",
       "32                            VODKA 80 PROOF\n",
       "33                            APPLE SCHNAPPS\n",
       "34                           CHERRY BRANDIES\n",
       "35        MISC. IMPORTED CORDIALS & LIQUEURS\n",
       "36                        AMERICAN COCKTAILS\n",
       "40                       WATERMELON SCHNAPPS\n",
       "                         ...                \n",
       "270915      PUERTO RICO & VIRGIN ISLANDS RUM\n",
       "270918                          BARBADOS RUM\n",
       "270920                       SCOTCH WHISKIES\n",
       "270921             STRAIGHT BOURBON WHISKIES\n",
       "270922                            SPICED RUM\n",
       "270923                        IMPORTED VODKA\n",
       "270924    MISC. AMERICAN CORDIALS & LIQUEURS\n",
       "270925                        CREAM LIQUEURS\n",
       "270926                               TEQUILA\n",
       "270927                        VODKA FLAVORED\n",
       "270928                        VODKA 80 PROOF\n",
       "270930                        VODKA 80 PROOF\n",
       "270931    MISC. AMERICAN CORDIALS & LIQUEURS\n",
       "270932                    TENNESSEE WHISKIES\n",
       "270934                   BLACKBERRY BRANDIES\n",
       "270936                               TEQUILA\n",
       "270937    MISC. IMPORTED CORDIALS & LIQUEURS\n",
       "270938                        VODKA 80 PROOF\n",
       "270939                        VODKA FLAVORED\n",
       "270940                       SCOTCH WHISKIES\n",
       "270941                        VODKA 80 PROOF\n",
       "270942                      BLENDED WHISKIES\n",
       "270943             STRAIGHT BOURBON WHISKIES\n",
       "270945      PUERTO RICO & VIRGIN ISLANDS RUM\n",
       "270947                            SPICED RUM\n",
       "270948                          FLAVORED RUM\n",
       "270949                       100 PROOF VODKA\n",
       "270950                               TEQUILA\n",
       "270953    MISC. IMPORTED CORDIALS & LIQUEURS\n",
       "270954                        VODKA 80 PROOF\n",
       "Name: category_name, dtype: object"
      ]
     },
     "execution_count": 81,
     "metadata": {},
     "output_type": "execute_result"
    }
   ],
   "source": [
    "sales_2015_12_months.category_name"
   ]
  },
  {
   "cell_type": "code",
   "execution_count": 82,
   "metadata": {
    "collapsed": false
   },
   "outputs": [
    {
     "name": "stderr",
     "output_type": "stream",
     "text": [
      "/Users/VanessaG/anaconda/lib/python2.7/site-packages/ipykernel/__main__.py:29: SettingWithCopyWarning: \n",
      "A value is trying to be set on a copy of a slice from a DataFrame.\n",
      "Try using .loc[row_indexer,col_indexer] = value instead\n",
      "\n",
      "See the caveats in the documentation: http://pandas.pydata.org/pandas-docs/stable/indexing.html#indexing-view-versus-copy\n"
     ]
    }
   ],
   "source": [
    "def alcohol_category_maker(x):\n",
    "    x = x.lower()\n",
    "    if 'brandies' in x:\n",
    "        return 'brandy'\n",
    "    \n",
    "    elif 'vokda' in x:\n",
    "        return 'vodka'\n",
    "    \n",
    "    elif 'whiskies' in x:\n",
    "        return 'whisky'\n",
    "    \n",
    "    elif 'schnapps' in x:\n",
    "        return 'schnapps'\n",
    "    \n",
    "    elif 'tequila' in x:\n",
    "        return 'tequila'\n",
    "    \n",
    "    elif 'cocktail' in x:\n",
    "        return 'mixed_drink'\n",
    "    \n",
    "    elif 'rum' in x:\n",
    "        return 'rum'\n",
    "    \n",
    "    elif 'cordials' in x:\n",
    "        return 'cordials'\n",
    "    else:\n",
    "        return 'other'\n",
    "    \n",
    "sales_2015_12_months['alcohol_category'] = sales_2015_12_months.category_name.map(alcohol_category_maker)"
   ]
  },
  {
   "cell_type": "code",
   "execution_count": 83,
   "metadata": {
    "collapsed": false
   },
   "outputs": [
    {
     "data": {
      "text/plain": [
       "<bound method DataFrame.head of                              item_description  \\\n",
       "0                   Mr. Boston Apricot Brandy   \n",
       "4                          Five O'clock Vodka   \n",
       "5                           New Amsterdam Gin   \n",
       "6                               Korbel Brandy   \n",
       "7                        Canadian Club Whisky   \n",
       "9                          Dekuyper Hot Damn!   \n",
       "10           Knob Creek Single Barrel Reserve   \n",
       "11              Chi-Chi's Margarita W/tequila   \n",
       "12                       Windsor Canadian Pet   \n",
       "15                  Mr. Boston Apricot Brandy   \n",
       "17                              Uv Cake Vodka   \n",
       "18                            Juarez Gold Dss   \n",
       "19               Lord Calvert Canadian Whisky   \n",
       "20                       44 North Huckleberry   \n",
       "21                      Black Velvet Traveler   \n",
       "22                Seagrams 7 Crown Bl Whiskey   \n",
       "23      Jose Cuervo Especial Reposado Tequila   \n",
       "25              Jack Daniels Old #7 Black Lbl   \n",
       "26           Crown Royal Canadian Whisky Mini   \n",
       "27                      Hawkeye Blend Whiskey   \n",
       "28                               UV Vodka PET   \n",
       "29                     Piehole Apple Pie Mini   \n",
       "30                              Paramount Gin   \n",
       "31                                Dekuyper 03   \n",
       "32                         Five O'clock Vodka   \n",
       "33                        Dekuyper Sour Apple   \n",
       "34              Arrow Wild Cherry Flav Brandy   \n",
       "35                       Jagermeister Liqueur   \n",
       "36                         Bartenders Hot Sex   \n",
       "40                 Dekuyper Watermelon Pucker   \n",
       "...                                       ...   \n",
       "270915           Paramount White Rum Traveler   \n",
       "270918                      Mt. Gay Extra Old   \n",
       "270920         Buchanan's 12 Yr Deluxe Scotch   \n",
       "270921                           Maker's Mark   \n",
       "270922                  Lady Bligh Spiced Rum   \n",
       "270923                       Grey Goose Vodka   \n",
       "270924                        Kinky Blue Mini   \n",
       "270925             Emmets Irish Cream Liqueur   \n",
       "270926                           Patron Anejo   \n",
       "270927                        Smirnoff Orange   \n",
       "270928                    Mccormick Vodka Pet   \n",
       "270930                     Five O'clock Vodka   \n",
       "270931        Dekuyper Signature Blue Curacao   \n",
       "270932          Jack Daniels Old #7 Black Lbl   \n",
       "270934           Mr. Boston Blackberry Brandy   \n",
       "270936  Jose Cuervo Especial Reposado Tequila   \n",
       "270937      Chambord Liqueur Royale De France   \n",
       "270938                  Smirnoff Vodka 80 Prf   \n",
       "270939                          Uv Cake Vodka   \n",
       "270940                   Famous Grouse Scotch   \n",
       "270941       Fleischmann's Royal Vodka 80 Prf   \n",
       "270942         Kessler Blend Whiskey Traveler   \n",
       "270943                          Jim Beam Mini   \n",
       "270945                       Barton Light Rum   \n",
       "270947              Captain Morgan Spiced Rum   \n",
       "270948               Bacardi Pineapple Fusion   \n",
       "270949                        McCormick Vodka   \n",
       "270950             Patron Tequila Silver Mini   \n",
       "270953                   Jagermeister Liqueur   \n",
       "270954                  Smirnoff Vodka 80 Prf   \n",
       "\n",
       "                             category_name alcohol_category  \n",
       "0                         APRICOT BRANDIES           brandy  \n",
       "4                           VODKA 80 PROOF            other  \n",
       "5                        AMERICAN DRY GINS            other  \n",
       "6                  AMERICAN GRAPE BRANDIES           brandy  \n",
       "7                        CANADIAN WHISKIES           whisky  \n",
       "9                        CINNAMON SCHNAPPS         schnapps  \n",
       "10          SINGLE BARREL BOURBON WHISKIES           whisky  \n",
       "11                      AMERICAN COCKTAILS      mixed_drink  \n",
       "12                       CANADIAN WHISKIES           whisky  \n",
       "15                        APRICOT BRANDIES           brandy  \n",
       "17                          VODKA FLAVORED            other  \n",
       "18             DISTILLED SPIRITS SPECIALTY            other  \n",
       "19                       CANADIAN WHISKIES           whisky  \n",
       "20                          VODKA FLAVORED            other  \n",
       "21                       CANADIAN WHISKIES           whisky  \n",
       "22                        BLENDED WHISKIES           whisky  \n",
       "23                                 TEQUILA          tequila  \n",
       "25                      TENNESSEE WHISKIES           whisky  \n",
       "26                       CANADIAN WHISKIES           whisky  \n",
       "27                        BLENDED WHISKIES           whisky  \n",
       "28                          VODKA 80 PROOF            other  \n",
       "29                         WHISKEY LIQUEUR            other  \n",
       "30                       AMERICAN DRY GINS            other  \n",
       "31      MISC. AMERICAN CORDIALS & LIQUEURS         cordials  \n",
       "32                          VODKA 80 PROOF            other  \n",
       "33                          APPLE SCHNAPPS         schnapps  \n",
       "34                         CHERRY BRANDIES           brandy  \n",
       "35      MISC. IMPORTED CORDIALS & LIQUEURS         cordials  \n",
       "36                      AMERICAN COCKTAILS      mixed_drink  \n",
       "40                     WATERMELON SCHNAPPS         schnapps  \n",
       "...                                    ...              ...  \n",
       "270915    PUERTO RICO & VIRGIN ISLANDS RUM              rum  \n",
       "270918                        BARBADOS RUM              rum  \n",
       "270920                     SCOTCH WHISKIES           whisky  \n",
       "270921           STRAIGHT BOURBON WHISKIES           whisky  \n",
       "270922                          SPICED RUM              rum  \n",
       "270923                      IMPORTED VODKA            other  \n",
       "270924  MISC. AMERICAN CORDIALS & LIQUEURS         cordials  \n",
       "270925                      CREAM LIQUEURS            other  \n",
       "270926                             TEQUILA          tequila  \n",
       "270927                      VODKA FLAVORED            other  \n",
       "270928                      VODKA 80 PROOF            other  \n",
       "270930                      VODKA 80 PROOF            other  \n",
       "270931  MISC. AMERICAN CORDIALS & LIQUEURS         cordials  \n",
       "270932                  TENNESSEE WHISKIES           whisky  \n",
       "270934                 BLACKBERRY BRANDIES           brandy  \n",
       "270936                             TEQUILA          tequila  \n",
       "270937  MISC. IMPORTED CORDIALS & LIQUEURS         cordials  \n",
       "270938                      VODKA 80 PROOF            other  \n",
       "270939                      VODKA FLAVORED            other  \n",
       "270940                     SCOTCH WHISKIES           whisky  \n",
       "270941                      VODKA 80 PROOF            other  \n",
       "270942                    BLENDED WHISKIES           whisky  \n",
       "270943           STRAIGHT BOURBON WHISKIES           whisky  \n",
       "270945    PUERTO RICO & VIRGIN ISLANDS RUM              rum  \n",
       "270947                          SPICED RUM              rum  \n",
       "270948                        FLAVORED RUM              rum  \n",
       "270949                     100 PROOF VODKA            other  \n",
       "270950                             TEQUILA          tequila  \n",
       "270953  MISC. IMPORTED CORDIALS & LIQUEURS         cordials  \n",
       "270954                      VODKA 80 PROOF            other  \n",
       "\n",
       "[196682 rows x 3 columns]>"
      ]
     },
     "execution_count": 83,
     "metadata": {},
     "output_type": "execute_result"
    }
   ],
   "source": [
    "sales_2015_12_months[['item_description', 'category_name', 'alcohol_category']].head"
   ]
  },
  {
   "cell_type": "markdown",
   "metadata": {},
   "source": [
    "### 5.7 Do relationships exist between the broader liquor type and profit?"
   ]
  },
  {
   "cell_type": "code",
   "execution_count": 84,
   "metadata": {
    "collapsed": false
   },
   "outputs": [
    {
     "data": {
      "text/html": [
       "<div>\n",
       "<table border=\"1\" class=\"dataframe\">\n",
       "  <thead>\n",
       "    <tr style=\"text-align: right;\">\n",
       "      <th></th>\n",
       "      <th>alcohol_category</th>\n",
       "      <th>profit</th>\n",
       "    </tr>\n",
       "  </thead>\n",
       "  <tbody>\n",
       "    <tr>\n",
       "      <th>3</th>\n",
       "      <td>other</td>\n",
       "      <td>3303267.96</td>\n",
       "    </tr>\n",
       "    <tr>\n",
       "      <th>7</th>\n",
       "      <td>whisky</td>\n",
       "      <td>2622013.39</td>\n",
       "    </tr>\n",
       "    <tr>\n",
       "      <th>4</th>\n",
       "      <td>rum</td>\n",
       "      <td>1155231.98</td>\n",
       "    </tr>\n",
       "    <tr>\n",
       "      <th>6</th>\n",
       "      <td>tequila</td>\n",
       "      <td>484912.28</td>\n",
       "    </tr>\n",
       "    <tr>\n",
       "      <th>0</th>\n",
       "      <td>brandy</td>\n",
       "      <td>341049.53</td>\n",
       "    </tr>\n",
       "    <tr>\n",
       "      <th>5</th>\n",
       "      <td>schnapps</td>\n",
       "      <td>310613.93</td>\n",
       "    </tr>\n",
       "    <tr>\n",
       "      <th>1</th>\n",
       "      <td>cordials</td>\n",
       "      <td>304077.81</td>\n",
       "    </tr>\n",
       "    <tr>\n",
       "      <th>2</th>\n",
       "      <td>mixed_drink</td>\n",
       "      <td>145463.11</td>\n",
       "    </tr>\n",
       "  </tbody>\n",
       "</table>\n",
       "</div>"
      ],
      "text/plain": [
       "  alcohol_category      profit\n",
       "3            other  3303267.96\n",
       "7           whisky  2622013.39\n",
       "4              rum  1155231.98\n",
       "6          tequila   484912.28\n",
       "0           brandy   341049.53\n",
       "5         schnapps   310613.93\n",
       "1         cordials   304077.81\n",
       "2      mixed_drink   145463.11"
      ]
     },
     "execution_count": 84,
     "metadata": {},
     "output_type": "execute_result"
    }
   ],
   "source": [
    "alcohol_cat_profit = sales_2015_12_months.groupby(['alcohol_category'])['profit'].sum().reset_index()\n",
    "alcohol_cat_profit.sort_values('profit', ascending=False).head(10)"
   ]
  },
  {
   "cell_type": "code",
   "execution_count": 85,
   "metadata": {
    "collapsed": false
   },
   "outputs": [
    {
     "data": {
      "text/plain": [
       "<matplotlib.axes._subplots.AxesSubplot at 0x11f328050>"
      ]
     },
     "execution_count": 85,
     "metadata": {},
     "output_type": "execute_result"
    },
    {
     "data": {
      "image/png": "[encoded data removed]",
      "text/plain": [
       "<matplotlib.figure.Figure at 0x11d744190>"
      ]
     },
     "metadata": {
      "image/png": {
       "height": 385,
       "width": 493
      }
     },
     "output_type": "display_data"
    }
   ],
   "source": [
    "fig = plt.figure(figsize=(8,6))\n",
    "sns.barplot(x=sales_2015_12_months.alcohol_category ,y=sales_2015_12_months.profit)"
   ]
  },
  {
   "cell_type": "markdown",
   "metadata": {},
   "source": [
    "<img src=\"http://imgur.com/xDpSobf.png\" style=\"float: left; margin: 25px 15px 0px 0px; height: 25px\">\n",
    "\n",
    "### 5.8 Are there any noticeable relationships between liquor brand and sales? Profit?"
   ]
  },
  {
   "cell_type": "code",
   "execution_count": null,
   "metadata": {
    "collapsed": true
   },
   "outputs": [],
   "source": []
  },
  {
   "cell_type": "markdown",
   "metadata": {},
   "source": [
    "### 5.9 The tax board wants to design a tax or taxes that affect larger stores more than smaller \"mom and pop\" stores.\n",
    "\n",
    "Based on your investigations into the data, come up with a way you could design a tax that achieves this goal **without explicitly taxing stores based on size or county critera.** The liqour board does not want to obviously punish larger stores or speific counties for fear of backlash, but is willing to tax hard alcohol more than beer, for example.\n",
    "\n",
    "Feel free to do more EDA if it helps.\n",
    "\n",
    "Your report should describe whether such a tax is possible or not, and the specifics of what the tax will target/do."
   ]
  },
  {
   "cell_type": "code",
   "execution_count": null,
   "metadata": {
    "collapsed": true
   },
   "outputs": [],
   "source": []
  },
  {
   "cell_type": "markdown",
   "metadata": {},
   "source": [
    "<img src=\"http://imgur.com/l5NasQj.png\" style=\"float: left; margin: 25px 15px 0px 0px; height: 25px\">\n",
    "\n",
    "## 6. Market research for new store locations (Scenario 2)\n",
    "\n",
    "A liquor store owner in Iowa is looking to open a store in a new location and has hired you to investigate the market data for potential new locations. The business owner is interested in what you can discover from the data that will help him evaluate a good location for a new storefront.\n",
    "\n",
    "---\n",
    "\n",
    "### 6.1 Create columns for Q1 2015 sales and Q1 2016 sales.\n",
    "\n",
    "The owner is not just interested in what locations are currently selling well, but also which areas are showing the most promising sales growth from 2015 to 2016. \n",
    "\n",
    "For yearly changes we will focus on the changes from Q1 2015 to Q1 2016 specifically (avoiding effects of season changes).\n",
    "\n",
    "Note: Q1 is months: January, February, and March.\n"
   ]
  },
  {
   "cell_type": "code",
   "execution_count": 123,
   "metadata": {
    "collapsed": true
   },
   "outputs": [],
   "source": [
    "def alcohol_category_maker(x):\n",
    "    x = x.lower()\n",
    "    if 'brandies' in x:\n",
    "        return 'brandy'\n",
    "    \n",
    "    elif 'vokda' in x:\n",
    "        return 'vodka'\n",
    "    \n",
    "    elif 'whiskies' in x:\n",
    "        return 'whisky'\n",
    "    \n",
    "    elif 'schnapps' in x:\n",
    "        return 'schnapps'\n",
    "    \n",
    "    elif 'tequila' in x:\n",
    "        return 'tequila'\n",
    "    \n",
    "    elif 'cocktail' in x:\n",
    "        return 'mixed_drink'\n",
    "    \n",
    "    elif 'rum' in x:\n",
    "        return 'rum'\n",
    "    \n",
    "    elif 'cordials' in x:\n",
    "        return 'cordials'\n",
    "    else:\n",
    "        return 'other'\n",
    "    \n",
    "iowa['alcohol_category'] = iowa.category_name.map(alcohol_category_maker)"
   ]
  },
  {
   "cell_type": "code",
   "execution_count": 124,
   "metadata": {
    "collapsed": false
   },
   "outputs": [],
   "source": [
    "iowa.loc[:,'profit'] = (iowa.loc[:,'state_bottle_retail'] - iowa.loc[:,'state_bottle_cost']) * \\\n",
    "                                        iowa.loc[:,'bottles_sold']"
   ]
  },
  {
   "cell_type": "code",
   "execution_count": 125,
   "metadata": {
    "collapsed": false
   },
   "outputs": [],
   "source": [
    "q1_2015 = iowa[(iowa['date'] > '2015/01/01') & (iowa['date'] < '2015/04/01')]\n",
    "q1_2016 = iowa[(iowa['date'] > '2016/01/01') & (iowa['date'] < '2016/04/01')]"
   ]
  },
  {
   "cell_type": "code",
   "execution_count": 154,
   "metadata": {
    "collapsed": true
   },
   "outputs": [],
   "source": [
    "q1_2015_areas = q1_2015.groupby(['store_number', 'county', 'city', 'zip_code','alcohol_category'])['profit'].sum().reset_index()\n",
    "q1_2016_areas = q1_2016.groupby(['store_number','county', 'city', 'zip_code', 'alcohol_category'])['profit'].sum().reset_index()"
   ]
  },
  {
   "cell_type": "code",
   "execution_count": 156,
   "metadata": {
    "collapsed": false
   },
   "outputs": [],
   "source": [
    "q1_growth = pd.merge(q1_2015_areas, q1_2016_areas, how='inner', on='store_number',suffixes=('_q1_15','_q1_16'))"
   ]
  },
  {
   "cell_type": "code",
   "execution_count": 180,
   "metadata": {
    "collapsed": false
   },
   "outputs": [
    {
     "data": {
      "text/html": [
       "<div>\n",
       "<table border=\"1\" class=\"dataframe\">\n",
       "  <thead>\n",
       "    <tr style=\"text-align: right;\">\n",
       "      <th></th>\n",
       "      <th>store_number</th>\n",
       "      <th>county_q1_15</th>\n",
       "      <th>city_q1_15</th>\n",
       "      <th>zip_code_q1_15</th>\n",
       "      <th>alcohol_category_q1_15</th>\n",
       "      <th>profit_q1_15</th>\n",
       "      <th>county_q1_16</th>\n",
       "      <th>city_q1_16</th>\n",
       "      <th>zip_code_q1_16</th>\n",
       "      <th>alcohol_category_q1_16</th>\n",
       "      <th>profit_q1_16</th>\n",
       "      <th>change</th>\n",
       "    </tr>\n",
       "  </thead>\n",
       "  <tbody>\n",
       "    <tr>\n",
       "      <th>0</th>\n",
       "      <td>2106</td>\n",
       "      <td>Black Hawk</td>\n",
       "      <td>CEDAR FALLS</td>\n",
       "      <td>50613</td>\n",
       "      <td>brandy</td>\n",
       "      <td>241.92</td>\n",
       "      <td>Black Hawk</td>\n",
       "      <td>CEDAR FALLS</td>\n",
       "      <td>50613</td>\n",
       "      <td>brandy</td>\n",
       "      <td>156.72</td>\n",
       "      <td>-85.20</td>\n",
       "    </tr>\n",
       "    <tr>\n",
       "      <th>1</th>\n",
       "      <td>2106</td>\n",
       "      <td>Black Hawk</td>\n",
       "      <td>CEDAR FALLS</td>\n",
       "      <td>50613</td>\n",
       "      <td>brandy</td>\n",
       "      <td>241.92</td>\n",
       "      <td>Black Hawk</td>\n",
       "      <td>CEDAR FALLS</td>\n",
       "      <td>50613</td>\n",
       "      <td>cordials</td>\n",
       "      <td>482.16</td>\n",
       "      <td>240.24</td>\n",
       "    </tr>\n",
       "    <tr>\n",
       "      <th>2</th>\n",
       "      <td>2106</td>\n",
       "      <td>Black Hawk</td>\n",
       "      <td>CEDAR FALLS</td>\n",
       "      <td>50613</td>\n",
       "      <td>brandy</td>\n",
       "      <td>241.92</td>\n",
       "      <td>Black Hawk</td>\n",
       "      <td>CEDAR FALLS</td>\n",
       "      <td>50613</td>\n",
       "      <td>mixed_drink</td>\n",
       "      <td>52.32</td>\n",
       "      <td>-189.60</td>\n",
       "    </tr>\n",
       "  </tbody>\n",
       "</table>\n",
       "</div>"
      ],
      "text/plain": [
       "   store_number county_q1_15   city_q1_15 zip_code_q1_15  \\\n",
       "0          2106   Black Hawk  CEDAR FALLS          50613   \n",
       "1          2106   Black Hawk  CEDAR FALLS          50613   \n",
       "2          2106   Black Hawk  CEDAR FALLS          50613   \n",
       "\n",
       "  alcohol_category_q1_15  profit_q1_15 county_q1_16   city_q1_16  \\\n",
       "0                 brandy        241.92   Black Hawk  CEDAR FALLS   \n",
       "1                 brandy        241.92   Black Hawk  CEDAR FALLS   \n",
       "2                 brandy        241.92   Black Hawk  CEDAR FALLS   \n",
       "\n",
       "  zip_code_q1_16 alcohol_category_q1_16  profit_q1_16  change  \n",
       "0          50613                 brandy        156.72  -85.20  \n",
       "1          50613               cordials        482.16  240.24  \n",
       "2          50613            mixed_drink         52.32 -189.60  "
      ]
     },
     "execution_count": 180,
     "metadata": {},
     "output_type": "execute_result"
    }
   ],
   "source": [
    "q1_growth.head(3)"
   ]
  },
  {
   "cell_type": "code",
   "execution_count": 161,
   "metadata": {
    "collapsed": true
   },
   "outputs": [],
   "source": [
    "q1_growth['change'] = q1_growth['profit_q1_16'] - q1_growth['profit_q1_15']"
   ]
  },
  {
   "cell_type": "code",
   "execution_count": 184,
   "metadata": {
    "collapsed": false
   },
   "outputs": [],
   "source": [
    "county = q1_growth.groupby(['county_q1_15' ]).sum().reset_index()"
   ]
  },
  {
   "cell_type": "code",
   "execution_count": 185,
   "metadata": {
    "collapsed": false,
    "scrolled": true
   },
   "outputs": [
    {
     "data": {
      "text/html": [
       "<div>\n",
       "<table border=\"1\" class=\"dataframe\">\n",
       "  <thead>\n",
       "    <tr style=\"text-align: right;\">\n",
       "      <th></th>\n",
       "      <th>county_q1_15</th>\n",
       "      <th>profit_q1_15</th>\n",
       "      <th>profit_q1_16</th>\n",
       "      <th>change</th>\n",
       "    </tr>\n",
       "  </thead>\n",
       "  <tbody>\n",
       "    <tr>\n",
       "      <th>51</th>\n",
       "      <td>Johnson</td>\n",
       "      <td>686482.66</td>\n",
       "      <td>860503.08</td>\n",
       "      <td>174020.42</td>\n",
       "    </tr>\n",
       "    <tr>\n",
       "      <th>77</th>\n",
       "      <td>Pottawattamie</td>\n",
       "      <td>532967.05</td>\n",
       "      <td>609206.60</td>\n",
       "      <td>76239.55</td>\n",
       "    </tr>\n",
       "    <tr>\n",
       "      <th>55</th>\n",
       "      <td>Lee</td>\n",
       "      <td>185186.47</td>\n",
       "      <td>243068.17</td>\n",
       "      <td>57881.70</td>\n",
       "    </tr>\n",
       "    <tr>\n",
       "      <th>23</th>\n",
       "      <td>Crawford</td>\n",
       "      <td>44515.81</td>\n",
       "      <td>95841.61</td>\n",
       "      <td>51325.80</td>\n",
       "    </tr>\n",
       "    <tr>\n",
       "      <th>96</th>\n",
       "      <td>Woodbury</td>\n",
       "      <td>569338.12</td>\n",
       "      <td>605878.80</td>\n",
       "      <td>36540.68</td>\n",
       "    </tr>\n",
       "    <tr>\n",
       "      <th>32</th>\n",
       "      <td>Fayette</td>\n",
       "      <td>39924.18</td>\n",
       "      <td>68115.17</td>\n",
       "      <td>28190.99</td>\n",
       "    </tr>\n",
       "    <tr>\n",
       "      <th>15</th>\n",
       "      <td>Cedar</td>\n",
       "      <td>17855.92</td>\n",
       "      <td>45467.87</td>\n",
       "      <td>27611.95</td>\n",
       "    </tr>\n",
       "    <tr>\n",
       "      <th>83</th>\n",
       "      <td>Sioux</td>\n",
       "      <td>63559.88</td>\n",
       "      <td>88619.60</td>\n",
       "      <td>25059.72</td>\n",
       "    </tr>\n",
       "    <tr>\n",
       "      <th>24</th>\n",
       "      <td>Dallas</td>\n",
       "      <td>221934.03</td>\n",
       "      <td>243825.90</td>\n",
       "      <td>21891.87</td>\n",
       "    </tr>\n",
       "    <tr>\n",
       "      <th>30</th>\n",
       "      <td>Dubuque</td>\n",
       "      <td>436545.12</td>\n",
       "      <td>455538.00</td>\n",
       "      <td>18992.88</td>\n",
       "    </tr>\n",
       "  </tbody>\n",
       "</table>\n",
       "</div>"
      ],
      "text/plain": [
       "     county_q1_15  profit_q1_15  profit_q1_16     change\n",
       "51        Johnson     686482.66     860503.08  174020.42\n",
       "77  Pottawattamie     532967.05     609206.60   76239.55\n",
       "55            Lee     185186.47     243068.17   57881.70\n",
       "23       Crawford      44515.81      95841.61   51325.80\n",
       "96       Woodbury     569338.12     605878.80   36540.68\n",
       "32        Fayette      39924.18      68115.17   28190.99\n",
       "15          Cedar      17855.92      45467.87   27611.95\n",
       "83          Sioux      63559.88      88619.60   25059.72\n",
       "24         Dallas     221934.03     243825.90   21891.87\n",
       "30        Dubuque     436545.12     455538.00   18992.88"
      ]
     },
     "execution_count": 185,
     "metadata": {},
     "output_type": "execute_result"
    }
   ],
   "source": [
    "county[['county_q1_15', 'profit_q1_15', 'profit_q1_16', 'change' ]].sort_values(by='change', ascending = False).head(10)"
   ]
  },
  {
   "cell_type": "markdown",
   "metadata": {},
   "source": [
    "### 6.2 Decide on a metric for performance that combines Q1 2016 sales as well as growth in sales from Q1 2015.\n",
    "\n",
    "Again, the owner wants to know that his store will be in a good position to sell a large amount of liquor now, but also have his store be more likely to grow and sell even more going forward. \n",
    "\n",
    "In particular, he is worried about opening a store in an area that is showing a decline in liquor sales between Q1 2015 and Q1 2016."
   ]
  },
  {
   "cell_type": "code",
   "execution_count": 173,
   "metadata": {
    "collapsed": true
   },
   "outputs": [],
   "source": [
    "county['growth'] = (county['change']/county['profit_q1_15'])*100"
   ]
  },
  {
   "cell_type": "markdown",
   "metadata": {},
   "source": [
    "### 6.3 Recommend a location based on your metric.\n",
    "\n",
    "The owner asks you to make a recommendation for a new store location. Explain why you recommended this area."
   ]
  },
  {
   "cell_type": "code",
   "execution_count": 174,
   "metadata": {
    "collapsed": false
   },
   "outputs": [
    {
     "data": {
      "text/html": [
       "<div>\n",
       "<table border=\"1\" class=\"dataframe\">\n",
       "  <thead>\n",
       "    <tr style=\"text-align: right;\">\n",
       "      <th></th>\n",
       "      <th>county_q1_15</th>\n",
       "      <th>store_number</th>\n",
       "      <th>profit_q1_15</th>\n",
       "      <th>profit_q1_16</th>\n",
       "      <th>change</th>\n",
       "      <th>growth</th>\n",
       "    </tr>\n",
       "  </thead>\n",
       "  <tbody>\n",
       "    <tr>\n",
       "      <th>15</th>\n",
       "      <td>Cedar</td>\n",
       "      <td>778521</td>\n",
       "      <td>17855.92</td>\n",
       "      <td>45467.87</td>\n",
       "      <td>27611.95</td>\n",
       "      <td>154.637510</td>\n",
       "    </tr>\n",
       "    <tr>\n",
       "      <th>23</th>\n",
       "      <td>Crawford</td>\n",
       "      <td>608694</td>\n",
       "      <td>44515.81</td>\n",
       "      <td>95841.61</td>\n",
       "      <td>51325.80</td>\n",
       "      <td>115.297913</td>\n",
       "    </tr>\n",
       "    <tr>\n",
       "      <th>11</th>\n",
       "      <td>Butler</td>\n",
       "      <td>591306</td>\n",
       "      <td>6706.81</td>\n",
       "      <td>13389.59</td>\n",
       "      <td>6682.78</td>\n",
       "      <td>99.641707</td>\n",
       "    </tr>\n",
       "    <tr>\n",
       "      <th>53</th>\n",
       "      <td>Keokuk</td>\n",
       "      <td>347718</td>\n",
       "      <td>4325.84</td>\n",
       "      <td>7746.16</td>\n",
       "      <td>3420.32</td>\n",
       "      <td>79.067187</td>\n",
       "    </tr>\n",
       "    <tr>\n",
       "      <th>32</th>\n",
       "      <td>Fayette</td>\n",
       "      <td>986776</td>\n",
       "      <td>39924.18</td>\n",
       "      <td>68115.17</td>\n",
       "      <td>28190.99</td>\n",
       "      <td>70.611319</td>\n",
       "    </tr>\n",
       "    <tr>\n",
       "      <th>12</th>\n",
       "      <td>Calhoun</td>\n",
       "      <td>403320</td>\n",
       "      <td>7267.72</td>\n",
       "      <td>12342.65</td>\n",
       "      <td>5074.93</td>\n",
       "      <td>69.828364</td>\n",
       "    </tr>\n",
       "    <tr>\n",
       "      <th>0</th>\n",
       "      <td>Adair</td>\n",
       "      <td>613278</td>\n",
       "      <td>14221.16</td>\n",
       "      <td>22036.14</td>\n",
       "      <td>7814.98</td>\n",
       "      <td>54.953182</td>\n",
       "    </tr>\n",
       "    <tr>\n",
       "      <th>46</th>\n",
       "      <td>Ida</td>\n",
       "      <td>386860</td>\n",
       "      <td>14735.85</td>\n",
       "      <td>22686.18</td>\n",
       "      <td>7950.33</td>\n",
       "      <td>53.952300</td>\n",
       "    </tr>\n",
       "    <tr>\n",
       "      <th>3</th>\n",
       "      <td>Appanoose</td>\n",
       "      <td>595924</td>\n",
       "      <td>31309.61</td>\n",
       "      <td>48094.21</td>\n",
       "      <td>16784.60</td>\n",
       "      <td>53.608461</td>\n",
       "    </tr>\n",
       "    <tr>\n",
       "      <th>97</th>\n",
       "      <td>Worth</td>\n",
       "      <td>298225</td>\n",
       "      <td>12379.00</td>\n",
       "      <td>18996.36</td>\n",
       "      <td>6617.36</td>\n",
       "      <td>53.456337</td>\n",
       "    </tr>\n",
       "  </tbody>\n",
       "</table>\n",
       "</div>"
      ],
      "text/plain": [
       "   county_q1_15  store_number  profit_q1_15  profit_q1_16    change  \\\n",
       "15        Cedar        778521      17855.92      45467.87  27611.95   \n",
       "23     Crawford        608694      44515.81      95841.61  51325.80   \n",
       "11       Butler        591306       6706.81      13389.59   6682.78   \n",
       "53       Keokuk        347718       4325.84       7746.16   3420.32   \n",
       "32      Fayette        986776      39924.18      68115.17  28190.99   \n",
       "12      Calhoun        403320       7267.72      12342.65   5074.93   \n",
       "0         Adair        613278      14221.16      22036.14   7814.98   \n",
       "46          Ida        386860      14735.85      22686.18   7950.33   \n",
       "3     Appanoose        595924      31309.61      48094.21  16784.60   \n",
       "97        Worth        298225      12379.00      18996.36   6617.36   \n",
       "\n",
       "        growth  \n",
       "15  154.637510  \n",
       "23  115.297913  \n",
       "11   99.641707  \n",
       "53   79.067187  \n",
       "32   70.611319  \n",
       "12   69.828364  \n",
       "0    54.953182  \n",
       "46   53.952300  \n",
       "3    53.608461  \n",
       "97   53.456337  "
      ]
     },
     "execution_count": 174,
     "metadata": {},
     "output_type": "execute_result"
    }
   ],
   "source": [
    "county.sort_values(by='growth', ascending = False).head(10)"
   ]
  },
  {
   "cell_type": "markdown",
   "metadata": {},
   "source": [
    "### 6.4 Recommend a location based also on a restricted inventory type.\n",
    "\n",
    "Your employer has now decided he wants his store to focus on one type of liquor only. He askes you:\n",
    "\n",
    "1. What would be the best type of liquor to sell to maximize profit?\n",
    "2. Should the recommended location change if he is only selling one type of liquor?"
   ]
  },
  {
   "cell_type": "code",
   "execution_count": 191,
   "metadata": {
    "collapsed": false
   },
   "outputs": [],
   "source": [
    "#ran out of time here and also I'm not certain what I did above actually makes sense....."
   ]
  },
  {
   "cell_type": "markdown",
   "metadata": {},
   "source": [
    "<img src=\"http://imgur.com/GCAf1UX.png\" style=\"float: left; margin: 25px 15px 0px 0px; height: 25px\">\n",
    "\n",
    "## 7. Time-related effects\n",
    "\n",
    "---\n",
    "\n",
    "You could imagine that liquor sales might be affected by a variety of effects related to time. Do people buy more beer in the summer? Do liquor sales skyrocket in december? Do people buy less liquor on Tuesdays?\n",
    "\n",
    "You have the date of sales in your dataset, which you can use to pull out time components.\n",
    "\n",
    "1. Come up with 3 different hypotheses about how liquor sales may vary with time-related variables. \n",
    "2. Create a visualization exploring each hypothesis.\n",
    "3. Write brief concluding remarks on what you observed.\n"
   ]
  },
  {
   "cell_type": "code",
   "execution_count": null,
   "metadata": {
    "collapsed": true
   },
   "outputs": [],
   "source": []
  },
  {
   "cell_type": "markdown",
   "metadata": {},
   "source": [
    "<img src=\"http://imgur.com/GCAf1UX.png\" style=\"float: left; margin: 25px 15px 0px 0px; height: 25px\">\n",
    "\n",
    "## 8. Appropriate spending\n",
    "\n",
    "---\n",
    "\n",
    "The owner you worked with before realized that opening new stores cost money, something he had completely overlooked earlier. He brings you back in to help him figure out how much he should be willing to spend on opening his store.\n",
    "\n",
    "### 8.1 Calculate costs and time to recoup.\n",
    "\n",
    "The owner has decided he will buy 20,000 gallons of the liquor type you recommended (randomly sampled across the different brands/subtypes). He will also be opening his store in the area you recommended.\n",
    "\n",
    "The cost of buying the property for his store will be $150,000.\n",
    "\n",
    "1. How much should he expect to spend on the 20,000 gallons of liquor alone?\n",
    "2. Based on the amount he's spent on the liquor and property, and on the profit per time period he is expected to have, how long will it take him to recoup the costs?"
   ]
  },
  {
   "cell_type": "code",
   "execution_count": null,
   "metadata": {
    "collapsed": true
   },
   "outputs": [],
   "source": []
  },
  {
   "cell_type": "markdown",
   "metadata": {},
   "source": [
    "<img src=\"http://imgur.com/gGrau8s.png\" style=\"float: left; margin: 25px 15px 0px 0px; height: 25px\">\n",
    "\n",
    "\n",
    "### 8.2 Calculate maximum loan interest rate.\n",
    "\n",
    "The owner unfortunately has to take out a loan to to pay for the entirety of the property and liquor. \n",
    "\n",
    "**Conditions of the loan**:\n",
    "\n",
    "Every quarter, (except for Q1 when he takes out the loan), the interest rate is applied to the remaining balance on the loan and added to his debt. \n",
    "\n",
    "If, for example, he made no payments whatsoever, not only would the amount of debt he owed keep increasing by quarter but the debt incurred from interest would keep increasing as well. (Since his debt keeps growing, the interest rate is applied each month to the bigger balance, incurring more debt each time.)\n",
    "\n",
    "**Determining maximum acceptable interest:**\n",
    "\n",
    "Given this, _the owner wants to be 99% confident that he will be able to pay off his loans._ If the interest rate is too high he will have to eventually declare bankruptcy.\n",
    "\n",
    "Based on his expected profits per quarter (assume the expected profit stays the same for all future quarters), what is the maximum interest rate he should accept on the loan to be 99% confident he will be able to pay it off?"
   ]
  },
  {
   "cell_type": "code",
   "execution_count": null,
   "metadata": {
    "collapsed": true
   },
   "outputs": [],
   "source": []
  }
 ],
 "metadata": {
  "kernelspec": {
   "display_name": "Python 2",
   "language": "python",
   "name": "python2"
  },
  "language_info": {
   "codemirror_mode": {
    "name": "ipython",
    "version": 2
   },
   "file_extension": ".py",
   "mimetype": "text/x-python",
   "name": "python",
   "nbconvert_exporter": "python",
   "pygments_lexer": "ipython2",
   "version": "2.7.11"
  }
 },
 "nbformat": 4,
 "nbformat_minor": 0
}
