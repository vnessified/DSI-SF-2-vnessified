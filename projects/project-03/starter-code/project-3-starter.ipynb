{
 "cells": [
  {
   "cell_type": "markdown",
   "metadata": {},
   "source": [
    "<img src=\"http://imgur.com/1ZcRyrc.png\" style=\"float: left; margin: 15px; height: 80px\">\n",
    "\n",
    "# Project 3\n",
    "\n",
    "### Iowa Liquor Sales \n",
    "\n",
    "---\n",
    "\n",
    "Project 3, unlike project 2 which combined skills from weeks 1 and 2, will now be review of week 2. Projects going forward will fit this format: you learn material one week and review it through a project the following week.\n",
    "\n",
    "That being said, this is as you might expect more challenging. You will be using the pandas data transformation functionality (melt, pivot, groupby, apply) that was not a factor in Project 2.\n",
    "\n",
    "---\n",
    "\n",
    "#### Context of the data\n",
    "\n",
    "The state of Iowa provides many data sets on their website, including [this dataset](https://www.dropbox.com/sh/pf5n5sgfgiri3i8/AACkaMeL_i_WgZ00rpxOOcysa?dl=0) which contains transactions for all stores that have a class E liquor license. You can choose one of the following two scenarios.\n",
    "\n",
    "The data can also be found [directly on their website](https://data.iowa.gov/Economy/Iowa-Liquor-Sales/m3tr-qhgy), which allows you to explore it graphically and download it (though it doesn't work very well).\n",
    "\n",
    "NOTE: Some of you may have computer issues with the full dataset. In this case, feel free to use [this 10% dataset version of Iowa liquor sales](https://drive.google.com/file/d/0Bx2SHQGVqWaseDB4QU9ZSVFDY2M/view?usp=sharing). You may want to use it anyway to test and prototype your code since it will be faster, before running it on the full dataset.\n",
    "\n",
    "---\n",
    "\n",
    "#### Package imports"
   ]
  },
  {
   "cell_type": "code",
   "execution_count": 1,
   "metadata": {
    "collapsed": true
   },
   "outputs": [],
   "source": [
    "import numpy as np\n",
    "import scipy.stats as stats\n",
    "import pandas as pd\n",
    "import csv\n",
    "import datetime\n",
    "import seaborn as sns\n",
    "import matplotlib.pyplot as plt\n",
    "\n",
    "\n",
    "# this line tells jupyter notebook to put the plots in the notebook rather than saving them to file.\n",
    "%matplotlib inline\n",
    "\n",
    "# this line makes plots prettier on mac retina screens. If you don't have one it shouldn't do anything.\n",
    "%config InlineBackend.figure_format = 'retina'"
   ]
  },
  {
   "cell_type": "markdown",
   "metadata": {},
   "source": [
    "<img src=\"http://imgur.com/l5NasQj.png\" style=\"float: left; margin: 25px 15px 0px 0px; height: 25px\">\n",
    "\n",
    "## 1. Load the data from file\n",
    "\n",
    "---"
   ]
  },
  {
   "cell_type": "code",
   "execution_count": 2,
   "metadata": {
    "collapsed": false
   },
   "outputs": [],
   "source": [
    "iowa = pd.read_csv('/Users/VanessaG/desktop/DSI-SF-2-vnessified/datasets/iowa_liquor/Iowa_Liquor_sales_sample_10pct.csv')"
   ]
  },
  {
   "cell_type": "markdown",
   "metadata": {},
   "source": [
    "<img src=\"http://imgur.com/l5NasQj.png\" style=\"float: left; margin: 25px 15px 0px 0px; height: 25px\">\n",
    "\n",
    "## 2. Do an initial overview of the data\n",
    "\n",
    "---\n",
    "\n",
    "At the very least describe the columns/variables and the datatypes. "
   ]
  },
  {
   "cell_type": "code",
   "execution_count": 3,
   "metadata": {
    "collapsed": false
   },
   "outputs": [
    {
     "data": {
      "text/html": [
       "<div>\n",
       "<table border=\"1\" class=\"dataframe\">\n",
       "  <thead>\n",
       "    <tr style=\"text-align: right;\">\n",
       "      <th></th>\n",
       "      <th>Date</th>\n",
       "      <th>Store Number</th>\n",
       "      <th>City</th>\n",
       "      <th>Zip Code</th>\n",
       "      <th>County Number</th>\n",
       "      <th>County</th>\n",
       "      <th>Category</th>\n",
       "      <th>Category Name</th>\n",
       "      <th>Vendor Number</th>\n",
       "      <th>Item Number</th>\n",
       "      <th>Item Description</th>\n",
       "      <th>Bottle Volume (ml)</th>\n",
       "      <th>State Bottle Cost</th>\n",
       "      <th>State Bottle Retail</th>\n",
       "      <th>Bottles Sold</th>\n",
       "      <th>Sale (Dollars)</th>\n",
       "      <th>Volume Sold (Liters)</th>\n",
       "      <th>Volume Sold (Gallons)</th>\n",
       "    </tr>\n",
       "  </thead>\n",
       "  <tbody>\n",
       "    <tr>\n",
       "      <th>0</th>\n",
       "      <td>11/04/2015</td>\n",
       "      <td>3717</td>\n",
       "      <td>SUMNER</td>\n",
       "      <td>50674</td>\n",
       "      <td>9.0</td>\n",
       "      <td>Bremer</td>\n",
       "      <td>1051100.0</td>\n",
       "      <td>APRICOT BRANDIES</td>\n",
       "      <td>55</td>\n",
       "      <td>54436</td>\n",
       "      <td>Mr. Boston Apricot Brandy</td>\n",
       "      <td>750</td>\n",
       "      <td>$4.50</td>\n",
       "      <td>$6.75</td>\n",
       "      <td>12</td>\n",
       "      <td>$81.00</td>\n",
       "      <td>9.0</td>\n",
       "      <td>2.38</td>\n",
       "    </tr>\n",
       "    <tr>\n",
       "      <th>1</th>\n",
       "      <td>03/02/2016</td>\n",
       "      <td>2614</td>\n",
       "      <td>DAVENPORT</td>\n",
       "      <td>52807</td>\n",
       "      <td>82.0</td>\n",
       "      <td>Scott</td>\n",
       "      <td>1011100.0</td>\n",
       "      <td>BLENDED WHISKIES</td>\n",
       "      <td>395</td>\n",
       "      <td>27605</td>\n",
       "      <td>Tin Cup</td>\n",
       "      <td>750</td>\n",
       "      <td>$13.75</td>\n",
       "      <td>$20.63</td>\n",
       "      <td>2</td>\n",
       "      <td>$41.26</td>\n",
       "      <td>1.5</td>\n",
       "      <td>0.40</td>\n",
       "    </tr>\n",
       "    <tr>\n",
       "      <th>2</th>\n",
       "      <td>02/11/2016</td>\n",
       "      <td>2106</td>\n",
       "      <td>CEDAR FALLS</td>\n",
       "      <td>50613</td>\n",
       "      <td>7.0</td>\n",
       "      <td>Black Hawk</td>\n",
       "      <td>1011200.0</td>\n",
       "      <td>STRAIGHT BOURBON WHISKIES</td>\n",
       "      <td>65</td>\n",
       "      <td>19067</td>\n",
       "      <td>Jim Beam</td>\n",
       "      <td>1000</td>\n",
       "      <td>$12.59</td>\n",
       "      <td>$18.89</td>\n",
       "      <td>24</td>\n",
       "      <td>$453.36</td>\n",
       "      <td>24.0</td>\n",
       "      <td>6.34</td>\n",
       "    </tr>\n",
       "    <tr>\n",
       "      <th>3</th>\n",
       "      <td>02/03/2016</td>\n",
       "      <td>2501</td>\n",
       "      <td>AMES</td>\n",
       "      <td>50010</td>\n",
       "      <td>85.0</td>\n",
       "      <td>Story</td>\n",
       "      <td>1071100.0</td>\n",
       "      <td>AMERICAN COCKTAILS</td>\n",
       "      <td>395</td>\n",
       "      <td>59154</td>\n",
       "      <td>1800 Ultimate Margarita</td>\n",
       "      <td>1750</td>\n",
       "      <td>$9.50</td>\n",
       "      <td>$14.25</td>\n",
       "      <td>6</td>\n",
       "      <td>$85.50</td>\n",
       "      <td>10.5</td>\n",
       "      <td>2.77</td>\n",
       "    </tr>\n",
       "    <tr>\n",
       "      <th>4</th>\n",
       "      <td>08/18/2015</td>\n",
       "      <td>3654</td>\n",
       "      <td>BELMOND</td>\n",
       "      <td>50421</td>\n",
       "      <td>99.0</td>\n",
       "      <td>Wright</td>\n",
       "      <td>1031080.0</td>\n",
       "      <td>VODKA 80 PROOF</td>\n",
       "      <td>297</td>\n",
       "      <td>35918</td>\n",
       "      <td>Five O'clock Vodka</td>\n",
       "      <td>1750</td>\n",
       "      <td>$7.20</td>\n",
       "      <td>$10.80</td>\n",
       "      <td>12</td>\n",
       "      <td>$129.60</td>\n",
       "      <td>21.0</td>\n",
       "      <td>5.55</td>\n",
       "    </tr>\n",
       "  </tbody>\n",
       "</table>\n",
       "</div>"
      ],
      "text/plain": [
       "         Date  Store Number         City Zip Code  County Number      County  \\\n",
       "0  11/04/2015          3717       SUMNER    50674            9.0      Bremer   \n",
       "1  03/02/2016          2614    DAVENPORT    52807           82.0       Scott   \n",
       "2  02/11/2016          2106  CEDAR FALLS    50613            7.0  Black Hawk   \n",
       "3  02/03/2016          2501         AMES    50010           85.0       Story   \n",
       "4  08/18/2015          3654      BELMOND    50421           99.0      Wright   \n",
       "\n",
       "    Category              Category Name  Vendor Number  Item Number  \\\n",
       "0  1051100.0           APRICOT BRANDIES             55        54436   \n",
       "1  1011100.0           BLENDED WHISKIES            395        27605   \n",
       "2  1011200.0  STRAIGHT BOURBON WHISKIES             65        19067   \n",
       "3  1071100.0         AMERICAN COCKTAILS            395        59154   \n",
       "4  1031080.0             VODKA 80 PROOF            297        35918   \n",
       "\n",
       "            Item Description  Bottle Volume (ml) State Bottle Cost  \\\n",
       "0  Mr. Boston Apricot Brandy                 750             $4.50   \n",
       "1                    Tin Cup                 750            $13.75   \n",
       "2                   Jim Beam                1000            $12.59   \n",
       "3    1800 Ultimate Margarita                1750             $9.50   \n",
       "4         Five O'clock Vodka                1750             $7.20   \n",
       "\n",
       "  State Bottle Retail  Bottles Sold Sale (Dollars)  Volume Sold (Liters)  \\\n",
       "0               $6.75            12         $81.00                   9.0   \n",
       "1              $20.63             2         $41.26                   1.5   \n",
       "2              $18.89            24        $453.36                  24.0   \n",
       "3              $14.25             6         $85.50                  10.5   \n",
       "4              $10.80            12        $129.60                  21.0   \n",
       "\n",
       "   Volume Sold (Gallons)  \n",
       "0                   2.38  \n",
       "1                   0.40  \n",
       "2                   6.34  \n",
       "3                   2.77  \n",
       "4                   5.55  "
      ]
     },
     "execution_count": 3,
     "metadata": {},
     "output_type": "execute_result"
    }
   ],
   "source": [
    "iowa.head()"
   ]
  },
  {
   "cell_type": "code",
   "execution_count": 4,
   "metadata": {
    "collapsed": false
   },
   "outputs": [
    {
     "data": {
      "text/plain": [
       "(270955, 18)"
      ]
     },
     "execution_count": 4,
     "metadata": {},
     "output_type": "execute_result"
    }
   ],
   "source": [
    "#whoa how large is the original\n",
    "iowa.shape"
   ]
  },
  {
   "cell_type": "code",
   "execution_count": 5,
   "metadata": {
    "collapsed": false
   },
   "outputs": [
    {
     "data": {
      "text/plain": [
       "Index([u'Date', u'Store Number', u'City', u'Zip Code', u'County Number',\n",
       "       u'County', u'Category', u'Category Name', u'Vendor Number',\n",
       "       u'Item Number', u'Item Description', u'Bottle Volume (ml)',\n",
       "       u'State Bottle Cost', u'State Bottle Retail', u'Bottles Sold',\n",
       "       u'Sale (Dollars)', u'Volume Sold (Liters)', u'Volume Sold (Gallons)'],\n",
       "      dtype='object')"
      ]
     },
     "execution_count": 5,
     "metadata": {},
     "output_type": "execute_result"
    }
   ],
   "source": [
    "iowa.columns"
   ]
  },
  {
   "cell_type": "markdown",
   "metadata": {},
   "source": [
    "<img src=\"http://imgur.com/l5NasQj.png\" style=\"float: left; margin: 25px 15px 0px 0px; height: 25px\">\n",
    "\n",
    "## 3. Clean the dataset\n",
    "\n",
    "---\n",
    "\n",
    "### 3.1 Identify columns that you will need to convert and clean. Where and how is the data corrupted?\n",
    "\n",
    "Don't worry about converting the date column to a pandas/numpy \"datetime\" datatype, unless you want to (not required for these problems and is a challenging thing to work with in its own right.)"
   ]
  },
  {
   "cell_type": "code",
   "execution_count": 6,
   "metadata": {
    "collapsed": false
   },
   "outputs": [
    {
     "name": "stdout",
     "output_type": "stream",
     "text": [
      "<class 'pandas.core.frame.DataFrame'>\n",
      "RangeIndex: 270955 entries, 0 to 270954\n",
      "Data columns (total 18 columns):\n",
      "Date                     270955 non-null object\n",
      "Store Number             270955 non-null int64\n",
      "City                     270955 non-null object\n",
      "Zip Code                 270955 non-null object\n",
      "County Number            269878 non-null float64\n",
      "County                   269878 non-null object\n",
      "Category                 270887 non-null float64\n",
      "Category Name            270323 non-null object\n",
      "Vendor Number            270955 non-null int64\n",
      "Item Number              270955 non-null int64\n",
      "Item Description         270955 non-null object\n",
      "Bottle Volume (ml)       270955 non-null int64\n",
      "State Bottle Cost        270955 non-null object\n",
      "State Bottle Retail      270955 non-null object\n",
      "Bottles Sold             270955 non-null int64\n",
      "Sale (Dollars)           270955 non-null object\n",
      "Volume Sold (Liters)     270955 non-null float64\n",
      "Volume Sold (Gallons)    270955 non-null float64\n",
      "dtypes: float64(4), int64(5), object(9)\n",
      "memory usage: 37.2+ MB\n"
     ]
    }
   ],
   "source": [
    "iowa.info()"
   ]
  },
  {
   "cell_type": "markdown",
   "metadata": {
    "collapsed": true
   },
   "source": [
    "**To clean:**\n",
    "\n",
    "* Date: convert object to datetime\n",
    "* County Number: missing values\n",
    "* County: missing values\n",
    "* Category: missing values\n",
    "* Category Name: missing values\n",
    "* State Bottle Cost: remove dollar sign, convert object to float\n",
    "* State Bottle Retail: remove dollar sign, convert object to float\n",
    "* Sale (Dollars): remove dollar sign, convert object to float\n",
    "\n",
    "I know zip code is a categorical variable but is there some benefit to converting it to a continuous var"
   ]
  },
  {
   "cell_type": "markdown",
   "metadata": {},
   "source": [
    "### 3.2 Clean the columns"
   ]
  },
  {
   "cell_type": "code",
   "execution_count": 7,
   "metadata": {
    "collapsed": false
   },
   "outputs": [
    {
     "data": {
      "text/plain": [
       "0     $4.50\n",
       "1    $13.75\n",
       "2    $12.59\n",
       "3     $9.50\n",
       "4     $7.20\n",
       "Name: State Bottle Cost, dtype: object"
      ]
     },
     "execution_count": 7,
     "metadata": {},
     "output_type": "execute_result"
    }
   ],
   "source": [
    "iowa['State Bottle Cost'].head()"
   ]
  },
  {
   "cell_type": "code",
   "execution_count": 8,
   "metadata": {
    "collapsed": false
   },
   "outputs": [
    {
     "data": {
      "text/plain": [
       "0     $6.75\n",
       "1    $20.63\n",
       "2    $18.89\n",
       "3    $14.25\n",
       "4    $10.80\n",
       "Name: State Bottle Retail, dtype: object"
      ]
     },
     "execution_count": 8,
     "metadata": {},
     "output_type": "execute_result"
    }
   ],
   "source": [
    "iowa['State Bottle Retail'].head()"
   ]
  },
  {
   "cell_type": "code",
   "execution_count": 9,
   "metadata": {
    "collapsed": false
   },
   "outputs": [
    {
     "data": {
      "text/plain": [
       "0     $81.00\n",
       "1     $41.26\n",
       "2    $453.36\n",
       "3     $85.50\n",
       "4    $129.60\n",
       "Name: Sale (Dollars), dtype: object"
      ]
     },
     "execution_count": 9,
     "metadata": {},
     "output_type": "execute_result"
    }
   ],
   "source": [
    "iowa['Sale (Dollars)'].head()"
   ]
  },
  {
   "cell_type": "code",
   "execution_count": 10,
   "metadata": {
    "collapsed": false,
    "scrolled": true
   },
   "outputs": [],
   "source": [
    "iowa.ix[:,['State Bottle Cost','State Bottle Retail','Sale (Dollars)']] = iowa.ix[:,['State Bottle Cost','State Bottle Retail','Sale (Dollars)']].replace('[\\$,]', '', regex=True).astype(float)"
   ]
  },
  {
   "cell_type": "code",
   "execution_count": 11,
   "metadata": {
    "collapsed": false,
    "scrolled": true
   },
   "outputs": [
    {
     "data": {
      "text/plain": [
       "dtype('float64')"
      ]
     },
     "execution_count": 11,
     "metadata": {},
     "output_type": "execute_result"
    }
   ],
   "source": [
    "# iowa['State Bottle Cost'].dtype\n",
    "# iowa['State Bottle Retail'].dtype\n",
    "iowa['Sale (Dollars)'].dtype"
   ]
  },
  {
   "cell_type": "code",
   "execution_count": 12,
   "metadata": {
    "collapsed": false
   },
   "outputs": [
    {
     "data": {
      "text/plain": [
       "Date                        0\n",
       "Store Number                0\n",
       "City                        0\n",
       "Zip Code                    0\n",
       "County Number            1077\n",
       "County                   1077\n",
       "Category                   68\n",
       "Category Name             632\n",
       "Vendor Number               0\n",
       "Item Number                 0\n",
       "Item Description            0\n",
       "Bottle Volume (ml)          0\n",
       "State Bottle Cost           0\n",
       "State Bottle Retail         0\n",
       "Bottles Sold                0\n",
       "Sale (Dollars)              0\n",
       "Volume Sold (Liters)        0\n",
       "Volume Sold (Gallons)       0\n",
       "dtype: int64"
      ]
     },
     "execution_count": 12,
     "metadata": {},
     "output_type": "execute_result"
    }
   ],
   "source": [
    "iowa.isnull().sum()"
   ]
  },
  {
   "cell_type": "code",
   "execution_count": 13,
   "metadata": {
    "collapsed": true
   },
   "outputs": [],
   "source": [
    "#dropping since the number of missing is relatively low\n",
    "iowa = iowa.dropna()"
   ]
  },
  {
   "cell_type": "code",
   "execution_count": 14,
   "metadata": {
    "collapsed": false
   },
   "outputs": [
    {
     "name": "stdout",
     "output_type": "stream",
     "text": [
      "<class 'pandas.core.frame.DataFrame'>\n",
      "Int64Index: 269258 entries, 0 to 270954\n",
      "Data columns (total 18 columns):\n",
      "Date                     269258 non-null object\n",
      "Store Number             269258 non-null int64\n",
      "City                     269258 non-null object\n",
      "Zip Code                 269258 non-null object\n",
      "County Number            269258 non-null float64\n",
      "County                   269258 non-null object\n",
      "Category                 269258 non-null float64\n",
      "Category Name            269258 non-null object\n",
      "Vendor Number            269258 non-null int64\n",
      "Item Number              269258 non-null int64\n",
      "Item Description         269258 non-null object\n",
      "Bottle Volume (ml)       269258 non-null int64\n",
      "State Bottle Cost        269258 non-null float64\n",
      "State Bottle Retail      269258 non-null float64\n",
      "Bottles Sold             269258 non-null int64\n",
      "Sale (Dollars)           269258 non-null float64\n",
      "Volume Sold (Liters)     269258 non-null float64\n",
      "Volume Sold (Gallons)    269258 non-null float64\n",
      "dtypes: float64(7), int64(5), object(6)\n",
      "memory usage: 39.0+ MB\n"
     ]
    }
   ],
   "source": [
    "iowa.info()"
   ]
  },
  {
   "cell_type": "markdown",
   "metadata": {},
   "source": [
    "<img src=\"http://imgur.com/xDpSobf.png\" style=\"float: left; margin: 25px 15px 0px 0px; height: 25px\">\n",
    "\n",
    "### 3.3 Perform more extensive cleaning of the dataset\n",
    "\n",
    "Cleaning of data can mean a lot more than just fixing strings and numbers in columns. There are often logical errors with data, useless or nonsensical categories, redundancy of information, outliers, and many more problems.\n",
    "\n",
    "This dataset has problems beyond just fixing the types of columns. Though resolving them may not be required for EDA and analysis, if you want experience with \"deeper\" cleaning of data this is a great dataset to start practicing with.\n",
    "\n",
    "Keep in mind that some types of \"data cleaning\" is subjective: it's not always a cut-and-dry conversion of type or removal of null values. Subjectivity when dealing with data is just a fact of life for a data scientist. This isn't a kind of programming where things are just right or wrong."
   ]
  },
  {
   "cell_type": "code",
   "execution_count": 15,
   "metadata": {
    "collapsed": false
   },
   "outputs": [],
   "source": [
    "#rename columns\n",
    "iowa.rename(columns=lambda x: x.replace(' ', '_'), inplace=True)\n",
    "iowa.rename(columns=lambda x: x.replace('(', ''), inplace=True)\n",
    "iowa.rename(columns=lambda x: x.replace(')', ''), inplace=True)\n",
    "iowa.rename(columns=lambda x: x.lower(), inplace=True)"
   ]
  },
  {
   "cell_type": "code",
   "execution_count": 16,
   "metadata": {
    "collapsed": false
   },
   "outputs": [
    {
     "data": {
      "text/plain": [
       "Index([u'date', u'store_number', u'city', u'zip_code', u'county_number',\n",
       "       u'county', u'category', u'category_name', u'vendor_number',\n",
       "       u'item_number', u'item_description', u'bottle_volume_ml',\n",
       "       u'state_bottle_cost', u'state_bottle_retail', u'bottles_sold',\n",
       "       u'sale_dollars', u'volume_sold_liters', u'volume_sold_gallons'],\n",
       "      dtype='object')"
      ]
     },
     "execution_count": 16,
     "metadata": {},
     "output_type": "execute_result"
    }
   ],
   "source": [
    "iowa.columns"
   ]
  },
  {
   "cell_type": "code",
   "execution_count": 17,
   "metadata": {
    "collapsed": false
   },
   "outputs": [],
   "source": [
    "# this was very slow operation... until I added format\n",
    "iowa['date'] = pd.to_datetime(iowa['date'], format='%m/%d/%Y')"
   ]
  },
  {
   "cell_type": "code",
   "execution_count": 18,
   "metadata": {
    "collapsed": false
   },
   "outputs": [
    {
     "data": {
      "text/plain": [
       "count                  269258\n",
       "unique                    274\n",
       "top       2015-12-01 00:00:00\n",
       "freq                     1554\n",
       "first     2015-01-05 00:00:00\n",
       "last      2016-03-31 00:00:00\n",
       "Name: date, dtype: object"
      ]
     },
     "execution_count": 18,
     "metadata": {},
     "output_type": "execute_result"
    }
   ],
   "source": [
    "iowa.date.describe()"
   ]
  },
  {
   "cell_type": "code",
   "execution_count": 19,
   "metadata": {
    "collapsed": false
   },
   "outputs": [
    {
     "data": {
      "text/plain": [
       "2633    2465\n",
       "4829    2285\n",
       "2512    1755\n",
       "2572    1643\n",
       "2190    1615\n",
       "2515    1560\n",
       "2501    1548\n",
       "2500    1519\n",
       "2670    1501\n",
       "2587    1479\n",
       "2648    1441\n",
       "2620    1433\n",
       "2603    1404\n",
       "2590    1353\n",
       "2629    1331\n",
       "2666    1312\n",
       "2614    1304\n",
       "2565    1303\n",
       "2647    1294\n",
       "2616    1286\n",
       "2619    1258\n",
       "2561    1248\n",
       "4129    1247\n",
       "2623    1234\n",
       "2552    1196\n",
       "2625    1180\n",
       "2506    1173\n",
       "3773    1172\n",
       "4167    1136\n",
       "3952    1135\n",
       "        ... \n",
       "9013       6\n",
       "5191       6\n",
       "4497       6\n",
       "4610       6\n",
       "2961       6\n",
       "5202       6\n",
       "4338       6\n",
       "4059       5\n",
       "5139       5\n",
       "4121       5\n",
       "5033       5\n",
       "5189       5\n",
       "4990       5\n",
       "4737       4\n",
       "4954       4\n",
       "4335       4\n",
       "4855       4\n",
       "4834       3\n",
       "4939       3\n",
       "5195       3\n",
       "5193       3\n",
       "5201       3\n",
       "5192       2\n",
       "4778       2\n",
       "4567       2\n",
       "4776       2\n",
       "5130       2\n",
       "5053       1\n",
       "9018       1\n",
       "9023       1\n",
       "Name: store_number, dtype: int64"
      ]
     },
     "execution_count": 19,
     "metadata": {},
     "output_type": "execute_result"
    }
   ],
   "source": [
    "#outliers here maybe?\n",
    "iowa.store_number.value_counts()"
   ]
  },
  {
   "cell_type": "code",
   "execution_count": 20,
   "metadata": {
    "collapsed": false
   },
   "outputs": [
    {
     "data": {
      "text/plain": [
       "DES MOINES         23618\n",
       "CEDAR RAPIDS       18736\n",
       "DAVENPORT          11469\n",
       "WATERLOO            8376\n",
       "COUNCIL BLUFFS      8037\n",
       "IOWA CITY           7938\n",
       "SIOUX CITY          7888\n",
       "AMES                7534\n",
       "WEST DES MOINES     7148\n",
       "DUBUQUE             6854\n",
       "CEDAR FALLS         5719\n",
       "ANKENY              4823\n",
       "MASON CITY          4119\n",
       "BETTENDORF          3699\n",
       "CORALVILLE          3446\n",
       "MUSCATINE           3389\n",
       "BURLINGTON          3137\n",
       "CLINTON             3077\n",
       "FORT DODGE          2972\n",
       "WINDSOR HEIGHTS     2797\n",
       "MARSHALLTOWN        2682\n",
       "NEWTON              2538\n",
       "STORM LAKE          2522\n",
       "MARION              2485\n",
       "URBANDALE           2424\n",
       "OTTUMWA             2290\n",
       "JOHNSTON            2137\n",
       "ALTOONA             2103\n",
       "CLEAR LAKE          2080\n",
       "SPENCER             1910\n",
       "                   ...  \n",
       "ARMSTRONG             17\n",
       "DONNELLSON            17\n",
       "BUSSEY                16\n",
       "GILMORE CITY          16\n",
       "DANVILLE              15\n",
       "GOLDFIELD             15\n",
       "WASHBURN              15\n",
       "SCHALLER              15\n",
       "VAN METER             15\n",
       "WALL LAKE             14\n",
       "ALTA                  14\n",
       "DOWS                  13\n",
       "AFTON                 12\n",
       "SULLY                 12\n",
       "AURELIA               11\n",
       "LOVILIA               11\n",
       "DELHI                 11\n",
       "MERRILL               10\n",
       "MINDEN                 9\n",
       "STANWOOD               9\n",
       "LATIMER                8\n",
       "EVERLY                 7\n",
       "MELBOURNE              6\n",
       "FONDA                  6\n",
       "Cumming                6\n",
       "GILBERTVILLE           6\n",
       "GRISWOLD               5\n",
       "LOHRVILLE              3\n",
       "ROBINS                 2\n",
       "Carroll                1\n",
       "Name: city, dtype: int64"
      ]
     },
     "execution_count": 20,
     "metadata": {},
     "output_type": "execute_result"
    }
   ],
   "source": [
    "iowa.city.value_counts()"
   ]
  },
  {
   "cell_type": "code",
   "execution_count": 27,
   "metadata": {
    "collapsed": false
   },
   "outputs": [
    {
     "data": {
      "text/plain": [
       "50010    7077\n",
       "52402    6938\n",
       "52240    6128\n",
       "50613    5267\n",
       "52001    4755\n",
       "51501    4652\n",
       "50314    4519\n",
       "50317    4425\n",
       "50265    4356\n",
       "52404    4242\n",
       "50401    4119\n",
       "52722    3699\n",
       "52807    3530\n",
       "52405    3502\n",
       "52241    3446\n",
       "52761    3389\n",
       "50311    3384\n",
       "51503    3382\n",
       "50320    3237\n",
       "52501    3206\n",
       "50702    3175\n",
       "50315    3091\n",
       "52804    2973\n",
       "50501    2972\n",
       "52601    2952\n",
       "50703    2885\n",
       "50322    2880\n",
       "50266    2843\n",
       "52732    2822\n",
       "50158    2682\n",
       "         ... \n",
       "52625      17\n",
       "50514      17\n",
       "50044      16\n",
       "50541      16\n",
       "50542      15\n",
       "50261      15\n",
       "52623      15\n",
       "51053      15\n",
       "51002      14\n",
       "51466      14\n",
       "50071      13\n",
       "50251      12\n",
       "50830      12\n",
       "52223      11\n",
       "50150      11\n",
       "51005      11\n",
       "51038      10\n",
       "51553       9\n",
       "52337       9\n",
       "50452       8\n",
       "51338       7\n",
       "50061       6\n",
       "50540       6\n",
       "50162       6\n",
       "50634       6\n",
       "51535       5\n",
       "51530       3\n",
       "51453       3\n",
       "52801       2\n",
       "52328       2\n",
       "Name: zip_code, dtype: int64"
      ]
     },
     "execution_count": 27,
     "metadata": {},
     "output_type": "execute_result"
    }
   ],
   "source": [
    "iowa.zip_code.value_counts()"
   ]
  },
  {
   "cell_type": "code",
   "execution_count": 26,
   "metadata": {
    "collapsed": false,
    "scrolled": true
   },
   "outputs": [
    {
     "data": {
      "text/plain": [
       "77.0    48944\n",
       "57.0    23462\n",
       "82.0    16630\n",
       "7.0     15030\n",
       "52.0    13163\n",
       "78.0     9088\n",
       "85.0     8944\n",
       "97.0     8541\n",
       "31.0     7739\n",
       "17.0     6360\n",
       "29.0     4082\n",
       "70.0     3975\n",
       "23.0     3569\n",
       "90.0     3522\n",
       "30.0     3409\n",
       "56.0     3319\n",
       "94.0     3144\n",
       "64.0     2984\n",
       "50.0     2828\n",
       "11.0     2737\n",
       "25.0     2707\n",
       "63.0     2601\n",
       "91.0     2460\n",
       "9.0      2240\n",
       "8.0      2105\n",
       "79.0     2087\n",
       "21.0     1917\n",
       "14.0     1911\n",
       "53.0     1871\n",
       "71.0     1720\n",
       "        ...  \n",
       "37.0      675\n",
       "99.0      671\n",
       "83.0      661\n",
       "47.0      634\n",
       "45.0      606\n",
       "46.0      588\n",
       "1.0       584\n",
       "38.0      566\n",
       "76.0      525\n",
       "65.0      507\n",
       "58.0      484\n",
       "59.0      475\n",
       "19.0      464\n",
       "39.0      437\n",
       "13.0      424\n",
       "12.0      402\n",
       "98.0      387\n",
       "41.0      363\n",
       "68.0      352\n",
       "72.0      351\n",
       "54.0      343\n",
       "87.0      298\n",
       "89.0      245\n",
       "2.0       234\n",
       "5.0       227\n",
       "27.0      223\n",
       "26.0      203\n",
       "80.0      201\n",
       "93.0      160\n",
       "36.0       27\n",
       "Name: county_number, dtype: int64"
      ]
     },
     "execution_count": 26,
     "metadata": {},
     "output_type": "execute_result"
    }
   ],
   "source": [
    "iowa.county_number.value_counts()"
   ]
  },
  {
   "cell_type": "code",
   "execution_count": 28,
   "metadata": {
    "collapsed": false
   },
   "outputs": [
    {
     "data": {
      "text/plain": [
       "Polk             48944\n",
       "Linn             23462\n",
       "Scott            16630\n",
       "Black Hawk       15030\n",
       "Johnson          13163\n",
       "Pottawattamie     9088\n",
       "Story             8944\n",
       "Woodbury          8541\n",
       "Dubuque           7739\n",
       "Cerro Gordo       6360\n",
       "Des Moines        4082\n",
       "Muscatine         3975\n",
       "Clinton           3569\n",
       "Wapello           3522\n",
       "Dickinson         3409\n",
       "Lee               3319\n",
       "Webster           3144\n",
       "Marshall          2984\n",
       "Jasper            2828\n",
       "Buena Vista       2737\n",
       "Dallas            2707\n",
       "Marion            2601\n",
       "Warren            2460\n",
       "Bremer            2240\n",
       "Boone             2105\n",
       "Poweshiek         2087\n",
       "Clay              1917\n",
       "Carroll           1911\n",
       "Jones             1871\n",
       "O'Brien           1720\n",
       "                 ...  \n",
       "Greene             675\n",
       "Wright             671\n",
       "Shelby             661\n",
       "Ida                634\n",
       "Howard             606\n",
       "Humboldt           588\n",
       "Adair              584\n",
       "Grundy             566\n",
       "Pocahontas         525\n",
       "Mills              507\n",
       "Louisa             484\n",
       "Lucas              475\n",
       "Chickasaw          464\n",
       "Guthrie            437\n",
       "Calhoun            424\n",
       "Butler             402\n",
       "Worth              387\n",
       "Hancock            363\n",
       "Monroe             352\n",
       "Osceola            351\n",
       "Keokuk             343\n",
       "Taylor             298\n",
       "Van Buren          245\n",
       "Adams              234\n",
       "Audubon            227\n",
       "Decatur            223\n",
       "Davis              203\n",
       "Ringgold           201\n",
       "Wayne              160\n",
       "Fremont             27\n",
       "Name: county, dtype: int64"
      ]
     },
     "execution_count": 28,
     "metadata": {},
     "output_type": "execute_result"
    }
   ],
   "source": [
    "iowa.county.value_counts()"
   ]
  },
  {
   "cell_type": "code",
   "execution_count": 30,
   "metadata": {
    "collapsed": false,
    "scrolled": true
   },
   "outputs": [
    {
     "data": {
      "text/plain": [
       "1031080.0    35256\n",
       "1012100.0    26967\n",
       "1011200.0    15290\n",
       "1062310.0    14575\n",
       "1031200.0    13931\n",
       "1022100.0    12044\n",
       "1011100.0    11507\n",
       "1081600.0    10865\n",
       "1032080.0    10640\n",
       "1062200.0    10020\n",
       "1062300.0     7245\n",
       "1011300.0     7058\n",
       "1071100.0     6883\n",
       "1051010.0     6560\n",
       "1041100.0     6542\n",
       "1032200.0     6471\n",
       "1082900.0     6281\n",
       "1081200.0     6256\n",
       "1012200.0     5358\n",
       "1052010.0     4592\n",
       "1081390.0     4229\n",
       "1081900.0     3387\n",
       "1031100.0     3300\n",
       "1081300.0     3197\n",
       "1042100.0     2923\n",
       "1012300.0     2781\n",
       "1012210.0     2285\n",
       "1081030.0     1908\n",
       "1081330.0     1643\n",
       "1051110.0     1578\n",
       "             ...  \n",
       "1081370.0      479\n",
       "1062050.0      393\n",
       "1062100.0      385\n",
       "1081317.0      333\n",
       "1051120.0      330\n",
       "1081340.0      324\n",
       "1011250.0      318\n",
       "1081335.0      304\n",
       "1081355.0      301\n",
       "1081015.0      273\n",
       "1081240.0      256\n",
       "1041150.0      249\n",
       "1081365.0      234\n",
       "1081230.0      200\n",
       "1011400.0      190\n",
       "1041200.0      168\n",
       "1081220.0      157\n",
       "1051150.0      142\n",
       "1081350.0       96\n",
       "1081500.0       86\n",
       "1031090.0       77\n",
       "1081250.0       61\n",
       "1081210.0       52\n",
       "1081020.0       35\n",
       "1012400.0       23\n",
       "1031110.0       15\n",
       "1011600.0       12\n",
       "1082010.0        3\n",
       "1082015.0        2\n",
       "1501100.0        2\n",
       "Name: category, dtype: int64"
      ]
     },
     "execution_count": 30,
     "metadata": {},
     "output_type": "execute_result"
    }
   ],
   "source": [
    "#hmm is this column even really useful? category_name is much more informative...\n",
    "iowa.category.value_counts()"
   ]
  },
  {
   "cell_type": "code",
   "execution_count": 29,
   "metadata": {
    "collapsed": false
   },
   "outputs": [
    {
     "data": {
      "text/plain": [
       "VODKA 80 PROOF                        35256\n",
       "CANADIAN WHISKIES                     26967\n",
       "STRAIGHT BOURBON WHISKIES             15290\n",
       "SPICED RUM                            14575\n",
       "VODKA FLAVORED                        13931\n",
       "TEQUILA                               12044\n",
       "BLENDED WHISKIES                      11507\n",
       "WHISKEY LIQUEUR                       10865\n",
       "IMPORTED VODKA                        10640\n",
       "PUERTO RICO & VIRGIN ISLANDS RUM      10020\n",
       "FLAVORED RUM                           7245\n",
       "TENNESSEE WHISKIES                     7058\n",
       "AMERICAN COCKTAILS                     6883\n",
       "AMERICAN GRAPE BRANDIES                6560\n",
       "AMERICAN DRY GINS                      6542\n",
       "IMPORTED VODKA - MISC                  6471\n",
       "MISC. IMPORTED CORDIALS & LIQUEURS     6281\n",
       "CREAM LIQUEURS                         6256\n",
       "SCOTCH WHISKIES                        5358\n",
       "IMPORTED GRAPE BRANDIES                4592\n",
       "IMPORTED SCHNAPPS                      4229\n",
       "MISC. AMERICAN CORDIALS & LIQUEURS     3387\n",
       "100 PROOF VODKA                        3300\n",
       "PEPPERMINT SCHNAPPS                    3197\n",
       "IMPORTED DRY GINS                      2923\n",
       "IRISH WHISKIES                         2781\n",
       "SINGLE MALT SCOTCH                     2285\n",
       "COFFEE LIQUEURS                        1908\n",
       "PEACH SCHNAPPS                         1643\n",
       "BLACKBERRY BRANDIES                    1578\n",
       "                                      ...  \n",
       "AMERICAN ALCOHOL                        572\n",
       "WATERMELON SCHNAPPS                     479\n",
       "BARBADOS RUM                            393\n",
       "JAMAICA RUM                             385\n",
       "GRAPE SCHNAPPS                          333\n",
       "CHERRY BRANDIES                         330\n",
       "ROOT BEER SCHNAPPS                      324\n",
       "SINGLE BARREL BOURBON WHISKIES          318\n",
       "RASPBERRY SCHNAPPS                      304\n",
       "STRAWBERRY SCHNAPPS                     301\n",
       "IMPORTED AMARETTO                       275\n",
       "GREEN CREME DE MENTHE                   256\n",
       "FLAVORED GINS                           249\n",
       "TROPICAL FRUIT SCHNAPPS                 234\n",
       "WHITE CREME DE CACAO                    200\n",
       "BOTTLED IN BOND BOURBON                 190\n",
       "AMERICAN SLOE GINS                      168\n",
       "DARK CREME DE CACAO                     157\n",
       "MISCELLANEOUS  BRANDIES                 142\n",
       "SPEARMINT SCHNAPPS                       96\n",
       "ROCK & RYE                               86\n",
       "OTHER PROOF VODKA                        77\n",
       "WHITE CREME DE MENTHE                    61\n",
       "CREME DE ALMOND                          52\n",
       "ANISETTE                                 35\n",
       "JAPANESE WHISKY                          23\n",
       "LOW PROOF VODKA                          15\n",
       "CORN WHISKIES                            12\n",
       "AMARETTO - IMPORTED                       3\n",
       "HIGH PROOF BEER - AMERICAN                2\n",
       "Name: category_name, dtype: int64"
      ]
     },
     "execution_count": 29,
     "metadata": {},
     "output_type": "execute_result"
    }
   ],
   "source": [
    "#this could definitely be simplified into fewer categories\n",
    "iowa.category_name.value_counts()"
   ]
  },
  {
   "cell_type": "code",
   "execution_count": 31,
   "metadata": {
    "collapsed": false
   },
   "outputs": [
    {
     "data": {
      "text/plain": [
       "260    46605\n",
       "434    26999\n",
       "65     25458\n",
       "370    16861\n",
       "115    15792\n",
       "421    13649\n",
       "55     12745\n",
       "35     12436\n",
       "85     12294\n",
       "259    10412\n",
       "380    10375\n",
       "395     9225\n",
       "205     8547\n",
       "297     8517\n",
       "300     5888\n",
       "305     3490\n",
       "420     3442\n",
       "461     3325\n",
       "192     2742\n",
       "322     2609\n",
       "240     2344\n",
       "410     1954\n",
       "389     1931\n",
       "301     1848\n",
       "255     1669\n",
       "330     1225\n",
       "125      817\n",
       "277      614\n",
       "384      524\n",
       "492      523\n",
       "       ...  \n",
       "413        8\n",
       "495        8\n",
       "399        7\n",
       "226        6\n",
       "250        6\n",
       "210        6\n",
       "503        5\n",
       "269        5\n",
       "101        5\n",
       "206        4\n",
       "293        3\n",
       "198        3\n",
       "376        3\n",
       "268        2\n",
       "452        2\n",
       "377        2\n",
       "166        2\n",
       "224        2\n",
       "446        2\n",
       "80         2\n",
       "215        2\n",
       "448        1\n",
       "161        1\n",
       "90         1\n",
       "187        1\n",
       "477        1\n",
       "310        1\n",
       "432        1\n",
       "459        1\n",
       "363        1\n",
       "Name: vendor_number, dtype: int64"
      ]
     },
     "execution_count": 31,
     "metadata": {},
     "output_type": "execute_result"
    }
   ],
   "source": [
    "iowa.vendor_number.value_counts()"
   ]
  },
  {
   "cell_type": "code",
   "execution_count": 32,
   "metadata": {
    "collapsed": false
   },
   "outputs": [
    {
     "data": {
      "text/plain": [
       "36308     2789\n",
       "11788     2736\n",
       "35918     1928\n",
       "43336     1661\n",
       "11776     1647\n",
       "64866     1561\n",
       "64858     1539\n",
       "36306     1441\n",
       "36904     1364\n",
       "43028     1282\n",
       "37996     1260\n",
       "25608     1257\n",
       "43337     1250\n",
       "11296     1249\n",
       "11774     1197\n",
       "36908     1142\n",
       "26826     1140\n",
       "34006     1138\n",
       "45278     1134\n",
       "37348     1087\n",
       "43338     1083\n",
       "10550     1077\n",
       "11777     1050\n",
       "43334     1005\n",
       "35318      988\n",
       "12408      978\n",
       "42716      970\n",
       "38176      933\n",
       "36969      927\n",
       "11297      914\n",
       "          ... \n",
       "994763       1\n",
       "63536        1\n",
       "903717       1\n",
       "1071         1\n",
       "900248       1\n",
       "941941       1\n",
       "932343       1\n",
       "904841       1\n",
       "985552       1\n",
       "561          1\n",
       "904227       1\n",
       "36896        1\n",
       "4656         1\n",
       "900485       1\n",
       "41506        1\n",
       "964068       1\n",
       "985298       1\n",
       "902027       1\n",
       "36232        1\n",
       "904480       1\n",
       "900228       1\n",
       "902795       1\n",
       "489          1\n",
       "903713       1\n",
       "903308       1\n",
       "900482       1\n",
       "935677       1\n",
       "34183        1\n",
       "943451       1\n",
       "64138        1\n",
       "Name: item_number, dtype: int64"
      ]
     },
     "execution_count": 32,
     "metadata": {},
     "output_type": "execute_result"
    }
   ],
   "source": [
    "iowa.item_number.value_counts()"
   ]
  },
  {
   "cell_type": "code",
   "execution_count": 33,
   "metadata": {
    "collapsed": false
   },
   "outputs": [
    {
     "data": {
      "text/plain": [
       "Black Velvet                              7208\n",
       "Hawkeye Vodka                             6673\n",
       "Five O'clock Vodka                        4493\n",
       "Smirnoff Vodka 80 Prf                     3426\n",
       "Captain Morgan Spiced Rum                 3338\n",
       "Seagrams 7 Crown Bl Whiskey               3270\n",
       "Fireball Cinnamon Whiskey                 3187\n",
       "Jack Daniels Old #7 Black Lbl             3096\n",
       "Absolut Swedish Vodka 80 Prf              2910\n",
       "Admiral Nelson Spiced Rum                 2802\n",
       "Bacardi Superior Rum                      2802\n",
       "Jim Beam                                  2717\n",
       "Mccormick Vodka Pet                       2506\n",
       "Jagermeister Liqueur                      2408\n",
       "Five Star                                 2287\n",
       "Crown Royal Canadian Whisky               2285\n",
       "Grey Goose Vodka                          2264\n",
       "Paramount White Rum                       2255\n",
       "Jose Cuervo Especial Reposado Tequila     2200\n",
       "Southern Comfort                          2088\n",
       "Uv Blue (raspberry) Vodka                 2064\n",
       "Malibu Coconut Rum                        2011\n",
       "Canadian Ltd Whisky                       1914\n",
       "Barton Vodka                              1808\n",
       "Phillips Vodka                            1745\n",
       "Paul Masson Grande Amber Brandy           1716\n",
       "Captain Morgan Original Spiced            1661\n",
       "New Amsterdam Vodka                       1631\n",
       "Seagrams Extra Dry Gin                    1611\n",
       "Crown Royal Regal Apple                   1577\n",
       "                                          ... \n",
       "Svedka 100 Prf                               1\n",
       "Lunazul Blanco Tequila                       1\n",
       "Bird Dog Hot Cinnamon Flavored Whiskey       1\n",
       "Bakon Rosemary Vodka                         1\n",
       "Hiram Walker Blackberry Brandy               1\n",
       "Penthouse Spirits Cherry for Him             1\n",
       "Amarula Fruit Cream Liqueur                  1\n",
       "Phillips Raspberry Long Island Ice Tea       1\n",
       "Belvedere Pure 007 w/ Martini Shaker         1\n",
       "Alto Del Carmen Pisco Reservado              1\n",
       "Irish Mist Honey Liqueur                     1\n",
       "Appleton White                               1\n",
       "Kru Pistachio Mini                           1\n",
       "Sauza Tres Generaciones Reposado             1\n",
       "Wild Turkey 81 Rye                           1\n",
       "Patron Citronge Lime                         1\n",
       "Don Q Mojito                                 1\n",
       "Burnett's Lime Flavored Vodka                1\n",
       "Jumbie Liqueur                               1\n",
       "Mac Spey Blended                             1\n",
       "Tooters Rainbow 12 Pack                      1\n",
       "Appleton Special Jamaica Rum                 1\n",
       "Spiked Apple Spirits                         1\n",
       "Auchentoshan                                 1\n",
       "Beefeater w/ 4 Coasters                      1\n",
       "Aberfeldy 12 Year Single Malt Scotch         1\n",
       "Lunazul Tequila Reposado                     1\n",
       "Stranahan's Colorado Whiskey                 1\n",
       "Orphan Barrel Gifted Horse HA                1\n",
       "Caipirinha Lime                              1\n",
       "Name: item_description, dtype: int64"
      ]
     },
     "execution_count": 33,
     "metadata": {},
     "output_type": "execute_result"
    }
   ],
   "source": [
    "iowa.item_description.value_counts()"
   ]
  },
  {
   "cell_type": "code",
   "execution_count": 34,
   "metadata": {
    "collapsed": false
   },
   "outputs": [
    {
     "data": {
      "text/plain": [
       "750     121989\n",
       "1750     54097\n",
       "1000     36637\n",
       "375      26863\n",
       "500      11942\n",
       "200       9852\n",
       "600       3274\n",
       "3000      1600\n",
       "300       1334\n",
       "100        855\n",
       "800        317\n",
       "1200       250\n",
       "2400       103\n",
       "400         29\n",
       "850         24\n",
       "4800        17\n",
       "50          14\n",
       "3600        13\n",
       "603         10\n",
       "6000         7\n",
       "950          6\n",
       "2550         6\n",
       "2250         6\n",
       "1125         5\n",
       "150          3\n",
       "900          2\n",
       "4500         1\n",
       "1500         1\n",
       "250          1\n",
       "Name: bottle_volume_ml, dtype: int64"
      ]
     },
     "execution_count": 34,
     "metadata": {},
     "output_type": "execute_result"
    }
   ],
   "source": [
    "iowa.bottle_volume_ml.value_counts()"
   ]
  },
  {
   "cell_type": "code",
   "execution_count": 35,
   "metadata": {
    "collapsed": false
   },
   "outputs": [
    {
     "data": {
      "text/plain": [
       "8.25      6110\n",
       "6.50      4742\n",
       "9.00      4370\n",
       "10.00     4213\n",
       "10.49     3997\n",
       "15.00     3805\n",
       "7.17      2991\n",
       "7.47      2944\n",
       "5.00      2796\n",
       "6.30      2777\n",
       "7.00      2750\n",
       "5.23      2618\n",
       "11.49     2500\n",
       "6.90      2473\n",
       "7.49      2342\n",
       "3.34      2334\n",
       "7.62      2282\n",
       "6.92      2227\n",
       "8.20      2162\n",
       "8.98      2155\n",
       "3.37      2122\n",
       "12.50     2098\n",
       "11.00     2063\n",
       "18.49     2051\n",
       "4.75      2024\n",
       "7.20      1928\n",
       "3.50      1911\n",
       "5.50      1868\n",
       "18.00     1846\n",
       "10.50     1738\n",
       "          ... \n",
       "4.60         1\n",
       "35.38        1\n",
       "35.60        1\n",
       "45.48        1\n",
       "31.31        1\n",
       "1.32         1\n",
       "14.60        1\n",
       "28.07        1\n",
       "29.50        1\n",
       "24.53        1\n",
       "6.87         1\n",
       "28.50        1\n",
       "15.92        1\n",
       "9.43         1\n",
       "15.72        1\n",
       "5.07         1\n",
       "7.73         1\n",
       "20.67        1\n",
       "11.35        1\n",
       "16.54        1\n",
       "6.37         1\n",
       "9.63         1\n",
       "17.06        1\n",
       "299.99       1\n",
       "16.47        1\n",
       "5.17         1\n",
       "5.83         1\n",
       "10.73        1\n",
       "52.47        1\n",
       "30.42        1\n",
       "Name: state_bottle_cost, dtype: int64"
      ]
     },
     "execution_count": 35,
     "metadata": {},
     "output_type": "execute_result"
    }
   ],
   "source": [
    "#lots of ones...\n",
    "iowa.state_bottle_cost.value_counts()"
   ]
  },
  {
   "cell_type": "code",
   "execution_count": 36,
   "metadata": {
    "collapsed": false
   },
   "outputs": [
    {
     "data": {
      "text/plain": [
       "12.38     6110\n",
       "9.75      4783\n",
       "13.50     4415\n",
       "15.00     4222\n",
       "22.50     3814\n",
       "15.74     3809\n",
       "10.76     2991\n",
       "11.21     2944\n",
       "7.50      2796\n",
       "9.45      2777\n",
       "10.50     2761\n",
       "7.85      2618\n",
       "17.24     2498\n",
       "10.35     2473\n",
       "11.24     2342\n",
       "5.01      2334\n",
       "11.43     2282\n",
       "10.38     2227\n",
       "12.30     2162\n",
       "13.47     2142\n",
       "5.06      2122\n",
       "18.75     2116\n",
       "16.50     2063\n",
       "27.74     2051\n",
       "7.13      2024\n",
       "10.80     1928\n",
       "5.25      1911\n",
       "8.25      1869\n",
       "27.00     1855\n",
       "15.75     1740\n",
       "          ... \n",
       "21.90        1\n",
       "180.33       1\n",
       "54.39        1\n",
       "51.54        1\n",
       "4.41         1\n",
       "86.31        1\n",
       "45.77        1\n",
       "78.70        1\n",
       "20.84        1\n",
       "17.22        1\n",
       "29.98        1\n",
       "67.50        1\n",
       "30.89        1\n",
       "14.30        1\n",
       "89.96        1\n",
       "7.76         1\n",
       "24.71        1\n",
       "24.81        1\n",
       "5.87         1\n",
       "8.47         1\n",
       "57.89        1\n",
       "31.88        1\n",
       "20.01        1\n",
       "1.98         1\n",
       "68.22        1\n",
       "56.18        1\n",
       "9.18         1\n",
       "4.64         1\n",
       "24.99        1\n",
       "93.03        1\n",
       "Name: state_bottle_retail, dtype: int64"
      ]
     },
     "execution_count": 36,
     "metadata": {},
     "output_type": "execute_result"
    }
   ],
   "source": [
    "iowa.state_bottle_retail.value_counts()"
   ]
  },
  {
   "cell_type": "code",
   "execution_count": 37,
   "metadata": {
    "collapsed": false
   },
   "outputs": [
    {
     "data": {
      "text/plain": [
       "12      72607\n",
       "6       51887\n",
       "2       37321\n",
       "1       31058\n",
       "3       27758\n",
       "4       15051\n",
       "24      14798\n",
       "48       3765\n",
       "5        3189\n",
       "36       2115\n",
       "18       1734\n",
       "10       1383\n",
       "8        1227\n",
       "60       1098\n",
       "30        591\n",
       "72        488\n",
       "7         397\n",
       "120       379\n",
       "96        302\n",
       "84        200\n",
       "9         168\n",
       "144       151\n",
       "15        117\n",
       "180       108\n",
       "42        107\n",
       "240       107\n",
       "300       100\n",
       "90         89\n",
       "150        86\n",
       "44         66\n",
       "        ...  \n",
       "1116        1\n",
       "157         1\n",
       "372         1\n",
       "2400        1\n",
       "88          1\n",
       "354         1\n",
       "594         1\n",
       "81          1\n",
       "615         1\n",
       "504         1\n",
       "588         1\n",
       "75          1\n",
       "840         1\n",
       "1128        1\n",
       "624         1\n",
       "57          1\n",
       "282         1\n",
       "1080        1\n",
       "378         1\n",
       "564         1\n",
       "816         1\n",
       "390         1\n",
       "396         1\n",
       "39          1\n",
       "37          1\n",
       "97          1\n",
       "402         1\n",
       "28          1\n",
       "1050        1\n",
       "33          1\n",
       "Name: bottles_sold, dtype: int64"
      ]
     },
     "execution_count": 37,
     "metadata": {},
     "output_type": "execute_result"
    }
   ],
   "source": [
    "iowa.bottles_sold.value_counts()"
   ]
  },
  {
   "cell_type": "code",
   "execution_count": 38,
   "metadata": {
    "collapsed": false
   },
   "outputs": [
    {
     "data": {
      "text/plain": [
       "162.00      3468\n",
       "148.56      2536\n",
       "64.80       2066\n",
       "94.20       2006\n",
       "70.56       1889\n",
       "90.00       1772\n",
       "60.12       1711\n",
       "73.80       1626\n",
       "62.28       1624\n",
       "117.00      1594\n",
       "60.72       1556\n",
       "188.88      1556\n",
       "64.56       1548\n",
       "180.00      1516\n",
       "135.00      1511\n",
       "45.00       1446\n",
       "126.00      1433\n",
       "30.00       1363\n",
       "270.00      1311\n",
       "161.64      1281\n",
       "99.00       1260\n",
       "72.00       1246\n",
       "81.00       1228\n",
       "124.20      1182\n",
       "132.78      1052\n",
       "58.50       1051\n",
       "22.50       1004\n",
       "24.76        992\n",
       "67.26        982\n",
       "40.50        979\n",
       "            ... \n",
       "2720.16        1\n",
       "1474.20        1\n",
       "8673.96        1\n",
       "104.52         1\n",
       "67.49          1\n",
       "3301.44        1\n",
       "374.95         1\n",
       "1817.64        1\n",
       "191.22         1\n",
       "44.08          1\n",
       "10255.44       1\n",
       "132.27         1\n",
       "493.20         1\n",
       "800.28         1\n",
       "3862.08        1\n",
       "850.32         1\n",
       "276.38         1\n",
       "59.68          1\n",
       "977.04         1\n",
       "26054.40       1\n",
       "361.80         1\n",
       "389.52         1\n",
       "1984.92        1\n",
       "556.92         1\n",
       "4253.40        1\n",
       "5920.20        1\n",
       "493.92         1\n",
       "584.64         1\n",
       "47.61          1\n",
       "18.47          1\n",
       "Name: sale_dollars, dtype: int64"
      ]
     },
     "execution_count": 38,
     "metadata": {},
     "output_type": "execute_result"
    }
   ],
   "source": [
    "iowa.sale_dollars.value_counts()"
   ]
  },
  {
   "cell_type": "code",
   "execution_count": 39,
   "metadata": {
    "collapsed": false
   },
   "outputs": [
    {
     "data": {
      "text/plain": [
       "9.00       53048\n",
       "10.50      35789\n",
       "1.50       24640\n",
       "2.25       19608\n",
       "0.75       17221\n",
       "12.00      17168\n",
       "3.00       13619\n",
       "4.50       11958\n",
       "1.00        5976\n",
       "0.50        5660\n",
       "21.00       5277\n",
       "2.00        4871\n",
       "3.50        4000\n",
       "1.12        3745\n",
       "6.00        3568\n",
       "18.00       3567\n",
       "0.60        3003\n",
       "24.00       2932\n",
       "1.75        2928\n",
       "4.80        2142\n",
       "1.20        2078\n",
       "9.60        2065\n",
       "5.25        1929\n",
       "0.38        1922\n",
       "4.00        1858\n",
       "3.75        1635\n",
       "31.50       1535\n",
       "36.00       1389\n",
       "1.88         986\n",
       "0.80         971\n",
       "           ...  \n",
       "1.10           1\n",
       "2508.00        1\n",
       "6.60           1\n",
       "444.00         1\n",
       "67.20          1\n",
       "432.00         1\n",
       "306.00         1\n",
       "661.50         1\n",
       "399.00         1\n",
       "141.75         1\n",
       "72.75          1\n",
       "516.00         1\n",
       "1837.50        1\n",
       "2100.00        1\n",
       "68.25          1\n",
       "372.00         1\n",
       "117.75         1\n",
       "1039.50        1\n",
       "4.75           1\n",
       "829.50         1\n",
       "150.00         1\n",
       "766.50         1\n",
       "567.00         1\n",
       "2.20           1\n",
       "546.00         1\n",
       "4.20           1\n",
       "196.80         1\n",
       "531.00         1\n",
       "124.80         1\n",
       "1116.00        1\n",
       "Name: volume_sold_liters, dtype: int64"
      ]
     },
     "execution_count": 39,
     "metadata": {},
     "output_type": "execute_result"
    }
   ],
   "source": [
    "iowa.volume_sold_liters.value_counts()"
   ]
  },
  {
   "cell_type": "code",
   "execution_count": 40,
   "metadata": {
    "collapsed": false
   },
   "outputs": [
    {
     "data": {
      "text/plain": [
       "2.38      53048\n",
       "2.77      35789\n",
       "0.40      24640\n",
       "0.59      19608\n",
       "0.20      17221\n",
       "3.17      17168\n",
       "0.79      13619\n",
       "1.19      11958\n",
       "0.26       5976\n",
       "0.13       5660\n",
       "5.55       5277\n",
       "0.53       4871\n",
       "0.92       4000\n",
       "0.30       3745\n",
       "1.59       3569\n",
       "4.76       3567\n",
       "0.16       3003\n",
       "6.34       2932\n",
       "0.46       2928\n",
       "1.27       2142\n",
       "0.32       2079\n",
       "2.54       2065\n",
       "1.39       1929\n",
       "0.10       1922\n",
       "1.06       1858\n",
       "0.99       1635\n",
       "8.32       1535\n",
       "9.51       1389\n",
       "0.50        989\n",
       "0.21        971\n",
       "          ...  \n",
       "98.27         1\n",
       "1.11          1\n",
       "499.29        1\n",
       "3.70          1\n",
       "194.17        1\n",
       "0.29          1\n",
       "1.74          1\n",
       "0.58          1\n",
       "475.51        1\n",
       "17.75         1\n",
       "105.40        1\n",
       "2.58          1\n",
       "144.24        1\n",
       "0.67          1\n",
       "117.29        1\n",
       "28.29         1\n",
       "162.47        1\n",
       "4.65          1\n",
       "149.79        1\n",
       "183.07        1\n",
       "19.22         1\n",
       "5.09          1\n",
       "228.24        1\n",
       "32.97         1\n",
       "31.11         1\n",
       "215.56        1\n",
       "80.84         1\n",
       "4.44          1\n",
       "20.29         1\n",
       "485.42        1\n",
       "Name: volume_sold_gallons, dtype: int64"
      ]
     },
     "execution_count": 40,
     "metadata": {},
     "output_type": "execute_result"
    }
   ],
   "source": [
    "iowa.volume_sold_gallons.value_counts()"
   ]
  },
  {
   "cell_type": "code",
   "execution_count": 22,
   "metadata": {
    "collapsed": false,
    "scrolled": false
   },
   "outputs": [
    {
     "data": {
      "text/plain": [
       "Index([u'date', u'store_number', u'city', u'zip_code', u'county_number',\n",
       "       u'county', u'category', u'category_name', u'vendor_number',\n",
       "       u'item_number', u'item_description', u'bottle_volume_ml',\n",
       "       u'state_bottle_cost', u'state_bottle_retail', u'bottles_sold',\n",
       "       u'sale_dollars', u'volume_sold_liters', u'volume_sold_gallons'],\n",
       "      dtype='object')"
      ]
     },
     "execution_count": 22,
     "metadata": {},
     "output_type": "execute_result"
    }
   ],
   "source": [
    "iowa.columns"
   ]
  },
  {
   "cell_type": "markdown",
   "metadata": {},
   "source": [
    "<img src=\"http://imgur.com/l5NasQj.png\" style=\"float: left; margin: 25px 15px 0px 0px; height: 25px\">\n",
    "\n",
    "## 4. Filter/adjust the store data\n",
    "\n",
    "---\n",
    "\n",
    "Some stores may have opened or closed in 2015. These stores will have incorrect yearly summary statistics since they were not open the full year. We need to filter them out or find another way to deal with the inconsistent numbers of months across stores.\n",
    "\n",
    "It is up to you how you want to deal with this problem.\n",
    "\n",
    "1. Investigate problematic stores.\n",
    "2. Decide on an approach to deal with stores not open for the full 2015 year.\n",
    "3. Implement your plan.\n",
    "4. Briefly report on what you did and why.\n"
   ]
  },
  {
   "cell_type": "code",
   "execution_count": null,
   "metadata": {
    "collapsed": true
   },
   "outputs": [],
   "source": []
  },
  {
   "cell_type": "markdown",
   "metadata": {},
   "source": [
    "<img src=\"http://imgur.com/l5NasQj.png\" style=\"float: left; margin: 25px 15px 0px 0px; height: 25px\">\n",
    "\n",
    "## 5. Proposals for new tax rates (Scenario 1)\n",
    "\n",
    "---\n",
    "\n",
    "You are a data scientist in residence at the Iowa State tax board. The Iowa State legislature is considering changes in the liquor tax rates and has assigned you to the project.\n",
    "\n",
    "### 5.1 Calculate yearly liquor sales for each store in 2015."
   ]
  },
  {
   "cell_type": "code",
   "execution_count": null,
   "metadata": {
    "collapsed": true
   },
   "outputs": [],
   "source": []
  },
  {
   "cell_type": "markdown",
   "metadata": {},
   "source": [
    "### 5.2 Calculate the profit each store is making in 2015.\n"
   ]
  },
  {
   "cell_type": "code",
   "execution_count": null,
   "metadata": {
    "collapsed": true
   },
   "outputs": [],
   "source": []
  },
  {
   "cell_type": "markdown",
   "metadata": {},
   "source": [
    "### 5.3 Investigate which Iowa counties are making the most profit on liquor per gallon in 2015."
   ]
  },
  {
   "cell_type": "code",
   "execution_count": null,
   "metadata": {
    "collapsed": true
   },
   "outputs": [],
   "source": []
  },
  {
   "cell_type": "markdown",
   "metadata": {},
   "source": [
    "<img src=\"http://imgur.com/xDpSobf.png\" style=\"float: left; margin: 25px 15px 0px 0px; height: 25px\">\n",
    "\n",
    "### 5.4 Plot a color map of average profit per county in 2015.\n",
    "\n",
    "[Check out this site](http://flowingdata.com/2009/11/12/how-to-make-a-us-county-thematic-map-using-free-tools/) for  information on how to create map visualizations in python. There are other resources online for map plotting in python as well.\n",
    "\n",
    "Another interesting map plot might show the difference in profit between time periods. Change in profit from November to December, for example."
   ]
  },
  {
   "cell_type": "code",
   "execution_count": null,
   "metadata": {
    "collapsed": true
   },
   "outputs": [],
   "source": []
  },
  {
   "cell_type": "markdown",
   "metadata": {},
   "source": [
    "### 5.5  Does profit scale proportionally to store size?\n",
    "\n",
    "Size of a store can be defined as the total gallons sold in 2015. Is the profit to store size ratio increasing as store size increases? Decreasing? Consistent?"
   ]
  },
  {
   "cell_type": "code",
   "execution_count": null,
   "metadata": {
    "collapsed": true
   },
   "outputs": [],
   "source": []
  },
  {
   "cell_type": "markdown",
   "metadata": {},
   "source": [
    "### 5.6 Create a broader category for liquor type.\n",
    "\n",
    "Liquor types are pretty granular in this dataset. Create a column that categorizes these types into a smaller amount of categories. The categories you decide on are up to you."
   ]
  },
  {
   "cell_type": "code",
   "execution_count": null,
   "metadata": {
    "collapsed": true
   },
   "outputs": [],
   "source": []
  },
  {
   "cell_type": "markdown",
   "metadata": {},
   "source": [
    "### 5.7 Do relationships exist between the broader liquor type and profit?"
   ]
  },
  {
   "cell_type": "code",
   "execution_count": null,
   "metadata": {
    "collapsed": true
   },
   "outputs": [],
   "source": []
  },
  {
   "cell_type": "markdown",
   "metadata": {},
   "source": [
    "<img src=\"http://imgur.com/xDpSobf.png\" style=\"float: left; margin: 25px 15px 0px 0px; height: 25px\">\n",
    "\n",
    "### 5.8 Are there any noticeable relationships between liquor brand and sales? Profit?"
   ]
  },
  {
   "cell_type": "code",
   "execution_count": null,
   "metadata": {
    "collapsed": true
   },
   "outputs": [],
   "source": []
  },
  {
   "cell_type": "markdown",
   "metadata": {},
   "source": [
    "### 5.9 The tax board wants to design a tax or taxes that affect larger stores more than smaller \"mom and pop\" stores.\n",
    "\n",
    "Based on your investigations into the data, come up with a way you could design a tax that achieves this goal **without explicitly taxing stores based on size or county critera.** The liqour board does not want to obviously punish larger stores or speific counties for fear of backlash, but is willing to tax hard alcohol more than beer, for example.\n",
    "\n",
    "Feel free to do more EDA if it helps.\n",
    "\n",
    "Your report should describe whether such a tax is possible or not, and the specifics of what the tax will target/do."
   ]
  },
  {
   "cell_type": "code",
   "execution_count": null,
   "metadata": {
    "collapsed": true
   },
   "outputs": [],
   "source": []
  },
  {
   "cell_type": "markdown",
   "metadata": {},
   "source": [
    "<img src=\"http://imgur.com/l5NasQj.png\" style=\"float: left; margin: 25px 15px 0px 0px; height: 25px\">\n",
    "\n",
    "## 6. Market research for new store locations (Scenario 2)\n",
    "\n",
    "A liquor store owner in Iowa is looking to open a store in a new location and has hired you to investigate the market data for potential new locations. The business owner is interested in what you can discover from the data that will help him evaluate a good location for a new storefront.\n",
    "\n",
    "---\n",
    "\n",
    "### 6.1 Create columns for Q1 2015 sales and Q1 2016 sales.\n",
    "\n",
    "The owner is not just interested in what locations are currently selling well, but also which areas are showing the most promising sales growth from 2015 to 2016. \n",
    "\n",
    "For yearly changes we will focus on the changes from Q1 2015 to Q1 2016 specifically (avoiding effects of season changes).\n",
    "\n",
    "Note: Q1 is months: January, February, and March.\n"
   ]
  },
  {
   "cell_type": "code",
   "execution_count": null,
   "metadata": {
    "collapsed": true
   },
   "outputs": [],
   "source": []
  },
  {
   "cell_type": "markdown",
   "metadata": {},
   "source": [
    "### 6.2 Decide on a metric for performance that combines Q1 2016 sales as well as growth in sales from Q1 2015.\n",
    "\n",
    "Again, the owner wants to know that his store will be in a good position to sell a large amount of liquor now, but also have his store be more likely to grow and sell even more going forward. \n",
    "\n",
    "In particular, he is worried about opening a store in an area that is showing a decline in liquor sales between Q1 2015 and Q1 2016."
   ]
  },
  {
   "cell_type": "code",
   "execution_count": null,
   "metadata": {
    "collapsed": true
   },
   "outputs": [],
   "source": []
  },
  {
   "cell_type": "markdown",
   "metadata": {},
   "source": [
    "### 6.3 Recommend a location based on your metric.\n",
    "\n",
    "The owner asks you to make a recommendation for a new store location. Explain why you recommended this area."
   ]
  },
  {
   "cell_type": "code",
   "execution_count": null,
   "metadata": {
    "collapsed": true
   },
   "outputs": [],
   "source": []
  },
  {
   "cell_type": "markdown",
   "metadata": {},
   "source": [
    "### 6.4 Recommend a location based also on a restricted inventory type.\n",
    "\n",
    "Your employer has now decided he wants his store to focus on one type of liquor only. He askes you:\n",
    "\n",
    "1. What would be the best type of liquor to sell to maximize profit?\n",
    "2. Should the recommended location change if he is only selling one type of liquor?"
   ]
  },
  {
   "cell_type": "code",
   "execution_count": null,
   "metadata": {
    "collapsed": true
   },
   "outputs": [],
   "source": []
  },
  {
   "cell_type": "markdown",
   "metadata": {},
   "source": [
    "<img src=\"http://imgur.com/GCAf1UX.png\" style=\"float: left; margin: 25px 15px 0px 0px; height: 25px\">\n",
    "\n",
    "## 7. Time-related effects\n",
    "\n",
    "---\n",
    "\n",
    "You could imagine that liquor sales might be affected by a variety of effects related to time. Do people buy more beer in the summer? Do liquor sales skyrocket in december? Do people buy less liquor on Tuesdays?\n",
    "\n",
    "You have the date of sales in your dataset, which you can use to pull out time components.\n",
    "\n",
    "1. Come up with 3 different hypotheses about how liquor sales may vary with time-related variables. \n",
    "2. Create a visualization exploring each hypothesis.\n",
    "3. Write brief concluding remarks on what you observed.\n"
   ]
  },
  {
   "cell_type": "code",
   "execution_count": null,
   "metadata": {
    "collapsed": true
   },
   "outputs": [],
   "source": []
  },
  {
   "cell_type": "markdown",
   "metadata": {},
   "source": [
    "<img src=\"http://imgur.com/GCAf1UX.png\" style=\"float: left; margin: 25px 15px 0px 0px; height: 25px\">\n",
    "\n",
    "## 8. Appropriate spending\n",
    "\n",
    "---\n",
    "\n",
    "The owner you worked with before realized that opening new stores cost money, something he had completely overlooked earlier. He brings you back in to help him figure out how much he should be willing to spend on opening his store.\n",
    "\n",
    "### 8.1 Calculate costs and time to recoup.\n",
    "\n",
    "The owner has decided he will buy 20,000 gallons of the liquor type you recommended (randomly sampled across the different brands/subtypes). He will also be opening his store in the area you recommended.\n",
    "\n",
    "The cost of buying the property for his store will be $150,000.\n",
    "\n",
    "1. How much should he expect to spend on the 20,000 gallons of liquor alone?\n",
    "2. Based on the amount he's spent on the liquor and property, and on the profit per time period he is expected to have, how long will it take him to recoup the costs?"
   ]
  },
  {
   "cell_type": "code",
   "execution_count": null,
   "metadata": {
    "collapsed": true
   },
   "outputs": [],
   "source": []
  },
  {
   "cell_type": "markdown",
   "metadata": {},
   "source": [
    "<img src=\"http://imgur.com/gGrau8s.png\" style=\"float: left; margin: 25px 15px 0px 0px; height: 25px\">\n",
    "\n",
    "\n",
    "### 8.2 Calculate maximum loan interest rate.\n",
    "\n",
    "The owner unfortunately has to take out a loan to to pay for the entirety of the property and liquor. \n",
    "\n",
    "**Conditions of the loan**:\n",
    "\n",
    "Every quarter, (except for Q1 when he takes out the loan), the interest rate is applied to the remaining balance on the loan and added to his debt. \n",
    "\n",
    "If, for example, he made no payments whatsoever, not only would the amount of debt he owed keep increasing by quarter but the debt incurred from interest would keep increasing as well. (Since his debt keeps growing, the interest rate is applied each month to the bigger balance, incurring more debt each time.)\n",
    "\n",
    "**Determining maximum acceptable interest:**\n",
    "\n",
    "Given this, _the owner wants to be 99% confident that he will be able to pay off his loans._ If the interest rate is too high he will have to eventually declare bankruptcy.\n",
    "\n",
    "Based on his expected profits per quarter (assume the expected profit stays the same for all future quarters), what is the maximum interest rate he should accept on the loan to be 99% confident he will be able to pay it off?"
   ]
  },
  {
   "cell_type": "code",
   "execution_count": null,
   "metadata": {
    "collapsed": true
   },
   "outputs": [],
   "source": []
  }
 ],
 "metadata": {
  "kernelspec": {
   "display_name": "Python 2",
   "language": "python",
   "name": "python2"
  },
  "language_info": {
   "codemirror_mode": {
    "name": "ipython",
    "version": 2
   },
   "file_extension": ".py",
   "mimetype": "text/x-python",
   "name": "python",
   "nbconvert_exporter": "python",
   "pygments_lexer": "ipython2",
   "version": "2.7.11"
  }
 },
 "nbformat": 4,
 "nbformat_minor": 0
}
