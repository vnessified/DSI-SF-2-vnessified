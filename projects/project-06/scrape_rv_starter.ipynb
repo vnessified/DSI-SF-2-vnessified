{
 "cells": [
  {
   "cell_type": "markdown",
   "metadata": {},
   "source": [
    "<img src=\"http://imgur.com/1ZcRyrc.png\" style=\"float: left; margin: 15px; height: 80px\">\n",
    "\n",
    "# Project 6:  Web Scraping\n",
    "### Finding Underpriced RVs on Craigslist\n",
    "\n",
    "![](https://snag.gy/WrdUMx.jpg)"
   ]
  },
  {
   "cell_type": "markdown",
   "metadata": {},
   "source": [
    "In this project we will be practicing our web scraping skills.  You can use Scrapy or Python requests in order to complete this project.  It may be helpful to write some prototype code in this notebook to test your assumptions, then move it into a Python file that can be run from the command line.\n",
    "\n",
    "> In order to run code from the command line, instead of the notebook, you just need to save your code to a file (with a .py extension), and run it using the Python interpreter:<br><br>\n",
    "> `python my_file.py`\n",
    "\n",
    "You will be building a process to scrape a single category of search results on Craigslist, that can easily be applied to other categories by changing the search terms.  The main goal is to be able to target and scrape a single page given a set of parameters.\n",
    "\n",
    "**If you use Scrapy, provide your code in a folder.**"
   ]
  },
  {
   "cell_type": "markdown",
   "metadata": {},
   "source": [
    "## Import your libraries for scrapy / requests / pandas / numpy / etc\n",
    "Setup whichever libraries you need. Review past material for reference."
   ]
  },
  {
   "cell_type": "code",
   "execution_count": 1,
   "metadata": {
    "collapsed": true
   },
   "outputs": [],
   "source": [
    "# PREPARE REQUIRED LIBRARIES\n",
    "\n",
    "import pandas as pd\n",
    "import numpy as np\n",
    "from scrapy.selector import Selector\n",
    "from scrapy.http import HtmlResponse\n",
    "import requests"
   ]
  },
  {
   "cell_type": "markdown",
   "metadata": {},
   "source": [
    "<img src=\"http://imgur.com/l5NasQj.png\" style=\"float: left; margin: 25px 15px 0px 0px; height: 25px\">\n",
    "\n",
    "## 1.  Scrape for the largest US cities (non-exhaustive list)\n",
    "Search, research, and scrape Wikipedia for a list of the largest US cities.  There are a few sources but find one that is in a nice table.  We don't want all cities, just signifficant cities.  Examine your source.  Look for what can be differentiable.\n",
    "\n",
    "- Use requests\n",
    "- Build XPath query(ies)\n",
    "- Extract to a list\n",
    "- Clean your list"
   ]
  },
  {
   "cell_type": "code",
   "execution_count": 2,
   "metadata": {
    "collapsed": false
   },
   "outputs": [],
   "source": [
    "# SCRAPE WIKIPEDIA FOR LARGEST US CITIES (NON-EXHAUSTIVE LIST)\n",
    "url = \"https://simple.wikipedia.org/wiki/List_of_United_States_cities_by_population\"\n",
    "response = requests.get(url)\n",
    "\n",
    "HTML = response.text"
   ]
  },
  {
   "cell_type": "code",
   "execution_count": 3,
   "metadata": {
    "collapsed": false
   },
   "outputs": [],
   "source": [
    "cities = Selector(text=HTML).xpath('//tr/td[2]/a/text()').extract()"
   ]
  },
  {
   "cell_type": "code",
   "execution_count": 4,
   "metadata": {
    "collapsed": false
   },
   "outputs": [
    {
     "data": {
      "text/plain": [
       "[u'New York',\n",
       " u'Los Angeles',\n",
       " u'Chicago',\n",
       " u'Houston',\n",
       " u'Philadelphia',\n",
       " u'Phoenix',\n",
       " u'San Antonio',\n",
       " u'San Diego',\n",
       " u'Dallas',\n",
       " u'San Jose',\n",
       " u'Austin',\n",
       " u'Jacksonville',\n",
       " u'San Francisco',\n",
       " u'Indianapolis',\n",
       " u'Columbus',\n",
       " u'Fort Worth',\n",
       " u'Charlotte',\n",
       " u'Detroit',\n",
       " u'El Paso',\n",
       " u'Seattle',\n",
       " u'Denver',\n",
       " u'Washington',\n",
       " u'Memphis',\n",
       " u'Boston',\n",
       " u'Nashville',\n",
       " u'Baltimore',\n",
       " u'Oklahoma City',\n",
       " u'Portland',\n",
       " u'Las Vegas',\n",
       " u'Louisville',\n",
       " u'Milwaukee',\n",
       " u'Albuquerque',\n",
       " u'Tucson',\n",
       " u'Fresno',\n",
       " u'Sacramento',\n",
       " u'Long Beach',\n",
       " u'Kansas City',\n",
       " u'Mesa',\n",
       " u'Atlanta',\n",
       " u'Virginia Beach',\n",
       " u'Omaha',\n",
       " u'Colorado Springs',\n",
       " u'Raleigh',\n",
       " u'Miami',\n",
       " u'Oakland',\n",
       " u'Minneapolis',\n",
       " u'Tulsa',\n",
       " u'Cleveland',\n",
       " u'Wichita',\n",
       " u'New Orleans',\n",
       " u'Arlington',\n",
       " u'Bakersfield',\n",
       " u'Tampa',\n",
       " u'Aurora',\n",
       " u'Honolulu',\n",
       " u'Anaheim',\n",
       " u'Santa Ana',\n",
       " u'Corpus Christi',\n",
       " u'Riverside',\n",
       " u'St. Louis',\n",
       " u'Lexington',\n",
       " u'Pittsburgh',\n",
       " u'Stockton',\n",
       " u'Anchorage',\n",
       " u'Cincinnati',\n",
       " u'Saint Paul',\n",
       " u'Greensboro',\n",
       " u'Toledo',\n",
       " u'Newark',\n",
       " u'Plano',\n",
       " u'Henderson',\n",
       " u'Lincoln',\n",
       " u'Orlando',\n",
       " u'Jersey City',\n",
       " u'Chula Vista',\n",
       " u'Buffalo',\n",
       " u'Fort Wayne',\n",
       " u'Chandler',\n",
       " u'St. Petersburg',\n",
       " u'Laredo',\n",
       " u'Durham',\n",
       " u'Irvine',\n",
       " u'Madison',\n",
       " u'Norfolk',\n",
       " u'Lubbock',\n",
       " u'Gilbert',\n",
       " u'Winston\\u2013Salem',\n",
       " u'Glendale',\n",
       " u'Reno',\n",
       " u'Hialeah',\n",
       " u'Garland',\n",
       " u'Chesapeake',\n",
       " u'Irving',\n",
       " u'North Las Vegas',\n",
       " u'Scottsdale',\n",
       " u'Baton Rouge',\n",
       " u'Fremont',\n",
       " u'Richmond',\n",
       " u'Boise',\n",
       " u'San Bernardino',\n",
       " u'Birmingham',\n",
       " u'Spokane',\n",
       " u'Rochester',\n",
       " u'Modesto',\n",
       " u'Des Moines',\n",
       " u'Oxnard',\n",
       " u'Tacoma',\n",
       " u'Fontana',\n",
       " u'Fayetteville',\n",
       " u'Moreno Valley',\n",
       " u'Columbus',\n",
       " u'Huntington Beach',\n",
       " u'Yonkers',\n",
       " u'Montgomery',\n",
       " u'Aurora',\n",
       " u'Glendale',\n",
       " u'Shreveport',\n",
       " u'Akron',\n",
       " u'Little Rock',\n",
       " u'Amarillo',\n",
       " u'Augusta',\n",
       " u'Mobile',\n",
       " u'Grand Rapids',\n",
       " u'Salt Lake City',\n",
       " u'Huntsville',\n",
       " u'Tallahassee',\n",
       " u'Grand Prairie',\n",
       " u'Overland Park',\n",
       " u'Knoxville',\n",
       " u'Brownsville',\n",
       " u'Worcester',\n",
       " u'Newport News',\n",
       " u'Santa Clarita',\n",
       " u'Providence',\n",
       " u'Fort Lauderdale',\n",
       " u'Garden Grove',\n",
       " u'Oceanside',\n",
       " u'Rancho Cucamonga',\n",
       " u'Santa Rosa',\n",
       " u'Port St. Lucie',\n",
       " u'Chattanooga',\n",
       " u'Tempe',\n",
       " u'Jackson',\n",
       " u'Cape Coral',\n",
       " u'Vancouver',\n",
       " u'Ontario',\n",
       " u'Sioux Falls',\n",
       " u'Peoria',\n",
       " u'Springfield',\n",
       " u'Pembroke Pines',\n",
       " u'Elk Grove',\n",
       " u'Salem',\n",
       " u'Corona',\n",
       " u'Lancaster',\n",
       " u'Eugene',\n",
       " u'Palmdale',\n",
       " u'McKinney',\n",
       " u'Salinas',\n",
       " u'Fort Collins',\n",
       " u'Cary',\n",
       " u'Hayward',\n",
       " u'Springfield',\n",
       " u'Pasadena',\n",
       " u'Macon',\n",
       " u'Pomona',\n",
       " u'Alexandria',\n",
       " u'Escondido',\n",
       " u'Sunnyvale',\n",
       " u'Lakewood',\n",
       " u'Kansas City',\n",
       " u'Rockford',\n",
       " u'Torrance',\n",
       " u'Hollywood',\n",
       " u'Joliet',\n",
       " u'Bridgeport',\n",
       " u'Clarksville',\n",
       " u'Paterson',\n",
       " u'Naperville',\n",
       " u'Frisco',\n",
       " u'Mesquite',\n",
       " u'Savannah',\n",
       " u'Syracuse',\n",
       " u'Dayton',\n",
       " u'Pasadena',\n",
       " u'Orange',\n",
       " u'Fullerton',\n",
       " u'McAllen',\n",
       " u'Killeen',\n",
       " u'Hampton',\n",
       " u'Bellevue',\n",
       " u'Warren',\n",
       " u'Miramar',\n",
       " u'West Valley City',\n",
       " u'Olathe',\n",
       " u'Columbia',\n",
       " u'Sterling Heights',\n",
       " u'Thornton',\n",
       " u'New Haven',\n",
       " u'Waco',\n",
       " u'Charleston',\n",
       " u'Thousand Oaks',\n",
       " u'Visalia',\n",
       " u'Cedar Rapids',\n",
       " u'Elizabeth',\n",
       " u'Roseville',\n",
       " u'Gainesville',\n",
       " u'Carrollton',\n",
       " u'Stamford',\n",
       " u'Denton',\n",
       " u'Midland',\n",
       " u'Coral Springs',\n",
       " u'Concord',\n",
       " u'Topeka',\n",
       " u'Simi Valley',\n",
       " u'Surprise',\n",
       " u'Lafayette',\n",
       " u'Kent',\n",
       " u'Hartford',\n",
       " u'Santa Clara',\n",
       " u'Victorville',\n",
       " u'Abilene',\n",
       " u'Murfreesboro',\n",
       " u'Evansville',\n",
       " u'Vallejo',\n",
       " u'Athens',\n",
       " u'Allentown',\n",
       " u'Berkeley',\n",
       " u'Norman',\n",
       " u'Ann Arbor',\n",
       " u'Beaumont',\n",
       " u'Independence',\n",
       " u'Columbia',\n",
       " u'Springfield',\n",
       " u'El Monte',\n",
       " u'Fargo',\n",
       " u'Peoria',\n",
       " u'Provo',\n",
       " u'Lansing',\n",
       " u'Odessa',\n",
       " u'Downey',\n",
       " u'Wilmington',\n",
       " u'Arvada',\n",
       " u'Costa Mesa',\n",
       " u'Round Rock',\n",
       " u'Carlsbad',\n",
       " u'Miami Gardens',\n",
       " u'Westminster',\n",
       " u'Inglewood',\n",
       " u'Rochester',\n",
       " u'Fairfield',\n",
       " u'Elgin',\n",
       " u'West Jordan',\n",
       " u'Clearwater',\n",
       " u'Manchester',\n",
       " u'Lowell',\n",
       " u'Gresham',\n",
       " u'Cambridge',\n",
       " u'Ventura',\n",
       " u'Temecula',\n",
       " u'Waterbury',\n",
       " u'Antioch',\n",
       " u'Billings',\n",
       " u'High Point',\n",
       " u'Richardson',\n",
       " u'Richmond',\n",
       " u'West Covina',\n",
       " u'Pueblo',\n",
       " u'Murrieta',\n",
       " u'Centennial',\n",
       " u'Norwalk',\n",
       " u'North Charleston',\n",
       " u'Everett',\n",
       " u'Pompano Beach',\n",
       " u'Daly City',\n",
       " u'Palm Bay',\n",
       " u'Burbank',\n",
       " u'Wichita Falls',\n",
       " u'Boulder',\n",
       " u'Green Bay',\n",
       " u'Broken Arrow',\n",
       " u'West Palm Beach',\n",
       " u'College Station',\n",
       " u'Pearland',\n",
       " u'Santa Maria',\n",
       " u'El Cajon',\n",
       " u'San Mateo',\n",
       " u'Lewisville',\n",
       " u'Rialto',\n",
       " u'Davenport',\n",
       " u'Lakeland',\n",
       " u'Clovis',\n",
       " u'Edison',\n",
       " u'Sandy Springs',\n",
       " u'Tyler',\n",
       " u'Las Cruces',\n",
       " u'South Bend',\n",
       " u'Woodbridge']"
      ]
     },
     "execution_count": 4,
     "metadata": {},
     "output_type": "execute_result"
    }
   ],
   "source": [
    "cities"
   ]
  },
  {
   "cell_type": "markdown",
   "metadata": {},
   "source": [
    "<img src=\"http://imgur.com/xDpSobf.png\" style=\"float: left; margin: 25px 15px 0px 0px; height: 25px\">\n",
    "\n",
    "## 1.2 Only retain cities with properly formed ASCII\n",
    "\n",
    "Optionally, filter out any cities with impropper ASCII characters.  A smaller list will be easier to look at.  However you may not need to filter these if you spend more time scraping a more concise city list.  This list should help you narrow down the list of regional Craigslist sites."
   ]
  },
  {
   "cell_type": "code",
   "execution_count": 5,
   "metadata": {
    "collapsed": false,
    "scrolled": true
   },
   "outputs": [],
   "source": [
    "cities = [city.encode('ascii',errors='ignore') for city in cities]"
   ]
  },
  {
   "cell_type": "markdown",
   "metadata": {},
   "source": [
    "<img src=\"http://imgur.com/l5NasQj.png\" style=\"float: left; margin: 25px 15px 0px 0px; height: 25px\">\n",
    "\n",
    "## 2.  Write a function to capture current pricing information via Craigslist in one city.\n",
    "Choose a city from your scraped data, then go to the cooresponding city section on Craigslist, searching for \"rv\" in the auto section.  Write a method that pulls out the prices."
   ]
  },
  {
   "cell_type": "code",
   "execution_count": 65,
   "metadata": {
    "collapsed": false
   },
   "outputs": [
    {
     "data": {
      "text/plain": [
       "[7950, 6000, 1, 6896, 80, 1, 12500]"
      ]
     },
     "execution_count": 65,
     "metadata": {},
     "output_type": "execute_result"
    }
   ],
   "source": [
    "def price_grabber(city):\n",
    "    url = 'https://%s.craigslist.org/search/rva' % (city)\n",
    "    response = requests.get(url)\n",
    "    HTML = response.text\n",
    "    prices = Selector(text=HTML).xpath('//span[@class=\"l2\"]/span[@class=\"price\"]/text()').extract()\n",
    "    prices = [int(x.replace('$','')) for x in prices]\n",
    "    return prices\n",
    "    \n",
    "\n",
    "price_grabber(\"sfbay\")[0:5]"
   ]
  },
  {
   "cell_type": "markdown",
   "metadata": {},
   "source": [
    "<img src=\"http://imgur.com/l5NasQj.png\" style=\"float: left; margin: 25px 15px 0px 0px; height: 25px\">\n",
    "\n",
    "## 2.1 Create a mapping of cities to cooresponding regional Craigslist URLs\n",
    "\n",
    "Major US cities on Craigslist typically have their own cooresponding section (ie: SFBay Area, NYC, Boston, Miami, Seattle, etc).  Later, you will use these to query search results for various metropolitian regions listed on Craigslist.  Between the major metropolitan Craigslist sites, the only thing that will differ is the URL's that correspond to them.\n",
    "\n",
    "The point of the \"mapping\":  Create a data structure that allows you to iterate with both the name of the city from Wikipedia, with the cooresponding variable that that will allow you to construct each craigslist URL for each region.\n",
    "\n",
    "> For San Francsico (the Bay Area metropolitan area), the url for the RV search result is:\n",
    "> http://sfbay.craigslist.org/search/sss?query=rv\n",
    ">\n",
    "> The convention is http://[region].craigslist.org/search/sss?query=rf\n",
    "> Replacing [region] with the cooresponding city name will allow you to quickly iterate through each regional Craigslist site, and scrape the prices from the search results.  Keep this in mind while you build this \"mapping\".\n"
   ]
  },
  {
   "cell_type": "code",
   "execution_count": 69,
   "metadata": {
    "collapsed": false
   },
   "outputs": [
    {
     "data": {
      "text/plain": [
       "['newyork',\n",
       " 'losangeles',\n",
       " 'chicago',\n",
       " 'houston',\n",
       " 'philadelphia',\n",
       " 'phoenix',\n",
       " 'sanantonio',\n",
       " 'sandiego',\n",
       " 'dallas']"
      ]
     },
     "execution_count": 69,
     "metadata": {},
     "output_type": "execute_result"
    }
   ],
   "source": [
    "cities_list = [city.replace(' ', '').lower() for city in cities]\n",
    "\n",
    "cities_list = cities_list[:9] \n",
    "\n",
    "cities_list "
   ]
  },
  {
   "cell_type": "code",
   "execution_count": 70,
   "metadata": {
    "collapsed": false
   },
   "outputs": [],
   "source": [
    "def mapping(cities_list):\n",
    "    city_urls = {}\n",
    "    \n",
    "    for city in cities_list:\n",
    "        url = 'https://%s.craigslist.org/search/rva' %(city)\n",
    "        city_urls[city] = url\n",
    "    return city_urls\n",
    "\n",
    "city_map = mapping(cities_list)"
   ]
  },
  {
   "cell_type": "code",
   "execution_count": 71,
   "metadata": {
    "collapsed": false
   },
   "outputs": [
    {
     "data": {
      "text/plain": [
       "{'chicago': 'https://chicago.craigslist.org/search/rva',\n",
       " 'dallas': 'https://dallas.craigslist.org/search/rva',\n",
       " 'houston': 'https://houston.craigslist.org/search/rva',\n",
       " 'losangeles': 'https://losangeles.craigslist.org/search/rva',\n",
       " 'newyork': 'https://newyork.craigslist.org/search/rva',\n",
       " 'philadelphia': 'https://philadelphia.craigslist.org/search/rva',\n",
       " 'phoenix': 'https://phoenix.craigslist.org/search/rva',\n",
       " 'sanantonio': 'https://sanantonio.craigslist.org/search/rva',\n",
       " 'sandiego': 'https://sandiego.craigslist.org/search/rva'}"
      ]
     },
     "execution_count": 71,
     "metadata": {},
     "output_type": "execute_result"
    }
   ],
   "source": [
    "city_map"
   ]
  },
  {
   "cell_type": "markdown",
   "metadata": {},
   "source": [
    "<img src=\"http://imgur.com/l5NasQj.png\" style=\"float: left; margin: 25px 15px 0px 0px; height: 25px\">\n",
    "\n",
    "## 3. Define a function to caculate mean and median price per city.\n",
    "\n",
    "Now that you've created a list of cities you want to scrape, adapt your solution for grabbing data in one region site, to grab data for all regional sites that you collected, then calculate the mean and median price of RV results from each city.\n",
    "\n",
    "> Look at the URLs from a few different regions (ie: portland, phoenix, sfbay), and find what they have in common.  Determine the area in the URL string that needs to change the least, and figure out how to replace only that portion of the URL in order to iterate through each city."
   ]
  },
  {
   "cell_type": "code",
   "execution_count": 72,
   "metadata": {
    "collapsed": false
   },
   "outputs": [],
   "source": [
    "def price_mean_median(city):\n",
    "    price = price_grabber(city)\n",
    "    return np.mean(price), np.median(price)"
   ]
  },
  {
   "cell_type": "code",
   "execution_count": 82,
   "metadata": {
    "collapsed": false
   },
   "outputs": [
    {
     "name": "stdout",
     "output_type": "stream",
     "text": [
      "houston mean/median price (19189.54054054054, 12995.0)\n",
      "losangeles mean/median price (24409.976190476191, 8749.5)\n",
      "sandiego mean/median price (18950.494252873563, 8999.0)\n",
      "phoenix mean/median price (28786.599999999999, 9725.0)\n",
      "chicago mean/median price (12518.46875, 7100.0)\n",
      "newyork mean/median price (22117.010989010989, 10700.0)\n",
      "dallas mean/median price (29655.614285714284, 20972.5)\n",
      "philadelphia mean/median price (33407.558139534885, 14216.0)\n",
      "sanantonio mean/median price (37412.016949152545, 19340.0)\n"
     ]
    }
   ],
   "source": [
    "#I severely limited my cities list because fortworth & san jose were giving me trouble... use a try & except but how?\n",
    "#also how can I get the results to 2 decimals points? tried a few things ie  %.2f but didn't work??\n",
    "for city in city_map:\n",
    "    print city, 'mean/median price', price_mean_median(city)"
   ]
  },
  {
   "cell_type": "markdown",
   "metadata": {},
   "source": [
    "<img src=\"http://imgur.com/l5NasQj.png\" style=\"float: left; margin: 25px 15px 0px 0px; height: 25px\">\n",
    "\n",
    "## 4. Run your scraping process, and save your results to a CSV file."
   ]
  },
  {
   "cell_type": "code",
   "execution_count": 89,
   "metadata": {
    "collapsed": false,
    "scrolled": true
   },
   "outputs": [],
   "source": [
    "#not entirely sure how to get this into a dataframe... \n",
    "#after getting a dataframe I'd use df.to_csv('prices.csv') to export a csv file\n",
    "def results(city):\n",
    "    price = price_grabber(city)\n",
    "    return price"
   ]
  },
  {
   "cell_type": "code",
   "execution_count": 87,
   "metadata": {
    "collapsed": false
   },
   "outputs": [
    {
     "name": "stdout",
     "output_type": "stream",
     "text": [
      "houston [14000, 45000, 4800, 7750, 5900, 12800, 14, 12500, 13900, 79900, 2500, 25000, 27500, 85, 58700, 16900, 16500, 62150, 800, 129, 12995, 8995, 4000, 7900, 12250, 11700, 35000, 1900, 35000, 35000, 20500, 35000, 35000, 8000, 17950, 14995, 7000]\n",
      "losangeles [8500, 109891, 44891, 10100, 10100, 975, 63891, 22000, 75891, 10000, 27500, 9950, 9750, 17950, 16500, 5000, 18500, 8999, 1, 79000, 20000, 6200, 120000, 34950, 22500, 1950, 5000, 5000, 12200, 550, 7000, 8500, 12950, 5000, 120000, 89, 79, 5000, 15500, 3200, 5000, 45000, 17500, 3800, 1, 25, 15000, 7995, 19637, 6000, 120000, 120000, 120000, 64495, 35, 4500, 795, 2000, 2189, 600, 600, 395, 200, 24681, 1200, 52000, 79, 54366, 4800, 4750, 9500, 6000, 18, 109000, 250, 6500, 100, 2045, 11350, 19995, 7995, 14995, 119995, 89995]\n",
      "sandiego [150, 150, 12500, 29500, 150, 10100, 10100, 23995, 8900, 100, 9500, 23000, 7000, 250, 8500, 10500, 8999, 1200, 22500, 11999, 44995, 16500, 280, 1950, 650, 29990, 24500, 18500, 78000, 20000, 13000, 6500, 10950, 79900, 23900, 7700, 21500, 23500, 189998, 15, 1, 3500, 64495, 600, 3995, 15000, 59998, 32000, 4000, 1250, 395, 600, 600, 395, 16000, 4500, 150, 20, 94200, 190000, 15000, 7800, 10000, 4000, 3500, 500, 229, 18000, 150, 180, 1, 11900, 650, 35900, 95, 339, 9200, 69900, 69900, 24500, 27500, 24000, 1, 450, 99, 11500, 279]\n",
      "phoenix [65000, 6900, 35000, 14000, 30500, 53000, 17000, 8350, 900, 8350, 500, 175, 700, 250, 39900, 48937, 3000, 23000, 17500, 15, 125, 1, 19900, 25, 19900, 40, 825, 45000, 45000, 55000, 2900, 5500, 9500, 2400, 100, 12000, 2200, 22999, 14500, 2800, 9950, 20, 8300, 299998, 5950, 14990, 17000, 229998, 139998, 133761, 75995, 49998, 29998, 50, 30, 239950, 15500, 79500, 125, 20990, 10000, 6000, 12990, 13990, 27990, 1, 10, 20, 12500, 40, 37700, 1, 94200, 79684, 499, 2500, 6500, 8990, 6000, 41000, 5800, 99900, 150, 3000, 9500, 70959, 7995, 250, 46842, 24990]\n",
      "chicago [5000, 24500, 24500, 24500, 24500, 120000, 14500, 119, 1, 1, 250, 1, 1, 1800, 19500, 18000, 2000, 4800, 24000, 1, 2500, 4000, 16000, 15000, 200, 18500, 1000, 14422, 26900, 27900, 22900, 28900, 200, 7000, 1800, 40, 40, 67, 270, 249, 40, 1, 27900, 8995, 5495, 13900, 6995, 30, 12900, 5995, 80, 56000, 1200, 7200, 17900, 18500, 500, 75, 27000, 8995, 5995, 20000, 8995, 10900, 39900, 19988, 6995, 3900, 3200, 3200, 18500, 11500, 3500, 3500, 3995, 31137, 13995, 2000, 17900, 59800, 135, 21900, 22000, 4395, 1850, 17532, 3400, 13399, 10899, 12999, 3999, 13999, 4495, 17999, 22900, 25409]\n",
      "newyork [120000, 10000, 500, 7900, 36900, 1500, 2033, 51500, 2030, 2010, 4000, 2010, 2300, 9502, 172500, 120000, 2400, 14462, 11002, 4000, 4000, 11007, 10000, 600, 1, 425, 1700, 425, 1775, 19800, 1500, 2600, 11000, 8900, 8700, 32500, 19995, 1500, 10700, 9400, 12574, 12566, 12532, 19995, 19995, 1, 19995, 1, 19995, 3805, 1, 19995, 19995, 19995, 1, 19995, 6750, 2000, 85, 2000, 2000, 2000, 600, 172500, 12500, 15500, 68000, 68000, 68000, 68000, 68000, 68000, 68000, 3000, 68000, 8000, 29000, 30350, 11036, 360, 700, 6200, 11500, 39900, 1999, 33000, 27650, 33000, 36500, 19500, 26500]\n",
      "dallas [14000, 8900, 9000, 49000, 13500, 17995, 21995, 1000, 8950, 13250, 150, 180, 140, 140, 4250, 15495, 3200, 4300, 33900, 23000, 500, 34444, 800, 21595, 45995, 48881, 4200, 22500, 23996, 49000, 3400, 6200, 20995, 325, 23800, 49999, 25899, 38000, 7500, 17500, 48900, 24900, 19995, 20950, 52599, 64995, 12500, 49900, 43500, 67500, 68900, 29900, 29900, 42500, 13900, 89995, 27900, 39900, 190000, 5200, 190000, 15500, 14995, 3500, 28500, 15000, 119995, 6500, 31500, 18695]\n",
      "philadelphia [11900, 13900, 8900, 28700, 25, 8999, 14432, 35000, 11900, 39000, 14900, 24900, 5000, 9500, 500, 62999, 2572, 27000, 3500, 8500, 19750, 5000, 33995, 2600, 1, 1, 1, 8900, 135936, 34729, 16259, 16259, 16259, 20900, 199500, 15995, 79995, 15500, 184900, 169900, 98793, 73995, 79532, 69900, 15995, 16500, 2080, 107772, 46995, 89246, 2094, 2094, 11272, 10500, 10800, 9400, 10700, 10800, 25000, 3600, 3600, 119999, 89999, 129999, 12995, 34995, 8600, 7800, 25000, 7800, 13500, 9900, 32947, 128900, 51136, 9495, 14000, 35330, 65268, 12500, 90, 30, 10999, 18000, 12500, 12093]\n",
      "sanantonio [100, 50, 7800, 29500, 9000, 3500, 79900, 14900, 15700, 17499, 69900, 19340, 2500, 50000, 25000, 179995, 20500, 12500, 12500, 190000, 10500, 9500, 89995, 32995, 2000, 109995, 1400, 49995, 94995, 21900, 69995, 59995, 21000, 5900, 84995, 4500, 49995, 18900, 8600, 18900, 35000, 19500, 59995, 18900, 23900, 5500, 159995, 17900, 42995, 18900, 13900, 6000, 24900, 15900, 18900, 44995, 89995, 18900, 44995]\n"
     ]
    }
   ],
   "source": [
    "for city in city_map:\n",
    "    print city, results(city)"
   ]
  },
  {
   "cell_type": "markdown",
   "metadata": {},
   "source": [
    "<img src=\"http://imgur.com/l5NasQj.png\" style=\"float: left; margin: 25px 15px 0px 0px; height: 25px\">\n",
    "\n",
    "## 5. Do an analysis of the RV market.\n",
    "\n",
    "Go head we'll wait.  Anything notable about the data?"
   ]
  },
  {
   "cell_type": "code",
   "execution_count": 88,
   "metadata": {
    "collapsed": true
   },
   "outputs": [],
   "source": [
    "#obviously some graphs would be nice... but modeling? what model? a simple linear regression? could I do something else"
   ]
  },
  {
   "cell_type": "markdown",
   "metadata": {
    "collapsed": true
   },
   "source": [
    "<img src=\"http://imgur.com/l5NasQj.png\" style=\"float: left; margin: 25px 15px 0px 0px; height: 25px\">\n",
    "\n",
    "### 5.1 Does it makes sense to buy RVs in one region and sell them in another?\n",
    "\n",
    "Assuming the cost of shipping or driving from one regional market to another."
   ]
  },
  {
   "cell_type": "code",
   "execution_count": null,
   "metadata": {
    "collapsed": true
   },
   "outputs": [],
   "source": []
  },
  {
   "cell_type": "markdown",
   "metadata": {},
   "source": [
    "<img src=\"http://imgur.com/xDpSobf.png\" style=\"float: left; margin: 25px 15px 0px 0px; height: 25px\">\n",
    "\n",
    "### 5.2 Can you pull out the \"make\" from the markup and include that in your analyis?\n",
    "How reliable is this data and does it make sense?"
   ]
  },
  {
   "cell_type": "code",
   "execution_count": null,
   "metadata": {
    "collapsed": true
   },
   "outputs": [],
   "source": []
  },
  {
   "cell_type": "markdown",
   "metadata": {},
   "source": [
    "<img src=\"http://imgur.com/xDpSobf.png\" style=\"float: left; margin: 25px 15px 0px 0px; height: 25px\">\n",
    "\n",
    "### 5.3 Are there any other variables you could pull out of the markup to help describe your dataset?"
   ]
  },
  {
   "cell_type": "code",
   "execution_count": null,
   "metadata": {
    "collapsed": true
   },
   "outputs": [],
   "source": []
  },
  {
   "cell_type": "markdown",
   "metadata": {},
   "source": [
    "<img src=\"http://imgur.com/xDpSobf.png\" style=\"float: left; margin: 25px 15px 0px 0px; height: 25px\">\n",
    "\n",
    "## 6. Move your project into scrapy (if you haven't used Scrapy yet)\n",
    "\n",
    ">Start a project by using the command `scrapy startproject [projectname]`\n",
    "> - Update your settings.py (review our past example)\n",
    "> - Update your items.py\n",
    "> - Create a spiders file in your `[project_name]/[project_name]/spiders` directory\n",
    "\n",
    "You can update your spider class with the complete list of craigslist \"start urls\" to effectively scrape all of the regions.  Start with one to test.\n",
    "\n",
    "Updating your parse method with the method you chose should require minimal changes.  It will require you to update your parse method to use the response parameter, and an item model (defined in items.py)."
   ]
  },
  {
   "cell_type": "code",
   "execution_count": null,
   "metadata": {
    "collapsed": true
   },
   "outputs": [],
   "source": []
  },
  {
   "cell_type": "markdown",
   "metadata": {},
   "source": [
    "<img src=\"http://imgur.com/GCAf1UX.png\" style=\"float: left; margin: 25px 15px 0px 0px; height: 25px\">\n",
    "\n",
    "## 7.  Chose another area of Craigslist to scrape.\n",
    "\n",
    "**Choose an area having more than a single page of results, then scrape multiple regions, multiple pages of search results and or details pages.**\n",
    "\n",
    "This is the true exercise of being able to understand how to succesffuly plan, develop, and employ a broader scraping strategy.  Even though this seems like a challenging task, a few tweeks of your current code can make this very managable if you've pieced together all the touch points.  If you are still confused as to some of the milestones within this process, this is an excellent opportunity to round out your understanding, or help you build a list of questions to fill in your gaps.\n",
    "\n",
    "_Use Scrapy!  Provide your code in this project directory when you submit this project._"
   ]
  },
  {
   "cell_type": "code",
   "execution_count": null,
   "metadata": {
    "collapsed": true
   },
   "outputs": [],
   "source": []
  }
 ],
 "metadata": {
  "anaconda-cloud": {},
  "kernelspec": {
   "display_name": "Python 2",
   "language": "python",
   "name": "python2"
  },
  "language_info": {
   "codemirror_mode": {
    "name": "ipython",
    "version": 2
   },
   "file_extension": ".py",
   "mimetype": "text/x-python",
   "name": "python",
   "nbconvert_exporter": "python",
   "pygments_lexer": "ipython2",
   "version": "2.7.11"
  }
 },
 "nbformat": 4,
 "nbformat_minor": 0
}
