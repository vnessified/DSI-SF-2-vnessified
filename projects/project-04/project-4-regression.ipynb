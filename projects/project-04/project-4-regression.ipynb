{
 "cells": [
  {
   "cell_type": "markdown",
   "metadata": {},
   "source": [
    "<img src=\"http://imgur.com/1ZcRyrc.png\" style=\"float: left; margin: 15px; height: 80px\">\n",
    "\n",
    "# Project 4\n",
    "\n",
    "## San Francisco Data\n",
    "\n",
    "---\n",
    "\n",
    "[San Francisco provides a wealth of data on the city to the public.](https://data.sfgov.org/) Project 4 is all about exploring this data and modeling interesting relationships with regression.\n",
    "\n",
    "Project 4 is also much more open-ended than the previous projects. You are more responsible for finding things about the data that interest you, coming up with your own hypothesis about it, and reporting on the analysis you carry out. That being said, there are still specific requirements and restrictions on the type of models you will be constructing.\n",
    "\n",
    "---\n",
    "\n",
    "## Notes on the data\n",
    "\n",
    "We have gone through the above website and pulled out a variety of different datasets that we think are particularly interesting. Some of the datasets are from external sources as well, but all are related to San Francisco. A high level overview of data folders is provided after the project requirements section.\n",
    "\n",
    "**There is a lot of different data. You are _NOT_ expected to explore all of it or include all of it in analyses.** The point of the project is to focus on aspects of San Francisco that are particularly interesting to you from a modeling point of view. \n",
    "\n",
    "**The uncompressed data is a large filesize.** Even the compressed data is pretty large. The data is compressed into a .7z format which has one of the smallest filesizes available. You will likely need a 3rd party app to extract it. \n",
    "\n",
    "### Recommended Utilities for .7z\n",
    "- For OSX [Keka](http://www.kekaosx.com/en/) or [The Unarchiver](http://wakaba.c3.cx/s/apps/unarchiver.html). \n",
    "- For Windows [7-zip](http://www.7-zip.org/) is the standard. \n",
    "- For Linux try the `p7zip` utility.  `sudo apt-get install p7zip`.\n",
    "\n",
    "---\n",
    "\n",
    "## Project requirements\n",
    "\n",
    "**You will be performing 4 different sections of analysis on the San Francisco data.**\n",
    "\n",
    "**Models must be regression. This means that your target variable needs to be numeric/continuous**\n",
    "\n",
    "Do not perform classification models – this will be the topic of week 4.\n"
   ]
  },
  {
   "cell_type": "markdown",
   "metadata": {},
   "source": [
    "<img src=\"http://imgur.com/l5NasQj.png\" style=\"float: left; margin: 25px 15px 0px 0px; height: 25px\">\n",
    "\n",
    "### 1. Choose a dataset or datasets of interest to you and perform EDA\n",
    "\n",
    "---\n",
    "\n",
    "1. Explain what the data is. This may include multiple csv files. Some of this data has hard to understand codes representing the variables. Nearly all data is pulled from https://data.sfgov.org/ so this is a very good resource for determining what the data is.\n",
    "- Clean the data.\n",
    "- Develop and state clearly a hypothesis about the data that you would want to test.\n",
    "- Create some initial visualizations on the portions of the data relevant to your hypothesis."
   ]
  },
  {
   "cell_type": "code",
   "execution_count": 1,
   "metadata": {
    "collapsed": true
   },
   "outputs": [],
   "source": [
    "import numpy as np\n",
    "import pandas as pd, patsy\n",
    "import datetime\n",
    "\n",
    "from sklearn.preprocessing import StandardScaler\n",
    "from sklearn.linear_model import Ridge, Lasso, ElasticNet, LinearRegression, RidgeCV, LassoCV, ElasticNetCV\n",
    "from sklearn.cross_validation import train_test_split, cross_val_score\n",
    "from sklearn.grid_search import GridSearchCV\n",
    "from sklearn import metrics\n",
    "\n",
    "\n",
    "import matplotlib\n",
    "import matplotlib.pyplot as plt\n",
    "import seaborn as sns\n",
    "plt.style.use('fivethirtyeight')\n",
    "\n",
    "%config InlineBackend.figure_format = 'retina'\n",
    "%matplotlib inline"
   ]
  },
  {
   "cell_type": "markdown",
   "metadata": {},
   "source": [
    "### Briefly looking at all the Yelp datasets"
   ]
  },
  {
   "cell_type": "code",
   "execution_count": 2,
   "metadata": {
    "collapsed": false
   },
   "outputs": [],
   "source": [
    "businesses = pd.read_csv('/Users/VanessaG/desktop/DSI-SF-2-vnessified/datasets/sf/yelp/businesses.csv')"
   ]
  },
  {
   "cell_type": "code",
   "execution_count": 6,
   "metadata": {
    "collapsed": false
   },
   "outputs": [
    {
     "data": {
      "text/html": [
       "<div>\n",
       "<table border=\"1\" class=\"dataframe\">\n",
       "  <thead>\n",
       "    <tr style=\"text-align: right;\">\n",
       "      <th></th>\n",
       "      <th>business_id</th>\n",
       "      <th>name</th>\n",
       "      <th>address</th>\n",
       "      <th>city</th>\n",
       "      <th>state</th>\n",
       "      <th>postal_code</th>\n",
       "      <th>latitude</th>\n",
       "      <th>longitude</th>\n",
       "      <th>phone_number</th>\n",
       "    </tr>\n",
       "  </thead>\n",
       "  <tbody>\n",
       "    <tr>\n",
       "      <th>0</th>\n",
       "      <td>10</td>\n",
       "      <td>TIRAMISU KITCHEN</td>\n",
       "      <td>033 BELDEN PL</td>\n",
       "      <td>San Francisco</td>\n",
       "      <td>CA</td>\n",
       "      <td>94104</td>\n",
       "      <td>37.791116</td>\n",
       "      <td>-122.403816</td>\n",
       "      <td>+14154217044</td>\n",
       "    </tr>\n",
       "    <tr>\n",
       "      <th>1</th>\n",
       "      <td>19</td>\n",
       "      <td>NRGIZE LIFESTYLE CAFE</td>\n",
       "      <td>1200 VAN NESS AVE, 3RD FLOOR</td>\n",
       "      <td>San Francisco</td>\n",
       "      <td>CA</td>\n",
       "      <td>94109</td>\n",
       "      <td>37.786848</td>\n",
       "      <td>-122.421547</td>\n",
       "      <td>+14157763262</td>\n",
       "    </tr>\n",
       "  </tbody>\n",
       "</table>\n",
       "</div>"
      ],
      "text/plain": [
       "   business_id                   name                       address  \\\n",
       "0           10       TIRAMISU KITCHEN                 033 BELDEN PL   \n",
       "1           19  NRGIZE LIFESTYLE CAFE  1200 VAN NESS AVE, 3RD FLOOR   \n",
       "\n",
       "            city state postal_code   latitude   longitude  phone_number  \n",
       "0  San Francisco    CA       94104  37.791116 -122.403816  +14154217044  \n",
       "1  San Francisco    CA       94109  37.786848 -122.421547  +14157763262  "
      ]
     },
     "execution_count": 6,
     "metadata": {},
     "output_type": "execute_result"
    }
   ],
   "source": [
    "businesses.head(2)"
   ]
  },
  {
   "cell_type": "code",
   "execution_count": 7,
   "metadata": {
    "collapsed": true
   },
   "outputs": [],
   "source": [
    "code_legend = pd.read_csv('/Users/VanessaG/desktop/DSI-SF-2-vnessified/datasets/sf/yelp/code_legend.csv')"
   ]
  },
  {
   "cell_type": "code",
   "execution_count": 8,
   "metadata": {
    "collapsed": false
   },
   "outputs": [
    {
     "data": {
      "text/html": [
       "<div>\n",
       "<table border=\"1\" class=\"dataframe\">\n",
       "  <thead>\n",
       "    <tr style=\"text-align: right;\">\n",
       "      <th></th>\n",
       "      <th>Minimum_Score</th>\n",
       "      <th>Maximum_Score</th>\n",
       "      <th>Description</th>\n",
       "    </tr>\n",
       "  </thead>\n",
       "  <tbody>\n",
       "    <tr>\n",
       "      <th>0</th>\n",
       "      <td>0</td>\n",
       "      <td>70</td>\n",
       "      <td>Poor</td>\n",
       "    </tr>\n",
       "    <tr>\n",
       "      <th>1</th>\n",
       "      <td>71</td>\n",
       "      <td>85</td>\n",
       "      <td>Needs Improvement</td>\n",
       "    </tr>\n",
       "    <tr>\n",
       "      <th>2</th>\n",
       "      <td>86</td>\n",
       "      <td>90</td>\n",
       "      <td>Adequate</td>\n",
       "    </tr>\n",
       "    <tr>\n",
       "      <th>3</th>\n",
       "      <td>91</td>\n",
       "      <td>100</td>\n",
       "      <td>Good</td>\n",
       "    </tr>\n",
       "  </tbody>\n",
       "</table>\n",
       "</div>"
      ],
      "text/plain": [
       "   Minimum_Score  Maximum_Score        Description\n",
       "0              0             70               Poor\n",
       "1             71             85  Needs Improvement\n",
       "2             86             90           Adequate\n",
       "3             91            100               Good"
      ]
     },
     "execution_count": 8,
     "metadata": {},
     "output_type": "execute_result"
    }
   ],
   "source": [
    "code_legend"
   ]
  },
  {
   "cell_type": "code",
   "execution_count": 9,
   "metadata": {
    "collapsed": true
   },
   "outputs": [],
   "source": [
    "inspections = pd.read_csv('/Users/VanessaG/desktop/DSI-SF-2-vnessified/datasets/sf/yelp/inspections.csv')"
   ]
  },
  {
   "cell_type": "code",
   "execution_count": 10,
   "metadata": {
    "collapsed": false
   },
   "outputs": [
    {
     "data": {
      "text/html": [
       "<div>\n",
       "<table border=\"1\" class=\"dataframe\">\n",
       "  <thead>\n",
       "    <tr style=\"text-align: right;\">\n",
       "      <th></th>\n",
       "      <th>business_id</th>\n",
       "      <th>score</th>\n",
       "      <th>date</th>\n",
       "      <th>type</th>\n",
       "    </tr>\n",
       "  </thead>\n",
       "  <tbody>\n",
       "    <tr>\n",
       "      <th>0</th>\n",
       "      <td>10</td>\n",
       "      <td>94</td>\n",
       "      <td>20140729</td>\n",
       "      <td>routine</td>\n",
       "    </tr>\n",
       "    <tr>\n",
       "      <th>1</th>\n",
       "      <td>10</td>\n",
       "      <td>92</td>\n",
       "      <td>20140114</td>\n",
       "      <td>routine</td>\n",
       "    </tr>\n",
       "  </tbody>\n",
       "</table>\n",
       "</div>"
      ],
      "text/plain": [
       "   business_id  score      date     type\n",
       "0           10     94  20140729  routine\n",
       "1           10     92  20140114  routine"
      ]
     },
     "execution_count": 10,
     "metadata": {},
     "output_type": "execute_result"
    }
   ],
   "source": [
    "inspections.head(2)"
   ]
  },
  {
   "cell_type": "code",
   "execution_count": 11,
   "metadata": {
    "collapsed": false
   },
   "outputs": [],
   "source": [
    "neighborhoods = pd.read_csv('/Users/VanessaG/desktop/DSI-SF-2-vnessified/datasets/sf/yelp/neighborhood_legend.csv')"
   ]
  },
  {
   "cell_type": "code",
   "execution_count": 12,
   "metadata": {
    "collapsed": false
   },
   "outputs": [
    {
     "data": {
      "text/html": [
       "<div>\n",
       "<table border=\"1\" class=\"dataframe\">\n",
       "  <thead>\n",
       "    <tr style=\"text-align: right;\">\n",
       "      <th></th>\n",
       "      <th>Neighborhood</th>\n",
       "      <th>City</th>\n",
       "      <th>Population</th>\n",
       "      <th>Polygon</th>\n",
       "    </tr>\n",
       "  </thead>\n",
       "  <tbody>\n",
       "    <tr>\n",
       "      <th>0</th>\n",
       "      <td>Alamo Square</td>\n",
       "      <td>San Francisco</td>\n",
       "      <td>5,617</td>\n",
       "      <td>&lt;Polygon&gt;&lt;outerBoundaryIs&gt;&lt;LinearRing&gt;&lt;tessell...</td>\n",
       "    </tr>\n",
       "    <tr>\n",
       "      <th>1</th>\n",
       "      <td>Bayview</td>\n",
       "      <td>San Francisco</td>\n",
       "      <td>35,890</td>\n",
       "      <td>&lt;Polygon&gt;&lt;outerBoundaryIs&gt;&lt;LinearRing&gt;&lt;tessell...</td>\n",
       "    </tr>\n",
       "  </tbody>\n",
       "</table>\n",
       "</div>"
      ],
      "text/plain": [
       "   Neighborhood           City Population  \\\n",
       "0  Alamo Square  San Francisco      5,617   \n",
       "1       Bayview  San Francisco     35,890   \n",
       "\n",
       "                                             Polygon  \n",
       "0  <Polygon><outerBoundaryIs><LinearRing><tessell...  \n",
       "1  <Polygon><outerBoundaryIs><LinearRing><tessell...  "
      ]
     },
     "execution_count": 12,
     "metadata": {},
     "output_type": "execute_result"
    }
   ],
   "source": [
    "neighborhoods.head(2)"
   ]
  },
  {
   "cell_type": "code",
   "execution_count": 13,
   "metadata": {
    "collapsed": true
   },
   "outputs": [],
   "source": [
    "violations = pd.read_csv('/Users/VanessaG/desktop/DSI-SF-2-vnessified/datasets/sf/yelp/violations.csv')"
   ]
  },
  {
   "cell_type": "code",
   "execution_count": 14,
   "metadata": {
    "collapsed": false
   },
   "outputs": [
    {
     "data": {
      "text/html": [
       "<div>\n",
       "<table border=\"1\" class=\"dataframe\">\n",
       "  <thead>\n",
       "    <tr style=\"text-align: right;\">\n",
       "      <th></th>\n",
       "      <th>business_id</th>\n",
       "      <th>date</th>\n",
       "      <th>description</th>\n",
       "    </tr>\n",
       "  </thead>\n",
       "  <tbody>\n",
       "    <tr>\n",
       "      <th>0</th>\n",
       "      <td>10</td>\n",
       "      <td>20140729</td>\n",
       "      <td>Insufficient hot water or running water  [ dat...</td>\n",
       "    </tr>\n",
       "    <tr>\n",
       "      <th>1</th>\n",
       "      <td>10</td>\n",
       "      <td>20140729</td>\n",
       "      <td>Unapproved or unmaintained equipment or utensi...</td>\n",
       "    </tr>\n",
       "  </tbody>\n",
       "</table>\n",
       "</div>"
      ],
      "text/plain": [
       "   business_id      date                                        description\n",
       "0           10  20140729  Insufficient hot water or running water  [ dat...\n",
       "1           10  20140729  Unapproved or unmaintained equipment or utensi..."
      ]
     },
     "execution_count": 14,
     "metadata": {},
     "output_type": "execute_result"
    }
   ],
   "source": [
    "violations.head(2)"
   ]
  },
  {
   "cell_type": "markdown",
   "metadata": {},
   "source": [
    "### Dataset I'll be using"
   ]
  },
  {
   "cell_type": "code",
   "execution_count": 15,
   "metadata": {
    "collapsed": false,
    "scrolled": true
   },
   "outputs": [
    {
     "name": "stderr",
     "output_type": "stream",
     "text": [
      "/Users/VanessaG/anaconda/lib/python2.7/site-packages/IPython/core/interactiveshell.py:2723: DtypeWarning: Columns (10,13) have mixed types. Specify dtype option on import or set low_memory=False.\n",
      "  interactivity=interactivity, compiler=compiler, result=result)\n"
     ]
    }
   ],
   "source": [
    "violations_parsed = pd.read_csv('/Users/VanessaG/desktop/DSI-SF-2-vnessified/datasets/sf/yelp/violations_parsed_words.csv')"
   ]
  },
  {
   "cell_type": "code",
   "execution_count": 16,
   "metadata": {
    "collapsed": false,
    "scrolled": true
   },
   "outputs": [
    {
     "data": {
      "text/html": [
       "<div>\n",
       "<table border=\"1\" class=\"dataframe\">\n",
       "  <thead>\n",
       "    <tr style=\"text-align: right;\">\n",
       "      <th></th>\n",
       "      <th>business_id</th>\n",
       "      <th>score</th>\n",
       "      <th>date</th>\n",
       "      <th>type</th>\n",
       "      <th>violation_count</th>\n",
       "      <th>days_since_first_violation</th>\n",
       "      <th>name</th>\n",
       "      <th>address</th>\n",
       "      <th>city</th>\n",
       "      <th>state</th>\n",
       "      <th>...</th>\n",
       "      <th>washed fruits</th>\n",
       "      <th>wastewater</th>\n",
       "      <th>wastewater contamination</th>\n",
       "      <th>wastewater disposal</th>\n",
       "      <th>water</th>\n",
       "      <th>water running</th>\n",
       "      <th>wiping</th>\n",
       "      <th>wiping cloths</th>\n",
       "      <th>worker</th>\n",
       "      <th>worker safety</th>\n",
       "    </tr>\n",
       "  </thead>\n",
       "  <tbody>\n",
       "    <tr>\n",
       "      <th>0</th>\n",
       "      <td>10.0</td>\n",
       "      <td>92.0</td>\n",
       "      <td>2014-01-14</td>\n",
       "      <td>routine</td>\n",
       "      <td>1.0</td>\n",
       "      <td>0.0</td>\n",
       "      <td>TIRAMISU KITCHEN</td>\n",
       "      <td>033 BELDEN PL</td>\n",
       "      <td>San Francisco</td>\n",
       "      <td>CA</td>\n",
       "      <td>...</td>\n",
       "      <td>0</td>\n",
       "      <td>0</td>\n",
       "      <td>0</td>\n",
       "      <td>0</td>\n",
       "      <td>0</td>\n",
       "      <td>0</td>\n",
       "      <td>0</td>\n",
       "      <td>0</td>\n",
       "      <td>0</td>\n",
       "      <td>0</td>\n",
       "    </tr>\n",
       "    <tr>\n",
       "      <th>1</th>\n",
       "      <td>10.0</td>\n",
       "      <td>92.0</td>\n",
       "      <td>2014-01-14</td>\n",
       "      <td>routine</td>\n",
       "      <td>1.0</td>\n",
       "      <td>0.0</td>\n",
       "      <td>TIRAMISU KITCHEN</td>\n",
       "      <td>033 BELDEN PL</td>\n",
       "      <td>San Francisco</td>\n",
       "      <td>CA</td>\n",
       "      <td>...</td>\n",
       "      <td>0</td>\n",
       "      <td>0</td>\n",
       "      <td>0</td>\n",
       "      <td>0</td>\n",
       "      <td>0</td>\n",
       "      <td>0</td>\n",
       "      <td>0</td>\n",
       "      <td>0</td>\n",
       "      <td>0</td>\n",
       "      <td>0</td>\n",
       "    </tr>\n",
       "  </tbody>\n",
       "</table>\n",
       "<p>2 rows × 393 columns</p>\n",
       "</div>"
      ],
      "text/plain": [
       "   business_id  score        date     type  violation_count  \\\n",
       "0         10.0   92.0  2014-01-14  routine              1.0   \n",
       "1         10.0   92.0  2014-01-14  routine              1.0   \n",
       "\n",
       "   days_since_first_violation              name        address           city  \\\n",
       "0                         0.0  TIRAMISU KITCHEN  033 BELDEN PL  San Francisco   \n",
       "1                         0.0  TIRAMISU KITCHEN  033 BELDEN PL  San Francisco   \n",
       "\n",
       "  state      ...      washed fruits  wastewater  wastewater contamination  \\\n",
       "0    CA      ...                  0           0                         0   \n",
       "1    CA      ...                  0           0                         0   \n",
       "\n",
       "  wastewater disposal  water water running wiping wiping cloths  worker  \\\n",
       "0                   0      0             0      0             0       0   \n",
       "1                   0      0             0      0             0       0   \n",
       "\n",
       "  worker safety  \n",
       "0             0  \n",
       "1             0  \n",
       "\n",
       "[2 rows x 393 columns]"
      ]
     },
     "execution_count": 16,
     "metadata": {},
     "output_type": "execute_result"
    }
   ],
   "source": [
    "violations_parsed.head(2)"
   ]
  },
  {
   "cell_type": "code",
   "execution_count": 51,
   "metadata": {
    "collapsed": false,
    "scrolled": false
   },
   "outputs": [
    {
     "name": "stdout",
     "output_type": "stream",
     "text": [
      "<class 'pandas.core.frame.DataFrame'>\n",
      "RangeIndex: 32455 entries, 0 to 32454\n",
      "Columns: 393 entries, business_id to worker safety\n",
      "dtypes: float64(8), int64(373), object(12)\n",
      "memory usage: 97.3+ MB\n"
     ]
    }
   ],
   "source": [
    "violations_parsed.info()"
   ]
  },
  {
   "cell_type": "code",
   "execution_count": 20,
   "metadata": {
    "collapsed": false
   },
   "outputs": [
    {
     "data": {
      "text/plain": [
       "['business_id',\n",
       " 'score',\n",
       " 'date',\n",
       " 'type',\n",
       " 'violation_count',\n",
       " 'days_since_first_violation',\n",
       " 'name',\n",
       " 'address',\n",
       " 'city',\n",
       " 'state',\n",
       " 'postal_code',\n",
       " 'latitude',\n",
       " 'longitude',\n",
       " 'phone_number',\n",
       " 'polygon',\n",
       " 'neighborhood',\n",
       " 'population',\n",
       " 'score_code',\n",
       " 'business_count',\n",
       " 'description',\n",
       " '200',\n",
       " '200 feet',\n",
       " 'adulterated',\n",
       " 'adulterated food',\n",
       " 'advisory',\n",
       " 'advisory provided',\n",
       " 'animal',\n",
       " 'approved',\n",
       " 'approved commissary',\n",
       " 'area',\n",
       " 'area garbage',\n",
       " 'available',\n",
       " 'building',\n",
       " 'building permit',\n",
       " 'card',\n",
       " 'card available',\n",
       " 'ceilings',\n",
       " 'certificate',\n",
       " 'certificate food',\n",
       " 'certified',\n",
       " 'certified food',\n",
       " 'charge',\n",
       " 'charge food',\n",
       " 'clean',\n",
       " 'clean properly',\n",
       " 'cleaned',\n",
       " 'cleaned sanitized',\n",
       " 'cloths',\n",
       " 'cloths clean',\n",
       " 'commissary',\n",
       " 'communicable',\n",
       " 'communicable disease',\n",
       " 'condition',\n",
       " 'conditions',\n",
       " 'constructed',\n",
       " 'constructed toilet',\n",
       " 'consumer',\n",
       " 'consumer advisory',\n",
       " 'contact',\n",
       " 'contact surfaces',\n",
       " 'containers',\n",
       " 'containers area',\n",
       " 'contaminated',\n",
       " 'contaminated adulterated',\n",
       " 'contamination',\n",
       " 'control',\n",
       " 'control measure',\n",
       " 'cooking',\n",
       " 'cooking time',\n",
       " 'cooling',\n",
       " 'cooling methods',\n",
       " 'cottage',\n",
       " 'cottage food',\n",
       " 'defective',\n",
       " 'defective plumbing',\n",
       " 'degraded',\n",
       " 'degraded floors',\n",
       " 'discharge',\n",
       " 'discharge employee',\n",
       " 'disease',\n",
       " 'display',\n",
       " 'disposal',\n",
       " 'dressing',\n",
       " 'dressing rooms',\n",
       " 'eating',\n",
       " 'eating smoking',\n",
       " 'employee',\n",
       " 'employee communicable',\n",
       " 'employee eating',\n",
       " 'employee garments',\n",
       " 'employee nose',\n",
       " 'equipment',\n",
       " 'equipment utensils',\n",
       " 'eye',\n",
       " 'facilities',\n",
       " 'facilities equipment',\n",
       " 'facility',\n",
       " 'facility 200',\n",
       " 'facility operating',\n",
       " 'facility unapproved',\n",
       " 'feet',\n",
       " 'feet mobile',\n",
       " 'fish',\n",
       " 'fish tags',\n",
       " 'floors',\n",
       " 'floors walls',\n",
       " 'food',\n",
       " 'food contact',\n",
       " 'food facility',\n",
       " 'food handler',\n",
       " 'food holding',\n",
       " 'food labeling',\n",
       " 'food operation',\n",
       " 'food poor',\n",
       " 'food safety',\n",
       " 'food served',\n",
       " 'food source',\n",
       " 'food storage',\n",
       " 'foods',\n",
       " 'foods protected',\n",
       " 'fruits',\n",
       " 'fruits vegetables',\n",
       " 'garbage',\n",
       " 'garbage service',\n",
       " 'garments',\n",
       " 'garments hair',\n",
       " 'gloves',\n",
       " 'haacp',\n",
       " 'haacp plan',\n",
       " 'haccp',\n",
       " 'haccp plan',\n",
       " 'hair',\n",
       " 'hair nails',\n",
       " 'handler',\n",
       " 'handler card',\n",
       " 'hands',\n",
       " 'hands improper',\n",
       " 'handwashing',\n",
       " 'handwashing facilities',\n",
       " 'hazards',\n",
       " 'health',\n",
       " 'health control',\n",
       " 'high',\n",
       " 'high risk',\n",
       " 'holding',\n",
       " 'holding temperature',\n",
       " 'hot',\n",
       " 'hot water',\n",
       " 'identification',\n",
       " 'identification toxic',\n",
       " 'ill',\n",
       " 'ill employee',\n",
       " 'improper',\n",
       " 'improper cooking',\n",
       " 'improper cooling',\n",
       " 'improper defective',\n",
       " 'improper food',\n",
       " 'improper reheating',\n",
       " 'improper storage',\n",
       " 'improper thawing',\n",
       " 'improper use',\n",
       " 'improperly',\n",
       " 'improperly constructed',\n",
       " 'improperly washed',\n",
       " 'inaccessible',\n",
       " 'inaccessible handwashing',\n",
       " 'inadequate',\n",
       " 'inadequate dressing',\n",
       " 'inadequate food',\n",
       " 'inadequate haccp',\n",
       " 'inadequate inaccessible',\n",
       " 'inadequate procedures',\n",
       " 'inadequate sanitizer',\n",
       " 'inadequate sewage',\n",
       " 'inadequate unsanitary',\n",
       " 'inadequate ventilation',\n",
       " 'inadequate warewashing',\n",
       " 'inadequately',\n",
       " 'inadequately cleaned',\n",
       " 'infestation',\n",
       " 'inspection',\n",
       " 'inspection report',\n",
       " 'insufficient',\n",
       " 'insufficient hot',\n",
       " 'items',\n",
       " 'keeping',\n",
       " 'knowledge',\n",
       " 'knowledge lack',\n",
       " 'labeling',\n",
       " 'labeling menu',\n",
       " 'lack',\n",
       " 'lack certified',\n",
       " 'license',\n",
       " 'license inspection',\n",
       " 'lighting',\n",
       " 'linens',\n",
       " 'living',\n",
       " 'living quarters',\n",
       " 'low',\n",
       " 'low risk',\n",
       " 'machine',\n",
       " 'manager',\n",
       " 'measure',\n",
       " 'menu',\n",
       " 'menu misrepresentation',\n",
       " 'methods',\n",
       " 'misrepresentation',\n",
       " 'mobile',\n",
       " 'mobile food',\n",
       " 'moderate',\n",
       " 'moderate risk',\n",
       " 'mouth',\n",
       " 'mouth eye',\n",
       " 'nails',\n",
       " 'non',\n",
       " 'non service',\n",
       " 'noncompliance',\n",
       " 'noncompliance cottage',\n",
       " 'noncompliance haacp',\n",
       " 'noncompliance shell',\n",
       " 'noncompliance vending',\n",
       " 'nonfood',\n",
       " 'nonfood contact',\n",
       " 'nose',\n",
       " 'nose mouth',\n",
       " 'operating',\n",
       " 'operating approved',\n",
       " 'operating conditions',\n",
       " 'operation',\n",
       " 'permit',\n",
       " 'permit license',\n",
       " 'person',\n",
       " 'person charge',\n",
       " 'personal',\n",
       " 'personal items',\n",
       " 'plan',\n",
       " 'plan record',\n",
       " 'plan review',\n",
       " 'plan variance',\n",
       " 'plumbing',\n",
       " 'poor',\n",
       " 'poor condition',\n",
       " 'population.1',\n",
       " 'posted',\n",
       " 'previously',\n",
       " 'previously served',\n",
       " 'procedures',\n",
       " 'procedures records',\n",
       " 'prohibited',\n",
       " 'prohibited food',\n",
       " 'properly',\n",
       " 'properly stored',\n",
       " 'protected',\n",
       " 'protected contamination',\n",
       " 'provided',\n",
       " 'provided raw',\n",
       " 'public',\n",
       " 'public health',\n",
       " 'quarters',\n",
       " 'quarters food',\n",
       " 'raw',\n",
       " 'raw undercooked',\n",
       " 'record',\n",
       " 'record keeping',\n",
       " 'records',\n",
       " 'records time',\n",
       " 'refuse',\n",
       " 'refuse containers',\n",
       " 'reheating',\n",
       " 'reheating food',\n",
       " 'report',\n",
       " 'report posted',\n",
       " 'reservice',\n",
       " 'reservice previously',\n",
       " 'restroom',\n",
       " 'restroom facility',\n",
       " 'review',\n",
       " 'review building',\n",
       " 'risk',\n",
       " 'risk food',\n",
       " 'risk vermin',\n",
       " 'risk violation',\n",
       " 'rooms',\n",
       " 'rooms improper',\n",
       " 'running',\n",
       " 'running water',\n",
       " 'safety',\n",
       " 'safety certificate',\n",
       " 'safety hazards',\n",
       " 'safety knowledge',\n",
       " 'safety manager',\n",
       " 'sanitized',\n",
       " 'sanitized food',\n",
       " 'sanitizer',\n",
       " 'sensitive',\n",
       " 'sensitive population',\n",
       " 'served',\n",
       " 'served foods',\n",
       " 'served sensitive',\n",
       " 'service',\n",
       " 'service animal',\n",
       " 'sewage',\n",
       " 'sewage wastewater',\n",
       " 'shell',\n",
       " 'shell fish',\n",
       " 'smoking',\n",
       " 'source',\n",
       " 'storage',\n",
       " 'storage equipment',\n",
       " 'storage personal',\n",
       " 'storage use',\n",
       " 'stored',\n",
       " 'stored inadequate',\n",
       " 'substances',\n",
       " 'surfaces',\n",
       " 'tags',\n",
       " 'tags display',\n",
       " 'temperature',\n",
       " 'temperatures',\n",
       " 'thawing',\n",
       " 'thawing methods',\n",
       " 'thermometers',\n",
       " 'thermometers uncalibrated',\n",
       " 'time',\n",
       " 'time public',\n",
       " 'time temperatures',\n",
       " 'toilet',\n",
       " 'toilet facilities',\n",
       " 'toxic',\n",
       " 'toxic substances',\n",
       " 'unapproved',\n",
       " 'unapproved food',\n",
       " 'unapproved living',\n",
       " 'unapproved operating',\n",
       " 'unapproved unmaintained',\n",
       " 'unauthorized',\n",
       " 'unauthorized unsafe',\n",
       " 'uncalibrated',\n",
       " 'uncalibrated thermometers',\n",
       " 'unclean',\n",
       " 'unclean degraded',\n",
       " 'unclean hands',\n",
       " 'unclean nonfood',\n",
       " 'unclean unmaintained',\n",
       " 'unclean unsanitary',\n",
       " 'undercooked',\n",
       " 'undercooked foods',\n",
       " 'unmaintained',\n",
       " 'unmaintained equipment',\n",
       " 'unmaintained improperly',\n",
       " 'unpermitted',\n",
       " 'unpermitted food',\n",
       " 'unreported',\n",
       " 'unreported unrestricted',\n",
       " 'unrestricted',\n",
       " 'unrestricted ill',\n",
       " 'unsafe',\n",
       " 'unsafe use',\n",
       " 'unsanitary',\n",
       " 'unsanitary employee',\n",
       " 'unsanitary food',\n",
       " 'unsanitary mobile',\n",
       " 'unsanitary refuse',\n",
       " 'use',\n",
       " 'use gloves',\n",
       " 'use identification',\n",
       " 'use time',\n",
       " 'utensils',\n",
       " 'utensils linens',\n",
       " 'variance',\n",
       " 'vegetables',\n",
       " 'vending',\n",
       " 'vending machine',\n",
       " 'ventilation',\n",
       " 'ventilation lighting',\n",
       " 'vermin',\n",
       " 'vermin infestation',\n",
       " 'violation',\n",
       " 'walls',\n",
       " 'walls ceilings',\n",
       " 'warewashing',\n",
       " 'warewashing facilities',\n",
       " 'washed',\n",
       " 'washed fruits',\n",
       " 'wastewater',\n",
       " 'wastewater contamination',\n",
       " 'wastewater disposal',\n",
       " 'water',\n",
       " 'water running',\n",
       " 'wiping',\n",
       " 'wiping cloths',\n",
       " 'worker',\n",
       " 'worker safety']"
      ]
     },
     "execution_count": 20,
     "metadata": {},
     "output_type": "execute_result"
    }
   ],
   "source": [
    "#just want to see all the column names\n",
    "list(violations_parsed.columns)"
   ]
  },
  {
   "cell_type": "code",
   "execution_count": 30,
   "metadata": {
    "collapsed": false,
    "scrolled": true
   },
   "outputs": [
    {
     "data": {
      "text/plain": [
       "Index([u'business_id', u'score', u'date', u'type', u'violation_count',\n",
       "       u'days_since_first_violation', u'name', u'address', u'city', u'state',\n",
       "       u'postal_code', u'latitude', u'longitude', u'phone_number', u'polygon',\n",
       "       u'neighborhood', u'population', u'score_code', u'business_count',\n",
       "       u'description'],\n",
       "      dtype='object')"
      ]
     },
     "execution_count": 30,
     "metadata": {},
     "output_type": "execute_result"
    }
   ],
   "source": [
    "#non-binary variables\n",
    "violations_parsed.columns[0:20]"
   ]
  },
  {
   "cell_type": "markdown",
   "metadata": {},
   "source": [
    "### Below I'm figuring out what columns are useful"
   ]
  },
  {
   "cell_type": "code",
   "execution_count": 21,
   "metadata": {
    "collapsed": false,
    "scrolled": true
   },
   "outputs": [
    {
     "name": "stdout",
     "output_type": "stream",
     "text": [
      "city 1\n",
      "state 1\n"
     ]
    }
   ],
   "source": [
    "#columns with only one value - not useful\n",
    "for c in violations_parsed.columns:\n",
    "    unique = len(violations_parsed[c].unique())\n",
    "    if unique == 1:\n",
    "        print c, unique"
   ]
  },
  {
   "cell_type": "code",
   "execution_count": 56,
   "metadata": {
    "collapsed": false
   },
   "outputs": [
    {
     "name": "stdout",
     "output_type": "stream",
     "text": [
      "type 2\n",
      "200 2\n",
      "200 feet 2\n",
      "adulterated 2\n",
      "adulterated food 2\n",
      "advisory 2\n",
      "advisory provided 2\n",
      "animal 2\n",
      "approved 2\n",
      "approved commissary 2\n",
      "area 2\n",
      "area garbage 2\n",
      "available 2\n",
      "building 2\n",
      "building permit 2\n",
      "card 2\n",
      "card available 2\n",
      "ceilings 2\n",
      "certificate 2\n",
      "certificate food 2\n",
      "certified 2\n",
      "certified food 2\n",
      "charge 2\n",
      "charge food 2\n",
      "clean 2\n",
      "clean properly 2\n",
      "cleaned 2\n",
      "cleaned sanitized 2\n",
      "cloths 2\n",
      "cloths clean 2\n",
      "commissary 2\n",
      "communicable 2\n",
      "communicable disease 2\n",
      "condition 2\n",
      "conditions 2\n",
      "constructed 2\n",
      "constructed toilet 2\n",
      "consumer 2\n",
      "consumer advisory 2\n",
      "contact 2\n",
      "contact surfaces 2\n",
      "containers 2\n",
      "containers area 2\n",
      "contaminated 2\n",
      "contaminated adulterated 2\n",
      "contamination 2\n",
      "control 2\n",
      "control measure 2\n",
      "cooking 2\n",
      "cooking time 2\n",
      "cooling 2\n",
      "cooling methods 2\n",
      "cottage 2\n",
      "cottage food 2\n",
      "defective 2\n",
      "defective plumbing 2\n",
      "degraded 2\n",
      "degraded floors 2\n",
      "discharge 2\n",
      "discharge employee 2\n",
      "disease 2\n",
      "display 2\n",
      "disposal 2\n",
      "dressing 2\n",
      "dressing rooms 2\n",
      "eating 2\n",
      "eating smoking 2\n",
      "employee 2\n",
      "employee communicable 2\n",
      "employee eating 2\n",
      "employee garments 2\n",
      "employee nose 2\n",
      "equipment 2\n",
      "equipment utensils 2\n",
      "eye 2\n",
      "facilities 2\n",
      "facilities equipment 2\n",
      "facility 2\n",
      "facility 200 2\n",
      "facility operating 2\n",
      "facility unapproved 2\n",
      "feet 2\n",
      "feet mobile 2\n",
      "fish 2\n",
      "fish tags 2\n",
      "floors 2\n",
      "floors walls 2\n",
      "food 2\n",
      "food contact 2\n",
      "food facility 2\n",
      "food handler 2\n",
      "food holding 2\n",
      "food labeling 2\n",
      "food operation 2\n",
      "food poor 2\n",
      "food safety 2\n",
      "food served 2\n",
      "food source 2\n",
      "food storage 2\n",
      "foods 2\n",
      "foods protected 2\n",
      "fruits 2\n",
      "fruits vegetables 2\n",
      "garbage 2\n",
      "garbage service 2\n",
      "garments 2\n",
      "garments hair 2\n",
      "gloves 2\n",
      "haacp 2\n",
      "haacp plan 2\n",
      "haccp 2\n",
      "haccp plan 2\n",
      "hair 2\n",
      "hair nails 2\n",
      "handler 2\n",
      "handler card 2\n",
      "hands 2\n",
      "hands improper 2\n",
      "handwashing 2\n",
      "handwashing facilities 2\n",
      "hazards 2\n",
      "health 2\n",
      "health control 2\n",
      "high 2\n",
      "high risk 2\n",
      "holding 2\n",
      "holding temperature 2\n",
      "hot 2\n",
      "hot water 2\n",
      "identification 2\n",
      "identification toxic 2\n",
      "ill 2\n",
      "ill employee 2\n",
      "improper 2\n",
      "improper cooking 2\n",
      "improper cooling 2\n",
      "improper defective 2\n",
      "improper food 2\n",
      "improper reheating 2\n",
      "improper storage 2\n",
      "improper thawing 2\n",
      "improper use 2\n",
      "improperly 2\n",
      "improperly constructed 2\n",
      "improperly washed 2\n",
      "inaccessible 2\n",
      "inaccessible handwashing 2\n",
      "inadequate 2\n",
      "inadequate dressing 2\n",
      "inadequate food 2\n",
      "inadequate haccp 2\n",
      "inadequate inaccessible 2\n",
      "inadequate procedures 2\n",
      "inadequate sanitizer 2\n",
      "inadequate sewage 2\n",
      "inadequate unsanitary 2\n",
      "inadequate ventilation 2\n",
      "inadequate warewashing 2\n",
      "inadequately 2\n",
      "inadequately cleaned 2\n",
      "infestation 2\n",
      "inspection 2\n",
      "inspection report 2\n",
      "insufficient 2\n",
      "insufficient hot 2\n",
      "items 2\n",
      "keeping 2\n",
      "knowledge 2\n",
      "knowledge lack 2\n",
      "labeling 2\n",
      "labeling menu 2\n",
      "lack 2\n",
      "lack certified 2\n",
      "license 2\n",
      "license inspection 2\n",
      "lighting 2\n",
      "linens 2\n",
      "living 2\n",
      "living quarters 2\n",
      "low 2\n",
      "low risk 2\n",
      "machine 2\n",
      "manager 2\n",
      "measure 2\n",
      "menu 2\n",
      "menu misrepresentation 2\n",
      "methods 2\n",
      "misrepresentation 2\n",
      "mobile 2\n",
      "mobile food 2\n",
      "moderate 2\n",
      "moderate risk 2\n",
      "mouth 2\n",
      "mouth eye 2\n",
      "nails 2\n",
      "non 2\n",
      "non service 2\n",
      "noncompliance 2\n",
      "noncompliance cottage 2\n",
      "noncompliance haacp 2\n",
      "noncompliance shell 2\n",
      "noncompliance vending 2\n",
      "nonfood 2\n",
      "nonfood contact 2\n",
      "nose 2\n",
      "nose mouth 2\n",
      "operating 2\n",
      "operating approved 2\n",
      "operating conditions 2\n",
      "operation 2\n",
      "permit 2\n",
      "permit license 2\n",
      "person 2\n",
      "person charge 2\n",
      "personal 2\n",
      "personal items 2\n",
      "plan 2\n",
      "plan record 2\n",
      "plan review 2\n",
      "plan variance 2\n",
      "plumbing 2\n",
      "poor 2\n",
      "poor condition 2\n",
      "population.1 2\n",
      "posted 2\n",
      "previously 2\n",
      "previously served 2\n",
      "procedures 2\n",
      "procedures records 2\n",
      "prohibited 2\n",
      "prohibited food 2\n",
      "properly 2\n",
      "properly stored 2\n",
      "protected 2\n",
      "protected contamination 2\n",
      "provided 2\n",
      "provided raw 2\n",
      "public 2\n",
      "public health 2\n",
      "quarters 2\n",
      "quarters food 2\n",
      "raw 2\n",
      "raw undercooked 2\n",
      "record 2\n",
      "record keeping 2\n",
      "records 2\n",
      "records time 2\n",
      "refuse 2\n",
      "refuse containers 2\n",
      "reheating 2\n",
      "reheating food 2\n",
      "report 2\n",
      "report posted 2\n",
      "reservice 2\n",
      "reservice previously 2\n",
      "restroom 2\n",
      "restroom facility 2\n",
      "review 2\n",
      "review building 2\n",
      "risk 2\n",
      "risk food 2\n",
      "risk vermin 2\n",
      "risk violation 2\n",
      "rooms 2\n",
      "rooms improper 2\n",
      "running 2\n",
      "running water 2\n",
      "safety 2\n",
      "safety certificate 2\n",
      "safety hazards 2\n",
      "safety knowledge 2\n",
      "safety manager 2\n",
      "sanitized 2\n",
      "sanitized food 2\n",
      "sanitizer 2\n",
      "sensitive 2\n",
      "sensitive population 2\n",
      "served 2\n",
      "served foods 2\n",
      "served sensitive 2\n",
      "service 2\n",
      "service animal 2\n",
      "sewage 2\n",
      "sewage wastewater 2\n",
      "shell 2\n",
      "shell fish 2\n",
      "smoking 2\n",
      "source 2\n",
      "storage 2\n",
      "storage equipment 2\n",
      "storage personal 2\n",
      "storage use 2\n",
      "stored 2\n",
      "stored inadequate 2\n",
      "substances 2\n",
      "surfaces 2\n",
      "tags 2\n",
      "tags display 2\n",
      "temperature 2\n",
      "temperatures 2\n",
      "thawing 2\n",
      "thawing methods 2\n",
      "thermometers 2\n",
      "thermometers uncalibrated 2\n",
      "time 2\n",
      "time public 2\n",
      "time temperatures 2\n",
      "toilet 2\n",
      "toilet facilities 2\n",
      "toxic 2\n",
      "toxic substances 2\n",
      "unapproved 2\n",
      "unapproved food 2\n",
      "unapproved living 2\n",
      "unapproved operating 2\n",
      "unapproved unmaintained 2\n",
      "unauthorized 2\n",
      "unauthorized unsafe 2\n",
      "uncalibrated 2\n",
      "uncalibrated thermometers 2\n",
      "unclean 2\n",
      "unclean degraded 2\n",
      "unclean hands 2\n",
      "unclean nonfood 2\n",
      "unclean unmaintained 2\n",
      "unclean unsanitary 2\n",
      "undercooked 2\n",
      "undercooked foods 2\n",
      "unmaintained 2\n",
      "unmaintained equipment 2\n",
      "unmaintained improperly 2\n",
      "unpermitted 2\n",
      "unpermitted food 2\n",
      "unreported 2\n",
      "unreported unrestricted 2\n",
      "unrestricted 2\n",
      "unrestricted ill 2\n",
      "unsafe 2\n",
      "unsafe use 2\n",
      "unsanitary 2\n",
      "unsanitary employee 2\n",
      "unsanitary food 2\n",
      "unsanitary mobile 2\n",
      "unsanitary refuse 2\n",
      "use 2\n",
      "use gloves 2\n",
      "use identification 2\n",
      "use time 2\n",
      "utensils 2\n",
      "utensils linens 2\n",
      "variance 2\n",
      "vegetables 2\n",
      "vending 2\n",
      "vending machine 2\n",
      "ventilation 2\n",
      "ventilation lighting 2\n",
      "vermin 2\n",
      "vermin infestation 2\n",
      "violation 2\n",
      "walls 2\n",
      "walls ceilings 2\n",
      "warewashing 2\n",
      "warewashing facilities 2\n",
      "washed 2\n",
      "washed fruits 2\n",
      "wastewater 2\n",
      "wastewater contamination 2\n",
      "wastewater disposal 2\n",
      "water 2\n",
      "water running 2\n",
      "wiping 2\n",
      "wiping cloths 2\n",
      "worker 2\n",
      "worker safety 2\n"
     ]
    }
   ],
   "source": [
    "#columns with 2 unique values but not necessarily boolean - for example type\n",
    "for c in violations_parsed.columns:\n",
    "    unique = len(violations_parsed[c].unique())\n",
    "    if unique == 2:\n",
    "        print c, unique"
   ]
  },
  {
   "cell_type": "code",
   "execution_count": 57,
   "metadata": {
    "collapsed": false,
    "scrolled": true
   },
   "outputs": [
    {
     "name": "stdout",
     "output_type": "stream",
     "text": [
      "business_id 3705\n",
      "score 49\n",
      "date 779\n",
      "violation_count 8\n",
      "days_since_first_violation 980\n",
      "name 3427\n",
      "address 3516\n",
      "postal_code 53\n",
      "latitude 2918\n",
      "longitude 2971\n",
      "phone_number 3175\n",
      "polygon 44\n",
      "neighborhood 44\n",
      "population 42\n",
      "score_code 4\n",
      "business_count 40\n",
      "description 130\n"
     ]
    }
   ],
   "source": [
    "#columns with more than 2 unique values\n",
    "for c in violations_parsed.columns:\n",
    "    unique = len(violations_parsed[c].unique())\n",
    "    if unique > 2:\n",
    "        print c, unique"
   ]
  },
  {
   "cell_type": "code",
   "execution_count": 58,
   "metadata": {
    "collapsed": false
   },
   "outputs": [],
   "source": [
    "#gives me a mask for the \"actual\" binary variables \n",
    "binary_cols = [col for col in violations_parsed\n",
    "             if violations_parsed[[col]].isin([0, 1]).all().values]\n"
   ]
  },
  {
   "cell_type": "code",
   "execution_count": 59,
   "metadata": {
    "collapsed": false
   },
   "outputs": [
    {
     "data": {
      "text/plain": [
       "(32455, 373)"
      ]
     },
     "execution_count": 59,
     "metadata": {},
     "output_type": "execute_result"
    }
   ],
   "source": [
    "violations_parsed[binary_cols].shape"
   ]
  },
  {
   "cell_type": "code",
   "execution_count": 60,
   "metadata": {
    "collapsed": false
   },
   "outputs": [
    {
     "data": {
      "text/plain": [
       "False"
      ]
     },
     "execution_count": 60,
     "metadata": {},
     "output_type": "execute_result"
    }
   ],
   "source": [
    "violations_parsed[binary_cols].isnull().values.any()"
   ]
  },
  {
   "cell_type": "code",
   "execution_count": 53,
   "metadata": {
    "collapsed": false
   },
   "outputs": [
    {
     "data": {
      "text/plain": [
       "(32455, 393)"
      ]
     },
     "execution_count": 53,
     "metadata": {},
     "output_type": "execute_result"
    }
   ],
   "source": [
    "#so only 20 columns are currently non-binary\n",
    "violations_parsed.shape"
   ]
  },
  {
   "cell_type": "code",
   "execution_count": 61,
   "metadata": {
    "collapsed": false
   },
   "outputs": [],
   "source": [
    "#this will give me the non-binary columns\n",
    "not_binary_cols = [x for x in violations_parsed.columns if x not in binary_cols]"
   ]
  },
  {
   "cell_type": "code",
   "execution_count": 62,
   "metadata": {
    "collapsed": false
   },
   "outputs": [
    {
     "data": {
      "text/plain": [
       "['business_id',\n",
       " 'score',\n",
       " 'date',\n",
       " 'type',\n",
       " 'violation_count',\n",
       " 'days_since_first_violation',\n",
       " 'name',\n",
       " 'address',\n",
       " 'city',\n",
       " 'state',\n",
       " 'postal_code',\n",
       " 'latitude',\n",
       " 'longitude',\n",
       " 'phone_number',\n",
       " 'polygon',\n",
       " 'neighborhood',\n",
       " 'population',\n",
       " 'score_code',\n",
       " 'business_count',\n",
       " 'description']"
      ]
     },
     "execution_count": 62,
     "metadata": {},
     "output_type": "execute_result"
    }
   ],
   "source": [
    "not_binary_cols"
   ]
  },
  {
   "cell_type": "code",
   "execution_count": 63,
   "metadata": {
    "collapsed": false
   },
   "outputs": [
    {
     "data": {
      "text/html": [
       "<div>\n",
       "<table border=\"1\" class=\"dataframe\">\n",
       "  <thead>\n",
       "    <tr style=\"text-align: right;\">\n",
       "      <th></th>\n",
       "      <th>business_id</th>\n",
       "      <th>score</th>\n",
       "      <th>date</th>\n",
       "      <th>type</th>\n",
       "      <th>violation_count</th>\n",
       "      <th>days_since_first_violation</th>\n",
       "      <th>name</th>\n",
       "      <th>address</th>\n",
       "      <th>city</th>\n",
       "      <th>state</th>\n",
       "      <th>postal_code</th>\n",
       "      <th>latitude</th>\n",
       "      <th>longitude</th>\n",
       "      <th>phone_number</th>\n",
       "      <th>polygon</th>\n",
       "      <th>neighborhood</th>\n",
       "      <th>population</th>\n",
       "      <th>score_code</th>\n",
       "      <th>business_count</th>\n",
       "      <th>description</th>\n",
       "    </tr>\n",
       "  </thead>\n",
       "  <tbody>\n",
       "    <tr>\n",
       "      <th>0</th>\n",
       "      <td>10.0</td>\n",
       "      <td>92.0</td>\n",
       "      <td>2014-01-14</td>\n",
       "      <td>routine</td>\n",
       "      <td>1.0</td>\n",
       "      <td>0.0</td>\n",
       "      <td>TIRAMISU KITCHEN</td>\n",
       "      <td>033 BELDEN PL</td>\n",
       "      <td>San Francisco</td>\n",
       "      <td>CA</td>\n",
       "      <td>94104</td>\n",
       "      <td>37.791116</td>\n",
       "      <td>-122.403816</td>\n",
       "      <td>1.41542e+10</td>\n",
       "      <td>10.0</td>\n",
       "      <td>Downtown</td>\n",
       "      <td>13,000</td>\n",
       "      <td>good</td>\n",
       "      <td>112.0</td>\n",
       "      <td>Inadequate and inaccessible handwashing facili...</td>\n",
       "    </tr>\n",
       "    <tr>\n",
       "      <th>1</th>\n",
       "      <td>10.0</td>\n",
       "      <td>92.0</td>\n",
       "      <td>2014-01-14</td>\n",
       "      <td>routine</td>\n",
       "      <td>1.0</td>\n",
       "      <td>0.0</td>\n",
       "      <td>TIRAMISU KITCHEN</td>\n",
       "      <td>033 BELDEN PL</td>\n",
       "      <td>San Francisco</td>\n",
       "      <td>CA</td>\n",
       "      <td>94104</td>\n",
       "      <td>37.791116</td>\n",
       "      <td>-122.403816</td>\n",
       "      <td>1.41542e+10</td>\n",
       "      <td>10.0</td>\n",
       "      <td>Downtown</td>\n",
       "      <td>13,000</td>\n",
       "      <td>good</td>\n",
       "      <td>112.0</td>\n",
       "      <td>Unclean or degraded floors walls or ceilings</td>\n",
       "    </tr>\n",
       "  </tbody>\n",
       "</table>\n",
       "</div>"
      ],
      "text/plain": [
       "   business_id  score       date     type  violation_count  \\\n",
       "0         10.0   92.0 2014-01-14  routine              1.0   \n",
       "1         10.0   92.0 2014-01-14  routine              1.0   \n",
       "\n",
       "   days_since_first_violation              name        address           city  \\\n",
       "0                         0.0  TIRAMISU KITCHEN  033 BELDEN PL  San Francisco   \n",
       "1                         0.0  TIRAMISU KITCHEN  033 BELDEN PL  San Francisco   \n",
       "\n",
       "  state postal_code   latitude   longitude phone_number  polygon neighborhood  \\\n",
       "0    CA       94104  37.791116 -122.403816  1.41542e+10     10.0     Downtown   \n",
       "1    CA       94104  37.791116 -122.403816  1.41542e+10     10.0     Downtown   \n",
       "\n",
       "  population score_code  business_count  \\\n",
       "0     13,000       good           112.0   \n",
       "1     13,000       good           112.0   \n",
       "\n",
       "                                         description  \n",
       "0  Inadequate and inaccessible handwashing facili...  \n",
       "1     Unclean or degraded floors walls or ceilings    "
      ]
     },
     "execution_count": 63,
     "metadata": {},
     "output_type": "execute_result"
    }
   ],
   "source": [
    "violations_parsed[not_binary_cols].head(2)"
   ]
  },
  {
   "cell_type": "code",
   "execution_count": 44,
   "metadata": {
    "collapsed": false,
    "scrolled": true
   },
   "outputs": [
    {
     "data": {
      "text/plain": [
       "business_id                      0\n",
       "score                            0\n",
       "date                             0\n",
       "type                             0\n",
       "violation_count                  0\n",
       "days_since_first_violation       0\n",
       "name                             0\n",
       "address                          0\n",
       "city                             0\n",
       "state                            0\n",
       "postal_code                    480\n",
       "latitude                         0\n",
       "longitude                        0\n",
       "phone_number                  2162\n",
       "polygon                          0\n",
       "neighborhood                     0\n",
       "population                       0\n",
       "score_code                       0\n",
       "business_count                   0\n",
       "description                   2176\n",
       "dtype: int64"
      ]
     },
     "execution_count": 44,
     "metadata": {},
     "output_type": "execute_result"
    }
   ],
   "source": [
    "#looking for missing values in the non-binary columns\n",
    "violations_parsed[not_binary_cols].isnull().sum()"
   ]
  },
  {
   "cell_type": "code",
   "execution_count": 64,
   "metadata": {
    "collapsed": false
   },
   "outputs": [
    {
     "name": "stdout",
     "output_type": "stream",
     "text": [
      "<class 'pandas.core.frame.DataFrame'>\n",
      "RangeIndex: 32455 entries, 0 to 32454\n",
      "Data columns (total 20 columns):\n",
      "business_id                   32455 non-null float64\n",
      "score                         32455 non-null float64\n",
      "date                          32455 non-null datetime64[ns]\n",
      "type                          32455 non-null object\n",
      "violation_count               32455 non-null float64\n",
      "days_since_first_violation    32455 non-null float64\n",
      "name                          32455 non-null object\n",
      "address                       32455 non-null object\n",
      "city                          32455 non-null object\n",
      "state                         32455 non-null object\n",
      "postal_code                   31975 non-null object\n",
      "latitude                      32455 non-null float64\n",
      "longitude                     32455 non-null float64\n",
      "phone_number                  30293 non-null object\n",
      "polygon                       32455 non-null float64\n",
      "neighborhood                  32455 non-null object\n",
      "population                    32455 non-null object\n",
      "score_code                    32455 non-null object\n",
      "business_count                32455 non-null float64\n",
      "description                   30279 non-null object\n",
      "dtypes: datetime64[ns](1), float64(8), object(11)\n",
      "memory usage: 5.0+ MB\n"
     ]
    }
   ],
   "source": [
    "violations_parsed[not_binary_cols].info()"
   ]
  },
  {
   "cell_type": "code",
   "execution_count": 65,
   "metadata": {
    "collapsed": false
   },
   "outputs": [],
   "source": [
    "#convert date to datetime\n",
    "violations_parsed['date'] = pd.to_datetime(violations_parsed['date'], format='%Y/%m/%d')"
   ]
  },
  {
   "cell_type": "code",
   "execution_count": 66,
   "metadata": {
    "collapsed": false
   },
   "outputs": [
    {
     "data": {
      "text/plain": [
       "dtype('<M8[ns]')"
      ]
     },
     "execution_count": 66,
     "metadata": {},
     "output_type": "execute_result"
    }
   ],
   "source": [
    "violations_parsed.date.dtypes"
   ]
  },
  {
   "cell_type": "code",
   "execution_count": null,
   "metadata": {
    "collapsed": true
   },
   "outputs": [],
   "source": []
  },
  {
   "cell_type": "code",
   "execution_count": 64,
   "metadata": {
    "collapsed": false
   },
   "outputs": [],
   "source": [
    "interesting_vars = violations_parsed[['score', 'date', \\\n",
    "                                           'violation_count', 'days_since_first_violation', 'neighborhood',\\\n",
    "                                           'population', 'business_count']]"
   ]
  },
  {
   "cell_type": "code",
   "execution_count": 66,
   "metadata": {
    "collapsed": false
   },
   "outputs": [
    {
     "data": {
      "text/plain": [
       "score                                float64\n",
       "date                          datetime64[ns]\n",
       "violation_count                      float64\n",
       "days_since_first_violation           float64\n",
       "neighborhood                          object\n",
       "population                            object\n",
       "business_count                       float64\n",
       "dtype: object"
      ]
     },
     "execution_count": 66,
     "metadata": {},
     "output_type": "execute_result"
    }
   ],
   "source": [
    "interesting_vars.dtypes"
   ]
  },
  {
   "cell_type": "code",
   "execution_count": 67,
   "metadata": {
    "collapsed": false
   },
   "outputs": [],
   "source": [
    "interesting_vars[['population']] = interesting_vars[['population']].apply(pd.to_numeric, errors='coerce')"
   ]
  },
  {
   "cell_type": "code",
   "execution_count": 68,
   "metadata": {
    "collapsed": false,
    "scrolled": true
   },
   "outputs": [
    {
     "data": {
      "text/plain": [
       "score                                float64\n",
       "date                          datetime64[ns]\n",
       "violation_count                      float64\n",
       "days_since_first_violation           float64\n",
       "neighborhood                          object\n",
       "population                           float64\n",
       "business_count                       float64\n",
       "dtype: object"
      ]
     },
     "execution_count": 68,
     "metadata": {},
     "output_type": "execute_result"
    }
   ],
   "source": [
    "interesting_vars.dtypes"
   ]
  },
  {
   "cell_type": "code",
   "execution_count": 69,
   "metadata": {
    "collapsed": false
   },
   "outputs": [
    {
     "data": {
      "text/plain": [
       "(32455, 7)"
      ]
     },
     "execution_count": 69,
     "metadata": {},
     "output_type": "execute_result"
    }
   ],
   "source": [
    "interesting_vars.shape"
   ]
  },
  {
   "cell_type": "code",
   "execution_count": 70,
   "metadata": {
    "collapsed": false,
    "scrolled": true
   },
   "outputs": [
    {
     "data": {
      "text/html": [
       "<div>\n",
       "<table border=\"1\" class=\"dataframe\">\n",
       "  <thead>\n",
       "    <tr style=\"text-align: right;\">\n",
       "      <th></th>\n",
       "      <th>score</th>\n",
       "      <th>date</th>\n",
       "      <th>violation_count</th>\n",
       "      <th>days_since_first_violation</th>\n",
       "      <th>neighborhood</th>\n",
       "      <th>population</th>\n",
       "      <th>business_count</th>\n",
       "    </tr>\n",
       "  </thead>\n",
       "  <tbody>\n",
       "    <tr>\n",
       "      <th>0</th>\n",
       "      <td>92.0</td>\n",
       "      <td>2014-01-14</td>\n",
       "      <td>1.0</td>\n",
       "      <td>0.0</td>\n",
       "      <td>Downtown</td>\n",
       "      <td>NaN</td>\n",
       "      <td>112.0</td>\n",
       "    </tr>\n",
       "    <tr>\n",
       "      <th>1</th>\n",
       "      <td>92.0</td>\n",
       "      <td>2014-01-14</td>\n",
       "      <td>1.0</td>\n",
       "      <td>0.0</td>\n",
       "      <td>Downtown</td>\n",
       "      <td>NaN</td>\n",
       "      <td>112.0</td>\n",
       "    </tr>\n",
       "    <tr>\n",
       "      <th>2</th>\n",
       "      <td>92.0</td>\n",
       "      <td>2014-01-14</td>\n",
       "      <td>1.0</td>\n",
       "      <td>0.0</td>\n",
       "      <td>Downtown</td>\n",
       "      <td>NaN</td>\n",
       "      <td>112.0</td>\n",
       "    </tr>\n",
       "    <tr>\n",
       "      <th>3</th>\n",
       "      <td>94.0</td>\n",
       "      <td>2014-07-29</td>\n",
       "      <td>2.0</td>\n",
       "      <td>196.0</td>\n",
       "      <td>Downtown</td>\n",
       "      <td>NaN</td>\n",
       "      <td>112.0</td>\n",
       "    </tr>\n",
       "    <tr>\n",
       "      <th>4</th>\n",
       "      <td>94.0</td>\n",
       "      <td>2014-07-29</td>\n",
       "      <td>2.0</td>\n",
       "      <td>196.0</td>\n",
       "      <td>Downtown</td>\n",
       "      <td>NaN</td>\n",
       "      <td>112.0</td>\n",
       "    </tr>\n",
       "  </tbody>\n",
       "</table>\n",
       "</div>"
      ],
      "text/plain": [
       "   score       date  violation_count  days_since_first_violation neighborhood  \\\n",
       "0   92.0 2014-01-14              1.0                         0.0     Downtown   \n",
       "1   92.0 2014-01-14              1.0                         0.0     Downtown   \n",
       "2   92.0 2014-01-14              1.0                         0.0     Downtown   \n",
       "3   94.0 2014-07-29              2.0                       196.0     Downtown   \n",
       "4   94.0 2014-07-29              2.0                       196.0     Downtown   \n",
       "\n",
       "   population  business_count  \n",
       "0         NaN           112.0  \n",
       "1         NaN           112.0  \n",
       "2         NaN           112.0  \n",
       "3         NaN           112.0  \n",
       "4         NaN           112.0  "
      ]
     },
     "execution_count": 70,
     "metadata": {},
     "output_type": "execute_result"
    }
   ],
   "source": [
    "interesting_vars.head()"
   ]
  },
  {
   "cell_type": "code",
   "execution_count": 110,
   "metadata": {
    "collapsed": false
   },
   "outputs": [
    {
     "data": {
      "text/html": [
       "<div>\n",
       "<table border=\"1\" class=\"dataframe\">\n",
       "  <thead>\n",
       "    <tr style=\"text-align: right;\">\n",
       "      <th></th>\n",
       "      <th>score</th>\n",
       "      <th>violation_count</th>\n",
       "      <th>days_since_first_violation</th>\n",
       "      <th>population</th>\n",
       "      <th>business_count</th>\n",
       "    </tr>\n",
       "  </thead>\n",
       "  <tbody>\n",
       "    <tr>\n",
       "      <th>count</th>\n",
       "      <td>32455.000000</td>\n",
       "      <td>32455.000000</td>\n",
       "      <td>32455.000000</td>\n",
       "      <td>1814.000000</td>\n",
       "      <td>32455.000000</td>\n",
       "    </tr>\n",
       "    <tr>\n",
       "      <th>mean</th>\n",
       "      <td>86.101186</td>\n",
       "      <td>2.239439</td>\n",
       "      <td>321.846372</td>\n",
       "      <td>1315.541345</td>\n",
       "      <td>130.471607</td>\n",
       "    </tr>\n",
       "    <tr>\n",
       "      <th>std</th>\n",
       "      <td>9.386847</td>\n",
       "      <td>1.167865</td>\n",
       "      <td>307.113839</td>\n",
       "      <td>1434.475897</td>\n",
       "      <td>108.646587</td>\n",
       "    </tr>\n",
       "    <tr>\n",
       "      <th>min</th>\n",
       "      <td>46.000000</td>\n",
       "      <td>1.000000</td>\n",
       "      <td>0.000000</td>\n",
       "      <td>460.000000</td>\n",
       "      <td>2.000000</td>\n",
       "    </tr>\n",
       "    <tr>\n",
       "      <th>25%</th>\n",
       "      <td>81.000000</td>\n",
       "      <td>1.000000</td>\n",
       "      <td>0.000000</td>\n",
       "      <td>460.000000</td>\n",
       "      <td>44.000000</td>\n",
       "    </tr>\n",
       "    <tr>\n",
       "      <th>50%</th>\n",
       "      <td>88.000000</td>\n",
       "      <td>2.000000</td>\n",
       "      <td>248.000000</td>\n",
       "      <td>460.000000</td>\n",
       "      <td>100.000000</td>\n",
       "    </tr>\n",
       "    <tr>\n",
       "      <th>75%</th>\n",
       "      <td>93.000000</td>\n",
       "      <td>3.000000</td>\n",
       "      <td>548.000000</td>\n",
       "      <td>1000.000000</td>\n",
       "      <td>186.000000</td>\n",
       "    </tr>\n",
       "    <tr>\n",
       "      <th>max</th>\n",
       "      <td>100.000000</td>\n",
       "      <td>8.000000</td>\n",
       "      <td>1082.000000</td>\n",
       "      <td>4000.000000</td>\n",
       "      <td>379.000000</td>\n",
       "    </tr>\n",
       "  </tbody>\n",
       "</table>\n",
       "</div>"
      ],
      "text/plain": [
       "              score  violation_count  days_since_first_violation   population  \\\n",
       "count  32455.000000     32455.000000                32455.000000  1814.000000   \n",
       "mean      86.101186         2.239439                  321.846372  1315.541345   \n",
       "std        9.386847         1.167865                  307.113839  1434.475897   \n",
       "min       46.000000         1.000000                    0.000000   460.000000   \n",
       "25%       81.000000         1.000000                    0.000000   460.000000   \n",
       "50%       88.000000         2.000000                  248.000000   460.000000   \n",
       "75%       93.000000         3.000000                  548.000000  1000.000000   \n",
       "max      100.000000         8.000000                 1082.000000  4000.000000   \n",
       "\n",
       "       business_count  \n",
       "count    32455.000000  \n",
       "mean       130.471607  \n",
       "std        108.646587  \n",
       "min          2.000000  \n",
       "25%         44.000000  \n",
       "50%        100.000000  \n",
       "75%        186.000000  \n",
       "max        379.000000  "
      ]
     },
     "execution_count": 110,
     "metadata": {},
     "output_type": "execute_result"
    }
   ],
   "source": [
    "interesting_vars.describe()"
   ]
  },
  {
   "cell_type": "code",
   "execution_count": 116,
   "metadata": {
    "collapsed": false
   },
   "outputs": [
    {
     "data": {
      "text/plain": [
       "SpearmanrResult(correlation=0.045766295461716899, pvalue=1.5982323483942548e-16)"
      ]
     },
     "execution_count": 116,
     "metadata": {},
     "output_type": "execute_result"
    }
   ],
   "source": [
    "from scipy.stats import spearmanr\n",
    "\n",
    "spearmanr(interesting_vars.score.values, interesting_vars.violation_count.values)"
   ]
  },
  {
   "cell_type": "code",
   "execution_count": 115,
   "metadata": {
    "collapsed": false
   },
   "outputs": [
    {
     "data": {
      "text/plain": [
       "<matplotlib.axes._subplots.AxesSubplot at 0x1246b3910>"
      ]
     },
     "execution_count": 115,
     "metadata": {},
     "output_type": "execute_result"
    },
    {
     "data": {
      "image/png": "[encoded data removed]",
      "text/plain": [
       "<matplotlib.figure.Figure at 0x124bd8450>"
      ]
     },
     "metadata": {
      "image/png": {
       "height": 608,
       "width": 3814
      }
     },
     "output_type": "display_data"
    }
   ],
   "source": [
    "sns.regplot(x='violation_count', y='score', data=iv_frac)"
   ]
  },
  {
   "cell_type": "code",
   "execution_count": 102,
   "metadata": {
    "collapsed": false
   },
   "outputs": [],
   "source": [
    "violations_parsed.columns[0:20]\n",
    "\n",
    "wanted_columns = list([c for c in violations_parsed.columns[0:20] if c in interesting_vars.columns])+list(violations_parsed.columns[20:])"
   ]
  },
  {
   "cell_type": "code",
   "execution_count": 104,
   "metadata": {
    "collapsed": false
   },
   "outputs": [
    {
     "data": {
      "text/plain": [
       "(32455, 380)"
      ]
     },
     "execution_count": 104,
     "metadata": {},
     "output_type": "execute_result"
    }
   ],
   "source": [
    "X_interesting = violations_parsed[wanted_columns].values\n",
    "X_interesting.shape"
   ]
  },
  {
   "cell_type": "markdown",
   "metadata": {},
   "source": [
    "### some eda I guess..."
   ]
  },
  {
   "cell_type": "code",
   "execution_count": 71,
   "metadata": {
    "collapsed": false,
    "scrolled": true
   },
   "outputs": [
    {
     "data": {
      "text/html": [
       "<div>\n",
       "<table border=\"1\" class=\"dataframe\">\n",
       "  <thead>\n",
       "    <tr style=\"text-align: right;\">\n",
       "      <th></th>\n",
       "      <th>score</th>\n",
       "      <th>violation_count</th>\n",
       "      <th>days_since_first_violation</th>\n",
       "      <th>population</th>\n",
       "      <th>business_count</th>\n",
       "    </tr>\n",
       "  </thead>\n",
       "  <tbody>\n",
       "    <tr>\n",
       "      <th>score</th>\n",
       "      <td>1.000000</td>\n",
       "      <td>0.057639</td>\n",
       "      <td>-0.006737</td>\n",
       "      <td>-0.014436</td>\n",
       "      <td>0.000090</td>\n",
       "    </tr>\n",
       "    <tr>\n",
       "      <th>violation_count</th>\n",
       "      <td>0.057639</td>\n",
       "      <td>1.000000</td>\n",
       "      <td>0.902845</td>\n",
       "      <td>0.096457</td>\n",
       "      <td>-0.000037</td>\n",
       "    </tr>\n",
       "    <tr>\n",
       "      <th>days_since_first_violation</th>\n",
       "      <td>-0.006737</td>\n",
       "      <td>0.902845</td>\n",
       "      <td>1.000000</td>\n",
       "      <td>0.042894</td>\n",
       "      <td>0.007562</td>\n",
       "    </tr>\n",
       "    <tr>\n",
       "      <th>population</th>\n",
       "      <td>-0.014436</td>\n",
       "      <td>0.096457</td>\n",
       "      <td>0.042894</td>\n",
       "      <td>1.000000</td>\n",
       "      <td>-0.883655</td>\n",
       "    </tr>\n",
       "    <tr>\n",
       "      <th>business_count</th>\n",
       "      <td>0.000090</td>\n",
       "      <td>-0.000037</td>\n",
       "      <td>0.007562</td>\n",
       "      <td>-0.883655</td>\n",
       "      <td>1.000000</td>\n",
       "    </tr>\n",
       "  </tbody>\n",
       "</table>\n",
       "</div>"
      ],
      "text/plain": [
       "                               score  violation_count  \\\n",
       "score                       1.000000         0.057639   \n",
       "violation_count             0.057639         1.000000   \n",
       "days_since_first_violation -0.006737         0.902845   \n",
       "population                 -0.014436         0.096457   \n",
       "business_count              0.000090        -0.000037   \n",
       "\n",
       "                            days_since_first_violation  population  \\\n",
       "score                                        -0.006737   -0.014436   \n",
       "violation_count                               0.902845    0.096457   \n",
       "days_since_first_violation                    1.000000    0.042894   \n",
       "population                                    0.042894    1.000000   \n",
       "business_count                                0.007562   -0.883655   \n",
       "\n",
       "                            business_count  \n",
       "score                             0.000090  \n",
       "violation_count                  -0.000037  \n",
       "days_since_first_violation        0.007562  \n",
       "population                       -0.883655  \n",
       "business_count                    1.000000  "
      ]
     },
     "execution_count": 71,
     "metadata": {},
     "output_type": "execute_result"
    }
   ],
   "source": [
    "interesting_vars.corr()"
   ]
  },
  {
   "cell_type": "code",
   "execution_count": 72,
   "metadata": {
    "collapsed": false
   },
   "outputs": [
    {
     "data": {
      "text/html": [
       "<div>\n",
       "<table border=\"1\" class=\"dataframe\">\n",
       "  <thead>\n",
       "    <tr style=\"text-align: right;\">\n",
       "      <th></th>\n",
       "      <th>score</th>\n",
       "      <th>violation_count</th>\n",
       "      <th>days_since_first_violation</th>\n",
       "      <th>population</th>\n",
       "      <th>business_count</th>\n",
       "    </tr>\n",
       "  </thead>\n",
       "  <tbody>\n",
       "    <tr>\n",
       "      <th>count</th>\n",
       "      <td>32455.000000</td>\n",
       "      <td>32455.000000</td>\n",
       "      <td>32455.000000</td>\n",
       "      <td>1814.000000</td>\n",
       "      <td>32455.000000</td>\n",
       "    </tr>\n",
       "    <tr>\n",
       "      <th>mean</th>\n",
       "      <td>86.101186</td>\n",
       "      <td>2.239439</td>\n",
       "      <td>321.846372</td>\n",
       "      <td>1315.541345</td>\n",
       "      <td>130.471607</td>\n",
       "    </tr>\n",
       "    <tr>\n",
       "      <th>std</th>\n",
       "      <td>9.386847</td>\n",
       "      <td>1.167865</td>\n",
       "      <td>307.113839</td>\n",
       "      <td>1434.475897</td>\n",
       "      <td>108.646587</td>\n",
       "    </tr>\n",
       "    <tr>\n",
       "      <th>min</th>\n",
       "      <td>46.000000</td>\n",
       "      <td>1.000000</td>\n",
       "      <td>0.000000</td>\n",
       "      <td>460.000000</td>\n",
       "      <td>2.000000</td>\n",
       "    </tr>\n",
       "    <tr>\n",
       "      <th>25%</th>\n",
       "      <td>81.000000</td>\n",
       "      <td>1.000000</td>\n",
       "      <td>0.000000</td>\n",
       "      <td>460.000000</td>\n",
       "      <td>44.000000</td>\n",
       "    </tr>\n",
       "    <tr>\n",
       "      <th>50%</th>\n",
       "      <td>88.000000</td>\n",
       "      <td>2.000000</td>\n",
       "      <td>248.000000</td>\n",
       "      <td>460.000000</td>\n",
       "      <td>100.000000</td>\n",
       "    </tr>\n",
       "    <tr>\n",
       "      <th>75%</th>\n",
       "      <td>93.000000</td>\n",
       "      <td>3.000000</td>\n",
       "      <td>548.000000</td>\n",
       "      <td>1000.000000</td>\n",
       "      <td>186.000000</td>\n",
       "    </tr>\n",
       "    <tr>\n",
       "      <th>max</th>\n",
       "      <td>100.000000</td>\n",
       "      <td>8.000000</td>\n",
       "      <td>1082.000000</td>\n",
       "      <td>4000.000000</td>\n",
       "      <td>379.000000</td>\n",
       "    </tr>\n",
       "  </tbody>\n",
       "</table>\n",
       "</div>"
      ],
      "text/plain": [
       "              score  violation_count  days_since_first_violation   population  \\\n",
       "count  32455.000000     32455.000000                32455.000000  1814.000000   \n",
       "mean      86.101186         2.239439                  321.846372  1315.541345   \n",
       "std        9.386847         1.167865                  307.113839  1434.475897   \n",
       "min       46.000000         1.000000                    0.000000   460.000000   \n",
       "25%       81.000000         1.000000                    0.000000   460.000000   \n",
       "50%       88.000000         2.000000                  248.000000   460.000000   \n",
       "75%       93.000000         3.000000                  548.000000  1000.000000   \n",
       "max      100.000000         8.000000                 1082.000000  4000.000000   \n",
       "\n",
       "       business_count  \n",
       "count    32455.000000  \n",
       "mean       130.471607  \n",
       "std        108.646587  \n",
       "min          2.000000  \n",
       "25%         44.000000  \n",
       "50%        100.000000  \n",
       "75%        186.000000  \n",
       "max        379.000000  "
      ]
     },
     "execution_count": 72,
     "metadata": {},
     "output_type": "execute_result"
    }
   ],
   "source": [
    "interesting_vars.describe()"
   ]
  },
  {
   "cell_type": "code",
   "execution_count": 73,
   "metadata": {
    "collapsed": false
   },
   "outputs": [
    {
     "data": {
      "text/plain": [
       "<matplotlib.text.Text at 0x185e5fcd0>"
      ]
     },
     "execution_count": 73,
     "metadata": {},
     "output_type": "execute_result"
    },
    {
     "data": {
      "image/png": "[encoded data removed]",
      "text/plain": [
       "<matplotlib.figure.Figure at 0x11aecfbd0>"
      ]
     },
     "metadata": {
      "image/png": {
       "height": 299,
       "width": 678
      }
     },
     "output_type": "display_data"
    }
   ],
   "source": [
    "sns.set(rc={\"figure.figsize\": (10, 4)})\n",
    "sns.set_style(\"darkgrid\", {\"axes.facecolor\": \".95\"})\n",
    "rate_dist = sns.distplot(interesting_vars['score'],kde=False, bins=16, color=\"#819ae4\")\n",
    "rate_dist.set_title('Distribution of Scores' '\\n', fontsize=14)"
   ]
  },
  {
   "cell_type": "code",
   "execution_count": 74,
   "metadata": {
    "collapsed": false
   },
   "outputs": [],
   "source": [
    "for_plot = interesting_vars[['neighborhood', 'score']].sort_values(['score'], ascending=False, axis=0)"
   ]
  },
  {
   "cell_type": "code",
   "execution_count": 75,
   "metadata": {
    "collapsed": false,
    "scrolled": true
   },
   "outputs": [
    {
     "data": {
      "text/plain": [
       "<matplotlib.axes._subplots.AxesSubplot at 0x11ce71290>"
      ]
     },
     "execution_count": 75,
     "metadata": {},
     "output_type": "execute_result"
    },
    {
     "data": {
      "image/png": "[encoded data removed]",
      "text/plain": [
       "<matplotlib.figure.Figure at 0x11b6ce110>"
      ]
     },
     "metadata": {
      "image/png": {
       "height": 608,
       "width": 3811
      }
     },
     "output_type": "display_data"
    }
   ],
   "source": [
    "#I'd like to sort this \n",
    "sns.set(rc={\"figure.figsize\": (60, 10)})\n",
    "sns.set_style(\"darkgrid\", {\"axes.facecolor\": \".95\"})\n",
    "sns.barplot(x='neighborhood', y='score', data=for_plot)"
   ]
  },
  {
   "cell_type": "code",
   "execution_count": null,
   "metadata": {
    "collapsed": true
   },
   "outputs": [],
   "source": []
  },
  {
   "cell_type": "code",
   "execution_count": 76,
   "metadata": {
    "collapsed": false,
    "scrolled": false
   },
   "outputs": [
    {
     "data": {
      "text/plain": [
       "[<matplotlib.lines.Line2D at 0x124bba550>]"
      ]
     },
     "execution_count": 76,
     "metadata": {},
     "output_type": "execute_result"
    },
    {
     "ename": "OverflowError",
     "evalue": "In draw_path: Exceeded cell block limit",
     "output_type": "error",
     "traceback": [
      "\u001b[0;31m---------------------------------------------------------------------------\u001b[0m",
      "\u001b[0;31mOverflowError\u001b[0m                             Traceback (most recent call last)",
      "\u001b[0;32m/Users/VanessaG/anaconda/lib/python2.7/site-packages/IPython/core/formatters.pyc\u001b[0m in \u001b[0;36m__call__\u001b[0;34m(self, obj)\u001b[0m\n\u001b[1;32m    337\u001b[0m                 \u001b[0;32mpass\u001b[0m\u001b[0;34m\u001b[0m\u001b[0m\n\u001b[1;32m    338\u001b[0m             \u001b[0;32melse\u001b[0m\u001b[0;34m:\u001b[0m\u001b[0;34m\u001b[0m\u001b[0m\n\u001b[0;32m--> 339\u001b[0;31m                 \u001b[0;32mreturn\u001b[0m \u001b[0mprinter\u001b[0m\u001b[0;34m(\u001b[0m\u001b[0mobj\u001b[0m\u001b[0;34m)\u001b[0m\u001b[0;34m\u001b[0m\u001b[0m\n\u001b[0m\u001b[1;32m    340\u001b[0m             \u001b[0;31m# Finally look for special method names\u001b[0m\u001b[0;34m\u001b[0m\u001b[0;34m\u001b[0m\u001b[0m\n\u001b[1;32m    341\u001b[0m             \u001b[0mmethod\u001b[0m \u001b[0;34m=\u001b[0m \u001b[0m_safe_get_formatter_method\u001b[0m\u001b[0;34m(\u001b[0m\u001b[0mobj\u001b[0m\u001b[0;34m,\u001b[0m \u001b[0mself\u001b[0m\u001b[0;34m.\u001b[0m\u001b[0mprint_method\u001b[0m\u001b[0;34m)\u001b[0m\u001b[0;34m\u001b[0m\u001b[0m\n",
      "\u001b[0;32m/Users/VanessaG/anaconda/lib/python2.7/site-packages/IPython/core/pylabtools.pyc\u001b[0m in \u001b[0;36m<lambda>\u001b[0;34m(fig)\u001b[0m\n\u001b[1;32m    226\u001b[0m         \u001b[0mpng_formatter\u001b[0m\u001b[0;34m.\u001b[0m\u001b[0mfor_type\u001b[0m\u001b[0;34m(\u001b[0m\u001b[0mFigure\u001b[0m\u001b[0;34m,\u001b[0m \u001b[0;32mlambda\u001b[0m \u001b[0mfig\u001b[0m\u001b[0;34m:\u001b[0m \u001b[0mprint_figure\u001b[0m\u001b[0;34m(\u001b[0m\u001b[0mfig\u001b[0m\u001b[0;34m,\u001b[0m \u001b[0;34m'png'\u001b[0m\u001b[0;34m,\u001b[0m \u001b[0;34m**\u001b[0m\u001b[0mkwargs\u001b[0m\u001b[0;34m)\u001b[0m\u001b[0;34m)\u001b[0m\u001b[0;34m\u001b[0m\u001b[0m\n\u001b[1;32m    227\u001b[0m     \u001b[0;32mif\u001b[0m \u001b[0;34m'retina'\u001b[0m \u001b[0;32min\u001b[0m \u001b[0mformats\u001b[0m \u001b[0;32mor\u001b[0m \u001b[0;34m'png2x'\u001b[0m \u001b[0;32min\u001b[0m \u001b[0mformats\u001b[0m\u001b[0;34m:\u001b[0m\u001b[0;34m\u001b[0m\u001b[0m\n\u001b[0;32m--> 228\u001b[0;31m         \u001b[0mpng_formatter\u001b[0m\u001b[0;34m.\u001b[0m\u001b[0mfor_type\u001b[0m\u001b[0;34m(\u001b[0m\u001b[0mFigure\u001b[0m\u001b[0;34m,\u001b[0m \u001b[0;32mlambda\u001b[0m \u001b[0mfig\u001b[0m\u001b[0;34m:\u001b[0m \u001b[0mretina_figure\u001b[0m\u001b[0;34m(\u001b[0m\u001b[0mfig\u001b[0m\u001b[0;34m,\u001b[0m \u001b[0;34m**\u001b[0m\u001b[0mkwargs\u001b[0m\u001b[0;34m)\u001b[0m\u001b[0;34m)\u001b[0m\u001b[0;34m\u001b[0m\u001b[0m\n\u001b[0m\u001b[1;32m    229\u001b[0m     \u001b[0;32mif\u001b[0m \u001b[0;34m'jpg'\u001b[0m \u001b[0;32min\u001b[0m \u001b[0mformats\u001b[0m \u001b[0;32mor\u001b[0m \u001b[0;34m'jpeg'\u001b[0m \u001b[0;32min\u001b[0m \u001b[0mformats\u001b[0m\u001b[0;34m:\u001b[0m\u001b[0;34m\u001b[0m\u001b[0m\n\u001b[1;32m    230\u001b[0m         \u001b[0mjpg_formatter\u001b[0m\u001b[0;34m.\u001b[0m\u001b[0mfor_type\u001b[0m\u001b[0;34m(\u001b[0m\u001b[0mFigure\u001b[0m\u001b[0;34m,\u001b[0m \u001b[0;32mlambda\u001b[0m \u001b[0mfig\u001b[0m\u001b[0;34m:\u001b[0m \u001b[0mprint_figure\u001b[0m\u001b[0;34m(\u001b[0m\u001b[0mfig\u001b[0m\u001b[0;34m,\u001b[0m \u001b[0;34m'jpg'\u001b[0m\u001b[0;34m,\u001b[0m \u001b[0;34m**\u001b[0m\u001b[0mkwargs\u001b[0m\u001b[0;34m)\u001b[0m\u001b[0;34m)\u001b[0m\u001b[0;34m\u001b[0m\u001b[0m\n",
      "\u001b[0;32m/Users/VanessaG/anaconda/lib/python2.7/site-packages/IPython/core/pylabtools.pyc\u001b[0m in \u001b[0;36mretina_figure\u001b[0;34m(fig, **kwargs)\u001b[0m\n\u001b[1;32m    123\u001b[0m \u001b[0;32mdef\u001b[0m \u001b[0mretina_figure\u001b[0m\u001b[0;34m(\u001b[0m\u001b[0mfig\u001b[0m\u001b[0;34m,\u001b[0m \u001b[0;34m**\u001b[0m\u001b[0mkwargs\u001b[0m\u001b[0;34m)\u001b[0m\u001b[0;34m:\u001b[0m\u001b[0;34m\u001b[0m\u001b[0m\n\u001b[1;32m    124\u001b[0m     \u001b[0;34m\"\"\"format a figure as a pixel-doubled (retina) PNG\"\"\"\u001b[0m\u001b[0;34m\u001b[0m\u001b[0m\n\u001b[0;32m--> 125\u001b[0;31m     \u001b[0mpngdata\u001b[0m \u001b[0;34m=\u001b[0m \u001b[0mprint_figure\u001b[0m\u001b[0;34m(\u001b[0m\u001b[0mfig\u001b[0m\u001b[0;34m,\u001b[0m \u001b[0mfmt\u001b[0m\u001b[0;34m=\u001b[0m\u001b[0;34m'retina'\u001b[0m\u001b[0;34m,\u001b[0m \u001b[0;34m**\u001b[0m\u001b[0mkwargs\u001b[0m\u001b[0;34m)\u001b[0m\u001b[0;34m\u001b[0m\u001b[0m\n\u001b[0m\u001b[1;32m    126\u001b[0m     \u001b[0;31m# Make sure that retina_figure acts just like print_figure and returns\u001b[0m\u001b[0;34m\u001b[0m\u001b[0;34m\u001b[0m\u001b[0m\n\u001b[1;32m    127\u001b[0m     \u001b[0;31m# None when the figure is empty.\u001b[0m\u001b[0;34m\u001b[0m\u001b[0;34m\u001b[0m\u001b[0m\n",
      "\u001b[0;32m/Users/VanessaG/anaconda/lib/python2.7/site-packages/IPython/core/pylabtools.pyc\u001b[0m in \u001b[0;36mprint_figure\u001b[0;34m(fig, fmt, bbox_inches, **kwargs)\u001b[0m\n\u001b[1;32m    115\u001b[0m \u001b[0;34m\u001b[0m\u001b[0m\n\u001b[1;32m    116\u001b[0m     \u001b[0mbytes_io\u001b[0m \u001b[0;34m=\u001b[0m \u001b[0mBytesIO\u001b[0m\u001b[0;34m(\u001b[0m\u001b[0;34m)\u001b[0m\u001b[0;34m\u001b[0m\u001b[0m\n\u001b[0;32m--> 117\u001b[0;31m     \u001b[0mfig\u001b[0m\u001b[0;34m.\u001b[0m\u001b[0mcanvas\u001b[0m\u001b[0;34m.\u001b[0m\u001b[0mprint_figure\u001b[0m\u001b[0;34m(\u001b[0m\u001b[0mbytes_io\u001b[0m\u001b[0;34m,\u001b[0m \u001b[0;34m**\u001b[0m\u001b[0mkw\u001b[0m\u001b[0;34m)\u001b[0m\u001b[0;34m\u001b[0m\u001b[0m\n\u001b[0m\u001b[1;32m    118\u001b[0m     \u001b[0mdata\u001b[0m \u001b[0;34m=\u001b[0m \u001b[0mbytes_io\u001b[0m\u001b[0;34m.\u001b[0m\u001b[0mgetvalue\u001b[0m\u001b[0;34m(\u001b[0m\u001b[0;34m)\u001b[0m\u001b[0;34m\u001b[0m\u001b[0m\n\u001b[1;32m    119\u001b[0m     \u001b[0;32mif\u001b[0m \u001b[0mfmt\u001b[0m \u001b[0;34m==\u001b[0m \u001b[0;34m'svg'\u001b[0m\u001b[0;34m:\u001b[0m\u001b[0;34m\u001b[0m\u001b[0m\n",
      "\u001b[0;32m/Users/VanessaG/anaconda/lib/python2.7/site-packages/matplotlib/backend_bases.pyc\u001b[0m in \u001b[0;36mprint_figure\u001b[0;34m(self, filename, dpi, facecolor, edgecolor, orientation, format, **kwargs)\u001b[0m\n\u001b[1;32m   2178\u001b[0m                     \u001b[0morientation\u001b[0m\u001b[0;34m=\u001b[0m\u001b[0morientation\u001b[0m\u001b[0;34m,\u001b[0m\u001b[0;34m\u001b[0m\u001b[0m\n\u001b[1;32m   2179\u001b[0m                     \u001b[0mdryrun\u001b[0m\u001b[0;34m=\u001b[0m\u001b[0mTrue\u001b[0m\u001b[0;34m,\u001b[0m\u001b[0;34m\u001b[0m\u001b[0m\n\u001b[0;32m-> 2180\u001b[0;31m                     **kwargs)\n\u001b[0m\u001b[1;32m   2181\u001b[0m                 \u001b[0mrenderer\u001b[0m \u001b[0;34m=\u001b[0m \u001b[0mself\u001b[0m\u001b[0;34m.\u001b[0m\u001b[0mfigure\u001b[0m\u001b[0;34m.\u001b[0m\u001b[0m_cachedRenderer\u001b[0m\u001b[0;34m\u001b[0m\u001b[0m\n\u001b[1;32m   2182\u001b[0m                 \u001b[0mbbox_inches\u001b[0m \u001b[0;34m=\u001b[0m \u001b[0mself\u001b[0m\u001b[0;34m.\u001b[0m\u001b[0mfigure\u001b[0m\u001b[0;34m.\u001b[0m\u001b[0mget_tightbbox\u001b[0m\u001b[0;34m(\u001b[0m\u001b[0mrenderer\u001b[0m\u001b[0;34m)\u001b[0m\u001b[0;34m\u001b[0m\u001b[0m\n",
      "\u001b[0;32m/Users/VanessaG/anaconda/lib/python2.7/site-packages/matplotlib/backends/backend_agg.pyc\u001b[0m in \u001b[0;36mprint_png\u001b[0;34m(self, filename_or_obj, *args, **kwargs)\u001b[0m\n\u001b[1;32m    525\u001b[0m \u001b[0;34m\u001b[0m\u001b[0m\n\u001b[1;32m    526\u001b[0m     \u001b[0;32mdef\u001b[0m \u001b[0mprint_png\u001b[0m\u001b[0;34m(\u001b[0m\u001b[0mself\u001b[0m\u001b[0;34m,\u001b[0m \u001b[0mfilename_or_obj\u001b[0m\u001b[0;34m,\u001b[0m \u001b[0;34m*\u001b[0m\u001b[0margs\u001b[0m\u001b[0;34m,\u001b[0m \u001b[0;34m**\u001b[0m\u001b[0mkwargs\u001b[0m\u001b[0;34m)\u001b[0m\u001b[0;34m:\u001b[0m\u001b[0;34m\u001b[0m\u001b[0m\n\u001b[0;32m--> 527\u001b[0;31m         \u001b[0mFigureCanvasAgg\u001b[0m\u001b[0;34m.\u001b[0m\u001b[0mdraw\u001b[0m\u001b[0;34m(\u001b[0m\u001b[0mself\u001b[0m\u001b[0;34m)\u001b[0m\u001b[0;34m\u001b[0m\u001b[0m\n\u001b[0m\u001b[1;32m    528\u001b[0m         \u001b[0mrenderer\u001b[0m \u001b[0;34m=\u001b[0m \u001b[0mself\u001b[0m\u001b[0;34m.\u001b[0m\u001b[0mget_renderer\u001b[0m\u001b[0;34m(\u001b[0m\u001b[0;34m)\u001b[0m\u001b[0;34m\u001b[0m\u001b[0m\n\u001b[1;32m    529\u001b[0m         \u001b[0moriginal_dpi\u001b[0m \u001b[0;34m=\u001b[0m \u001b[0mrenderer\u001b[0m\u001b[0;34m.\u001b[0m\u001b[0mdpi\u001b[0m\u001b[0;34m\u001b[0m\u001b[0m\n",
      "\u001b[0;32m/Users/VanessaG/anaconda/lib/python2.7/site-packages/matplotlib/backends/backend_agg.pyc\u001b[0m in \u001b[0;36mdraw\u001b[0;34m(self)\u001b[0m\n\u001b[1;32m    472\u001b[0m \u001b[0;34m\u001b[0m\u001b[0m\n\u001b[1;32m    473\u001b[0m         \u001b[0;32mtry\u001b[0m\u001b[0;34m:\u001b[0m\u001b[0;34m\u001b[0m\u001b[0m\n\u001b[0;32m--> 474\u001b[0;31m             \u001b[0mself\u001b[0m\u001b[0;34m.\u001b[0m\u001b[0mfigure\u001b[0m\u001b[0;34m.\u001b[0m\u001b[0mdraw\u001b[0m\u001b[0;34m(\u001b[0m\u001b[0mself\u001b[0m\u001b[0;34m.\u001b[0m\u001b[0mrenderer\u001b[0m\u001b[0;34m)\u001b[0m\u001b[0;34m\u001b[0m\u001b[0m\n\u001b[0m\u001b[1;32m    475\u001b[0m         \u001b[0;32mfinally\u001b[0m\u001b[0;34m:\u001b[0m\u001b[0;34m\u001b[0m\u001b[0m\n\u001b[1;32m    476\u001b[0m             \u001b[0mRendererAgg\u001b[0m\u001b[0;34m.\u001b[0m\u001b[0mlock\u001b[0m\u001b[0;34m.\u001b[0m\u001b[0mrelease\u001b[0m\u001b[0;34m(\u001b[0m\u001b[0;34m)\u001b[0m\u001b[0;34m\u001b[0m\u001b[0m\n",
      "\u001b[0;32m/Users/VanessaG/anaconda/lib/python2.7/site-packages/matplotlib/artist.pyc\u001b[0m in \u001b[0;36mdraw_wrapper\u001b[0;34m(artist, renderer, *args, **kwargs)\u001b[0m\n\u001b[1;32m     59\u001b[0m     \u001b[0;32mdef\u001b[0m \u001b[0mdraw_wrapper\u001b[0m\u001b[0;34m(\u001b[0m\u001b[0martist\u001b[0m\u001b[0;34m,\u001b[0m \u001b[0mrenderer\u001b[0m\u001b[0;34m,\u001b[0m \u001b[0;34m*\u001b[0m\u001b[0margs\u001b[0m\u001b[0;34m,\u001b[0m \u001b[0;34m**\u001b[0m\u001b[0mkwargs\u001b[0m\u001b[0;34m)\u001b[0m\u001b[0;34m:\u001b[0m\u001b[0;34m\u001b[0m\u001b[0m\n\u001b[1;32m     60\u001b[0m         \u001b[0mbefore\u001b[0m\u001b[0;34m(\u001b[0m\u001b[0martist\u001b[0m\u001b[0;34m,\u001b[0m \u001b[0mrenderer\u001b[0m\u001b[0;34m)\u001b[0m\u001b[0;34m\u001b[0m\u001b[0m\n\u001b[0;32m---> 61\u001b[0;31m         \u001b[0mdraw\u001b[0m\u001b[0;34m(\u001b[0m\u001b[0martist\u001b[0m\u001b[0;34m,\u001b[0m \u001b[0mrenderer\u001b[0m\u001b[0;34m,\u001b[0m \u001b[0;34m*\u001b[0m\u001b[0margs\u001b[0m\u001b[0;34m,\u001b[0m \u001b[0;34m**\u001b[0m\u001b[0mkwargs\u001b[0m\u001b[0;34m)\u001b[0m\u001b[0;34m\u001b[0m\u001b[0m\n\u001b[0m\u001b[1;32m     62\u001b[0m         \u001b[0mafter\u001b[0m\u001b[0;34m(\u001b[0m\u001b[0martist\u001b[0m\u001b[0;34m,\u001b[0m \u001b[0mrenderer\u001b[0m\u001b[0;34m)\u001b[0m\u001b[0;34m\u001b[0m\u001b[0m\n\u001b[1;32m     63\u001b[0m \u001b[0;34m\u001b[0m\u001b[0m\n",
      "\u001b[0;32m/Users/VanessaG/anaconda/lib/python2.7/site-packages/matplotlib/figure.pyc\u001b[0m in \u001b[0;36mdraw\u001b[0;34m(self, renderer)\u001b[0m\n\u001b[1;32m   1157\u001b[0m         \u001b[0mdsu\u001b[0m\u001b[0;34m.\u001b[0m\u001b[0msort\u001b[0m\u001b[0;34m(\u001b[0m\u001b[0mkey\u001b[0m\u001b[0;34m=\u001b[0m\u001b[0mitemgetter\u001b[0m\u001b[0;34m(\u001b[0m\u001b[0;36m0\u001b[0m\u001b[0;34m)\u001b[0m\u001b[0;34m)\u001b[0m\u001b[0;34m\u001b[0m\u001b[0m\n\u001b[1;32m   1158\u001b[0m         \u001b[0;32mfor\u001b[0m \u001b[0mzorder\u001b[0m\u001b[0;34m,\u001b[0m \u001b[0ma\u001b[0m\u001b[0;34m,\u001b[0m \u001b[0mfunc\u001b[0m\u001b[0;34m,\u001b[0m \u001b[0margs\u001b[0m \u001b[0;32min\u001b[0m \u001b[0mdsu\u001b[0m\u001b[0;34m:\u001b[0m\u001b[0;34m\u001b[0m\u001b[0m\n\u001b[0;32m-> 1159\u001b[0;31m             \u001b[0mfunc\u001b[0m\u001b[0;34m(\u001b[0m\u001b[0;34m*\u001b[0m\u001b[0margs\u001b[0m\u001b[0;34m)\u001b[0m\u001b[0;34m\u001b[0m\u001b[0m\n\u001b[0m\u001b[1;32m   1160\u001b[0m \u001b[0;34m\u001b[0m\u001b[0m\n\u001b[1;32m   1161\u001b[0m         \u001b[0mrenderer\u001b[0m\u001b[0;34m.\u001b[0m\u001b[0mclose_group\u001b[0m\u001b[0;34m(\u001b[0m\u001b[0;34m'figure'\u001b[0m\u001b[0;34m)\u001b[0m\u001b[0;34m\u001b[0m\u001b[0m\n",
      "\u001b[0;32m/Users/VanessaG/anaconda/lib/python2.7/site-packages/matplotlib/artist.pyc\u001b[0m in \u001b[0;36mdraw_wrapper\u001b[0;34m(artist, renderer, *args, **kwargs)\u001b[0m\n\u001b[1;32m     59\u001b[0m     \u001b[0;32mdef\u001b[0m \u001b[0mdraw_wrapper\u001b[0m\u001b[0;34m(\u001b[0m\u001b[0martist\u001b[0m\u001b[0;34m,\u001b[0m \u001b[0mrenderer\u001b[0m\u001b[0;34m,\u001b[0m \u001b[0;34m*\u001b[0m\u001b[0margs\u001b[0m\u001b[0;34m,\u001b[0m \u001b[0;34m**\u001b[0m\u001b[0mkwargs\u001b[0m\u001b[0;34m)\u001b[0m\u001b[0;34m:\u001b[0m\u001b[0;34m\u001b[0m\u001b[0m\n\u001b[1;32m     60\u001b[0m         \u001b[0mbefore\u001b[0m\u001b[0;34m(\u001b[0m\u001b[0martist\u001b[0m\u001b[0;34m,\u001b[0m \u001b[0mrenderer\u001b[0m\u001b[0;34m)\u001b[0m\u001b[0;34m\u001b[0m\u001b[0m\n\u001b[0;32m---> 61\u001b[0;31m         \u001b[0mdraw\u001b[0m\u001b[0;34m(\u001b[0m\u001b[0martist\u001b[0m\u001b[0;34m,\u001b[0m \u001b[0mrenderer\u001b[0m\u001b[0;34m,\u001b[0m \u001b[0;34m*\u001b[0m\u001b[0margs\u001b[0m\u001b[0;34m,\u001b[0m \u001b[0;34m**\u001b[0m\u001b[0mkwargs\u001b[0m\u001b[0;34m)\u001b[0m\u001b[0;34m\u001b[0m\u001b[0m\n\u001b[0m\u001b[1;32m     62\u001b[0m         \u001b[0mafter\u001b[0m\u001b[0;34m(\u001b[0m\u001b[0martist\u001b[0m\u001b[0;34m,\u001b[0m \u001b[0mrenderer\u001b[0m\u001b[0;34m)\u001b[0m\u001b[0;34m\u001b[0m\u001b[0m\n\u001b[1;32m     63\u001b[0m \u001b[0;34m\u001b[0m\u001b[0m\n",
      "\u001b[0;32m/Users/VanessaG/anaconda/lib/python2.7/site-packages/matplotlib/axes/_base.pyc\u001b[0m in \u001b[0;36mdraw\u001b[0;34m(self, renderer, inframe)\u001b[0m\n\u001b[1;32m   2322\u001b[0m \u001b[0;34m\u001b[0m\u001b[0m\n\u001b[1;32m   2323\u001b[0m         \u001b[0;32mfor\u001b[0m \u001b[0mzorder\u001b[0m\u001b[0;34m,\u001b[0m \u001b[0ma\u001b[0m \u001b[0;32min\u001b[0m \u001b[0mdsu\u001b[0m\u001b[0;34m:\u001b[0m\u001b[0;34m\u001b[0m\u001b[0m\n\u001b[0;32m-> 2324\u001b[0;31m             \u001b[0ma\u001b[0m\u001b[0;34m.\u001b[0m\u001b[0mdraw\u001b[0m\u001b[0;34m(\u001b[0m\u001b[0mrenderer\u001b[0m\u001b[0;34m)\u001b[0m\u001b[0;34m\u001b[0m\u001b[0m\n\u001b[0m\u001b[1;32m   2325\u001b[0m \u001b[0;34m\u001b[0m\u001b[0m\n\u001b[1;32m   2326\u001b[0m         \u001b[0mrenderer\u001b[0m\u001b[0;34m.\u001b[0m\u001b[0mclose_group\u001b[0m\u001b[0;34m(\u001b[0m\u001b[0;34m'axes'\u001b[0m\u001b[0;34m)\u001b[0m\u001b[0;34m\u001b[0m\u001b[0m\n",
      "\u001b[0;32m/Users/VanessaG/anaconda/lib/python2.7/site-packages/matplotlib/artist.pyc\u001b[0m in \u001b[0;36mdraw_wrapper\u001b[0;34m(artist, renderer, *args, **kwargs)\u001b[0m\n\u001b[1;32m     59\u001b[0m     \u001b[0;32mdef\u001b[0m \u001b[0mdraw_wrapper\u001b[0m\u001b[0;34m(\u001b[0m\u001b[0martist\u001b[0m\u001b[0;34m,\u001b[0m \u001b[0mrenderer\u001b[0m\u001b[0;34m,\u001b[0m \u001b[0;34m*\u001b[0m\u001b[0margs\u001b[0m\u001b[0;34m,\u001b[0m \u001b[0;34m**\u001b[0m\u001b[0mkwargs\u001b[0m\u001b[0;34m)\u001b[0m\u001b[0;34m:\u001b[0m\u001b[0;34m\u001b[0m\u001b[0m\n\u001b[1;32m     60\u001b[0m         \u001b[0mbefore\u001b[0m\u001b[0;34m(\u001b[0m\u001b[0martist\u001b[0m\u001b[0;34m,\u001b[0m \u001b[0mrenderer\u001b[0m\u001b[0;34m)\u001b[0m\u001b[0;34m\u001b[0m\u001b[0m\n\u001b[0;32m---> 61\u001b[0;31m         \u001b[0mdraw\u001b[0m\u001b[0;34m(\u001b[0m\u001b[0martist\u001b[0m\u001b[0;34m,\u001b[0m \u001b[0mrenderer\u001b[0m\u001b[0;34m,\u001b[0m \u001b[0;34m*\u001b[0m\u001b[0margs\u001b[0m\u001b[0;34m,\u001b[0m \u001b[0;34m**\u001b[0m\u001b[0mkwargs\u001b[0m\u001b[0;34m)\u001b[0m\u001b[0;34m\u001b[0m\u001b[0m\n\u001b[0m\u001b[1;32m     62\u001b[0m         \u001b[0mafter\u001b[0m\u001b[0;34m(\u001b[0m\u001b[0martist\u001b[0m\u001b[0;34m,\u001b[0m \u001b[0mrenderer\u001b[0m\u001b[0;34m)\u001b[0m\u001b[0;34m\u001b[0m\u001b[0m\n\u001b[1;32m     63\u001b[0m \u001b[0;34m\u001b[0m\u001b[0m\n",
      "\u001b[0;32m/Users/VanessaG/anaconda/lib/python2.7/site-packages/matplotlib/lines.pyc\u001b[0m in \u001b[0;36mdraw\u001b[0;34m(self, renderer)\u001b[0m\n\u001b[1;32m    756\u001b[0m                     \u001b[0mgc\u001b[0m\u001b[0;34m.\u001b[0m\u001b[0mset_sketch_params\u001b[0m\u001b[0;34m(\u001b[0m\u001b[0;34m*\u001b[0m\u001b[0mself\u001b[0m\u001b[0;34m.\u001b[0m\u001b[0mget_sketch_params\u001b[0m\u001b[0;34m(\u001b[0m\u001b[0;34m)\u001b[0m\u001b[0;34m)\u001b[0m\u001b[0;34m\u001b[0m\u001b[0m\n\u001b[1;32m    757\u001b[0m \u001b[0;34m\u001b[0m\u001b[0m\n\u001b[0;32m--> 758\u001b[0;31m                 \u001b[0mdrawFunc\u001b[0m\u001b[0;34m(\u001b[0m\u001b[0mrenderer\u001b[0m\u001b[0;34m,\u001b[0m \u001b[0mgc\u001b[0m\u001b[0;34m,\u001b[0m \u001b[0mtpath\u001b[0m\u001b[0;34m,\u001b[0m \u001b[0maffine\u001b[0m\u001b[0;34m.\u001b[0m\u001b[0mfrozen\u001b[0m\u001b[0;34m(\u001b[0m\u001b[0;34m)\u001b[0m\u001b[0;34m)\u001b[0m\u001b[0;34m\u001b[0m\u001b[0m\n\u001b[0m\u001b[1;32m    759\u001b[0m                 \u001b[0mgc\u001b[0m\u001b[0;34m.\u001b[0m\u001b[0mrestore\u001b[0m\u001b[0;34m(\u001b[0m\u001b[0;34m)\u001b[0m\u001b[0;34m\u001b[0m\u001b[0m\n\u001b[1;32m    760\u001b[0m \u001b[0;34m\u001b[0m\u001b[0m\n",
      "\u001b[0;32m/Users/VanessaG/anaconda/lib/python2.7/site-packages/matplotlib/lines.pyc\u001b[0m in \u001b[0;36m_draw_lines\u001b[0;34m(self, renderer, gc, path, trans)\u001b[0m\n\u001b[1;32m   1168\u001b[0m \u001b[0;34m\u001b[0m\u001b[0m\n\u001b[1;32m   1169\u001b[0m     \u001b[0;32mdef\u001b[0m \u001b[0m_draw_lines\u001b[0m\u001b[0;34m(\u001b[0m\u001b[0mself\u001b[0m\u001b[0;34m,\u001b[0m \u001b[0mrenderer\u001b[0m\u001b[0;34m,\u001b[0m \u001b[0mgc\u001b[0m\u001b[0;34m,\u001b[0m \u001b[0mpath\u001b[0m\u001b[0;34m,\u001b[0m \u001b[0mtrans\u001b[0m\u001b[0;34m)\u001b[0m\u001b[0;34m:\u001b[0m\u001b[0;34m\u001b[0m\u001b[0m\n\u001b[0;32m-> 1170\u001b[0;31m         \u001b[0mself\u001b[0m\u001b[0;34m.\u001b[0m\u001b[0m_lineFunc\u001b[0m\u001b[0;34m(\u001b[0m\u001b[0mrenderer\u001b[0m\u001b[0;34m,\u001b[0m \u001b[0mgc\u001b[0m\u001b[0;34m,\u001b[0m \u001b[0mpath\u001b[0m\u001b[0;34m,\u001b[0m \u001b[0mtrans\u001b[0m\u001b[0;34m)\u001b[0m\u001b[0;34m\u001b[0m\u001b[0m\n\u001b[0m\u001b[1;32m   1171\u001b[0m \u001b[0;34m\u001b[0m\u001b[0m\n\u001b[1;32m   1172\u001b[0m     \u001b[0;32mdef\u001b[0m \u001b[0m_draw_steps_pre\u001b[0m\u001b[0;34m(\u001b[0m\u001b[0mself\u001b[0m\u001b[0;34m,\u001b[0m \u001b[0mrenderer\u001b[0m\u001b[0;34m,\u001b[0m \u001b[0mgc\u001b[0m\u001b[0;34m,\u001b[0m \u001b[0mpath\u001b[0m\u001b[0;34m,\u001b[0m \u001b[0mtrans\u001b[0m\u001b[0;34m)\u001b[0m\u001b[0;34m:\u001b[0m\u001b[0;34m\u001b[0m\u001b[0m\n",
      "\u001b[0;32m/Users/VanessaG/anaconda/lib/python2.7/site-packages/matplotlib/lines.pyc\u001b[0m in \u001b[0;36m_draw_solid\u001b[0;34m(self, renderer, gc, path, trans)\u001b[0m\n\u001b[1;32m   1193\u001b[0m     \u001b[0;32mdef\u001b[0m \u001b[0m_draw_solid\u001b[0m\u001b[0;34m(\u001b[0m\u001b[0mself\u001b[0m\u001b[0;34m,\u001b[0m \u001b[0mrenderer\u001b[0m\u001b[0;34m,\u001b[0m \u001b[0mgc\u001b[0m\u001b[0;34m,\u001b[0m \u001b[0mpath\u001b[0m\u001b[0;34m,\u001b[0m \u001b[0mtrans\u001b[0m\u001b[0;34m)\u001b[0m\u001b[0;34m:\u001b[0m\u001b[0;34m\u001b[0m\u001b[0m\n\u001b[1;32m   1194\u001b[0m         \u001b[0mgc\u001b[0m\u001b[0;34m.\u001b[0m\u001b[0mset_linestyle\u001b[0m\u001b[0;34m(\u001b[0m\u001b[0;34m'solid'\u001b[0m\u001b[0;34m)\u001b[0m\u001b[0;34m\u001b[0m\u001b[0m\n\u001b[0;32m-> 1195\u001b[0;31m         \u001b[0mrenderer\u001b[0m\u001b[0;34m.\u001b[0m\u001b[0mdraw_path\u001b[0m\u001b[0;34m(\u001b[0m\u001b[0mgc\u001b[0m\u001b[0;34m,\u001b[0m \u001b[0mpath\u001b[0m\u001b[0;34m,\u001b[0m \u001b[0mtrans\u001b[0m\u001b[0;34m)\u001b[0m\u001b[0;34m\u001b[0m\u001b[0m\n\u001b[0m\u001b[1;32m   1196\u001b[0m \u001b[0;34m\u001b[0m\u001b[0m\n\u001b[1;32m   1197\u001b[0m     \u001b[0;32mdef\u001b[0m \u001b[0m_draw_dashed\u001b[0m\u001b[0;34m(\u001b[0m\u001b[0mself\u001b[0m\u001b[0;34m,\u001b[0m \u001b[0mrenderer\u001b[0m\u001b[0;34m,\u001b[0m \u001b[0mgc\u001b[0m\u001b[0;34m,\u001b[0m \u001b[0mpath\u001b[0m\u001b[0;34m,\u001b[0m \u001b[0mtrans\u001b[0m\u001b[0;34m)\u001b[0m\u001b[0;34m:\u001b[0m\u001b[0;34m\u001b[0m\u001b[0m\n",
      "\u001b[0;32m/Users/VanessaG/anaconda/lib/python2.7/site-packages/matplotlib/backends/backend_agg.pyc\u001b[0m in \u001b[0;36mdraw_path\u001b[0;34m(self, gc, path, transform, rgbFace)\u001b[0m\n\u001b[1;32m    164\u001b[0m                 \u001b[0mself\u001b[0m\u001b[0;34m.\u001b[0m\u001b[0m_renderer\u001b[0m\u001b[0;34m.\u001b[0m\u001b[0mdraw_path\u001b[0m\u001b[0;34m(\u001b[0m\u001b[0mgc\u001b[0m\u001b[0;34m,\u001b[0m \u001b[0mp\u001b[0m\u001b[0;34m,\u001b[0m \u001b[0mtransform\u001b[0m\u001b[0;34m,\u001b[0m \u001b[0mrgbFace\u001b[0m\u001b[0;34m)\u001b[0m\u001b[0;34m\u001b[0m\u001b[0m\n\u001b[1;32m    165\u001b[0m         \u001b[0;32melse\u001b[0m\u001b[0;34m:\u001b[0m\u001b[0;34m\u001b[0m\u001b[0m\n\u001b[0;32m--> 166\u001b[0;31m             \u001b[0mself\u001b[0m\u001b[0;34m.\u001b[0m\u001b[0m_renderer\u001b[0m\u001b[0;34m.\u001b[0m\u001b[0mdraw_path\u001b[0m\u001b[0;34m(\u001b[0m\u001b[0mgc\u001b[0m\u001b[0;34m,\u001b[0m \u001b[0mpath\u001b[0m\u001b[0;34m,\u001b[0m \u001b[0mtransform\u001b[0m\u001b[0;34m,\u001b[0m \u001b[0mrgbFace\u001b[0m\u001b[0;34m)\u001b[0m\u001b[0;34m\u001b[0m\u001b[0m\n\u001b[0m\u001b[1;32m    167\u001b[0m \u001b[0;34m\u001b[0m\u001b[0m\n\u001b[1;32m    168\u001b[0m     \u001b[0;32mdef\u001b[0m \u001b[0mdraw_mathtext\u001b[0m\u001b[0;34m(\u001b[0m\u001b[0mself\u001b[0m\u001b[0;34m,\u001b[0m \u001b[0mgc\u001b[0m\u001b[0;34m,\u001b[0m \u001b[0mx\u001b[0m\u001b[0;34m,\u001b[0m \u001b[0my\u001b[0m\u001b[0;34m,\u001b[0m \u001b[0ms\u001b[0m\u001b[0;34m,\u001b[0m \u001b[0mprop\u001b[0m\u001b[0;34m,\u001b[0m \u001b[0mangle\u001b[0m\u001b[0;34m)\u001b[0m\u001b[0;34m:\u001b[0m\u001b[0;34m\u001b[0m\u001b[0m\n",
      "\u001b[0;31mOverflowError\u001b[0m: In draw_path: Exceeded cell block limit"
     ]
    },
    {
     "data": {
      "text/plain": [
       "<matplotlib.figure.Figure at 0x11aa55a10>"
      ]
     },
     "metadata": {},
     "output_type": "display_data"
    }
   ],
   "source": [
    "#I'd like a plot of date vs score... perhaps month\n",
    "plt.plot(interesting_vars.date, interesting_vars.score)"
   ]
  },
  {
   "cell_type": "markdown",
   "metadata": {},
   "source": [
    "### this is the whole dataset minus the obviously irrelevant columns..."
   ]
  },
  {
   "cell_type": "code",
   "execution_count": 77,
   "metadata": {
    "collapsed": false,
    "scrolled": false
   },
   "outputs": [
    {
     "data": {
      "text/plain": [
       "routine     32453\n",
       "followUp        2\n",
       "Name: type, dtype: int64"
      ]
     },
     "execution_count": 77,
     "metadata": {},
     "output_type": "execute_result"
    }
   ],
   "source": [
    "#not useful so I'll drop this column\n",
    "violations_parsed.type.value_counts()"
   ]
  },
  {
   "cell_type": "code",
   "execution_count": 78,
   "metadata": {
    "collapsed": false
   },
   "outputs": [
    {
     "data": {
      "text/plain": [
       "100.0    2448\n",
       "112.0    2441\n",
       "232.0    2309\n",
       "367.0    2176\n",
       "379.0    1706\n",
       "186.0    1428\n",
       "97.0     1327\n",
       "170.0    1281\n",
       "42.0     1071\n",
       "214.0    1033\n",
       "44.0      992\n",
       "58.0      926\n",
       "65.0      884\n",
       "57.0      879\n",
       "38.0      861\n",
       "128.0     845\n",
       "4.0       840\n",
       "143.0     823\n",
       "50.0      750\n",
       "21.0      699\n",
       "25.0      628\n",
       "34.0      621\n",
       "72.0      573\n",
       "84.0      553\n",
       "22.0      521\n",
       "98.0      507\n",
       "39.0      493\n",
       "123.0     484\n",
       "47.0      329\n",
       "29.0      312\n",
       "26.0      269\n",
       "18.0      258\n",
       "36.0      241\n",
       "68.0      239\n",
       "30.0      228\n",
       "6.0       158\n",
       "14.0      110\n",
       "40.0       77\n",
       "2.0        75\n",
       "3.0        60\n",
       "Name: business_count, dtype: int64"
      ]
     },
     "execution_count": 78,
     "metadata": {},
     "output_type": "execute_result"
    }
   ],
   "source": [
    "violations_parsed.business_count.value_counts()"
   ]
  },
  {
   "cell_type": "code",
   "execution_count": 79,
   "metadata": {
    "collapsed": false
   },
   "outputs": [],
   "source": [
    "yelp = violations_parsed.drop(['business_id', 'date', 'type', 'name', 'address', 'city', 'state',\\\n",
    "                               'postal_code', 'latitude','longitude', 'phone_number', 'polygon', \\\n",
    "                               'score_code', 'description'], axis=1)\n"
   ]
  },
  {
   "cell_type": "code",
   "execution_count": 80,
   "metadata": {
    "collapsed": false
   },
   "outputs": [
    {
     "data": {
      "text/plain": [
       "False"
      ]
     },
     "execution_count": 80,
     "metadata": {},
     "output_type": "execute_result"
    }
   ],
   "source": [
    "yelp.isnull().values.any()"
   ]
  },
  {
   "cell_type": "code",
   "execution_count": 81,
   "metadata": {
    "collapsed": false
   },
   "outputs": [
    {
     "data": {
      "text/html": [
       "<div>\n",
       "<table border=\"1\" class=\"dataframe\">\n",
       "  <thead>\n",
       "    <tr style=\"text-align: right;\">\n",
       "      <th></th>\n",
       "      <th>score</th>\n",
       "      <th>violation_count</th>\n",
       "      <th>days_since_first_violation</th>\n",
       "      <th>neighborhood</th>\n",
       "      <th>population</th>\n",
       "      <th>business_count</th>\n",
       "      <th>200</th>\n",
       "      <th>200 feet</th>\n",
       "      <th>adulterated</th>\n",
       "      <th>adulterated food</th>\n",
       "      <th>...</th>\n",
       "      <th>washed fruits</th>\n",
       "      <th>wastewater</th>\n",
       "      <th>wastewater contamination</th>\n",
       "      <th>wastewater disposal</th>\n",
       "      <th>water</th>\n",
       "      <th>water running</th>\n",
       "      <th>wiping</th>\n",
       "      <th>wiping cloths</th>\n",
       "      <th>worker</th>\n",
       "      <th>worker safety</th>\n",
       "    </tr>\n",
       "  </thead>\n",
       "  <tbody>\n",
       "    <tr>\n",
       "      <th>0</th>\n",
       "      <td>92.0</td>\n",
       "      <td>1.0</td>\n",
       "      <td>0.0</td>\n",
       "      <td>Downtown</td>\n",
       "      <td>13,000</td>\n",
       "      <td>112.0</td>\n",
       "      <td>0</td>\n",
       "      <td>0</td>\n",
       "      <td>0</td>\n",
       "      <td>0</td>\n",
       "      <td>...</td>\n",
       "      <td>0</td>\n",
       "      <td>0</td>\n",
       "      <td>0</td>\n",
       "      <td>0</td>\n",
       "      <td>0</td>\n",
       "      <td>0</td>\n",
       "      <td>0</td>\n",
       "      <td>0</td>\n",
       "      <td>0</td>\n",
       "      <td>0</td>\n",
       "    </tr>\n",
       "    <tr>\n",
       "      <th>1</th>\n",
       "      <td>92.0</td>\n",
       "      <td>1.0</td>\n",
       "      <td>0.0</td>\n",
       "      <td>Downtown</td>\n",
       "      <td>13,000</td>\n",
       "      <td>112.0</td>\n",
       "      <td>0</td>\n",
       "      <td>0</td>\n",
       "      <td>0</td>\n",
       "      <td>0</td>\n",
       "      <td>...</td>\n",
       "      <td>0</td>\n",
       "      <td>0</td>\n",
       "      <td>0</td>\n",
       "      <td>0</td>\n",
       "      <td>0</td>\n",
       "      <td>0</td>\n",
       "      <td>0</td>\n",
       "      <td>0</td>\n",
       "      <td>0</td>\n",
       "      <td>0</td>\n",
       "    </tr>\n",
       "    <tr>\n",
       "      <th>2</th>\n",
       "      <td>92.0</td>\n",
       "      <td>1.0</td>\n",
       "      <td>0.0</td>\n",
       "      <td>Downtown</td>\n",
       "      <td>13,000</td>\n",
       "      <td>112.0</td>\n",
       "      <td>0</td>\n",
       "      <td>0</td>\n",
       "      <td>0</td>\n",
       "      <td>0</td>\n",
       "      <td>...</td>\n",
       "      <td>0</td>\n",
       "      <td>0</td>\n",
       "      <td>0</td>\n",
       "      <td>0</td>\n",
       "      <td>0</td>\n",
       "      <td>0</td>\n",
       "      <td>0</td>\n",
       "      <td>0</td>\n",
       "      <td>0</td>\n",
       "      <td>0</td>\n",
       "    </tr>\n",
       "    <tr>\n",
       "      <th>3</th>\n",
       "      <td>94.0</td>\n",
       "      <td>2.0</td>\n",
       "      <td>196.0</td>\n",
       "      <td>Downtown</td>\n",
       "      <td>13,000</td>\n",
       "      <td>112.0</td>\n",
       "      <td>0</td>\n",
       "      <td>0</td>\n",
       "      <td>0</td>\n",
       "      <td>0</td>\n",
       "      <td>...</td>\n",
       "      <td>0</td>\n",
       "      <td>0</td>\n",
       "      <td>0</td>\n",
       "      <td>0</td>\n",
       "      <td>1</td>\n",
       "      <td>1</td>\n",
       "      <td>0</td>\n",
       "      <td>0</td>\n",
       "      <td>0</td>\n",
       "      <td>0</td>\n",
       "    </tr>\n",
       "    <tr>\n",
       "      <th>4</th>\n",
       "      <td>94.0</td>\n",
       "      <td>2.0</td>\n",
       "      <td>196.0</td>\n",
       "      <td>Downtown</td>\n",
       "      <td>13,000</td>\n",
       "      <td>112.0</td>\n",
       "      <td>0</td>\n",
       "      <td>0</td>\n",
       "      <td>0</td>\n",
       "      <td>0</td>\n",
       "      <td>...</td>\n",
       "      <td>0</td>\n",
       "      <td>0</td>\n",
       "      <td>0</td>\n",
       "      <td>0</td>\n",
       "      <td>0</td>\n",
       "      <td>0</td>\n",
       "      <td>0</td>\n",
       "      <td>0</td>\n",
       "      <td>0</td>\n",
       "      <td>0</td>\n",
       "    </tr>\n",
       "  </tbody>\n",
       "</table>\n",
       "<p>5 rows × 379 columns</p>\n",
       "</div>"
      ],
      "text/plain": [
       "   score  violation_count  days_since_first_violation neighborhood population  \\\n",
       "0   92.0              1.0                         0.0     Downtown     13,000   \n",
       "1   92.0              1.0                         0.0     Downtown     13,000   \n",
       "2   92.0              1.0                         0.0     Downtown     13,000   \n",
       "3   94.0              2.0                       196.0     Downtown     13,000   \n",
       "4   94.0              2.0                       196.0     Downtown     13,000   \n",
       "\n",
       "   business_count  200  200 feet  adulterated  adulterated food  \\\n",
       "0           112.0    0         0            0                 0   \n",
       "1           112.0    0         0            0                 0   \n",
       "2           112.0    0         0            0                 0   \n",
       "3           112.0    0         0            0                 0   \n",
       "4           112.0    0         0            0                 0   \n",
       "\n",
       "       ...        washed fruits  wastewater  wastewater contamination  \\\n",
       "0      ...                    0           0                         0   \n",
       "1      ...                    0           0                         0   \n",
       "2      ...                    0           0                         0   \n",
       "3      ...                    0           0                         0   \n",
       "4      ...                    0           0                         0   \n",
       "\n",
       "   wastewater disposal  water  water running  wiping  wiping cloths  worker  \\\n",
       "0                    0      0              0       0              0       0   \n",
       "1                    0      0              0       0              0       0   \n",
       "2                    0      0              0       0              0       0   \n",
       "3                    0      1              1       0              0       0   \n",
       "4                    0      0              0       0              0       0   \n",
       "\n",
       "   worker safety  \n",
       "0              0  \n",
       "1              0  \n",
       "2              0  \n",
       "3              0  \n",
       "4              0  \n",
       "\n",
       "[5 rows x 379 columns]"
      ]
     },
     "execution_count": 81,
     "metadata": {},
     "output_type": "execute_result"
    }
   ],
   "source": [
    "yelp.head()"
   ]
  },
  {
   "cell_type": "markdown",
   "metadata": {},
   "source": [
    "<img src=\"http://imgur.com/l5NasQj.png\" style=\"float: left; margin: 25px 15px 0px 0px; height: 25px\">\n",
    "\n",
    "### 2. Construct and evaluate a linear regression model on the data\n",
    "\n",
    "---\n",
    "\n",
    "1. State the variables that are predictors in your linear regression and the target variable.\n",
    "- Investigate and remove any outliers or other problems in your data. _This is a subjective process._\n",
    "- Construct a linear regression model.\n",
    "- Evaluate the model. How does the $R^2$ of the overall model compare to cross-validated $R^2$. What do the differences in $R^2$ mean?\n",
    "  - Use test / train split\n",
    "  - Use K-Folds\n",
    "  - Compare and explain your results with both\n",
    "- Visualize the evaluation metrics of your analysis in clear charts.\n",
    "- Summarize your results in the context of your hypothesis. Frame this as if you are presenting to non-technical readers.\n"
   ]
  },
  {
   "cell_type": "code",
   "execution_count": 82,
   "metadata": {
    "collapsed": true
   },
   "outputs": [],
   "source": [
    "# target = 'score'\n",
    "formula = 'score ~ date + violation_count + days_since_first_violation + C(neighborhood) + population + business_count -1'"
   ]
  },
  {
   "cell_type": "code",
   "execution_count": 83,
   "metadata": {
    "collapsed": false,
    "scrolled": true
   },
   "outputs": [
    {
     "data": {
      "text/plain": [
       "Index([u'score', u'date', u'violation_count', u'days_since_first_violation',\n",
       "       u'neighborhood', u'population', u'business_count'],\n",
       "      dtype='object')"
      ]
     },
     "execution_count": 83,
     "metadata": {},
     "output_type": "execute_result"
    }
   ],
   "source": [
    "interesting_vars.columns"
   ]
  },
  {
   "cell_type": "code",
   "execution_count": 84,
   "metadata": {
    "collapsed": false
   },
   "outputs": [
    {
     "name": "stdout",
     "output_type": "stream",
     "text": [
      "<class 'pandas.core.frame.DataFrame'>\n",
      "RangeIndex: 32455 entries, 0 to 32454\n",
      "Data columns (total 7 columns):\n",
      "score                         32455 non-null float64\n",
      "date                          32455 non-null datetime64[ns]\n",
      "violation_count               32455 non-null float64\n",
      "days_since_first_violation    32455 non-null float64\n",
      "neighborhood                  32455 non-null object\n",
      "population                    1814 non-null float64\n",
      "business_count                32455 non-null float64\n",
      "dtypes: datetime64[ns](1), float64(5), object(1)\n",
      "memory usage: 1.7+ MB\n"
     ]
    }
   ],
   "source": [
    "interesting_vars.info()"
   ]
  },
  {
   "cell_type": "code",
   "execution_count": 89,
   "metadata": {
    "collapsed": false
   },
   "outputs": [],
   "source": [
    "y, X = patsy.dmatrices(formula, data=interesting_vars, return_type='dataframe')"
   ]
  },
  {
   "cell_type": "code",
   "execution_count": 107,
   "metadata": {
    "collapsed": false
   },
   "outputs": [
    {
     "data": {
      "text/html": [
       "<div>\n",
       "<table border=\"1\" class=\"dataframe\">\n",
       "  <thead>\n",
       "    <tr style=\"text-align: right;\">\n",
       "      <th></th>\n",
       "      <th>population</th>\n",
       "      <th>business_count</th>\n",
       "    </tr>\n",
       "  </thead>\n",
       "  <tbody>\n",
       "    <tr>\n",
       "      <th>8005</th>\n",
       "      <td>460.0</td>\n",
       "      <td>42.0</td>\n",
       "    </tr>\n",
       "    <tr>\n",
       "      <th>23202</th>\n",
       "      <td>828.0</td>\n",
       "      <td>26.0</td>\n",
       "    </tr>\n",
       "    <tr>\n",
       "      <th>29712</th>\n",
       "      <td>4000.0</td>\n",
       "      <td>4.0</td>\n",
       "    </tr>\n",
       "    <tr>\n",
       "      <th>32276</th>\n",
       "      <td>1000.0</td>\n",
       "      <td>2.0</td>\n",
       "    </tr>\n",
       "  </tbody>\n",
       "</table>\n",
       "</div>"
      ],
      "text/plain": [
       "       population  business_count\n",
       "8005        460.0            42.0\n",
       "23202       828.0            26.0\n",
       "29712      4000.0             4.0\n",
       "32276      1000.0             2.0"
      ]
     },
     "execution_count": 107,
     "metadata": {},
     "output_type": "execute_result"
    }
   ],
   "source": [
    "X[['population','business_count']].drop_duplicates()"
   ]
  },
  {
   "cell_type": "code",
   "execution_count": 109,
   "metadata": {
    "collapsed": false
   },
   "outputs": [
    {
     "data": {
      "text/plain": [
       "array([ 42.,  26.,   4.,   2.])"
      ]
     },
     "execution_count": 109,
     "metadata": {},
     "output_type": "execute_result"
    }
   ],
   "source": [
    "X.business_count.unique()"
   ]
  },
  {
   "cell_type": "code",
   "execution_count": 90,
   "metadata": {
    "collapsed": true
   },
   "outputs": [],
   "source": [
    "# X = interesting_vars[['date', 'violation_count', 'days_since_first_violation', 'population', 'business_count']]"
   ]
  },
  {
   "cell_type": "code",
   "execution_count": 91,
   "metadata": {
    "collapsed": false
   },
   "outputs": [],
   "source": [
    "scaler = StandardScaler()\n",
    "\n",
    "Xn = scaler.fit_transform(X)"
   ]
  },
  {
   "cell_type": "code",
   "execution_count": 92,
   "metadata": {
    "collapsed": false
   },
   "outputs": [
    {
     "name": "stdout",
     "output_type": "stream",
     "text": [
      "(1269, 1) (1269, 826)\n",
      "(545, 1) (545, 826)\n"
     ]
    }
   ],
   "source": [
    "X_train, X_test, y_train, y_test =  train_test_split(Xn, y, test_size=0.3)\n",
    "\n",
    "print y_train.shape, X_train.shape\n",
    "print y_test.shape, X_test.shape"
   ]
  },
  {
   "cell_type": "code",
   "execution_count": null,
   "metadata": {
    "collapsed": true
   },
   "outputs": [],
   "source": [
    " "
   ]
  },
  {
   "cell_type": "markdown",
   "metadata": {},
   "source": [
    "<img src=\"http://imgur.com/xDpSobf.png\" style=\"float: left; margin: 25px 15px 0px 0px; height: 25px\">\n",
    "\n",
    "### 2.2 Explain $R^2$ vs. mean squared error (MSE)\n",
    "\n",
    "---\n",
    "\n",
    "1. If you have negative $R^2$ values in cross-validation, what does this mean? \n",
    "2. Why can $R^2$ only be negative when the model is tested on new data?"
   ]
  },
  {
   "cell_type": "code",
   "execution_count": null,
   "metadata": {
    "collapsed": true
   },
   "outputs": [],
   "source": []
  },
  {
   "cell_type": "markdown",
   "metadata": {},
   "source": [
    "<img src=\"http://imgur.com/l5NasQj.png\" style=\"float: left; margin: 25px 15px 0px 0px; height: 25px\">\n",
    "\n",
    "### 3. Combine multiple sources of data and evaluate a model with regularized regression\n",
    "\n",
    "---\n",
    "\n",
    "**I recommend having many predictors to see benefits from regularization methods, but it's up to you.**\n",
    "\n",
    "1. Use _NEW_ sources of data for this section. It should not be related to your analysis/hypothesis from section 1.\n",
    "- Like in part 1, you should state a hypothesis and perform data cleaning and EDA _only_ on the relevant portions of your data. Don't waste time!\n",
    "- Construct and evaluate different models with cross-validated $R^2$. Compare LinearRegression, Lasso, Ridge, and ElasticNet. Find the optimal hyperparameters (alpha, l1_ratio) using gridsearch.\n",
    "- Report on which model is best, and why that might be the case (hint: does your data have multicollinearity? Irrelevant variables? Both?)\n",
    "- Plot visuals that compare the performance of the four models.\n"
   ]
  },
  {
   "cell_type": "code",
   "execution_count": null,
   "metadata": {
    "collapsed": true
   },
   "outputs": [],
   "source": []
  },
  {
   "cell_type": "markdown",
   "metadata": {},
   "source": [
    "<img src=\"http://imgur.com/l5NasQj.png\" style=\"float: left; margin: 25px 15px 0px 0px; height: 25px\">\n",
    "\n",
    "### 4. Conduct another, different analysis and report on it\n",
    "\n",
    "---\n",
    "\n",
    "1. Combining multiple sources of data (csv files) is required.\n",
    "- Perform EDA and cleaning on relevant data.\n",
    "- Construct and compare different regression models with cross-validation.\n",
    "- Plot descriptive visuals you think are useful for understanding the data.\n",
    "- Report on your findings.\n",
    "\n",
    "This section is just another analysis like the first sections, but is more open-ended in what models you decide to build and why. Don't feel obligated to try every out every regularized regression model (though it doesn't hurt). \n"
   ]
  },
  {
   "cell_type": "code",
   "execution_count": null,
   "metadata": {
    "collapsed": true
   },
   "outputs": [],
   "source": []
  },
  {
   "cell_type": "markdown",
   "metadata": {},
   "source": [
    "<img src=\"http://imgur.com/xDpSobf.png\" style=\"float: left; margin: 25px 15px 0px 0px; height: 25px\">\n",
    "\n",
    "### 4.2 Ploting GridSearch with Lasso, Ridge, or Elasticnet\n",
    "---\n",
    "1. Using the gridsearch results, plot your score in relation to your parameters.\n",
    "1. Plot the effect on your coefficients given alpha.\n",
    "1. Plot any other parameter change to visualize the impact of any other hyperparameter.\n",
    "\n",
    "It's helpful to understand the impact of parameters used in Gridsearch, and that you are comfortable working with the data that is generated for reporting to explore the results visually."
   ]
  },
  {
   "cell_type": "code",
   "execution_count": null,
   "metadata": {
    "collapsed": true
   },
   "outputs": [],
   "source": []
  },
  {
   "cell_type": "markdown",
   "metadata": {},
   "source": [
    "<img src=\"http://imgur.com/GCAf1UX.png\" style=\"float: left; margin: 25px 15px 0px 0px; height: 25px\">\n",
    "\n",
    "## 5. Bias-variance tradeoff\n",
    "\n",
    "---\n",
    "\n",
    "1. Select San Francisco data of your choice and construct a regularized regression model (this can be data from an earlier analysis if you like). Ideally the model should actually improve across regularization strengths...\n",
    "- Gridsearch the regularization parameters to find the optimal.\n",
    "- Plot the regularization parameter against the cross-validated $R^2$.\n",
    "- Explain how regularization and regularization strength is related to the bias-variance tradeoff.\n"
   ]
  },
  {
   "cell_type": "code",
   "execution_count": null,
   "metadata": {
    "collapsed": true
   },
   "outputs": [],
   "source": []
  },
  {
   "cell_type": "markdown",
   "metadata": {},
   "source": [
    "<img src=\"http://imgur.com/xDpSobf.png\" style=\"float: left; margin: 25px 15px 0px 0px; height: 25px\">\n",
    "\n",
    "### 5.1 Calculate the approximated $\\text{bias}^2$ and variance across regularization strengths.\n",
    "\n",
    "---\n",
    "\n",
    "You can obviously use my code from the bias-variance lab to do this. \n",
    "\n",
    "Plot the bias and variance change _with_ the cross-validated $R^2$. \n",
    "\n",
    "You'll need to scale these values somehow to put them on the same chart (I recommend (MinMaxScaler)[http://scikit-learn.org/stable/modules/generated/sklearn.preprocessing.MinMaxScaler.html] to put $\\text{bias}^2$ and variance on the same scale as cross-validated $R^2$."
   ]
  },
  {
   "cell_type": "code",
   "execution_count": null,
   "metadata": {
    "collapsed": true
   },
   "outputs": [],
   "source": []
  },
  {
   "cell_type": "markdown",
   "metadata": {},
   "source": [
    "<img src=\"http://imgur.com/HNPKfE8.png\" style=\"float: left; margin: 25px 15px 0px 0px; height: 25px\">\n",
    "\n",
    "## 6. Custom regularized regression penalties\n",
    "\n",
    "---\n",
    "\n",
    "The $\\lambda1$ and $\\lambda2$ norm regularization penalties (Lasso and Ridge) are the most commonly used regularization penalties. They have a solid foundation in statistics and evidence of effectiveness. However, these are not the only possible penalties for regression – sometimes new, customized penalties give additional performance and predictive power to models depending on the context.\n",
    "\n",
    "For example, when I worked in neuroscience [we created an effective penalized regression dubbed \"GraphNet\"](http://arxiv.org/abs/1110.4139) that combined the Lasso and Ridge penalties like in Elastic net with a third penalty that rewarded clustering of coefficients according to physical distance in FMRI brain activation data.\n",
    "\n",
    "**Devise of and implement a penalized regression for San Francisco data.** What is your rationale – why would this be useful? How does it perform compared to the standard Ridge, Lasso, and Elastic Net penalties?"
   ]
  },
  {
   "cell_type": "code",
   "execution_count": null,
   "metadata": {
    "collapsed": true
   },
   "outputs": [],
   "source": []
  }
 ],
 "metadata": {
  "anaconda-cloud": {},
  "kernelspec": {
   "display_name": "Python 2",
   "language": "python",
   "name": "python2"
  },
  "language_info": {
   "codemirror_mode": {
    "name": "ipython",
    "version": 2
   },
   "file_extension": ".py",
   "mimetype": "text/x-python",
   "name": "python",
   "nbconvert_exporter": "python",
   "pygments_lexer": "ipython2",
   "version": "2.7.11"
  }
 },
 "nbformat": 4,
 "nbformat_minor": 0
}
