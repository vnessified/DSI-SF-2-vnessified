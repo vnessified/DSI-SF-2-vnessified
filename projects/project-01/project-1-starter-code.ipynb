{
 "cells": [
  {
   "cell_type": "markdown",
   "metadata": {},
   "source": [
    "<img src=\"http://imgur.com/1ZcRyrc.png\" style=\"float: left; margin: 15px; height: 80px\">\n",
    "\n",
    "# Project 1\n",
    "\n",
    "### Building \"Pokemon Stay\"\n",
    "\n",
    "---\n",
    "\n",
    "After reading the gushing praise for Pokemon Go you decide to download it and try it out for yourself. Yet a couple hours of play later you find yourself disappointed by the fact that you _actually_ have to move around outside.\n",
    "\n",
    "Though just a beginner programmer, you decide to make your own iteration on the genre: \"Pokemon Stay\". In this version players still need to move, but just from website to website. Pokemon gyms are now popular cyber-destinations, and catching pokemon in the \"wild\" simply requires browsing the internet for hours in the comfort of your home. \n",
    "\n",
    "---\n",
    "\n",
    "#### Package imports \n",
    "\n",
    "The `pprint` package below is the only package imported here, and it's not even strictly required to do any of the project. Printing python variables and objects with pprint can help to format them in a \"prettier\" way."
   ]
  },
  {
   "cell_type": "code",
   "execution_count": 1,
   "metadata": {
    "collapsed": true
   },
   "outputs": [],
   "source": [
    "from pprint import pprint"
   ]
  },
  {
   "cell_type": "markdown",
   "metadata": {},
   "source": [
    "<img src=\"http://imgur.com/l5NasQj.png\" style=\"float: left; margin: 25px 15px 0px 0px; height: 25px\">\n",
    "\n",
    "## 1. Defining a player\n",
    "\n",
    "---\n",
    "\n",
    "The player variables are:\n",
    "\n",
    "    player_id : id code unique to each player (integer)\n",
    "    player_name : entered name of the player (string)\n",
    "    time_played : number of time played the game in minutes (float)\n",
    "    player_pokemon: the player's captured pokemon (dictionary)\n",
    "    gyms_visited: ids of the gyms that a player has visited (list)\n",
    "    \n",
    "Create a player. The dictionary and list variables should just be defined as empty at this point."
   ]
  },
  {
   "cell_type": "code",
   "execution_count": 2,
   "metadata": {
    "collapsed": false
   },
   "outputs": [
    {
     "name": "stdout",
     "output_type": "stream",
     "text": [
      "{'gyms_visited': [],\n",
      " 'player_id': 1,\n",
      " 'player_name': 'Vanessa',\n",
      " 'player_pokemon': {},\n",
      " 'time_played': 3.0}\n"
     ]
    }
   ],
   "source": [
    "my_player = {\n",
    "    'player_id': 1,\n",
    "    'player_name': \"Vanessa\",\n",
    "    'time_played': 3.0,\n",
    "    'player_pokemon': {},\n",
    "    'gyms_visited': [],\n",
    "}\n",
    "pprint(my_player)"
   ]
  },
  {
   "cell_type": "markdown",
   "metadata": {},
   "source": [
    "<img src=\"http://imgur.com/l5NasQj.png\" style=\"float: left; margin: 25px 15px 0px 0px; height: 25px\">\n",
    "\n",
    "## 2. Defining \"gym\" locations\n",
    "\n",
    "---\n",
    "\n",
    "As the sole programmer, Pokemon Stay will have to start small. To begin, there will be 10 different gym location websites on the internet. The gym locations are:\n",
    "\n",
    "    1. 'reddit.com'\n",
    "    2. 'amazon.com'\n",
    "    3. 'twitter.com'\n",
    "    4. 'linkedin.com'\n",
    "    5. 'ebay.com'\n",
    "    6. 'netflix.com'\n",
    "    7. 'amazon.com'\n",
    "    8. 'stackoverflow.com'\n",
    "    9. 'github.com'\n",
    "    10. 'quora.com'\n",
    "\n",
    "1. Set up a list of all the gym locations. This will be a list of strings.\n",
    "2. Append two of these locations to your player's list of visited gyms.\n",
    "3. Print the list."
   ]
  },
  {
   "cell_type": "code",
   "execution_count": 3,
   "metadata": {
    "collapsed": false
   },
   "outputs": [],
   "source": [
    "# Example output:\n",
    "# \n",
    "# ['amazon.com', 'ebay.com']"
   ]
  },
  {
   "cell_type": "code",
   "execution_count": 4,
   "metadata": {
    "collapsed": false
   },
   "outputs": [
    {
     "name": "stdout",
     "output_type": "stream",
     "text": [
      "{'gyms_visited': ['linkedin.com', 'ebay.com'],\n",
      " 'player_id': 1,\n",
      " 'player_name': 'Vanessa',\n",
      " 'player_pokemon': {},\n",
      " 'time_played': 3.0}\n"
     ]
    }
   ],
   "source": [
    "#1:\n",
    "gyms = ['reddit.com','twitter.com','linkedin.com','ebay.com','netflix.com','amazon.com',\n",
    "        'stackoverflow.com','github.com','quora.com']\n",
    "#2:\n",
    "my_player['gyms_visited'] += gyms[2:4]\n",
    "\n",
    "#3:\n",
    "pprint(my_player)"
   ]
  },
  {
   "cell_type": "markdown",
   "metadata": {},
   "source": [
    "<img src=\"http://imgur.com/l5NasQj.png\" style=\"float: left; margin: 25px 15px 0px 0px; height: 25px\">\n",
    "\n",
    "## 3. Create a pokedex\n",
    "\n",
    "---\n",
    "\n",
    "We also need to create some pokemon to catch. Each pokemon will be defined by these variables:\n",
    "\n",
    "    pokemon_id : unique identifier for each pokemon (integer)\n",
    "    name : the name of the pokemon (string)\n",
    "    type : the category of pokemon (string)\n",
    "    hp : base hitpoints (integer)\n",
    "    attack : base attack (integer)\n",
    "    defense : base defense (integer)\n",
    "    special_attack : base special attack (integer)\n",
    "    special_defense : base sepecial defense (integer)\n",
    "    speed : base speed (integer)\n",
    "\n",
    "We are only going to create 3 different pokemon with these `pokemon_id` and `pokemon_name` values:\n",
    "\n",
    "    1 : 'charmander'\n",
    "    2 : 'squirtle'\n",
    "    3 : 'bulbasaur'\n",
    "\n",
    "Create a dictionary that will contain the pokemon. The keys of the dictionary will be the `pokemon_id` and the values will themselves dictionaries that contain the other pokemon variables. The structure of the pokedex dictionary will start like so:\n",
    "     \n",
    "     {\n",
    "         1: {\n",
    "                 'name':'charmander',\n",
    "                 'type':'fire',\n",
    "                 ...\n",
    "                 \n",
    "The `type` of charmander, squirtle, and bulbasaur should be `'fire'`, `'water'`, and `'poison'` respectively. The other values are up to you, make them anything you like!\n",
    "\n",
    "Print the pokedex dictionary with the 3 pokemon."
   ]
  },
  {
   "cell_type": "code",
   "execution_count": 5,
   "metadata": {
    "collapsed": false
   },
   "outputs": [
    {
     "name": "stdout",
     "output_type": "stream",
     "text": [
      "{1: {'attack': 85,\n",
      "     'defense': 60,\n",
      "     'hp': 55,\n",
      "     'name': 'charmander',\n",
      "     'special_attack': 30,\n",
      "     'special_defense': 80,\n",
      "     'speed': 40,\n",
      "     'type': 'fire'},\n",
      " 2: {'attack': 45,\n",
      "     'defense': 90,\n",
      "     'hp': 60,\n",
      "     'name': 'squirtle',\n",
      "     'special_attack': 50,\n",
      "     'special_defense': 20,\n",
      "     'speed': 100,\n",
      "     'type': 'water'},\n",
      " 3: {'attack': 85,\n",
      "     'defense': 90,\n",
      "     'hp': 50,\n",
      "     'name': 'bulbasaur',\n",
      "     'special_attack': 70,\n",
      "     'special_defense': 30,\n",
      "     'speed': 60,\n",
      "     'type': 'poison'}}\n"
     ]
    }
   ],
   "source": [
    "pokedex = {\n",
    "    1: {\n",
    "        'name' :'charmander' ,\n",
    "        'type' : 'fire',\n",
    "        'hp' : 55,\n",
    "        'attack' : 85,\n",
    "        'defense' : 60,\n",
    "        'special_attack' : 30,\n",
    "        'special_defense' : 80,\n",
    "        'speed' : 40,\n",
    "        },\n",
    "    2: {\n",
    "        'name' :'squirtle' ,\n",
    "        'type' : 'water',\n",
    "        'hp' : 60,\n",
    "        'attack' : 45,\n",
    "        'defense' : 90,\n",
    "        'special_attack' : 50,\n",
    "        'special_defense' : 20,\n",
    "        'speed' : 100,\n",
    "        },\n",
    "      3: {\n",
    "        'name' :'bulbasaur' ,\n",
    "        'type' : 'poison',\n",
    "        'hp' : 50,\n",
    "        'attack' : 85,\n",
    "        'defense' : 90,\n",
    "        'special_attack' : 70,\n",
    "        'special_defense' : 30,\n",
    "        'speed' : 60,\n",
    "        }\n",
    "}\n",
    " \n",
    "pprint(pokedex)"
   ]
  },
  {
   "cell_type": "markdown",
   "metadata": {},
   "source": [
    "<img src=\"http://imgur.com/l5NasQj.png\" style=\"float: left; margin: 25px 15px 0px 0px; height: 25px\">\n",
    "\n",
    "## 4. Create a data structure for players\n",
    "\n",
    "---\n",
    "\n",
    "### 4.1 \n",
    "\n",
    "In order to maintain a database of multiple players, create a dictionary that keeps track of players indexed by `player_id`. \n",
    "\n",
    "The keys of the dictionary will be `player_id` and values will be dictionaries containing each player's variables (from question 1). **The values in the player's dictionary will be the variables you assigned in question 1.**\n",
    "\n",
    "Construct the `players` dictionary and insert the player that you defined in question 1, then print `players`."
   ]
  },
  {
   "cell_type": "code",
   "execution_count": 6,
   "metadata": {
    "collapsed": false
   },
   "outputs": [],
   "source": [
    "# Example output from print:\n",
    "#\n",
    "# {1: {'gyms_visited': ['amazon.com', 'ebay.com'],\n",
    "#      'player_name': 'Ash',\n",
    "#      'player_pokemon': {},\n",
    "#      'time_played': 0.0}}"
   ]
  },
  {
   "cell_type": "code",
   "execution_count": 7,
   "metadata": {
    "collapsed": false
   },
   "outputs": [
    {
     "name": "stdout",
     "output_type": "stream",
     "text": [
      "{1: {'gyms_visited': ['linkedin.com', 'ebay.com'],\n",
      "     'player_id': 1,\n",
      "     'player_name': 'Vanessa',\n",
      "     'player_pokemon': {},\n",
      "     'time_played': 3.0}}\n"
     ]
    }
   ],
   "source": [
    "player_dict = {}\n",
    "player_dict[1] = my_player\n",
    "pprint(player_dict)"
   ]
  },
  {
   "cell_type": "code",
   "execution_count": 8,
   "metadata": {
    "collapsed": false,
    "scrolled": true
   },
   "outputs": [
    {
     "data": {
      "text/plain": [
       "{'gyms_visited': ['linkedin.com', 'ebay.com'],\n",
       " 'player_id': 1,\n",
       " 'player_name': 'Vanessa',\n",
       " 'player_pokemon': {},\n",
       " 'time_played': 3.0}"
      ]
     },
     "execution_count": 8,
     "metadata": {},
     "output_type": "execute_result"
    }
   ],
   "source": [
    "player_dict[1]"
   ]
  },
  {
   "cell_type": "markdown",
   "metadata": {},
   "source": [
    "---\n",
    "\n",
    "### 4.2\n",
    "\n",
    "Create a new player with `player_id = 2` in the `players` dictionary. Leave the `'player_pokemon'` dictionary empty. Append `'stackoverflow.com'` and `'github.com'` to the `'gyms_visited'` list for player 2.\n",
    "\n",
    "The `'player_name'` and `'time_played'` values are up to you, but must be a string and float, respectively.\n",
    "\n",
    "Remember, the player_id is the key for the player in the players dictionary.\n",
    "\n",
    "Print the `players` dictionary with the new player inserted."
   ]
  },
  {
   "cell_type": "code",
   "execution_count": 9,
   "metadata": {
    "collapsed": false
   },
   "outputs": [
    {
     "name": "stdout",
     "output_type": "stream",
     "text": [
      "{1: {'gyms_visited': ['linkedin.com', 'ebay.com'],\n",
      "     'player_id': 1,\n",
      "     'player_name': 'Vanessa',\n",
      "     'player_pokemon': {},\n",
      "     'time_played': 3.0},\n",
      " 2: {'gyms_visited': ['stackoverflow.com', 'github.com'],\n",
      "     'player_name': 'Mr. Robot',\n",
      "     'player_pokemon': {},\n",
      "     'time_played': 100.0}}\n"
     ]
    }
   ],
   "source": [
    "player_dict[2] = {\n",
    "#     'player_id': 2,\n",
    "    'player_name': \"Mr. Robot\",\n",
    "    'time_played': 100.0,\n",
    "    'player_pokemon': {},\n",
    "    'gyms_visited': [],\n",
    "}\n",
    "\n",
    "player_dict[2]['gyms_visited'] = gyms[6:8]\n",
    "\n",
    "\n",
    "pprint(player_dict)"
   ]
  },
  {
   "cell_type": "markdown",
   "metadata": {},
   "source": [
    "<img src=\"http://imgur.com/l5NasQj.png\" style=\"float: left; margin: 25px 15px 0px 0px; height: 25px\">\n",
    "\n",
    "## 5. Add captured pokemon for each player\n",
    "\n",
    "---\n",
    "\n",
    "The `'player_pokemon'` keyed dictionaries for each player keep track of which of the pokemon each player has.\n",
    "\n",
    "The keys of the `'player_pokemon'` dictionaries are the pokemon ids that correspond to the ids in the `pokedex` dictionary you created earlier. The values are integers specifying the stats for the pokemon.\n",
    "\n",
    "Give player 1 a squirtle. Give player 2 charmander and a bulbasaur.\n",
    "\n",
    "Print the players dictionary after adding the pokemon for each player.\n"
   ]
  },
  {
   "cell_type": "code",
   "execution_count": 10,
   "metadata": {
    "collapsed": false
   },
   "outputs": [],
   "source": [
    "# Example output from print:\n",
    "#\n",
    "# {1: {'gyms_visited': ['amazon.com', 'ebay.com'],\n",
    "#      'player_name': 'Ash',\n",
    "#      'player_pokemon': {2: ...squirtle dictionary...},\n",
    "#      'time_played': 0.0},\n",
    "#  2: {'gyms_visited': ['stackoverflow.com', 'github.com'],\n",
    "#      'player_name': 'Brock',\n",
    "#      'player_pokemon': {1: ...charmander dictionary..., 3: ...bulbasaur dictionary...},\n",
    "#      'time_played': 10.0}}"
   ]
  },
  {
   "cell_type": "code",
   "execution_count": 11,
   "metadata": {
    "collapsed": false
   },
   "outputs": [
    {
     "name": "stdout",
     "output_type": "stream",
     "text": [
      "{1: {'gyms_visited': ['linkedin.com', 'ebay.com'],\n",
      "     'player_id': 1,\n",
      "     'player_name': 'Vanessa',\n",
      "     'player_pokemon': {'attack': 85,\n",
      "                        'defense': 60,\n",
      "                        'hp': 55,\n",
      "                        'name': 'charmander',\n",
      "                        'special_attack': 30,\n",
      "                        'special_defense': 80,\n",
      "                        'speed': 40,\n",
      "                        'type': 'fire'},\n",
      "     'time_played': 3.0},\n",
      " 2: {'gyms_visited': ['stackoverflow.com', 'github.com'],\n",
      "     'player_name': 'Mr. Robot',\n",
      "     'player_pokemon': {'attack': 45,\n",
      "                        'defense': 90,\n",
      "                        'hp': 60,\n",
      "                        'name': 'squirtle',\n",
      "                        'special_attack': 50,\n",
      "                        'special_defense': 20,\n",
      "                        'speed': 100,\n",
      "                        'type': 'water'},\n",
      "     'time_played': 100.0}}\n"
     ]
    }
   ],
   "source": [
    "player_dict[1]['player_pokemon'] = pokedex[1]\n",
    "player_dict[2]['player_pokemon'] = pokedex[2]\n",
    "pprint(player_dict)"
   ]
  },
  {
   "cell_type": "markdown",
   "metadata": {},
   "source": [
    "<img src=\"http://imgur.com/l5NasQj.png\" style=\"float: left; margin: 25px 15px 0px 0px; height: 25px\">\n",
    "\n",
    "## 6. What gyms have players visited?\n",
    "\n",
    "---\n",
    "\n",
    "Write a for-loop that:\n",
    "\n",
    "1. Iterates through the `pokemon_gyms` list of gym locations you defined before.\n",
    "2. For each gym, iterate through each player in the `players` dictionary with a second, internal for-loop.\n",
    "3. If the player has visited the gym, print out \"[player] has visited [gym location].\", filling in [player] and [gym location] with the current player's name and current gym location."
   ]
  },
  {
   "cell_type": "code",
   "execution_count": 12,
   "metadata": {
    "collapsed": false
   },
   "outputs": [],
   "source": [
    "# Example output:\n",
    "#\n",
    "# Ash has visited amazon.com.\n",
    "# Ash has visited ebay.com.\n",
    "# Ash has visited amazon.com.\n",
    "# Brock has visited stackoverflow.com.\n",
    "# Brock has visited github.com."
   ]
  },
  {
   "cell_type": "code",
   "execution_count": 13,
   "metadata": {
    "collapsed": false
   },
   "outputs": [
    {
     "name": "stdout",
     "output_type": "stream",
     "text": [
      "Vanessa has visited linkedin.com.\n",
      "Vanessa has visited ebay.com.\n",
      "Mr. Robot has visited stackoverflow.com.\n",
      "Mr. Robot has visited github.com.\n"
     ]
    }
   ],
   "source": [
    "for gym in gyms:\n",
    "    for player in player_dict:\n",
    "        if gym in player_dict[player]['gyms_visited']:\n",
    "            print '%s has visited %s.' %(player_dict[player]['player_name'],gym)                                     "
   ]
  },
  {
   "cell_type": "markdown",
   "metadata": {},
   "source": [
    "<img src=\"http://imgur.com/l5NasQj.png\" style=\"float: left; margin: 25px 15px 0px 0px; height: 25px\">\n",
    "\n",
    "## 7. Calculate player \"power\".\n",
    "\n",
    "---\n",
    "\n",
    "Define a function that will calculate a player's \"power\". Player power is defined as the sum of the base statistics all of their pokemon.\n",
    "\n",
    "Your function will:\n",
    "\n",
    "1. Accept the `players` dictionary, `pokedex` dictionary, and a player_id as arguments.\n",
    "2. For the specified player_id, look up that player's pokemon and their level(s).\n",
    "3. Find and aggregate the attack and defense values for each of the player's pokemon from the `pokedex` dictionary.\n",
    "4. Print \"[player name]'s power is [player power].\", where the player power is the sum of the base statistics for all of their pokemon.\n",
    "5. Return the player's power value.\n",
    "\n",
    "Print out the pokemon power for each of your players."
   ]
  },
  {
   "cell_type": "code",
   "execution_count": 14,
   "metadata": {
    "collapsed": true
   },
   "outputs": [],
   "source": [
    "# Example output:\n",
    "#\n",
    "# Ash's power is 57.\n",
    "# 57\n",
    "# Brock's power is 119.\n",
    "# 119"
   ]
  },
  {
   "cell_type": "code",
   "execution_count": 15,
   "metadata": {
    "collapsed": false
   },
   "outputs": [
    {
     "name": "stdout",
     "output_type": "stream",
     "text": [
      "Vanessa's power is 145\n",
      "145\n",
      "Mr. Robot's power is 135\n",
      "135\n"
     ]
    }
   ],
   "source": [
    "#why do we need to pass player_dict and pokedex into the fuction?... seems to work without them too\n",
    "\n",
    "def player_power(player_dict, pokedex, player_id):\n",
    "    \n",
    "    pokemon_captured = player_dict[player_id]['player_pokemon']\n",
    "\n",
    "    for pokemon in pokemon_captured: \n",
    "        power = player_dict[player_id]['player_pokemon']['attack'] + player_dict[player_id]['player_pokemon']['defense']\n",
    "        + player_dict[player_id]['player_pokemon']['special_attack'] + player_dict[player_id]['player_pokemon']['special_defense']\n",
    "            \n",
    "    print \"%s's power is %s\" %(player_dict[player_id]['player_name'], power)\n",
    "    return power\n",
    "    \n",
    "\n",
    "print player_power(player_dict, pokedex, 1)\n",
    "print player_power(player_dict, pokedex,  2)\n",
    "    "
   ]
  },
  {
   "cell_type": "markdown",
   "metadata": {
    "collapsed": true
   },
   "source": [
    "<img src=\"http://imgur.com/GCAf1UX.png\" style=\"float: left; margin: 25px 15px 0px 0px; height: 25px\">\n",
    "\n",
    "## 8. Load a pokedex file containing all the pokemon\n",
    "\n",
    "---\n",
    "\n",
    "### 8.1\n",
    "\n",
    "Now we have access to the raw base stats on all of the pokemon, scraped from the web.\n",
    "\n",
    "The provided code below loads information from a comma separated value (csv) file. You need to parse this string into a more useable format. The format of the string is:\n",
    "\n",
    "- Rows are separated by newline characters: \\n\n",
    "- Columns are separated by commas: ,\n",
    "- All cells in the csv are double quoted. Ex: \"PokedexNumber\" is the first cell of the first row.\n",
    "\n",
    "Using for-loops, create a list of lists where each list within the overall list is a row of the csv/matrix, and each element in that list is a cell in that row. Additional criteria:\n",
    "\n",
    "1. Quotes are removed from each cell item.\n",
    "2. Numeric column values are converted to floats.\n",
    "3. There are some cells that are empty and have no information. For these cells put a -1 value in place.\n",
    "\n",
    "The first three lists in your pokedex list should look like so:\n",
    "\n",
    "    ['PokedexNumber', 'Name', 'Type', 'Total', 'HP', 'Attack', 'Defense', 'SpecialAttack', 'SpecialDefense', 'Speed']\n",
    "    [1.0, 'Bulbasaur', 'GrassPoison', 318.0, 45.0, 49.0, 49.0, 65.0, 65.0, 45.0]\n",
    "    [2.0, 'Ivysaur', 'GrassPoison', 405.0, 60.0, 62.0, 63.0, 80.0, 80.0, 60.0]"
   ]
  },
  {
   "cell_type": "code",
   "execution_count": 16,
   "metadata": {
    "collapsed": false
   },
   "outputs": [],
   "source": [
    "# Code to read in pokedex info\n",
    "raw_pd = ''\n",
    "pokedex_file = '../../../datasets/pokemon/pokedex_basic.csv'\n",
    "with open(pokedex_file, 'r') as f:\n",
    "    raw_pd = f.readlines()\n",
    "    \n",
    "# the pokedex string is assigned to the raw_pd variable"
   ]
  },
  {
   "cell_type": "code",
   "execution_count": 17,
   "metadata": {
    "collapsed": false
   },
   "outputs": [],
   "source": [
    "# Example output (first 3 sublists):\n",
    "#\n",
    "# ['PokedexNumber', 'Name', 'Type', 'Total', 'HP', 'Attack', 'Defense', 'SpecialAttack', 'SpecialDefense', 'Speed']\n",
    "# [1.0, 'Bulbasaur', 'GrassPoison', 318.0, 45.0, 49.0, 49.0, 65.0, 65.0, 45.0]\n",
    "# [2.0, 'Ivysaur', 'GrassPoison', 405.0, 60 .0, 62.0, 63.0, 80.0, 80.0, 60.0]"
   ]
  },
  {
   "cell_type": "code",
   "execution_count": 18,
   "metadata": {
    "collapsed": false
   },
   "outputs": [],
   "source": [
    "# raw_pd"
   ]
  },
  {
   "cell_type": "code",
   "execution_count": 19,
   "metadata": {
    "collapsed": false
   },
   "outputs": [
    {
     "name": "stdout",
     "output_type": "stream",
     "text": [
      "[['PokedexNumber', 'Name', 'Type', 'Total', 'HP', 'Attack', 'Defense', 'SpecialAttack', 'SpecialDefense', 'Speed'], [1.0, 'Bulbasaur', 'GrassPoison', 318.0, 45.0, 49.0, 49.0, 65.0, 65.0, 45.0], [2.0, 'Ivysaur', 'GrassPoison', 405.0, 60.0, 62.0, 63.0, 80.0, 80.0, 60.0]]\n"
     ]
    }
   ],
   "source": [
    "# Remove new line characters & quotes\n",
    "cleaned_lines = []\n",
    "for line in raw_pd:\n",
    "    remove_newline_ch = line.replace('\\n', '').replace('\"', '')\n",
    "    cleaned_lines.append(remove_newline_ch)\n",
    "    \n",
    "# for-loops make list of lists where each list within the overall list is a row of the csv/matrix, \n",
    "# and each element in that list is a cell in that row    \n",
    "\n",
    "# split the strings that make up data on commas to get individual list items \n",
    "row_data = []\n",
    "for row_string in cleaned_lines:\n",
    "    row_data.append(row_string.split(','))\n",
    "        \n",
    "\n",
    "# Convert to floats & for empty cells put a -1 value in place.\n",
    "new_data = []\n",
    "for row in row_data:\n",
    "    new_row = []\n",
    "    for cell in row:\n",
    "        try: \n",
    "            cell = float(cell)\n",
    "        except:\n",
    "            if cell == '':\n",
    "                cell == -1\n",
    "        new_row.append(cell)\n",
    "    new_data.append(new_row)\n",
    "    \n",
    "print new_data[0:3]"
   ]
  },
  {
   "cell_type": "markdown",
   "metadata": {},
   "source": [
    "<img src=\"http://imgur.com/gGrau8s.png\" style=\"float: left; margin: 25px 15px 0px 0px; height: 25px\">\n",
    "\n",
    "### 8.2 Parse the raw pokedex with list comprehensions\n",
    "\n",
    "---\n",
    "\n",
    "Perform the same parsing as above, but **using only a single list comprehension** instead of for loops. You may have nested list comprehensions within the main list comprehension! The output should be exactly the same."
   ]
  },
  {
   "cell_type": "code",
   "execution_count": 20,
   "metadata": {
    "collapsed": false
   },
   "outputs": [],
   "source": [
    "# Example output (first 3 sublists):\n",
    "#\n",
    "# ['PokedexNumber', 'Name', 'Type', 'Total', 'HP', 'Attack', 'Defense', 'SpecialAttack', 'SpecialDefense', 'Speed']\n",
    "# [1.0, 'Bulbasaur', 'GrassPoison', 318.0, 45.0, 49.0, 49.0, 65.0, 65.0, 45.0]\n",
    "# [2.0, 'Ivysaur', 'GrassPoison', 405.0, 60.0, 62.0, 63.0, 80.0, 80.0, 60.0]"
   ]
  },
  {
   "cell_type": "code",
   "execution_count": 21,
   "metadata": {
    "collapsed": true
   },
   "outputs": [],
   "source": [
    "# cleaned_lines_lc = [line.replace('\\n', '').replace('\"', '') for line in raw_pd]"
   ]
  },
  {
   "cell_type": "code",
   "execution_count": 22,
   "metadata": {
    "collapsed": true
   },
   "outputs": [],
   "source": [
    "# row_data_lc = [row_string.split(',') for row_string in cleaned_lines_lc]"
   ]
  },
  {
   "cell_type": "code",
   "execution_count": 23,
   "metadata": {
    "collapsed": false
   },
   "outputs": [],
   "source": [
    "# new_data_lc = [[float(cell) if cell.isdigit() == True else -1 if cell == '' else cell for cell in row] \n",
    "#                for row in row_data_lc]"
   ]
  },
  {
   "cell_type": "code",
   "execution_count": 24,
   "metadata": {
    "collapsed": false
   },
   "outputs": [],
   "source": [
    "# new_data_lc[0:3]"
   ]
  },
  {
   "cell_type": "code",
   "execution_count": 28,
   "metadata": {
    "collapsed": false
   },
   "outputs": [
    {
     "ename": "SyntaxError",
     "evalue": "invalid syntax (<ipython-input-28-e69960538f06>, line 4)",
     "output_type": "error",
     "traceback": [
      "\u001b[0;36m  File \u001b[0;32m\"<ipython-input-28-e69960538f06>\"\u001b[0;36m, line \u001b[0;32m4\u001b[0m\n\u001b[0;31m    [float(cell) if cell.isdigit() == True else -1 if cell == '' else cell for cell in line]\u001b[0m\n\u001b[0m                                                                             ^\u001b[0m\n\u001b[0;31mSyntaxError\u001b[0m\u001b[0;31m:\u001b[0m invalid syntax\n"
     ]
    }
   ],
   "source": [
    "one_lc = [\n",
    "    \n",
    "    line.replace('\\n', '').replace('\"', '').split(',')\n",
    "    [float(cell) if cell.isdigit() == True else -1 if cell == '' else cell for cell in line] \n",
    "    for line in raw_pd.replace('\\n', '').replace('\"', '').split(',')\n",
    "]"
   ]
  },
  {
   "cell_type": "code",
   "execution_count": null,
   "metadata": {
    "collapsed": false
   },
   "outputs": [],
   "source": [
    "new_data_lc"
   ]
  },
  {
   "cell_type": "markdown",
   "metadata": {},
   "source": [
    "<img src=\"http://imgur.com/GCAf1UX.png\" style=\"float: left; margin: 25px 15px 0px 0px; height: 25px\">\n",
    "\n",
    "## 9. Write a function to generate the full pokedex\n",
    "\n",
    "---\n",
    "\n",
    "Write a function that recreates the pokedex you made before, but with the data read in from the full pokemon file. The `PokedexNumber` should be used as the `pokemon_id` key values for the dictionary of pokemon.\n",
    "\n",
    "Your function should:\n",
    "\n",
    "1. Take the parsed pokedex information you created above as an argument.\n",
    "2. Return a dictionary in the same format as your original pokedex you created before containing the information from the parsed full pokedex file.\n",
    "\n",
    "To test the function, print out the pokemon with id = 100."
   ]
  },
  {
   "cell_type": "code",
   "execution_count": null,
   "metadata": {
    "collapsed": false
   },
   "outputs": [],
   "source": [
    "# Example output:\n",
    "#\n",
    "# {'Attack': 30.0,\n",
    "#  'Defense': 50.0,\n",
    "#  'HP': 40.0,\n",
    "#  'Name': 'Voltorb',\n",
    "#  'SpecialAttack': 55.0,\n",
    "#  'SpecialDefense': 55.0,\n",
    "#  'Speed': 100.0,\n",
    "#  'Total': 330.0,\n",
    "#  'Type': 'Electric'}"
   ]
  },
  {
   "cell_type": "markdown",
   "metadata": {},
   "source": [
    "<img src=\"http://imgur.com/GCAf1UX.png\" style=\"float: left; margin: 25px 15px 0px 0px; height: 25px\">\n",
    "\n",
    "## 10. Write a function to generate a \"filtered\" pokedex\n",
    "---\n",
    "Your function should:\n",
    "1. Take the parsed pokedex information you created above as an argument.\n",
    "1. Take a dictionary as a parameter with keys matching the features of the Pokedex, filtering by exact match for string type values, and/or filter continuous variables specified value that is greater than or equal to the dictionary key parameter.\n",
    "1. Return multiple elements from the Pokedex\n",
    "\n",
    "Example:\n",
    "\n",
    "```python\n",
    "\n",
    "# Only filter based on parameters passed\n",
    "filter_options = {\n",
    "    'Attack':   25,\n",
    "    'Defense':  30,\n",
    "    'Type':     'Electric'\n",
    "}\n",
    "\n",
    "# Return records with attack >= 24, defense >= 30, and type == \"Electric\"\n",
    "# Also anticipate that other paramters can also be passed such as \"SpecialAttack\", \"Speed\", etc.\n",
    "filtered_pokedex(pokedex_data, filter=filter_options)\n",
    "\n",
    "# Example output:\n",
    "# [{'Attack': 30.0,\n",
    "#  'Defense': 50.0,\n",
    "#  'HP': 40.0,\n",
    "#  'Name': 'Voltorb',\n",
    "#  'SpecialAttack': 55.0,\n",
    "#  'SpecialDefense': 55.0,\n",
    "#  'Speed': 100.0,\n",
    "#  'Total': 330.0,\n",
    "#  'Type': 'Electric'},\n",
    "#  {'Attack': 30.0,\n",
    "#  'Defense': 33.0,\n",
    "#  'HP': 32.0,\n",
    "#  'Name': 'Pikachu',\n",
    "#  'SpecialAttack': 55.0,\n",
    "#  'SpecialDefense': 55.0,\n",
    "#  'Speed': 100.0,\n",
    "#  'Total': 330.0,\n",
    "#  'Type': 'Electric'},\n",
    "#  ... etc\n",
    "#  ]\n",
    "\n",
    "```\n",
    "\n"
   ]
  },
  {
   "cell_type": "code",
   "execution_count": null,
   "metadata": {
    "collapsed": true
   },
   "outputs": [],
   "source": []
  }
 ],
 "metadata": {
  "anaconda-cloud": {},
  "kernelspec": {
   "display_name": "Python 2",
   "language": "python",
   "name": "python2"
  },
  "language_info": {
   "codemirror_mode": {
    "name": "ipython",
    "version": 2
   },
   "file_extension": ".py",
   "mimetype": "text/x-python",
   "name": "python",
   "nbconvert_exporter": "python",
   "pygments_lexer": "ipython2",
   "version": "2.7.11"
  }
 },
 "nbformat": 4,
 "nbformat_minor": 0
}
