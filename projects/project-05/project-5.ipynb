{
 "cells": [
  {
   "cell_type": "markdown",
   "metadata": {},
   "source": [
    "<img src=\"http://imgur.com/1ZcRyrc.png\" style=\"float: left; margin: 15px; height: 80px\">\n",
    "\n",
    "# Project 5\n",
    "\n",
    "## Help Yelp\n",
    "\n",
    "---\n",
    "\n",
    "In this project you will be investigating a small version of the [Yelp challenge dataset](https://www.yelp.com/dataset_challenge). You'll practice using classification algorithms, cross-validation, gridsearching – all that good stuff.\n",
    "\n"
   ]
  },
  {
   "cell_type": "markdown",
   "metadata": {},
   "source": [
    "---\n",
    "\n",
    "### The data\n",
    "\n",
    "There are 5 individual .csv files that have the information, zipped into .7z format like with the SF data last project. The dataset is located in your datasets folder:\n",
    "\n",
    "    DSI-SF-2/datasets/yelp_arizona_data.7z\n",
    "\n",
    "The columns in each are:\n",
    "\n",
    "    businesses_small_parsed.csv\n",
    "        business_id: unique business identifier\n",
    "        name: name of the business\n",
    "        review_count: number of reviews per business\n",
    "        city: city business resides in\n",
    "        stars: average rating\n",
    "        categories: categories the business falls into (can be one or multiple)\n",
    "        latitude\n",
    "        longitude\n",
    "        neighborhoods: neighborhoods business belongs to\n",
    "        variable: \"property\" of the business (a tag)\n",
    "        value: True/False for the property\n",
    "        \n",
    "    reviews_small_nlp_parsed.csv\n",
    "        user_id: unique user identifier\n",
    "        review_id: unique review identifier\n",
    "        votes.cool: how many thought the review was \"cool\"\n",
    "        business_id: unique business id the review is for\n",
    "        votes.funny: how many thought the review was funny\n",
    "        stars: rating given\n",
    "        date: date of review\n",
    "        votes.useful: how many thought the review was useful\n",
    "        ... 100 columns of counts of most common 2 word phrases that appear in reviews in this review\n",
    "        \n",
    "    users_small_parsed.csv\n",
    "        yelping_since: signup date\n",
    "        compliments.plain: # of compliments \"plain\"\n",
    "        review_count: # of reviews:\n",
    "        compliments.cute: total # of compliments \"cute\"\n",
    "        compliments.writer: # of compliments \"writer\"\n",
    "        compliments.note: # of compliments \"note\" (not sure what this is)\n",
    "        compliments.hot: # of compliments \"hot\" (?)\n",
    "        compliments.cool: # of compliments \"cool\"\n",
    "        compliments.profile: # of compliments \"profile\"\n",
    "        average_stars: average rating\n",
    "        compliments.more: # of compliments \"more\"\n",
    "        elite: years considered \"elite\"\n",
    "        name: user's name\n",
    "        user_id: unique user id\n",
    "        votes.cool: # of votes \"cool\"\n",
    "        compliments.list: # of compliments \"list\"\n",
    "        votes.funny: # of compliments \"funny\"\n",
    "        compliments.photos: # of compliments \"photos\"\n",
    "        compliments.funny: # of compliments \"funny\"\n",
    "        votes.useful: # of votes \"useful\"\n",
    "       \n",
    "    checkins_small_parsed.csv\n",
    "        business_id: unique business identifier\n",
    "        variable: day-time identifier of checkins (0-0 is Sunday 0:00 - 1:00am,  for example)\n",
    "        value: # of checkins at that time\n",
    "    \n",
    "    tips_small_nlp_parsed.csv\n",
    "        user_id: unique user identifier\n",
    "        business_id: unique business identifier\n",
    "        likes: likes that the tip has\n",
    "        date: date of tip\n",
    "        ... 100 columns of counts of most common 2 word phrases that appear in tips in this tip\n",
    "\n",
    "The reviews and tips datasets in particular have parsed \"NLP\" columns with counts of 2-word phrases in that review or tip (a \"tip\", it seems, is some kind of smaller review).\n",
    "\n",
    "The user dataset has a lot of columns of counts of different compliments and votes. I'm not sure whether the compliments or votes are _by_ the user or _for_ the user.\n",
    "\n",
    "---\n",
    "\n",
    "If you look at the website, or the full data, you'll see I have removed pieces of the data and cut it down quite a bit. This is to simplify it for this project. Specifically, business are limited to be in these cities:\n",
    "\n",
    "    Phoenix\n",
    "    Surprise\n",
    "    Las Vegas\n",
    "    Waterloo\n",
    "\n",
    "Apparently there is a city called \"Surprise\" in Arizona. \n",
    "\n",
    "Businesses are also restricted to at least be in one of the following categories, because I thought the mix of them was funny:\n",
    "\n",
    "    Airports\n",
    "    Breakfast & Brunch\n",
    "    Bubble Tea\n",
    "    Burgers\n",
    "    Bars\n",
    "    Bakeries\n",
    "    Breweries\n",
    "    Cafes\n",
    "    Candy Stores\n",
    "    Comedy Clubs\n",
    "    Courthouses\n",
    "    Dance Clubs\n",
    "    Fast Food\n",
    "    Museums\n",
    "    Tattoo\n",
    "    Vape Shops\n",
    "    Yoga\n",
    "    \n",
    "---\n",
    "\n",
    "### Project requirements\n",
    "\n",
    "**You will be performing 4 different sections of analysis, like in the last project.**\n",
    "\n",
    "Remember that classification targets are categorical and regression targets are continuous variables."
   ]
  },
  {
   "cell_type": "code",
   "execution_count": 1,
   "metadata": {
    "collapsed": false
   },
   "outputs": [],
   "source": [
    "import numpy as np\n",
    "import pandas as pd\n",
    "\n",
    "from sklearn.neighbors import KNeighborsClassifier\n",
    "from sklearn.linear_model import LogisticRegressionCV\n",
    "\n",
    "from sklearn.cross_validation import StratifiedKFold\n",
    "from sklearn.cross_validation import train_test_split, cross_val_score\n",
    "from sklearn import grid_search, datasets\n",
    "from sklearn.grid_search import GridSearchCV\n",
    "from sklearn.metrics import confusion_matrix\n",
    "\n",
    "# Load graph packages\n",
    "import matplotlib.pyplot as plt\n",
    "import seaborn as sns\n",
    "plt.style.use('seaborn-white')\n",
    "%matplotlib inline"
   ]
  },
  {
   "cell_type": "markdown",
   "metadata": {},
   "source": [
    "<img src=\"http://imgur.com/l5NasQj.png\" style=\"float: left; margin: 25px 15px 0px 0px; height: 25px\">\n",
    "\n",
    "## 1. Constructing a \"profile\" for Las Vegas\n",
    "\n",
    "---\n",
    "\n",
    "Yelp is interested in building out what they are calling \"profiles\" for cities. They want you to start with just Las Vegas to see what a prototype of this would look like. Essentially, they want to know what makes Las Vegas distinct from the other four.\n",
    "\n",
    "Use the data you have to predict Las Vegas from the other variables you have. You should not be predicting the city from any kind of location data or other data perfectly associated with that city (or another city).\n",
    "\n",
    "You may use any classification algorithm you deem appropriate, or even multiple models. You should:\n",
    "\n",
    "1. Build at least one model predicting Las Vegas vs. the other cities.\n",
    "- Validate your model(s).\n",
    "- Interpret and visualize, in some way, the results.\n",
    "- Write up a \"profile\" for Las Vegas. This should be a writeup converting your findings from the model(s) into a human-readable description of the city."
   ]
  },
  {
   "cell_type": "markdown",
   "metadata": {},
   "source": [
    "***\n",
    "### Dataset\n",
    "I've chosen to look at businesses_small_parsed.csv because I think the features are the most interesting... specifically the categories column. My working hypothesis is the frequency of certain business categories (for example Nightlife, Adult Entertainment, etc) make Las Vegas distinct from Phoenix, Surprise, and Waterloo."
   ]
  },
  {
   "cell_type": "code",
   "execution_count": 2,
   "metadata": {
    "collapsed": true
   },
   "outputs": [],
   "source": [
    "tips = pd.read_csv('/Users/VanessaG/desktop/DSI-SF-2-vnessified/datasets/yelp_arizona_data/tips_small_nlp_parsed.csv')"
   ]
  },
  {
   "cell_type": "code",
   "execution_count": 3,
   "metadata": {
    "collapsed": true
   },
   "outputs": [],
   "source": [
    "checkins = pd.read_csv('/Users/VanessaG/desktop/DSI-SF-2-vnessified/datasets/yelp_arizona_data/checkins_small_parsed.csv')"
   ]
  },
  {
   "cell_type": "code",
   "execution_count": 4,
   "metadata": {
    "collapsed": true
   },
   "outputs": [],
   "source": [
    "reviews = pd.read_csv('/Users/VanessaG/desktop/DSI-SF-2-vnessified/datasets/yelp_arizona_data/reviews_small_nlp_parsed.csv')"
   ]
  },
  {
   "cell_type": "code",
   "execution_count": 5,
   "metadata": {
    "collapsed": true
   },
   "outputs": [],
   "source": [
    "users = pd.read_csv('/Users/VanessaG/desktop/DSI-SF-2-vnessified/datasets/yelp_arizona_data/users_small_parsed.csv')"
   ]
  },
  {
   "cell_type": "code",
   "execution_count": 6,
   "metadata": {
    "collapsed": false
   },
   "outputs": [],
   "source": [
    "business = pd.read_csv('/Users/VanessaG/desktop/DSI-SF-2-vnessified/datasets/yelp_arizona_data/businesses_small_parsed.csv')"
   ]
  },
  {
   "cell_type": "code",
   "execution_count": 7,
   "metadata": {
    "collapsed": false,
    "scrolled": true
   },
   "outputs": [
    {
     "data": {
      "text/html": [
       "<div>\n",
       "<table border=\"1\" class=\"dataframe\">\n",
       "  <thead>\n",
       "    <tr style=\"text-align: right;\">\n",
       "      <th></th>\n",
       "      <th>business_id</th>\n",
       "      <th>name</th>\n",
       "      <th>review_count</th>\n",
       "      <th>city</th>\n",
       "      <th>stars</th>\n",
       "      <th>categories</th>\n",
       "      <th>latitude</th>\n",
       "      <th>longitude</th>\n",
       "      <th>neighborhoods</th>\n",
       "      <th>variable</th>\n",
       "      <th>value</th>\n",
       "    </tr>\n",
       "  </thead>\n",
       "  <tbody>\n",
       "    <tr>\n",
       "      <th>0</th>\n",
       "      <td>EmzaQR5hQlF0WIl24NxAZA</td>\n",
       "      <td>Sky Lounge</td>\n",
       "      <td>25</td>\n",
       "      <td>Phoenix</td>\n",
       "      <td>2.5</td>\n",
       "      <td>['American (New)', 'Nightlife', 'Dance Clubs',...</td>\n",
       "      <td>33.448399</td>\n",
       "      <td>-112.071702</td>\n",
       "      <td>[]</td>\n",
       "      <td>attributes.Ambience.divey</td>\n",
       "      <td>False</td>\n",
       "    </tr>\n",
       "    <tr>\n",
       "      <th>1</th>\n",
       "      <td>SiwN7f0N4bs4ZtPc4yPgiA</td>\n",
       "      <td>Palazzo</td>\n",
       "      <td>19</td>\n",
       "      <td>Phoenix</td>\n",
       "      <td>3.0</td>\n",
       "      <td>['Bars', 'Nightlife', 'Dance Clubs']</td>\n",
       "      <td>33.455885</td>\n",
       "      <td>-112.074177</td>\n",
       "      <td>[]</td>\n",
       "      <td>attributes.Ambience.divey</td>\n",
       "      <td>False</td>\n",
       "    </tr>\n",
       "  </tbody>\n",
       "</table>\n",
       "</div>"
      ],
      "text/plain": [
       "              business_id        name  review_count     city  stars  \\\n",
       "0  EmzaQR5hQlF0WIl24NxAZA  Sky Lounge            25  Phoenix    2.5   \n",
       "1  SiwN7f0N4bs4ZtPc4yPgiA     Palazzo            19  Phoenix    3.0   \n",
       "\n",
       "                                          categories   latitude   longitude  \\\n",
       "0  ['American (New)', 'Nightlife', 'Dance Clubs',...  33.448399 -112.071702   \n",
       "1               ['Bars', 'Nightlife', 'Dance Clubs']  33.455885 -112.074177   \n",
       "\n",
       "  neighborhoods                   variable  value  \n",
       "0            []  attributes.Ambience.divey  False  \n",
       "1            []  attributes.Ambience.divey  False  "
      ]
     },
     "execution_count": 7,
     "metadata": {},
     "output_type": "execute_result"
    }
   ],
   "source": [
    "business.head(2)"
   ]
  },
  {
   "cell_type": "code",
   "execution_count": 8,
   "metadata": {
    "collapsed": false,
    "scrolled": false
   },
   "outputs": [
    {
     "name": "stdout",
     "output_type": "stream",
     "text": [
      "<class 'pandas.core.frame.DataFrame'>\n",
      "RangeIndex: 152832 entries, 0 to 152831\n",
      "Data columns (total 11 columns):\n",
      "business_id      152832 non-null object\n",
      "name             152832 non-null object\n",
      "review_count     152832 non-null int64\n",
      "city             152832 non-null object\n",
      "stars            152832 non-null float64\n",
      "categories       152832 non-null object\n",
      "latitude         152832 non-null float64\n",
      "longitude        152832 non-null float64\n",
      "neighborhoods    152832 non-null object\n",
      "variable         152832 non-null object\n",
      "value            152832 non-null object\n",
      "dtypes: float64(3), int64(1), object(7)\n",
      "memory usage: 12.8+ MB\n"
     ]
    }
   ],
   "source": [
    "business.info()"
   ]
  },
  {
   "cell_type": "code",
   "execution_count": 9,
   "metadata": {
    "collapsed": false,
    "scrolled": true
   },
   "outputs": [
    {
     "data": {
      "text/html": [
       "<div>\n",
       "<table border=\"1\" class=\"dataframe\">\n",
       "  <thead>\n",
       "    <tr style=\"text-align: right;\">\n",
       "      <th></th>\n",
       "      <th>business_id</th>\n",
       "      <th>name</th>\n",
       "      <th>review_count</th>\n",
       "      <th>city</th>\n",
       "      <th>stars</th>\n",
       "      <th>categories</th>\n",
       "      <th>latitude</th>\n",
       "      <th>longitude</th>\n",
       "      <th>neighborhoods</th>\n",
       "      <th>variable</th>\n",
       "      <th>value</th>\n",
       "    </tr>\n",
       "  </thead>\n",
       "  <tbody>\n",
       "  </tbody>\n",
       "</table>\n",
       "</div>"
      ],
      "text/plain": [
       "Empty DataFrame\n",
       "Columns: [business_id, name, review_count, city, stars, categories, latitude, longitude, neighborhoods, variable, value]\n",
       "Index: []"
      ]
     },
     "execution_count": 9,
     "metadata": {},
     "output_type": "execute_result"
    }
   ],
   "source": [
    "#just trying an alternate way\n",
    "business.ix[business.index[(business.T == np.nan).sum() > 1]]"
   ]
  },
  {
   "cell_type": "code",
   "execution_count": 10,
   "metadata": {
    "collapsed": false
   },
   "outputs": [],
   "source": [
    "#convert city to binary\n",
    "#I think it would be cool to also encode the other cities\n",
    "#but for simplicity sake I'm restricting it to Las Vegas vs not Las Vegas\n",
    "business['city'] = business['city'].map(lambda x: 0 if x == 'Las Vegas' else 1)"
   ]
  },
  {
   "cell_type": "code",
   "execution_count": 11,
   "metadata": {
    "collapsed": false
   },
   "outputs": [
    {
     "data": {
      "text/plain": [
       "0    93818\n",
       "1    59014\n",
       "Name: city, dtype: int64"
      ]
     },
     "execution_count": 11,
     "metadata": {},
     "output_type": "execute_result"
    }
   ],
   "source": [
    "business.city.value_counts()"
   ]
  },
  {
   "cell_type": "code",
   "execution_count": 12,
   "metadata": {
    "collapsed": false,
    "scrolled": false
   },
   "outputs": [
    {
     "data": {
      "text/plain": [
       "['Burgers', 'Fast Food', 'Restaurants']                                                                         9522\n",
       "['Fast Food', 'Restaurants']                                                                                    5752\n",
       "['Fast Food', 'Sandwiches', 'Restaurants']                                                                      5616\n",
       "['Burgers', 'Restaurants']                                                                                      4817\n",
       "['Fast Food', 'Mexican', 'Restaurants']                                                                         4726\n",
       "['Bars', 'Nightlife', 'Lounges']                                                                                3901\n",
       "['Breakfast & Brunch', 'American (Traditional)', 'Restaurants']                                                 3595\n",
       "['Bars', 'Nightlife']                                                                                           3030\n",
       "['Breakfast & Brunch', 'Restaurants']                                                                           2529\n",
       "['Fast Food', 'Mexican', 'Tex-Mex', 'Restaurants']                                                              2492\n",
       "['Bars', 'American (Traditional)', 'Nightlife', 'Restaurants']                                                  2472\n",
       "['Cafes', 'Restaurants']                                                                                        2071\n",
       "['Bars', 'Sports Bars', 'Nightlife']                                                                            2004\n",
       "['Shopping', 'Vape Shops']                                                                                      1983\n",
       "['Fast Food', 'Chicken Wings', 'Restaurants']                                                                   1931\n",
       "['Bakeries', 'Food']                                                                                            1737\n",
       "['Bars', 'Pubs', 'Nightlife', 'American (New)', 'Sports Bars', 'Restaurants']                                   1679\n",
       "['Delis', 'Fast Food', 'Sandwiches', 'Restaurants']                                                             1562\n",
       "['Bars', 'American (New)', 'Nightlife', 'Restaurants']                                                          1404\n",
       "['Bars', 'Restaurants', 'American (Traditional)', 'Sports Bars', 'Nightlife']                                   1364\n",
       "['Nightlife', 'Dance Clubs']                                                                                    1184\n",
       "['Dive Bars', 'Bars', 'Nightlife']                                                                              1141\n",
       "['Pubs', 'Bars', 'Nightlife']                                                                                   1133\n",
       "['Tattoo', 'Beauty & Spas']                                                                                     1121\n",
       "['Breakfast & Brunch', 'American (New)', 'Restaurants']                                                         1034\n",
       "['Burgers', 'American (Traditional)', 'Restaurants']                                                             993\n",
       "['Bars', 'Gay Bars', 'Nightlife']                                                                                965\n",
       "['Fast Food', 'Chinese', 'Restaurants']                                                                          946\n",
       "['Bars', 'American (Traditional)', 'Burgers', 'Nightlife', 'Sports Bars', 'Restaurants']                         935\n",
       "['Burgers', 'American (Traditional)', 'Fast Food', 'Restaurants']                                                888\n",
       "                                                                                                                ... \n",
       "['Bakeries', 'Food', 'Restaurants', 'Burgers']                                                                    11\n",
       "['Bars', 'Dive Bars', 'Nightlife', 'Hotels & Travel', 'Hotels', 'Event Planning & Services']                      11\n",
       "['Food', 'Bakeries', 'Grocery', 'Shopping', 'Drugstores']                                                         10\n",
       "['Tattoo', 'Beauty & Spas', 'Day Spas', 'Nail Salons']                                                            10\n",
       "['Day Spas', 'Tattoo', 'Piercing', 'Beauty & Spas']                                                               10\n",
       "['Fast Food', 'Steakhouses', 'Restaurants']                                                                        9\n",
       "['Bakeries', 'Food', 'Event Planning & Services', 'Caterers']                                                      9\n",
       "['Bakeries', 'Food', 'Event Planning & Services', 'Party & Event Planning', 'Desserts']                            9\n",
       "['Food', 'Bakeries', 'Coffee & Tea', 'Desserts']                                                                   9\n",
       "['Food', 'Ice Cream & Frozen Yogurt', 'Bubble Tea']                                                                9\n",
       "['Bakeries', 'Food', 'Pet Services', 'Pets']                                                                       9\n",
       "['Food', 'Desserts', 'Food Delivery Services', 'Bakeries']                                                         9\n",
       "['Bakeries', 'Food', 'Caterers', 'Event Planning & Services', 'Desserts']                                          9\n",
       "['Arts & Entertainment', 'Music Venues', 'Bars', 'Swimming Pools', 'Nightlife', 'Active Life']                     8\n",
       "['Food', 'Specialty Food', 'Candy Stores', 'Desserts']                                                             8\n",
       "['Bars', 'Cocktail Bars', 'Sports Bars', 'Nightlife']                                                              8\n",
       "['Arts & Entertainment', 'Casinos', 'Bars', 'Lounges', 'Nightlife']                                                8\n",
       "['Food', 'Bakeries', 'Bagels']                                                                                     8\n",
       "['Wine Bars', 'Bars', 'Pizza', 'Nightlife', 'Restaurants']                                                         8\n",
       "['Arts & Entertainment', 'Shopping', 'Music Venues', 'Art Galleries', 'Bars', 'Nightlife', 'Lounges']              8\n",
       "['Courthouses', 'Public Services & Government']                                                                    8\n",
       "['Bakeries', 'Shopping', 'Food', 'Gift Shops', 'Food Trucks', 'Flowers & Gifts']                                   7\n",
       "['Fashion', 'Shopping', 'Sporting Goods', 'Fitness & Instruction', 'Active Life', 'Yoga', 'Sports Wear']           4\n",
       "['Active Life', 'Barre Classes', 'Pilates', 'Yoga', 'Fitness & Instruction']                                       3\n",
       "['Food', 'Specialty Food', 'Shopping', 'Wholesale Stores', 'Candy Stores']                                         3\n",
       "['Museums', 'Hotels & Travel', 'Arts & Entertainment', 'Tours']                                                    2\n",
       "['Active Life', 'Yoga', 'Amateur Sports Teams', 'Fitness & Instruction']                                           2\n",
       "['Arts & Entertainment', 'Dance Studios', 'Performing Arts', 'Fitness & Instruction', 'Active Life', 'Yoga']       2\n",
       "['Active Life', 'Dance Studios', 'Yoga', 'Fitness & Instruction']                                                  2\n",
       "['Active Life', 'Dance Studios', 'Gyms', 'Yoga', 'Fitness & Instruction']                                          2\n",
       "Name: categories, dtype: int64"
      ]
     },
     "execution_count": 12,
     "metadata": {},
     "output_type": "execute_result"
    }
   ],
   "source": [
    "business.categories.value_counts()"
   ]
  },
  {
   "cell_type": "code",
   "execution_count": 13,
   "metadata": {
    "collapsed": false
   },
   "outputs": [],
   "source": [
    "#creating binary values with get_dummies, which results in slightly different results than using kiefer's way \n",
    "stripped = business['categories'].map(lambda x: ''.join([y for y in x if not y in \"[]'\\\"\"]))\n",
    "new_cat = stripped.str.get_dummies(', ')"
   ]
  },
  {
   "cell_type": "code",
   "execution_count": 14,
   "metadata": {
    "collapsed": false
   },
   "outputs": [
    {
     "data": {
      "text/html": [
       "<div>\n",
       "<table border=\"1\" class=\"dataframe\">\n",
       "  <thead>\n",
       "    <tr style=\"text-align: right;\">\n",
       "      <th></th>\n",
       "      <th>Active Life</th>\n",
       "      <th>Adult Entertainment</th>\n",
       "      <th>Afghan</th>\n",
       "      <th>Airport Lounges</th>\n",
       "      <th>Airports</th>\n",
       "      <th>Amateur Sports Teams</th>\n",
       "      <th>American (New)</th>\n",
       "      <th>American (Traditional)</th>\n",
       "      <th>Arcades</th>\n",
       "      <th>Art Galleries</th>\n",
       "      <th>...</th>\n",
       "      <th>Vegan</th>\n",
       "      <th>Vegetarian</th>\n",
       "      <th>Venues &amp; Event Spaces</th>\n",
       "      <th>Vintage &amp; Consignment</th>\n",
       "      <th>Weight Loss Centers</th>\n",
       "      <th>Wholesale Stores</th>\n",
       "      <th>Wine &amp; Spirits</th>\n",
       "      <th>Wine Bars</th>\n",
       "      <th>Womens Clothing</th>\n",
       "      <th>Yoga</th>\n",
       "    </tr>\n",
       "  </thead>\n",
       "  <tbody>\n",
       "    <tr>\n",
       "      <th>0</th>\n",
       "      <td>0</td>\n",
       "      <td>0</td>\n",
       "      <td>0</td>\n",
       "      <td>0</td>\n",
       "      <td>0</td>\n",
       "      <td>0</td>\n",
       "      <td>1</td>\n",
       "      <td>0</td>\n",
       "      <td>0</td>\n",
       "      <td>0</td>\n",
       "      <td>...</td>\n",
       "      <td>0</td>\n",
       "      <td>0</td>\n",
       "      <td>0</td>\n",
       "      <td>0</td>\n",
       "      <td>0</td>\n",
       "      <td>0</td>\n",
       "      <td>0</td>\n",
       "      <td>0</td>\n",
       "      <td>0</td>\n",
       "      <td>0</td>\n",
       "    </tr>\n",
       "    <tr>\n",
       "      <th>1</th>\n",
       "      <td>0</td>\n",
       "      <td>0</td>\n",
       "      <td>0</td>\n",
       "      <td>0</td>\n",
       "      <td>0</td>\n",
       "      <td>0</td>\n",
       "      <td>0</td>\n",
       "      <td>0</td>\n",
       "      <td>0</td>\n",
       "      <td>0</td>\n",
       "      <td>...</td>\n",
       "      <td>0</td>\n",
       "      <td>0</td>\n",
       "      <td>0</td>\n",
       "      <td>0</td>\n",
       "      <td>0</td>\n",
       "      <td>0</td>\n",
       "      <td>0</td>\n",
       "      <td>0</td>\n",
       "      <td>0</td>\n",
       "      <td>0</td>\n",
       "    </tr>\n",
       "    <tr>\n",
       "      <th>2</th>\n",
       "      <td>0</td>\n",
       "      <td>0</td>\n",
       "      <td>0</td>\n",
       "      <td>0</td>\n",
       "      <td>0</td>\n",
       "      <td>0</td>\n",
       "      <td>0</td>\n",
       "      <td>0</td>\n",
       "      <td>0</td>\n",
       "      <td>0</td>\n",
       "      <td>...</td>\n",
       "      <td>0</td>\n",
       "      <td>0</td>\n",
       "      <td>0</td>\n",
       "      <td>0</td>\n",
       "      <td>0</td>\n",
       "      <td>0</td>\n",
       "      <td>0</td>\n",
       "      <td>0</td>\n",
       "      <td>0</td>\n",
       "      <td>0</td>\n",
       "    </tr>\n",
       "    <tr>\n",
       "      <th>3</th>\n",
       "      <td>0</td>\n",
       "      <td>0</td>\n",
       "      <td>0</td>\n",
       "      <td>0</td>\n",
       "      <td>0</td>\n",
       "      <td>0</td>\n",
       "      <td>0</td>\n",
       "      <td>0</td>\n",
       "      <td>0</td>\n",
       "      <td>0</td>\n",
       "      <td>...</td>\n",
       "      <td>0</td>\n",
       "      <td>0</td>\n",
       "      <td>0</td>\n",
       "      <td>0</td>\n",
       "      <td>0</td>\n",
       "      <td>0</td>\n",
       "      <td>0</td>\n",
       "      <td>0</td>\n",
       "      <td>0</td>\n",
       "      <td>0</td>\n",
       "    </tr>\n",
       "    <tr>\n",
       "      <th>4</th>\n",
       "      <td>0</td>\n",
       "      <td>0</td>\n",
       "      <td>0</td>\n",
       "      <td>0</td>\n",
       "      <td>0</td>\n",
       "      <td>0</td>\n",
       "      <td>0</td>\n",
       "      <td>1</td>\n",
       "      <td>0</td>\n",
       "      <td>0</td>\n",
       "      <td>...</td>\n",
       "      <td>0</td>\n",
       "      <td>0</td>\n",
       "      <td>0</td>\n",
       "      <td>0</td>\n",
       "      <td>0</td>\n",
       "      <td>0</td>\n",
       "      <td>0</td>\n",
       "      <td>0</td>\n",
       "      <td>0</td>\n",
       "      <td>0</td>\n",
       "    </tr>\n",
       "  </tbody>\n",
       "</table>\n",
       "<p>5 rows × 214 columns</p>\n",
       "</div>"
      ],
      "text/plain": [
       "   Active Life  Adult Entertainment  Afghan  Airport Lounges  Airports  \\\n",
       "0            0                    0       0                0         0   \n",
       "1            0                    0       0                0         0   \n",
       "2            0                    0       0                0         0   \n",
       "3            0                    0       0                0         0   \n",
       "4            0                    0       0                0         0   \n",
       "\n",
       "   Amateur Sports Teams  American (New)  American (Traditional)  Arcades  \\\n",
       "0                     0               1                       0        0   \n",
       "1                     0               0                       0        0   \n",
       "2                     0               0                       0        0   \n",
       "3                     0               0                       0        0   \n",
       "4                     0               0                       1        0   \n",
       "\n",
       "   Art Galleries  ...   Vegan  Vegetarian  Venues & Event Spaces  \\\n",
       "0              0  ...       0           0                      0   \n",
       "1              0  ...       0           0                      0   \n",
       "2              0  ...       0           0                      0   \n",
       "3              0  ...       0           0                      0   \n",
       "4              0  ...       0           0                      0   \n",
       "\n",
       "   Vintage & Consignment  Weight Loss Centers  Wholesale Stores  \\\n",
       "0                      0                    0                 0   \n",
       "1                      0                    0                 0   \n",
       "2                      0                    0                 0   \n",
       "3                      0                    0                 0   \n",
       "4                      0                    0                 0   \n",
       "\n",
       "   Wine & Spirits  Wine Bars  Womens Clothing  Yoga  \n",
       "0               0          0                0     0  \n",
       "1               0          0                0     0  \n",
       "2               0          0                0     0  \n",
       "3               0          0                0     0  \n",
       "4               0          0                0     0  \n",
       "\n",
       "[5 rows x 214 columns]"
      ]
     },
     "execution_count": 14,
     "metadata": {},
     "output_type": "execute_result"
    }
   ],
   "source": [
    "new_cat.head()"
   ]
  },
  {
   "cell_type": "code",
   "execution_count": 15,
   "metadata": {
    "collapsed": true
   },
   "outputs": [],
   "source": [
    "#creating binary values - kiefer's way\n",
    "business['cat_lists'] = business.categories.map(lambda x: eval(x))"
   ]
  },
  {
   "cell_type": "code",
   "execution_count": 16,
   "metadata": {
    "collapsed": false
   },
   "outputs": [
    {
     "data": {
      "text/plain": [
       "array(['Active Life', 'Adult Entertainment', 'Afghan', 'Airport Lounges',\n",
       "       'Airports', 'Amateur Sports Teams', 'American (New)',\n",
       "       'American (Traditional)', 'Arcades', 'Art Galleries'], \n",
       "      dtype='|S32')"
      ]
     },
     "execution_count": 16,
     "metadata": {},
     "output_type": "execute_result"
    }
   ],
   "source": [
    "unique_categories = []\n",
    "for catlist in business.cat_lists.values:\n",
    "    unique_categories.extend(catlist)\n",
    "    \n",
    "unique_categories = np.unique(unique_categories)\n",
    "unique_categories[:10]"
   ]
  },
  {
   "cell_type": "code",
   "execution_count": 18,
   "metadata": {
    "collapsed": false
   },
   "outputs": [],
   "source": [
    "new_cat_2 = pd.DataFrame()\n",
    "\n",
    "for uc in unique_categories:\n",
    "    new_cat_2[uc] = business.cat_lists.map(lambda x: 1 if uc in x else 0)"
   ]
  },
  {
   "cell_type": "code",
   "execution_count": 19,
   "metadata": {
    "collapsed": false
   },
   "outputs": [
    {
     "data": {
      "text/html": [
       "<div>\n",
       "<table border=\"1\" class=\"dataframe\">\n",
       "  <thead>\n",
       "    <tr style=\"text-align: right;\">\n",
       "      <th></th>\n",
       "      <th>Active Life</th>\n",
       "      <th>Adult Entertainment</th>\n",
       "      <th>Afghan</th>\n",
       "      <th>Airport Lounges</th>\n",
       "      <th>Airports</th>\n",
       "      <th>Amateur Sports Teams</th>\n",
       "      <th>American (New)</th>\n",
       "      <th>American (Traditional)</th>\n",
       "      <th>Arcades</th>\n",
       "      <th>Art Galleries</th>\n",
       "      <th>...</th>\n",
       "      <th>Used, Vintage &amp; Consignment</th>\n",
       "      <th>Vape Shops</th>\n",
       "      <th>Vegan</th>\n",
       "      <th>Vegetarian</th>\n",
       "      <th>Venues &amp; Event Spaces</th>\n",
       "      <th>Weight Loss Centers</th>\n",
       "      <th>Wholesale Stores</th>\n",
       "      <th>Wine Bars</th>\n",
       "      <th>Women's Clothing</th>\n",
       "      <th>Yoga</th>\n",
       "    </tr>\n",
       "  </thead>\n",
       "  <tbody>\n",
       "    <tr>\n",
       "      <th>0</th>\n",
       "      <td>0</td>\n",
       "      <td>0</td>\n",
       "      <td>0</td>\n",
       "      <td>0</td>\n",
       "      <td>0</td>\n",
       "      <td>0</td>\n",
       "      <td>1</td>\n",
       "      <td>0</td>\n",
       "      <td>0</td>\n",
       "      <td>0</td>\n",
       "      <td>...</td>\n",
       "      <td>0</td>\n",
       "      <td>0</td>\n",
       "      <td>0</td>\n",
       "      <td>0</td>\n",
       "      <td>0</td>\n",
       "      <td>0</td>\n",
       "      <td>0</td>\n",
       "      <td>0</td>\n",
       "      <td>0</td>\n",
       "      <td>0</td>\n",
       "    </tr>\n",
       "    <tr>\n",
       "      <th>1</th>\n",
       "      <td>0</td>\n",
       "      <td>0</td>\n",
       "      <td>0</td>\n",
       "      <td>0</td>\n",
       "      <td>0</td>\n",
       "      <td>0</td>\n",
       "      <td>0</td>\n",
       "      <td>0</td>\n",
       "      <td>0</td>\n",
       "      <td>0</td>\n",
       "      <td>...</td>\n",
       "      <td>0</td>\n",
       "      <td>0</td>\n",
       "      <td>0</td>\n",
       "      <td>0</td>\n",
       "      <td>0</td>\n",
       "      <td>0</td>\n",
       "      <td>0</td>\n",
       "      <td>0</td>\n",
       "      <td>0</td>\n",
       "      <td>0</td>\n",
       "    </tr>\n",
       "    <tr>\n",
       "      <th>2</th>\n",
       "      <td>0</td>\n",
       "      <td>0</td>\n",
       "      <td>0</td>\n",
       "      <td>0</td>\n",
       "      <td>0</td>\n",
       "      <td>0</td>\n",
       "      <td>0</td>\n",
       "      <td>0</td>\n",
       "      <td>0</td>\n",
       "      <td>0</td>\n",
       "      <td>...</td>\n",
       "      <td>0</td>\n",
       "      <td>0</td>\n",
       "      <td>0</td>\n",
       "      <td>0</td>\n",
       "      <td>0</td>\n",
       "      <td>0</td>\n",
       "      <td>0</td>\n",
       "      <td>0</td>\n",
       "      <td>0</td>\n",
       "      <td>0</td>\n",
       "    </tr>\n",
       "    <tr>\n",
       "      <th>3</th>\n",
       "      <td>0</td>\n",
       "      <td>0</td>\n",
       "      <td>0</td>\n",
       "      <td>0</td>\n",
       "      <td>0</td>\n",
       "      <td>0</td>\n",
       "      <td>0</td>\n",
       "      <td>0</td>\n",
       "      <td>0</td>\n",
       "      <td>0</td>\n",
       "      <td>...</td>\n",
       "      <td>0</td>\n",
       "      <td>0</td>\n",
       "      <td>0</td>\n",
       "      <td>0</td>\n",
       "      <td>0</td>\n",
       "      <td>0</td>\n",
       "      <td>0</td>\n",
       "      <td>0</td>\n",
       "      <td>0</td>\n",
       "      <td>0</td>\n",
       "    </tr>\n",
       "    <tr>\n",
       "      <th>4</th>\n",
       "      <td>0</td>\n",
       "      <td>0</td>\n",
       "      <td>0</td>\n",
       "      <td>0</td>\n",
       "      <td>0</td>\n",
       "      <td>0</td>\n",
       "      <td>0</td>\n",
       "      <td>1</td>\n",
       "      <td>0</td>\n",
       "      <td>0</td>\n",
       "      <td>...</td>\n",
       "      <td>0</td>\n",
       "      <td>0</td>\n",
       "      <td>0</td>\n",
       "      <td>0</td>\n",
       "      <td>0</td>\n",
       "      <td>0</td>\n",
       "      <td>0</td>\n",
       "      <td>0</td>\n",
       "      <td>0</td>\n",
       "      <td>0</td>\n",
       "    </tr>\n",
       "  </tbody>\n",
       "</table>\n",
       "<p>5 rows × 210 columns</p>\n",
       "</div>"
      ],
      "text/plain": [
       "   Active Life  Adult Entertainment  Afghan  Airport Lounges  Airports  \\\n",
       "0            0                    0       0                0         0   \n",
       "1            0                    0       0                0         0   \n",
       "2            0                    0       0                0         0   \n",
       "3            0                    0       0                0         0   \n",
       "4            0                    0       0                0         0   \n",
       "\n",
       "   Amateur Sports Teams  American (New)  American (Traditional)  Arcades  \\\n",
       "0                     0               1                       0        0   \n",
       "1                     0               0                       0        0   \n",
       "2                     0               0                       0        0   \n",
       "3                     0               0                       0        0   \n",
       "4                     0               0                       1        0   \n",
       "\n",
       "   Art Galleries  ...   Used, Vintage & Consignment  Vape Shops  Vegan  \\\n",
       "0              0  ...                             0           0      0   \n",
       "1              0  ...                             0           0      0   \n",
       "2              0  ...                             0           0      0   \n",
       "3              0  ...                             0           0      0   \n",
       "4              0  ...                             0           0      0   \n",
       "\n",
       "   Vegetarian  Venues & Event Spaces  Weight Loss Centers  Wholesale Stores  \\\n",
       "0           0                      0                    0                 0   \n",
       "1           0                      0                    0                 0   \n",
       "2           0                      0                    0                 0   \n",
       "3           0                      0                    0                 0   \n",
       "4           0                      0                    0                 0   \n",
       "\n",
       "   Wine Bars  Women's Clothing  Yoga  \n",
       "0          0                 0     0  \n",
       "1          0                 0     0  \n",
       "2          0                 0     0  \n",
       "3          0                 0     0  \n",
       "4          0                 0     0  \n",
       "\n",
       "[5 rows x 210 columns]"
      ]
     },
     "execution_count": 19,
     "metadata": {},
     "output_type": "execute_result"
    }
   ],
   "source": [
    "new_cat_2.head()\n"
   ]
  },
  {
   "cell_type": "code",
   "execution_count": 20,
   "metadata": {
    "collapsed": false
   },
   "outputs": [
    {
     "data": {
      "text/plain": [
       "['Burgers', 'Fast Food', 'Restaurants']                                                                         9522\n",
       "['Fast Food', 'Restaurants']                                                                                    5752\n",
       "['Fast Food', 'Sandwiches', 'Restaurants']                                                                      5616\n",
       "['Burgers', 'Restaurants']                                                                                      4817\n",
       "['Fast Food', 'Mexican', 'Restaurants']                                                                         4726\n",
       "['Bars', 'Nightlife', 'Lounges']                                                                                3901\n",
       "['Breakfast & Brunch', 'American (Traditional)', 'Restaurants']                                                 3595\n",
       "['Bars', 'Nightlife']                                                                                           3030\n",
       "['Breakfast & Brunch', 'Restaurants']                                                                           2529\n",
       "['Fast Food', 'Mexican', 'Tex-Mex', 'Restaurants']                                                              2492\n",
       "['Bars', 'American (Traditional)', 'Nightlife', 'Restaurants']                                                  2472\n",
       "['Cafes', 'Restaurants']                                                                                        2071\n",
       "['Bars', 'Sports Bars', 'Nightlife']                                                                            2004\n",
       "['Shopping', 'Vape Shops']                                                                                      1983\n",
       "['Fast Food', 'Chicken Wings', 'Restaurants']                                                                   1931\n",
       "['Bakeries', 'Food']                                                                                            1737\n",
       "['Bars', 'Pubs', 'Nightlife', 'American (New)', 'Sports Bars', 'Restaurants']                                   1679\n",
       "['Delis', 'Fast Food', 'Sandwiches', 'Restaurants']                                                             1562\n",
       "['Bars', 'American (New)', 'Nightlife', 'Restaurants']                                                          1404\n",
       "['Bars', 'Restaurants', 'American (Traditional)', 'Sports Bars', 'Nightlife']                                   1364\n",
       "['Nightlife', 'Dance Clubs']                                                                                    1184\n",
       "['Dive Bars', 'Bars', 'Nightlife']                                                                              1141\n",
       "['Pubs', 'Bars', 'Nightlife']                                                                                   1133\n",
       "['Tattoo', 'Beauty & Spas']                                                                                     1121\n",
       "['Breakfast & Brunch', 'American (New)', 'Restaurants']                                                         1034\n",
       "['Burgers', 'American (Traditional)', 'Restaurants']                                                             993\n",
       "['Bars', 'Gay Bars', 'Nightlife']                                                                                965\n",
       "['Fast Food', 'Chinese', 'Restaurants']                                                                          946\n",
       "['Bars', 'American (Traditional)', 'Burgers', 'Nightlife', 'Sports Bars', 'Restaurants']                         935\n",
       "['Burgers', 'American (Traditional)', 'Fast Food', 'Restaurants']                                                888\n",
       "                                                                                                                ... \n",
       "['Bakeries', 'Food', 'Restaurants', 'Burgers']                                                                    11\n",
       "['Bars', 'Dive Bars', 'Nightlife', 'Hotels & Travel', 'Hotels', 'Event Planning & Services']                      11\n",
       "['Food', 'Bakeries', 'Grocery', 'Shopping', 'Drugstores']                                                         10\n",
       "['Tattoo', 'Beauty & Spas', 'Day Spas', 'Nail Salons']                                                            10\n",
       "['Day Spas', 'Tattoo', 'Piercing', 'Beauty & Spas']                                                               10\n",
       "['Fast Food', 'Steakhouses', 'Restaurants']                                                                        9\n",
       "['Bakeries', 'Food', 'Event Planning & Services', 'Caterers']                                                      9\n",
       "['Bakeries', 'Food', 'Event Planning & Services', 'Party & Event Planning', 'Desserts']                            9\n",
       "['Food', 'Bakeries', 'Coffee & Tea', 'Desserts']                                                                   9\n",
       "['Food', 'Ice Cream & Frozen Yogurt', 'Bubble Tea']                                                                9\n",
       "['Bakeries', 'Food', 'Pet Services', 'Pets']                                                                       9\n",
       "['Food', 'Desserts', 'Food Delivery Services', 'Bakeries']                                                         9\n",
       "['Bakeries', 'Food', 'Caterers', 'Event Planning & Services', 'Desserts']                                          9\n",
       "['Arts & Entertainment', 'Music Venues', 'Bars', 'Swimming Pools', 'Nightlife', 'Active Life']                     8\n",
       "['Food', 'Specialty Food', 'Candy Stores', 'Desserts']                                                             8\n",
       "['Bars', 'Cocktail Bars', 'Sports Bars', 'Nightlife']                                                              8\n",
       "['Arts & Entertainment', 'Casinos', 'Bars', 'Lounges', 'Nightlife']                                                8\n",
       "['Food', 'Bakeries', 'Bagels']                                                                                     8\n",
       "['Wine Bars', 'Bars', 'Pizza', 'Nightlife', 'Restaurants']                                                         8\n",
       "['Arts & Entertainment', 'Shopping', 'Music Venues', 'Art Galleries', 'Bars', 'Nightlife', 'Lounges']              8\n",
       "['Courthouses', 'Public Services & Government']                                                                    8\n",
       "['Bakeries', 'Shopping', 'Food', 'Gift Shops', 'Food Trucks', 'Flowers & Gifts']                                   7\n",
       "['Fashion', 'Shopping', 'Sporting Goods', 'Fitness & Instruction', 'Active Life', 'Yoga', 'Sports Wear']           4\n",
       "['Active Life', 'Barre Classes', 'Pilates', 'Yoga', 'Fitness & Instruction']                                       3\n",
       "['Food', 'Specialty Food', 'Shopping', 'Wholesale Stores', 'Candy Stores']                                         3\n",
       "['Museums', 'Hotels & Travel', 'Arts & Entertainment', 'Tours']                                                    2\n",
       "['Active Life', 'Yoga', 'Amateur Sports Teams', 'Fitness & Instruction']                                           2\n",
       "['Arts & Entertainment', 'Dance Studios', 'Performing Arts', 'Fitness & Instruction', 'Active Life', 'Yoga']       2\n",
       "['Active Life', 'Dance Studios', 'Yoga', 'Fitness & Instruction']                                                  2\n",
       "['Active Life', 'Dance Studios', 'Gyms', 'Yoga', 'Fitness & Instruction']                                          2\n",
       "Name: categories, dtype: int64"
      ]
     },
     "execution_count": 20,
     "metadata": {},
     "output_type": "execute_result"
    }
   ],
   "source": [
    "business.categories.value_counts()"
   ]
  },
  {
   "cell_type": "code",
   "execution_count": 22,
   "metadata": {
    "collapsed": false
   },
   "outputs": [
    {
     "data": {
      "text/plain": [
       "['Beer',\n",
       " 'Books',\n",
       " 'Mags',\n",
       " 'Music & Video',\n",
       " 'Used',\n",
       " 'Vintage & Consignment',\n",
       " 'Wine & Spirits',\n",
       " 'Womens Clothing']"
      ]
     },
     "execution_count": 22,
     "metadata": {},
     "output_type": "execute_result"
    }
   ],
   "source": [
    "#basically using the get_dummies way split on commas without regard to quotations\n",
    "[c for c in new_cat.columns if c not in new_cat_2.columns]"
   ]
  },
  {
   "cell_type": "code",
   "execution_count": 24,
   "metadata": {
    "collapsed": false
   },
   "outputs": [
    {
     "data": {
      "text/plain": [
       "['Beer, Wine & Spirits',\n",
       " 'Books, Mags, Music & Video',\n",
       " 'Used, Vintage & Consignment',\n",
       " \"Women's Clothing\"]"
      ]
     },
     "execution_count": 24,
     "metadata": {},
     "output_type": "execute_result"
    }
   ],
   "source": [
    "#kiefer's way split with regard to quotations which is more appropriate here\n",
    "[c for c in new_cat_2.columns if c not in new_cat.columns]"
   ]
  },
  {
   "cell_type": "code",
   "execution_count": 14,
   "metadata": {
    "collapsed": false
   },
   "outputs": [],
   "source": [
    "# # annother approach that was pretty slow\n",
    "# #convert categories to binary\n",
    "# def fix_cat(row):\n",
    "#     categories = eval(row['categories'])\n",
    "#     for category in categories:\n",
    "#         row[category] = 1\n",
    "#     return row\n",
    "# new_cat = business.apply(fix_cat, axis=1).fillna(0)"
   ]
  },
  {
   "cell_type": "code",
   "execution_count": 25,
   "metadata": {
    "collapsed": false
   },
   "outputs": [
    {
     "data": {
      "text/html": [
       "<div>\n",
       "<table border=\"1\" class=\"dataframe\">\n",
       "  <thead>\n",
       "    <tr style=\"text-align: right;\">\n",
       "      <th></th>\n",
       "      <th>Active Life</th>\n",
       "      <th>Adult Entertainment</th>\n",
       "      <th>Afghan</th>\n",
       "      <th>Airport Lounges</th>\n",
       "      <th>Airports</th>\n",
       "      <th>Amateur Sports Teams</th>\n",
       "      <th>American (New)</th>\n",
       "      <th>American (Traditional)</th>\n",
       "      <th>Arcades</th>\n",
       "      <th>Art Galleries</th>\n",
       "      <th>...</th>\n",
       "      <th>Used, Vintage &amp; Consignment</th>\n",
       "      <th>Vape Shops</th>\n",
       "      <th>Vegan</th>\n",
       "      <th>Vegetarian</th>\n",
       "      <th>Venues &amp; Event Spaces</th>\n",
       "      <th>Weight Loss Centers</th>\n",
       "      <th>Wholesale Stores</th>\n",
       "      <th>Wine Bars</th>\n",
       "      <th>Women's Clothing</th>\n",
       "      <th>Yoga</th>\n",
       "    </tr>\n",
       "  </thead>\n",
       "  <tbody>\n",
       "    <tr>\n",
       "      <th>0</th>\n",
       "      <td>0</td>\n",
       "      <td>0</td>\n",
       "      <td>0</td>\n",
       "      <td>0</td>\n",
       "      <td>0</td>\n",
       "      <td>0</td>\n",
       "      <td>1</td>\n",
       "      <td>0</td>\n",
       "      <td>0</td>\n",
       "      <td>0</td>\n",
       "      <td>...</td>\n",
       "      <td>0</td>\n",
       "      <td>0</td>\n",
       "      <td>0</td>\n",
       "      <td>0</td>\n",
       "      <td>0</td>\n",
       "      <td>0</td>\n",
       "      <td>0</td>\n",
       "      <td>0</td>\n",
       "      <td>0</td>\n",
       "      <td>0</td>\n",
       "    </tr>\n",
       "    <tr>\n",
       "      <th>1</th>\n",
       "      <td>0</td>\n",
       "      <td>0</td>\n",
       "      <td>0</td>\n",
       "      <td>0</td>\n",
       "      <td>0</td>\n",
       "      <td>0</td>\n",
       "      <td>0</td>\n",
       "      <td>0</td>\n",
       "      <td>0</td>\n",
       "      <td>0</td>\n",
       "      <td>...</td>\n",
       "      <td>0</td>\n",
       "      <td>0</td>\n",
       "      <td>0</td>\n",
       "      <td>0</td>\n",
       "      <td>0</td>\n",
       "      <td>0</td>\n",
       "      <td>0</td>\n",
       "      <td>0</td>\n",
       "      <td>0</td>\n",
       "      <td>0</td>\n",
       "    </tr>\n",
       "  </tbody>\n",
       "</table>\n",
       "<p>2 rows × 210 columns</p>\n",
       "</div>"
      ],
      "text/plain": [
       "   Active Life  Adult Entertainment  Afghan  Airport Lounges  Airports  \\\n",
       "0            0                    0       0                0         0   \n",
       "1            0                    0       0                0         0   \n",
       "\n",
       "   Amateur Sports Teams  American (New)  American (Traditional)  Arcades  \\\n",
       "0                     0               1                       0        0   \n",
       "1                     0               0                       0        0   \n",
       "\n",
       "   Art Galleries  ...   Used, Vintage & Consignment  Vape Shops  Vegan  \\\n",
       "0              0  ...                             0           0      0   \n",
       "1              0  ...                             0           0      0   \n",
       "\n",
       "   Vegetarian  Venues & Event Spaces  Weight Loss Centers  Wholesale Stores  \\\n",
       "0           0                      0                    0                 0   \n",
       "1           0                      0                    0                 0   \n",
       "\n",
       "   Wine Bars  Women's Clothing  Yoga  \n",
       "0          0                 0     0  \n",
       "1          0                 0     0  \n",
       "\n",
       "[2 rows x 210 columns]"
      ]
     },
     "execution_count": 25,
     "metadata": {},
     "output_type": "execute_result"
    }
   ],
   "source": [
    "new_cat_2.head(2)"
   ]
  },
  {
   "cell_type": "code",
   "execution_count": 26,
   "metadata": {
    "collapsed": false,
    "scrolled": false
   },
   "outputs": [
    {
     "name": "stdout",
     "output_type": "stream",
     "text": [
      "<class 'pandas.core.frame.DataFrame'>\n",
      "RangeIndex: 152832 entries, 0 to 152831\n",
      "Columns: 210 entries, Active Life to Yoga\n",
      "dtypes: int64(210)\n",
      "memory usage: 244.9 MB\n"
     ]
    }
   ],
   "source": [
    "new_cat_2.info()"
   ]
  },
  {
   "cell_type": "code",
   "execution_count": 27,
   "metadata": {
    "collapsed": true
   },
   "outputs": [],
   "source": [
    "#here I'm just cleaning up column names\n",
    "new_cat_2.rename(columns=lambda x: x.lower().replace(' & ','_').replace(' ','_'), inplace=True)"
   ]
  },
  {
   "cell_type": "code",
   "execution_count": 28,
   "metadata": {
    "collapsed": false,
    "scrolled": true
   },
   "outputs": [
    {
     "data": {
      "text/html": [
       "<div>\n",
       "<table border=\"1\" class=\"dataframe\">\n",
       "  <thead>\n",
       "    <tr style=\"text-align: right;\">\n",
       "      <th></th>\n",
       "      <th>active_life</th>\n",
       "      <th>adult_entertainment</th>\n",
       "      <th>afghan</th>\n",
       "      <th>airport_lounges</th>\n",
       "      <th>airports</th>\n",
       "      <th>amateur_sports_teams</th>\n",
       "      <th>american_(new)</th>\n",
       "      <th>american_(traditional)</th>\n",
       "      <th>arcades</th>\n",
       "      <th>art_galleries</th>\n",
       "      <th>...</th>\n",
       "      <th>used,_vintage_consignment</th>\n",
       "      <th>vape_shops</th>\n",
       "      <th>vegan</th>\n",
       "      <th>vegetarian</th>\n",
       "      <th>venues_event_spaces</th>\n",
       "      <th>weight_loss_centers</th>\n",
       "      <th>wholesale_stores</th>\n",
       "      <th>wine_bars</th>\n",
       "      <th>women's_clothing</th>\n",
       "      <th>yoga</th>\n",
       "    </tr>\n",
       "  </thead>\n",
       "  <tbody>\n",
       "    <tr>\n",
       "      <th>0</th>\n",
       "      <td>0</td>\n",
       "      <td>0</td>\n",
       "      <td>0</td>\n",
       "      <td>0</td>\n",
       "      <td>0</td>\n",
       "      <td>0</td>\n",
       "      <td>1</td>\n",
       "      <td>0</td>\n",
       "      <td>0</td>\n",
       "      <td>0</td>\n",
       "      <td>...</td>\n",
       "      <td>0</td>\n",
       "      <td>0</td>\n",
       "      <td>0</td>\n",
       "      <td>0</td>\n",
       "      <td>0</td>\n",
       "      <td>0</td>\n",
       "      <td>0</td>\n",
       "      <td>0</td>\n",
       "      <td>0</td>\n",
       "      <td>0</td>\n",
       "    </tr>\n",
       "    <tr>\n",
       "      <th>1</th>\n",
       "      <td>0</td>\n",
       "      <td>0</td>\n",
       "      <td>0</td>\n",
       "      <td>0</td>\n",
       "      <td>0</td>\n",
       "      <td>0</td>\n",
       "      <td>0</td>\n",
       "      <td>0</td>\n",
       "      <td>0</td>\n",
       "      <td>0</td>\n",
       "      <td>...</td>\n",
       "      <td>0</td>\n",
       "      <td>0</td>\n",
       "      <td>0</td>\n",
       "      <td>0</td>\n",
       "      <td>0</td>\n",
       "      <td>0</td>\n",
       "      <td>0</td>\n",
       "      <td>0</td>\n",
       "      <td>0</td>\n",
       "      <td>0</td>\n",
       "    </tr>\n",
       "  </tbody>\n",
       "</table>\n",
       "<p>2 rows × 210 columns</p>\n",
       "</div>"
      ],
      "text/plain": [
       "   active_life  adult_entertainment  afghan  airport_lounges  airports  \\\n",
       "0            0                    0       0                0         0   \n",
       "1            0                    0       0                0         0   \n",
       "\n",
       "   amateur_sports_teams  american_(new)  american_(traditional)  arcades  \\\n",
       "0                     0               1                       0        0   \n",
       "1                     0               0                       0        0   \n",
       "\n",
       "   art_galleries  ...   used,_vintage_consignment  vape_shops  vegan  \\\n",
       "0              0  ...                           0           0      0   \n",
       "1              0  ...                           0           0      0   \n",
       "\n",
       "   vegetarian  venues_event_spaces  weight_loss_centers  wholesale_stores  \\\n",
       "0           0                    0                    0                 0   \n",
       "1           0                    0                    0                 0   \n",
       "\n",
       "   wine_bars  women's_clothing  yoga  \n",
       "0          0                 0     0  \n",
       "1          0                 0     0  \n",
       "\n",
       "[2 rows x 210 columns]"
      ]
     },
     "execution_count": 28,
     "metadata": {},
     "output_type": "execute_result"
    }
   ],
   "source": [
    "new_cat_2.head(2)"
   ]
  },
  {
   "cell_type": "code",
   "execution_count": 29,
   "metadata": {
    "collapsed": false
   },
   "outputs": [
    {
     "data": {
      "text/plain": [
       "['active_life',\n",
       " 'adult_entertainment',\n",
       " 'afghan',\n",
       " 'airport_lounges',\n",
       " 'airports',\n",
       " 'amateur_sports_teams',\n",
       " 'american_(new)',\n",
       " 'american_(traditional)',\n",
       " 'arcades',\n",
       " 'art_galleries',\n",
       " 'arts_crafts',\n",
       " 'arts_entertainment',\n",
       " 'asian_fusion',\n",
       " 'bagels',\n",
       " 'bakeries',\n",
       " 'barbeque',\n",
       " 'barbers',\n",
       " 'barre_classes',\n",
       " 'bars',\n",
       " 'beauty_spas',\n",
       " 'beer_bar',\n",
       " 'beer_gardens',\n",
       " 'beer,_wine_spirits',\n",
       " 'books,_mags,_music_video',\n",
       " 'boot_camps',\n",
       " 'botanical_gardens',\n",
       " 'bowling',\n",
       " 'brasseries',\n",
       " 'breakfast_brunch',\n",
       " 'breweries',\n",
       " 'british',\n",
       " 'bubble_tea',\n",
       " 'buffets',\n",
       " 'burgers',\n",
       " 'cabaret',\n",
       " 'cafes',\n",
       " 'canadian_(new)',\n",
       " 'candy_stores',\n",
       " 'caribbean',\n",
       " 'casinos',\n",
       " 'caterers',\n",
       " 'champagne_bars',\n",
       " 'cheesesteaks',\n",
       " 'chicken_shop',\n",
       " 'chicken_wings',\n",
       " 'chinese',\n",
       " 'chocolatiers_shops',\n",
       " 'cinema',\n",
       " 'cocktail_bars',\n",
       " 'coffee_tea',\n",
       " 'comedy_clubs',\n",
       " 'comfort_food',\n",
       " 'comic_books',\n",
       " 'convenience_stores',\n",
       " 'cooking_classes',\n",
       " 'country_dance_halls',\n",
       " 'courthouses',\n",
       " 'creperies',\n",
       " 'cuban',\n",
       " 'cultural_center',\n",
       " 'cupcakes',\n",
       " 'dance_clubs',\n",
       " 'dance_schools',\n",
       " 'dance_studios',\n",
       " 'day_spas',\n",
       " 'delis',\n",
       " 'desserts',\n",
       " 'dim_sum',\n",
       " 'diners',\n",
       " 'discount_store',\n",
       " 'dive_bars',\n",
       " 'doctors',\n",
       " 'donuts',\n",
       " 'drugstores',\n",
       " 'education',\n",
       " 'ethiopian',\n",
       " 'ethnic_food',\n",
       " 'event_planning_services',\n",
       " 'eyelash_service',\n",
       " 'farmers_market',\n",
       " 'fashion',\n",
       " 'fast_food',\n",
       " 'filipino',\n",
       " 'fish_chips',\n",
       " 'fitness_instruction',\n",
       " 'florists',\n",
       " 'flowers_gifts',\n",
       " 'fondue',\n",
       " 'food',\n",
       " 'food_court',\n",
       " 'food_delivery_services',\n",
       " 'food_trucks',\n",
       " 'french',\n",
       " 'fruits_veggies',\n",
       " 'gastropubs',\n",
       " 'gay_bars',\n",
       " 'gelato',\n",
       " 'german',\n",
       " 'gift_shops',\n",
       " 'gluten-free',\n",
       " 'gold_buyers',\n",
       " 'greek',\n",
       " 'grocery',\n",
       " 'gymnastics',\n",
       " 'gyms',\n",
       " 'hawaiian',\n",
       " 'health_medical',\n",
       " 'hookah_bars',\n",
       " 'hot_dogs',\n",
       " 'hotels',\n",
       " 'hotels_travel',\n",
       " 'ice_cream_frozen_yogurt',\n",
       " 'indian',\n",
       " 'internet_cafes',\n",
       " 'irish',\n",
       " 'irish_pub',\n",
       " 'italian',\n",
       " 'japanese',\n",
       " 'jazz_blues',\n",
       " 'jewelry',\n",
       " 'juice_bars_smoothies',\n",
       " 'karaoke',\n",
       " 'korean',\n",
       " 'kosher',\n",
       " 'landmarks_historical_buildings',\n",
       " 'latin_american',\n",
       " 'local_flavor',\n",
       " 'lounges',\n",
       " 'macarons',\n",
       " 'makeup_artists',\n",
       " 'massage',\n",
       " 'massage_therapy',\n",
       " 'meat_shops',\n",
       " 'meditation_centers',\n",
       " 'mediterranean',\n",
       " 'mexican',\n",
       " 'middle_eastern',\n",
       " 'museums',\n",
       " 'music_venues',\n",
       " 'nail_salons',\n",
       " 'naturopathic/holistic',\n",
       " 'nightlife',\n",
       " 'nutritionists',\n",
       " 'pakistani',\n",
       " 'parks',\n",
       " 'party_event_planning',\n",
       " 'party_supplies',\n",
       " 'performing_arts',\n",
       " 'permanent_makeup',\n",
       " 'pet_services',\n",
       " 'pets',\n",
       " 'physical_therapy',\n",
       " 'piercing',\n",
       " 'pilates',\n",
       " 'pizza',\n",
       " 'polish',\n",
       " 'pool_halls',\n",
       " 'poutineries',\n",
       " 'pub_food',\n",
       " 'public_services_government',\n",
       " 'pubs',\n",
       " 'puerto_rican',\n",
       " 'ramen',\n",
       " 'reiki',\n",
       " 'restaurants',\n",
       " 'salad',\n",
       " 'sandwiches',\n",
       " 'seafood',\n",
       " 'shaved_ice',\n",
       " 'shopping',\n",
       " 'skin_care',\n",
       " 'social_clubs',\n",
       " 'soul_food',\n",
       " 'southern',\n",
       " 'spanish',\n",
       " 'specialty_food',\n",
       " 'specialty_schools',\n",
       " 'sporting_goods',\n",
       " 'sports_bars',\n",
       " 'sports_wear',\n",
       " 'steakhouses',\n",
       " 'street_vendors',\n",
       " 'sushi_bars',\n",
       " 'swimming_pools',\n",
       " 'szechuan',\n",
       " 'tai_chi',\n",
       " 'taiwanese',\n",
       " 'tanning',\n",
       " 'tapas_bars',\n",
       " 'tapas/small_plates',\n",
       " 'tattoo',\n",
       " 'tattoo_removal',\n",
       " 'tea_rooms',\n",
       " 'tex-mex',\n",
       " 'thai',\n",
       " 'tobacco_shops',\n",
       " 'tours',\n",
       " 'toy_stores',\n",
       " 'trainers',\n",
       " 'travel_services',\n",
       " 'used,_vintage_consignment',\n",
       " 'vape_shops',\n",
       " 'vegan',\n",
       " 'vegetarian',\n",
       " 'venues_event_spaces',\n",
       " 'weight_loss_centers',\n",
       " 'wholesale_stores',\n",
       " 'wine_bars',\n",
       " \"women's_clothing\",\n",
       " 'yoga']"
      ]
     },
     "execution_count": 29,
     "metadata": {},
     "output_type": "execute_result"
    }
   ],
   "source": [
    "#need confirmation this all worked!\n",
    "list(new_cat_2.columns)"
   ]
  },
  {
   "cell_type": "code",
   "execution_count": 30,
   "metadata": {
    "collapsed": false,
    "scrolled": false
   },
   "outputs": [
    {
     "data": {
      "text/plain": [
       "0    152503\n",
       "1       329\n",
       "Name: adult_entertainment, dtype: int64"
      ]
     },
     "execution_count": 30,
     "metadata": {},
     "output_type": "execute_result"
    }
   ],
   "source": [
    "new_cat_2['adult_entertainment'].value_counts()"
   ]
  },
  {
   "cell_type": "code",
   "execution_count": 48,
   "metadata": {
    "collapsed": true
   },
   "outputs": [],
   "source": [
    "#whats a good way to visualize these variables?"
   ]
  },
  {
   "cell_type": "markdown",
   "metadata": {},
   "source": [
    "#### Here I pivoted but decided not to do anything with these columns because I opted for a simpler approach due to time constraints"
   ]
  },
  {
   "cell_type": "code",
   "execution_count": 31,
   "metadata": {
    "collapsed": false
   },
   "outputs": [
    {
     "data": {
      "text/plain": [
       "False          70687\n",
       "True           32400\n",
       "00:00           5560\n",
       "11:00           3212\n",
       "casual          2577\n",
       "10:00           2496\n",
       "22:00           2439\n",
       "1.0             1932\n",
       "average         1892\n",
       "07:00           1694\n",
       "2.0             1679\n",
       "21:00           1631\n",
       "06:00           1576\n",
       "02:00           1572\n",
       "no              1556\n",
       "full_bar        1470\n",
       "none            1399\n",
       "23:00           1397\n",
       "09:00           1165\n",
       "free             983\n",
       "17:00            894\n",
       "20:00            886\n",
       "15:00            750\n",
       "08:00            726\n",
       "16:00            710\n",
       "19:00            684\n",
       "12:00            677\n",
       "01:00            653\n",
       "10:30            624\n",
       "18:00            569\n",
       "               ...  \n",
       "15:30             62\n",
       "23:30             51\n",
       "18:30             44\n",
       "16:30             44\n",
       "4.0               38\n",
       "02:30             36\n",
       "paid              31\n",
       "yes_corkage       24\n",
       "12:30             24\n",
       "13:30             21\n",
       "04:30             20\n",
       "23:59             13\n",
       "00:30             12\n",
       "03:30              6\n",
       "18plus             6\n",
       "01:20              6\n",
       "05:45              5\n",
       "01:15              5\n",
       "allages            4\n",
       "20:15              3\n",
       "22:15              3\n",
       "19:15              3\n",
       "formal             2\n",
       "16:45              2\n",
       "03:45              2\n",
       "01:45              2\n",
       "11:45              1\n",
       "15:15              1\n",
       "19:45              1\n",
       "15:45              1\n",
       "Name: value, dtype: int64"
      ]
     },
     "execution_count": 31,
     "metadata": {},
     "output_type": "execute_result"
    }
   ],
   "source": [
    "business.value.value_counts()"
   ]
  },
  {
   "cell_type": "code",
   "execution_count": 32,
   "metadata": {
    "collapsed": false
   },
   "outputs": [
    {
     "data": {
      "text/plain": [
       "open                                           4132\n",
       "attributes.Accepts Credit Cards                3896\n",
       "attributes.Price Range                         3843\n",
       "attributes.Parking.valet                       3427\n",
       "attributes.Parking.street                      3427\n",
       "attributes.Parking.validated                   3427\n",
       "attributes.Parking.garage                      3427\n",
       "attributes.Parking.lot                         3427\n",
       "attributes.Good For Groups                     3362\n",
       "attributes.Outdoor Seating                     3267\n",
       "attributes.Has TV                              3084\n",
       "attributes.Alcohol                             3050\n",
       "attributes.Good for Kids                       2909\n",
       "attributes.Ambience.trendy                     2873\n",
       "attributes.Ambience.touristy                   2873\n",
       "attributes.Ambience.classy                     2873\n",
       "attributes.Ambience.romantic                   2873\n",
       "attributes.Ambience.intimate                   2873\n",
       "attributes.Ambience.casual                     2873\n",
       "attributes.Ambience.hipster                    2871\n",
       "attributes.Ambience.upscale                    2866\n",
       "attributes.Ambience.divey                      2864\n",
       "attributes.Noise Level                         2805\n",
       "attributes.Delivery                            2777\n",
       "attributes.Take-out                            2667\n",
       "attributes.Takes Reservations                  2653\n",
       "attributes.Attire                              2650\n",
       "hours.Friday.close                             2518\n",
       "hours.Friday.open                              2518\n",
       "attributes.Good For.breakfast                  2508\n",
       "                                               ... \n",
       "attributes.Wi-Fi                               2176\n",
       "attributes.Caters                              2050\n",
       "attributes.Wheelchair Accessible               1926\n",
       "attributes.Happy Hour                          1321\n",
       "attributes.Good For Dancing                    1277\n",
       "attributes.Drive-Thru                          1274\n",
       "attributes.Coat Check                          1260\n",
       "attributes.Smoking                             1187\n",
       "attributes.Music.dj                            1052\n",
       "attributes.Music.jukebox                        749\n",
       "attributes.Music.live                           709\n",
       "attributes.Music.video                          657\n",
       "attributes.Music.karaoke                        414\n",
       "attributes.Music.background_music               406\n",
       "attributes.Dogs Allowed                         378\n",
       "attributes.BYOB/Corkage                         159\n",
       "attributes.By Appointment Only                  135\n",
       "attributes.BYOB                                 106\n",
       "attributes.Ages Allowed                         101\n",
       "attributes.Corkage                              100\n",
       "attributes.Order at Counter                      62\n",
       "attributes.Open 24 Hours                         54\n",
       "attributes.Accepts Insurance                      7\n",
       "attributes.Dietary Restrictions.vegan             5\n",
       "attributes.Dietary Restrictions.gluten-free       5\n",
       "attributes.Dietary Restrictions.vegetarian        5\n",
       "attributes.Dietary Restrictions.halal             5\n",
       "attributes.Dietary Restrictions.soy-free          5\n",
       "attributes.Dietary Restrictions.kosher            5\n",
       "attributes.Dietary Restrictions.dairy-free        5\n",
       "Name: variable, dtype: int64"
      ]
     },
     "execution_count": 32,
     "metadata": {},
     "output_type": "execute_result"
    }
   ],
   "source": [
    "business.variable.value_counts()"
   ]
  },
  {
   "cell_type": "code",
   "execution_count": 33,
   "metadata": {
    "collapsed": false
   },
   "outputs": [],
   "source": [
    "def select_item_or_nan(x):\n",
    "    x = x.iloc[0]\n",
    "    if len(x) == 0:\n",
    "        return np.nan\n",
    "    else:\n",
    "        return x\n",
    "\n",
    "biz_wide = pd.pivot_table(business, columns=['variable'], values='value',\n",
    "                            index=['business_id'], aggfunc=select_item_or_nan,\n",
    "                            fill_value=np.nan)"
   ]
  },
  {
   "cell_type": "code",
   "execution_count": 34,
   "metadata": {
    "collapsed": false,
    "scrolled": true
   },
   "outputs": [
    {
     "data": {
      "text/html": [
       "<div>\n",
       "<table border=\"1\" class=\"dataframe\">\n",
       "  <thead>\n",
       "    <tr style=\"text-align: right;\">\n",
       "      <th>variable</th>\n",
       "      <th>attributes.Accepts Credit Cards</th>\n",
       "      <th>attributes.Accepts Insurance</th>\n",
       "      <th>attributes.Ages Allowed</th>\n",
       "      <th>attributes.Alcohol</th>\n",
       "      <th>attributes.Ambience.casual</th>\n",
       "      <th>attributes.Ambience.classy</th>\n",
       "      <th>attributes.Ambience.divey</th>\n",
       "      <th>attributes.Ambience.hipster</th>\n",
       "      <th>attributes.Ambience.intimate</th>\n",
       "      <th>attributes.Ambience.romantic</th>\n",
       "      <th>...</th>\n",
       "      <th>hours.Saturday.open</th>\n",
       "      <th>hours.Sunday.close</th>\n",
       "      <th>hours.Sunday.open</th>\n",
       "      <th>hours.Thursday.close</th>\n",
       "      <th>hours.Thursday.open</th>\n",
       "      <th>hours.Tuesday.close</th>\n",
       "      <th>hours.Tuesday.open</th>\n",
       "      <th>hours.Wednesday.close</th>\n",
       "      <th>hours.Wednesday.open</th>\n",
       "      <th>open</th>\n",
       "    </tr>\n",
       "    <tr>\n",
       "      <th>business_id</th>\n",
       "      <th></th>\n",
       "      <th></th>\n",
       "      <th></th>\n",
       "      <th></th>\n",
       "      <th></th>\n",
       "      <th></th>\n",
       "      <th></th>\n",
       "      <th></th>\n",
       "      <th></th>\n",
       "      <th></th>\n",
       "      <th></th>\n",
       "      <th></th>\n",
       "      <th></th>\n",
       "      <th></th>\n",
       "      <th></th>\n",
       "      <th></th>\n",
       "      <th></th>\n",
       "      <th></th>\n",
       "      <th></th>\n",
       "      <th></th>\n",
       "      <th></th>\n",
       "    </tr>\n",
       "  </thead>\n",
       "  <tbody>\n",
       "    <tr>\n",
       "      <th>--jFTZmywe7StuZ2hEjxyA</th>\n",
       "      <td>True</td>\n",
       "      <td>NaN</td>\n",
       "      <td>NaN</td>\n",
       "      <td>none</td>\n",
       "      <td>NaN</td>\n",
       "      <td>NaN</td>\n",
       "      <td>NaN</td>\n",
       "      <td>NaN</td>\n",
       "      <td>NaN</td>\n",
       "      <td>NaN</td>\n",
       "      <td>...</td>\n",
       "      <td>NaN</td>\n",
       "      <td>NaN</td>\n",
       "      <td>NaN</td>\n",
       "      <td>NaN</td>\n",
       "      <td>NaN</td>\n",
       "      <td>NaN</td>\n",
       "      <td>NaN</td>\n",
       "      <td>NaN</td>\n",
       "      <td>NaN</td>\n",
       "      <td>True</td>\n",
       "    </tr>\n",
       "    <tr>\n",
       "      <th>-0HGqwlfw3I8nkJyMHxAsQ</th>\n",
       "      <td>True</td>\n",
       "      <td>NaN</td>\n",
       "      <td>NaN</td>\n",
       "      <td>none</td>\n",
       "      <td>NaN</td>\n",
       "      <td>NaN</td>\n",
       "      <td>NaN</td>\n",
       "      <td>NaN</td>\n",
       "      <td>NaN</td>\n",
       "      <td>NaN</td>\n",
       "      <td>...</td>\n",
       "      <td>NaN</td>\n",
       "      <td>NaN</td>\n",
       "      <td>NaN</td>\n",
       "      <td>NaN</td>\n",
       "      <td>NaN</td>\n",
       "      <td>NaN</td>\n",
       "      <td>NaN</td>\n",
       "      <td>NaN</td>\n",
       "      <td>NaN</td>\n",
       "      <td>True</td>\n",
       "    </tr>\n",
       "    <tr>\n",
       "      <th>-0VK5Z1BfUHUYq4PoBYNLw</th>\n",
       "      <td>True</td>\n",
       "      <td>NaN</td>\n",
       "      <td>NaN</td>\n",
       "      <td>full_bar</td>\n",
       "      <td>True</td>\n",
       "      <td>False</td>\n",
       "      <td>False</td>\n",
       "      <td>False</td>\n",
       "      <td>False</td>\n",
       "      <td>False</td>\n",
       "      <td>...</td>\n",
       "      <td>NaN</td>\n",
       "      <td>NaN</td>\n",
       "      <td>NaN</td>\n",
       "      <td>NaN</td>\n",
       "      <td>NaN</td>\n",
       "      <td>NaN</td>\n",
       "      <td>NaN</td>\n",
       "      <td>NaN</td>\n",
       "      <td>NaN</td>\n",
       "      <td>True</td>\n",
       "    </tr>\n",
       "    <tr>\n",
       "      <th>-0bUDim5OGuv8R0Qqq6J4A</th>\n",
       "      <td>True</td>\n",
       "      <td>NaN</td>\n",
       "      <td>NaN</td>\n",
       "      <td>NaN</td>\n",
       "      <td>NaN</td>\n",
       "      <td>NaN</td>\n",
       "      <td>NaN</td>\n",
       "      <td>NaN</td>\n",
       "      <td>NaN</td>\n",
       "      <td>NaN</td>\n",
       "      <td>...</td>\n",
       "      <td>NaN</td>\n",
       "      <td>NaN</td>\n",
       "      <td>NaN</td>\n",
       "      <td>NaN</td>\n",
       "      <td>NaN</td>\n",
       "      <td>NaN</td>\n",
       "      <td>NaN</td>\n",
       "      <td>NaN</td>\n",
       "      <td>NaN</td>\n",
       "      <td>False</td>\n",
       "    </tr>\n",
       "    <tr>\n",
       "      <th>-1bOb2izeJBZjHC7NWxiPA</th>\n",
       "      <td>True</td>\n",
       "      <td>NaN</td>\n",
       "      <td>NaN</td>\n",
       "      <td>none</td>\n",
       "      <td>True</td>\n",
       "      <td>False</td>\n",
       "      <td>False</td>\n",
       "      <td>False</td>\n",
       "      <td>False</td>\n",
       "      <td>False</td>\n",
       "      <td>...</td>\n",
       "      <td>06:30</td>\n",
       "      <td>14:30</td>\n",
       "      <td>06:30</td>\n",
       "      <td>14:30</td>\n",
       "      <td>06:30</td>\n",
       "      <td>14:30</td>\n",
       "      <td>06:30</td>\n",
       "      <td>14:30</td>\n",
       "      <td>06:30</td>\n",
       "      <td>True</td>\n",
       "    </tr>\n",
       "  </tbody>\n",
       "</table>\n",
       "<p>5 rows × 78 columns</p>\n",
       "</div>"
      ],
      "text/plain": [
       "variable               attributes.Accepts Credit Cards  \\\n",
       "business_id                                              \n",
       "--jFTZmywe7StuZ2hEjxyA                            True   \n",
       "-0HGqwlfw3I8nkJyMHxAsQ                            True   \n",
       "-0VK5Z1BfUHUYq4PoBYNLw                            True   \n",
       "-0bUDim5OGuv8R0Qqq6J4A                            True   \n",
       "-1bOb2izeJBZjHC7NWxiPA                            True   \n",
       "\n",
       "variable               attributes.Accepts Insurance attributes.Ages Allowed  \\\n",
       "business_id                                                                   \n",
       "--jFTZmywe7StuZ2hEjxyA                          NaN                     NaN   \n",
       "-0HGqwlfw3I8nkJyMHxAsQ                          NaN                     NaN   \n",
       "-0VK5Z1BfUHUYq4PoBYNLw                          NaN                     NaN   \n",
       "-0bUDim5OGuv8R0Qqq6J4A                          NaN                     NaN   \n",
       "-1bOb2izeJBZjHC7NWxiPA                          NaN                     NaN   \n",
       "\n",
       "variable               attributes.Alcohol attributes.Ambience.casual  \\\n",
       "business_id                                                            \n",
       "--jFTZmywe7StuZ2hEjxyA               none                        NaN   \n",
       "-0HGqwlfw3I8nkJyMHxAsQ               none                        NaN   \n",
       "-0VK5Z1BfUHUYq4PoBYNLw           full_bar                       True   \n",
       "-0bUDim5OGuv8R0Qqq6J4A                NaN                        NaN   \n",
       "-1bOb2izeJBZjHC7NWxiPA               none                       True   \n",
       "\n",
       "variable               attributes.Ambience.classy attributes.Ambience.divey  \\\n",
       "business_id                                                                   \n",
       "--jFTZmywe7StuZ2hEjxyA                        NaN                       NaN   \n",
       "-0HGqwlfw3I8nkJyMHxAsQ                        NaN                       NaN   \n",
       "-0VK5Z1BfUHUYq4PoBYNLw                      False                     False   \n",
       "-0bUDim5OGuv8R0Qqq6J4A                        NaN                       NaN   \n",
       "-1bOb2izeJBZjHC7NWxiPA                      False                     False   \n",
       "\n",
       "variable               attributes.Ambience.hipster  \\\n",
       "business_id                                          \n",
       "--jFTZmywe7StuZ2hEjxyA                         NaN   \n",
       "-0HGqwlfw3I8nkJyMHxAsQ                         NaN   \n",
       "-0VK5Z1BfUHUYq4PoBYNLw                       False   \n",
       "-0bUDim5OGuv8R0Qqq6J4A                         NaN   \n",
       "-1bOb2izeJBZjHC7NWxiPA                       False   \n",
       "\n",
       "variable               attributes.Ambience.intimate  \\\n",
       "business_id                                           \n",
       "--jFTZmywe7StuZ2hEjxyA                          NaN   \n",
       "-0HGqwlfw3I8nkJyMHxAsQ                          NaN   \n",
       "-0VK5Z1BfUHUYq4PoBYNLw                        False   \n",
       "-0bUDim5OGuv8R0Qqq6J4A                          NaN   \n",
       "-1bOb2izeJBZjHC7NWxiPA                        False   \n",
       "\n",
       "variable               attributes.Ambience.romantic  ...    \\\n",
       "business_id                                          ...     \n",
       "--jFTZmywe7StuZ2hEjxyA                          NaN  ...     \n",
       "-0HGqwlfw3I8nkJyMHxAsQ                          NaN  ...     \n",
       "-0VK5Z1BfUHUYq4PoBYNLw                        False  ...     \n",
       "-0bUDim5OGuv8R0Qqq6J4A                          NaN  ...     \n",
       "-1bOb2izeJBZjHC7NWxiPA                        False  ...     \n",
       "\n",
       "variable               hours.Saturday.open hours.Sunday.close  \\\n",
       "business_id                                                     \n",
       "--jFTZmywe7StuZ2hEjxyA                 NaN                NaN   \n",
       "-0HGqwlfw3I8nkJyMHxAsQ                 NaN                NaN   \n",
       "-0VK5Z1BfUHUYq4PoBYNLw                 NaN                NaN   \n",
       "-0bUDim5OGuv8R0Qqq6J4A                 NaN                NaN   \n",
       "-1bOb2izeJBZjHC7NWxiPA               06:30              14:30   \n",
       "\n",
       "variable               hours.Sunday.open hours.Thursday.close  \\\n",
       "business_id                                                     \n",
       "--jFTZmywe7StuZ2hEjxyA               NaN                  NaN   \n",
       "-0HGqwlfw3I8nkJyMHxAsQ               NaN                  NaN   \n",
       "-0VK5Z1BfUHUYq4PoBYNLw               NaN                  NaN   \n",
       "-0bUDim5OGuv8R0Qqq6J4A               NaN                  NaN   \n",
       "-1bOb2izeJBZjHC7NWxiPA             06:30                14:30   \n",
       "\n",
       "variable               hours.Thursday.open hours.Tuesday.close  \\\n",
       "business_id                                                      \n",
       "--jFTZmywe7StuZ2hEjxyA                 NaN                 NaN   \n",
       "-0HGqwlfw3I8nkJyMHxAsQ                 NaN                 NaN   \n",
       "-0VK5Z1BfUHUYq4PoBYNLw                 NaN                 NaN   \n",
       "-0bUDim5OGuv8R0Qqq6J4A                 NaN                 NaN   \n",
       "-1bOb2izeJBZjHC7NWxiPA               06:30               14:30   \n",
       "\n",
       "variable               hours.Tuesday.open hours.Wednesday.close  \\\n",
       "business_id                                                       \n",
       "--jFTZmywe7StuZ2hEjxyA                NaN                   NaN   \n",
       "-0HGqwlfw3I8nkJyMHxAsQ                NaN                   NaN   \n",
       "-0VK5Z1BfUHUYq4PoBYNLw                NaN                   NaN   \n",
       "-0bUDim5OGuv8R0Qqq6J4A                NaN                   NaN   \n",
       "-1bOb2izeJBZjHC7NWxiPA              06:30                 14:30   \n",
       "\n",
       "variable               hours.Wednesday.open   open  \n",
       "business_id                                         \n",
       "--jFTZmywe7StuZ2hEjxyA                  NaN   True  \n",
       "-0HGqwlfw3I8nkJyMHxAsQ                  NaN   True  \n",
       "-0VK5Z1BfUHUYq4PoBYNLw                  NaN   True  \n",
       "-0bUDim5OGuv8R0Qqq6J4A                  NaN  False  \n",
       "-1bOb2izeJBZjHC7NWxiPA                06:30   True  \n",
       "\n",
       "[5 rows x 78 columns]"
      ]
     },
     "execution_count": 34,
     "metadata": {},
     "output_type": "execute_result"
    }
   ],
   "source": [
    "biz_wide.head()"
   ]
  },
  {
   "cell_type": "code",
   "execution_count": 35,
   "metadata": {
    "collapsed": false,
    "scrolled": true
   },
   "outputs": [
    {
     "data": {
      "text/plain": [
       "full_bar         1470\n",
       "none             1399\n",
       "beer_and_wine     181\n",
       "Name: attributes.Alcohol, dtype: int64"
      ]
     },
     "execution_count": 35,
     "metadata": {},
     "output_type": "execute_result"
    }
   ],
   "source": [
    "biz_wide['attributes.Alcohol'].value_counts()"
   ]
  },
  {
   "cell_type": "code",
   "execution_count": 36,
   "metadata": {
    "collapsed": false
   },
   "outputs": [
    {
     "data": {
      "text/plain": [
       "00:00    488\n",
       "22:00    302\n",
       "02:00    189\n",
       "21:00    173\n",
       "23:00    171\n",
       "15:00     92\n",
       "20:00     89\n",
       "01:00     82\n",
       "19:00     76\n",
       "18:00     76\n",
       "14:00     56\n",
       "17:00     51\n",
       "16:00     42\n",
       "03:00     41\n",
       "04:00     36\n",
       "06:00     34\n",
       "21:30     23\n",
       "22:30     20\n",
       "14:30     19\n",
       "05:00     14\n",
       "12:00     14\n",
       "09:00     11\n",
       "05:30     10\n",
       "13:00     10\n",
       "20:30      9\n",
       "07:00      7\n",
       "18:30      7\n",
       "23:30      6\n",
       "01:30      6\n",
       "13:30      5\n",
       "02:30      5\n",
       "17:30      5\n",
       "08:00      3\n",
       "19:30      3\n",
       "11:30      2\n",
       "10:00      2\n",
       "15:30      2\n",
       "12:30      2\n",
       "23:59      2\n",
       "19:15      1\n",
       "08:30      1\n",
       "01:15      1\n",
       "03:45      1\n",
       "16:30      1\n",
       "11:00      1\n",
       "10:30      1\n",
       "16:45      1\n",
       "22:15      1\n",
       "Name: hours.Sunday.close, dtype: int64"
      ]
     },
     "execution_count": 36,
     "metadata": {},
     "output_type": "execute_result"
    }
   ],
   "source": [
    "biz_wide['hours.Sunday.close'].value_counts()"
   ]
  },
  {
   "cell_type": "markdown",
   "metadata": {
    "collapsed": true
   },
   "source": [
    "#### Looking at some more straight forward columns"
   ]
  },
  {
   "cell_type": "code",
   "execution_count": 41,
   "metadata": {
    "collapsed": false
   },
   "outputs": [
    {
     "data": {
      "text/plain": [
       "Index([u'business_id', u'name', u'review_count', u'city', u'stars',\n",
       "       u'categories', u'latitude', u'longitude', u'neighborhoods', u'variable',\n",
       "       u'value', u'cat_lists'],\n",
       "      dtype='object')"
      ]
     },
     "execution_count": 41,
     "metadata": {},
     "output_type": "execute_result"
    }
   ],
   "source": [
    "business.columns"
   ]
  },
  {
   "cell_type": "code",
   "execution_count": 42,
   "metadata": {
    "collapsed": false
   },
   "outputs": [
    {
     "data": {
      "text/plain": [
       "0"
      ]
     },
     "execution_count": 42,
     "metadata": {},
     "output_type": "execute_result"
    }
   ],
   "source": [
    "business.review_count.isnull().sum()"
   ]
  },
  {
   "cell_type": "code",
   "execution_count": 43,
   "metadata": {
    "collapsed": false
   },
   "outputs": [
    {
     "data": {
      "text/plain": [
       "count    152832.00000\n",
       "mean        113.35011\n",
       "std         262.24581\n",
       "min           3.00000\n",
       "25%          12.00000\n",
       "50%          34.00000\n",
       "75%         101.00000\n",
       "max        5642.00000\n",
       "Name: review_count, dtype: float64"
      ]
     },
     "execution_count": 43,
     "metadata": {},
     "output_type": "execute_result"
    }
   ],
   "source": [
    "business.review_count.describe()"
   ]
  },
  {
   "cell_type": "code",
   "execution_count": 44,
   "metadata": {
    "collapsed": false
   },
   "outputs": [
    {
     "data": {
      "text/plain": [
       "0"
      ]
     },
     "execution_count": 44,
     "metadata": {},
     "output_type": "execute_result"
    }
   ],
   "source": [
    "business.stars.isnull().sum()"
   ]
  },
  {
   "cell_type": "code",
   "execution_count": 45,
   "metadata": {
    "collapsed": false
   },
   "outputs": [
    {
     "data": {
      "text/plain": [
       "count    152832.000000\n",
       "mean          3.471966\n",
       "std           0.768355\n",
       "min           1.000000\n",
       "25%           3.000000\n",
       "50%           3.500000\n",
       "75%           4.000000\n",
       "max           5.000000\n",
       "Name: stars, dtype: float64"
      ]
     },
     "execution_count": 45,
     "metadata": {},
     "output_type": "execute_result"
    }
   ],
   "source": [
    "business.stars.describe()"
   ]
  },
  {
   "cell_type": "markdown",
   "metadata": {},
   "source": [
    "#### Looking at users & reviews briefly"
   ]
  },
  {
   "cell_type": "code",
   "execution_count": 46,
   "metadata": {
    "collapsed": false,
    "scrolled": true
   },
   "outputs": [
    {
     "data": {
      "text/html": [
       "<div>\n",
       "<table border=\"1\" class=\"dataframe\">\n",
       "  <thead>\n",
       "    <tr style=\"text-align: right;\">\n",
       "      <th></th>\n",
       "      <th>user_id</th>\n",
       "      <th>review_id</th>\n",
       "      <th>votes.cool</th>\n",
       "      <th>business_id</th>\n",
       "      <th>votes.funny</th>\n",
       "      <th>stars</th>\n",
       "      <th>date</th>\n",
       "      <th>votes.useful</th>\n",
       "      <th>10 minutes</th>\n",
       "      <th>15 minutes</th>\n",
       "      <th>...</th>\n",
       "      <th>service great</th>\n",
       "      <th>staff friendly</th>\n",
       "      <th>super friendly</th>\n",
       "      <th>sweet potato</th>\n",
       "      <th>tasted like</th>\n",
       "      <th>time vegas</th>\n",
       "      <th>try place</th>\n",
       "      <th>ve seen</th>\n",
       "      <th>ve tried</th>\n",
       "      <th>wait staff</th>\n",
       "    </tr>\n",
       "  </thead>\n",
       "  <tbody>\n",
       "    <tr>\n",
       "      <th>0</th>\n",
       "      <td>o_LCYay4uo5N4eq3U5pbrQ</td>\n",
       "      <td>biEOCicjWlibF26pNLvhcw</td>\n",
       "      <td>0</td>\n",
       "      <td>EmzaQR5hQlF0WIl24NxAZA</td>\n",
       "      <td>0</td>\n",
       "      <td>3</td>\n",
       "      <td>2007-09-14</td>\n",
       "      <td>1</td>\n",
       "      <td>0</td>\n",
       "      <td>0</td>\n",
       "      <td>...</td>\n",
       "      <td>0</td>\n",
       "      <td>0</td>\n",
       "      <td>0</td>\n",
       "      <td>0</td>\n",
       "      <td>0</td>\n",
       "      <td>0</td>\n",
       "      <td>0</td>\n",
       "      <td>0</td>\n",
       "      <td>0</td>\n",
       "      <td>0</td>\n",
       "    </tr>\n",
       "    <tr>\n",
       "      <th>1</th>\n",
       "      <td>sEWeeq41k4ohBz4jS_iGRw</td>\n",
       "      <td>tOhOHUAS7XJch7a_HW5Csw</td>\n",
       "      <td>3</td>\n",
       "      <td>EmzaQR5hQlF0WIl24NxAZA</td>\n",
       "      <td>12</td>\n",
       "      <td>2</td>\n",
       "      <td>2008-04-21</td>\n",
       "      <td>3</td>\n",
       "      <td>0</td>\n",
       "      <td>0</td>\n",
       "      <td>...</td>\n",
       "      <td>0</td>\n",
       "      <td>0</td>\n",
       "      <td>0</td>\n",
       "      <td>0</td>\n",
       "      <td>0</td>\n",
       "      <td>0</td>\n",
       "      <td>0</td>\n",
       "      <td>0</td>\n",
       "      <td>0</td>\n",
       "      <td>0</td>\n",
       "    </tr>\n",
       "  </tbody>\n",
       "</table>\n",
       "<p>2 rows × 108 columns</p>\n",
       "</div>"
      ],
      "text/plain": [
       "                  user_id               review_id  votes.cool  \\\n",
       "0  o_LCYay4uo5N4eq3U5pbrQ  biEOCicjWlibF26pNLvhcw           0   \n",
       "1  sEWeeq41k4ohBz4jS_iGRw  tOhOHUAS7XJch7a_HW5Csw           3   \n",
       "\n",
       "              business_id  votes.funny  stars        date  votes.useful  \\\n",
       "0  EmzaQR5hQlF0WIl24NxAZA            0      3  2007-09-14             1   \n",
       "1  EmzaQR5hQlF0WIl24NxAZA           12      2  2008-04-21             3   \n",
       "\n",
       "   10 minutes  15 minutes     ...      service great  staff friendly  \\\n",
       "0           0           0     ...                  0               0   \n",
       "1           0           0     ...                  0               0   \n",
       "\n",
       "   super friendly  sweet potato  tasted like  time vegas  try place  ve seen  \\\n",
       "0               0             0            0           0          0        0   \n",
       "1               0             0            0           0          0        0   \n",
       "\n",
       "   ve tried  wait staff  \n",
       "0         0           0  \n",
       "1         0           0  \n",
       "\n",
       "[2 rows x 108 columns]"
      ]
     },
     "execution_count": 46,
     "metadata": {},
     "output_type": "execute_result"
    }
   ],
   "source": [
    "reviews.head(2)"
   ]
  },
  {
   "cell_type": "code",
   "execution_count": 47,
   "metadata": {
    "collapsed": false
   },
   "outputs": [
    {
     "name": "stdout",
     "output_type": "stream",
     "text": [
      "<class 'pandas.core.frame.DataFrame'>\n",
      "RangeIndex: 144206 entries, 0 to 144205\n",
      "Data columns (total 21 columns):\n",
      "yelping_since          144206 non-null object\n",
      "compliments.plain      47034 non-null float64\n",
      "review_count           144206 non-null int64\n",
      "compliments.cute       13133 non-null float64\n",
      "compliments.writer     33222 non-null float64\n",
      "fans                   144206 non-null int64\n",
      "compliments.note       39872 non-null float64\n",
      "compliments.hot        31748 non-null float64\n",
      "compliments.cool       41069 non-null float64\n",
      "compliments.profile    12368 non-null float64\n",
      "average_stars          144206 non-null float64\n",
      "compliments.more       25066 non-null float64\n",
      "elite                  144206 non-null object\n",
      "name                   144206 non-null object\n",
      "user_id                144206 non-null object\n",
      "votes.cool             144206 non-null int64\n",
      "compliments.list       7180 non-null float64\n",
      "votes.funny            144206 non-null int64\n",
      "compliments.photos     18759 non-null float64\n",
      "compliments.funny      30612 non-null float64\n",
      "votes.useful           144206 non-null int64\n",
      "dtypes: float64(12), int64(5), object(4)\n",
      "memory usage: 23.1+ MB\n"
     ]
    }
   ],
   "source": [
    "users.info()"
   ]
  },
  {
   "cell_type": "markdown",
   "metadata": {},
   "source": [
    "#### Plan\n",
    "Ideally I'd like to merge some of the columns from users & reviews (for example users['review_count'] with the idea being the Las Vegas user's review counts are higher than users in the other cities) with the business dataset but since I'm short on time now I'll look at review_count & stars in the business dataset. I'll try out KNN and Logistic Regression."
   ]
  },
  {
   "cell_type": "markdown",
   "metadata": {},
   "source": [
    "You may use any classification algorithm you deem appropriate, or even multiple models. You should:\n",
    "Build at least one model predicting Las Vegas vs. the other cities.\n",
    "Validate your model(s).\n",
    "Interpret and visualize, in some way, the results.\n",
    "Write up a \"profile\" for Las Vegas. This should be a writeup converting your findings from the model(s) into a human-readable description of the city."
   ]
  },
  {
   "cell_type": "code",
   "execution_count": 43,
   "metadata": {
    "collapsed": false
   },
   "outputs": [
    {
     "data": {
      "text/plain": [
       "Index([u'business_id', u'name', u'review_count', u'city', u'stars',\n",
       "       u'categories', u'latitude', u'longitude', u'neighborhoods', u'variable',\n",
       "       u'value'],\n",
       "      dtype='object')"
      ]
     },
     "execution_count": 43,
     "metadata": {},
     "output_type": "execute_result"
    }
   ],
   "source": [
    "business.columns"
   ]
  },
  {
   "cell_type": "code",
   "execution_count": 44,
   "metadata": {
    "collapsed": true
   },
   "outputs": [],
   "source": [
    "biz_subset = business[['city', 'review_count', 'stars']]"
   ]
  },
  {
   "cell_type": "code",
   "execution_count": 45,
   "metadata": {
    "collapsed": false
   },
   "outputs": [
    {
     "data": {
      "text/plain": [
       "0    93818\n",
       "1    59014\n",
       "Name: city, dtype: int64"
      ]
     },
     "execution_count": 45,
     "metadata": {},
     "output_type": "execute_result"
    }
   ],
   "source": [
    "business.city.value_counts()"
   ]
  },
  {
   "cell_type": "code",
   "execution_count": 77,
   "metadata": {
    "collapsed": false,
    "scrolled": true
   },
   "outputs": [
    {
     "data": {
      "text/html": [
       "<div>\n",
       "<table border=\"1\" class=\"dataframe\">\n",
       "  <thead>\n",
       "    <tr style=\"text-align: right;\">\n",
       "      <th></th>\n",
       "      <th>city</th>\n",
       "      <th>review_count</th>\n",
       "      <th>stars</th>\n",
       "    </tr>\n",
       "  </thead>\n",
       "  <tbody>\n",
       "    <tr>\n",
       "      <th>city</th>\n",
       "      <td>1.000000</td>\n",
       "      <td>-0.096229</td>\n",
       "      <td>-0.004952</td>\n",
       "    </tr>\n",
       "    <tr>\n",
       "      <th>review_count</th>\n",
       "      <td>-0.096229</td>\n",
       "      <td>1.000000</td>\n",
       "      <td>0.153375</td>\n",
       "    </tr>\n",
       "    <tr>\n",
       "      <th>stars</th>\n",
       "      <td>-0.004952</td>\n",
       "      <td>0.153375</td>\n",
       "      <td>1.000000</td>\n",
       "    </tr>\n",
       "  </tbody>\n",
       "</table>\n",
       "</div>"
      ],
      "text/plain": [
       "                  city  review_count     stars\n",
       "city          1.000000     -0.096229 -0.004952\n",
       "review_count -0.096229      1.000000  0.153375\n",
       "stars        -0.004952      0.153375  1.000000"
      ]
     },
     "execution_count": 77,
     "metadata": {},
     "output_type": "execute_result"
    }
   ],
   "source": [
    "#not sure it makes sense to do this\n",
    "biz_subset.corr()"
   ]
  },
  {
   "cell_type": "markdown",
   "metadata": {},
   "source": [
    "#### Performing stratified cross-validation on a KNN classifier and logisitic regression"
   ]
  },
  {
   "cell_type": "code",
   "execution_count": 68,
   "metadata": {
    "collapsed": true
   },
   "outputs": [],
   "source": [
    "y = business.city.values\n",
    "X = business[['review_count','stars']]"
   ]
  },
  {
   "cell_type": "code",
   "execution_count": 69,
   "metadata": {
    "collapsed": false
   },
   "outputs": [
    {
     "data": {
      "text/plain": [
       "(152832,)"
      ]
     },
     "execution_count": 69,
     "metadata": {},
     "output_type": "execute_result"
    }
   ],
   "source": [
    "y.shape"
   ]
  },
  {
   "cell_type": "code",
   "execution_count": 70,
   "metadata": {
    "collapsed": false
   },
   "outputs": [
    {
     "data": {
      "text/plain": [
       "(152832, 2)"
      ]
     },
     "execution_count": 70,
     "metadata": {},
     "output_type": "execute_result"
    }
   ],
   "source": [
    "X.shape"
   ]
  },
  {
   "cell_type": "code",
   "execution_count": 71,
   "metadata": {
    "collapsed": true
   },
   "outputs": [],
   "source": [
    "X_train, X_test, y_train, y_test = train_test_split(X, y, test_size=.33)"
   ]
  },
  {
   "cell_type": "code",
   "execution_count": 74,
   "metadata": {
    "collapsed": false,
    "scrolled": true
   },
   "outputs": [
    {
     "name": "stdout",
     "output_type": "stream",
     "text": [
      "Fitting 5 folds for each of 200 candidates, totalling 1000 fits\n"
     ]
    },
    {
     "name": "stderr",
     "output_type": "stream",
     "text": [
      "[Parallel(n_jobs=4)]: Done  42 tasks      | elapsed:    4.7s\n",
      "[Parallel(n_jobs=4)]: Done 192 tasks      | elapsed:   23.5s\n",
      "[Parallel(n_jobs=4)]: Done 442 tasks      | elapsed:  1.0min\n",
      "[Parallel(n_jobs=4)]: Done 792 tasks      | elapsed:  2.3min\n"
     ]
    },
    {
     "name": "stdout",
     "output_type": "stream",
     "text": [
      "{'n_neighbors': 79, 'weights': 'distance'}\n"
     ]
    },
    {
     "name": "stderr",
     "output_type": "stream",
     "text": [
      "[Parallel(n_jobs=4)]: Done 1000 out of 1000 | elapsed:  3.3min finished\n"
     ]
    }
   ],
   "source": [
    "params = {\n",
    "    'n_neighbors':range(1,101),\n",
    "    'weights':['uniform','distance']\n",
    "}\n",
    "\n",
    "knn = KNeighborsClassifier()\n",
    "\n",
    "knn_gs = GridSearchCV(knn, params, cv=5, verbose=1, n_jobs=4)\n",
    "knn_gs.fit(X_train, y_train)\n",
    "\n",
    "print knn_gs.best_params_\n",
    "best_knn = knn_gs.best_estimator_"
   ]
  },
  {
   "cell_type": "code",
   "execution_count": 75,
   "metadata": {
    "collapsed": false
   },
   "outputs": [
    {
     "name": "stdout",
     "output_type": "stream",
     "text": [
      "KNeighborsClassifier(algorithm='auto', leaf_size=30, metric='minkowski',\n",
      "           metric_params=None, n_jobs=1, n_neighbors=79, p=2,\n",
      "           weights='distance')\n"
     ]
    }
   ],
   "source": [
    "print best_knn"
   ]
  },
  {
   "cell_type": "code",
   "execution_count": 76,
   "metadata": {
    "collapsed": false,
    "scrolled": true
   },
   "outputs": [
    {
     "data": {
      "text/plain": [
       "array([ 0.74321981,  0.73873785,  0.74793078,  0.7466466 ,  0.74254867])"
      ]
     },
     "execution_count": 76,
     "metadata": {},
     "output_type": "execute_result"
    }
   ],
   "source": [
    "cross_val_score(best_knn, X, y, cv=5)"
   ]
  },
  {
   "cell_type": "code",
   "execution_count": null,
   "metadata": {
    "collapsed": true
   },
   "outputs": [],
   "source": [
    "# I'd like to use all the category variables for logistic regression, regularization, lasso"
   ]
  },
  {
   "cell_type": "markdown",
   "metadata": {},
   "source": [
    "<img src=\"http://imgur.com/l5NasQj.png\" style=\"float: left; margin: 25px 15px 0px 0px; height: 25px\">\n",
    "\n",
    "## 2. Different categories of ratings\n",
    "\n",
    "---\n",
    "\n",
    "Yelp is finally ready to admit that their rating system sucks. No one cares about the ratings, they just use the site to find out what's nearby. The ratings are simply too unreliable for people. \n",
    "\n",
    "Yelp hypothesizes that this is, in fact, because different people tend to give their ratings based on different things. They believe that perhaps some people always base their ratings on quality of food, others on service, and perhaps other categories as well. \n",
    "\n",
    "1. Do some users tend to talk about service more than others in reviews/tips? Divide up the tips/reviews into more \"service-focused\" ones and those less concerned with service.\n",
    "2. Create two new ratings for businesses: ratings from just the service-focused reviews and ratings from the non-service reviews.\n",
    "3. Construct a regression model for each of the two ratings. They should use the same predictor variables (of your choice). \n",
    "4. Validate the performance of the models.\n",
    "5. Do the models coefficients differ at all? What does this tell you about the hypothesis that there are in fact two different kinds of ratings?"
   ]
  },
  {
   "cell_type": "code",
   "execution_count": 49,
   "metadata": {
    "collapsed": false,
    "scrolled": true
   },
   "outputs": [
    {
     "data": {
      "text/html": [
       "<div>\n",
       "<table border=\"1\" class=\"dataframe\">\n",
       "  <thead>\n",
       "    <tr style=\"text-align: right;\">\n",
       "      <th></th>\n",
       "      <th>user_id</th>\n",
       "      <th>review_id</th>\n",
       "      <th>votes.cool</th>\n",
       "      <th>business_id</th>\n",
       "      <th>votes.funny</th>\n",
       "      <th>stars</th>\n",
       "      <th>date</th>\n",
       "      <th>votes.useful</th>\n",
       "      <th>10 minutes</th>\n",
       "      <th>15 minutes</th>\n",
       "      <th>...</th>\n",
       "      <th>service great</th>\n",
       "      <th>staff friendly</th>\n",
       "      <th>super friendly</th>\n",
       "      <th>sweet potato</th>\n",
       "      <th>tasted like</th>\n",
       "      <th>time vegas</th>\n",
       "      <th>try place</th>\n",
       "      <th>ve seen</th>\n",
       "      <th>ve tried</th>\n",
       "      <th>wait staff</th>\n",
       "    </tr>\n",
       "  </thead>\n",
       "  <tbody>\n",
       "    <tr>\n",
       "      <th>0</th>\n",
       "      <td>o_LCYay4uo5N4eq3U5pbrQ</td>\n",
       "      <td>biEOCicjWlibF26pNLvhcw</td>\n",
       "      <td>0</td>\n",
       "      <td>EmzaQR5hQlF0WIl24NxAZA</td>\n",
       "      <td>0</td>\n",
       "      <td>3</td>\n",
       "      <td>2007-09-14</td>\n",
       "      <td>1</td>\n",
       "      <td>0</td>\n",
       "      <td>0</td>\n",
       "      <td>...</td>\n",
       "      <td>0</td>\n",
       "      <td>0</td>\n",
       "      <td>0</td>\n",
       "      <td>0</td>\n",
       "      <td>0</td>\n",
       "      <td>0</td>\n",
       "      <td>0</td>\n",
       "      <td>0</td>\n",
       "      <td>0</td>\n",
       "      <td>0</td>\n",
       "    </tr>\n",
       "    <tr>\n",
       "      <th>1</th>\n",
       "      <td>sEWeeq41k4ohBz4jS_iGRw</td>\n",
       "      <td>tOhOHUAS7XJch7a_HW5Csw</td>\n",
       "      <td>3</td>\n",
       "      <td>EmzaQR5hQlF0WIl24NxAZA</td>\n",
       "      <td>12</td>\n",
       "      <td>2</td>\n",
       "      <td>2008-04-21</td>\n",
       "      <td>3</td>\n",
       "      <td>0</td>\n",
       "      <td>0</td>\n",
       "      <td>...</td>\n",
       "      <td>0</td>\n",
       "      <td>0</td>\n",
       "      <td>0</td>\n",
       "      <td>0</td>\n",
       "      <td>0</td>\n",
       "      <td>0</td>\n",
       "      <td>0</td>\n",
       "      <td>0</td>\n",
       "      <td>0</td>\n",
       "      <td>0</td>\n",
       "    </tr>\n",
       "    <tr>\n",
       "      <th>2</th>\n",
       "      <td>1AqEqmmVHgYCuzcMrF4h2g</td>\n",
       "      <td>2aGafu-x7onydGoDgDfeQQ</td>\n",
       "      <td>0</td>\n",
       "      <td>EmzaQR5hQlF0WIl24NxAZA</td>\n",
       "      <td>2</td>\n",
       "      <td>2</td>\n",
       "      <td>2009-11-16</td>\n",
       "      <td>0</td>\n",
       "      <td>0</td>\n",
       "      <td>0</td>\n",
       "      <td>...</td>\n",
       "      <td>0</td>\n",
       "      <td>0</td>\n",
       "      <td>0</td>\n",
       "      <td>0</td>\n",
       "      <td>0</td>\n",
       "      <td>0</td>\n",
       "      <td>0</td>\n",
       "      <td>0</td>\n",
       "      <td>0</td>\n",
       "      <td>0</td>\n",
       "    </tr>\n",
       "    <tr>\n",
       "      <th>3</th>\n",
       "      <td>pv82zTlB5Txsu2Pusu__FA</td>\n",
       "      <td>CY4SWiYcUZTWS_T_cGaGPA</td>\n",
       "      <td>4</td>\n",
       "      <td>EmzaQR5hQlF0WIl24NxAZA</td>\n",
       "      <td>9</td>\n",
       "      <td>2</td>\n",
       "      <td>2010-08-16</td>\n",
       "      <td>6</td>\n",
       "      <td>0</td>\n",
       "      <td>0</td>\n",
       "      <td>...</td>\n",
       "      <td>0</td>\n",
       "      <td>0</td>\n",
       "      <td>0</td>\n",
       "      <td>0</td>\n",
       "      <td>0</td>\n",
       "      <td>0</td>\n",
       "      <td>0</td>\n",
       "      <td>0</td>\n",
       "      <td>0</td>\n",
       "      <td>0</td>\n",
       "    </tr>\n",
       "    <tr>\n",
       "      <th>4</th>\n",
       "      <td>jlr3OBS1_Y3Lqa-H3-FR1g</td>\n",
       "      <td>VCKytaG-_YkxmQosH4E0jw</td>\n",
       "      <td>0</td>\n",
       "      <td>EmzaQR5hQlF0WIl24NxAZA</td>\n",
       "      <td>1</td>\n",
       "      <td>4</td>\n",
       "      <td>2010-12-04</td>\n",
       "      <td>0</td>\n",
       "      <td>0</td>\n",
       "      <td>0</td>\n",
       "      <td>...</td>\n",
       "      <td>0</td>\n",
       "      <td>0</td>\n",
       "      <td>0</td>\n",
       "      <td>0</td>\n",
       "      <td>0</td>\n",
       "      <td>0</td>\n",
       "      <td>0</td>\n",
       "      <td>0</td>\n",
       "      <td>0</td>\n",
       "      <td>0</td>\n",
       "    </tr>\n",
       "  </tbody>\n",
       "</table>\n",
       "<p>5 rows × 108 columns</p>\n",
       "</div>"
      ],
      "text/plain": [
       "                  user_id               review_id  votes.cool  \\\n",
       "0  o_LCYay4uo5N4eq3U5pbrQ  biEOCicjWlibF26pNLvhcw           0   \n",
       "1  sEWeeq41k4ohBz4jS_iGRw  tOhOHUAS7XJch7a_HW5Csw           3   \n",
       "2  1AqEqmmVHgYCuzcMrF4h2g  2aGafu-x7onydGoDgDfeQQ           0   \n",
       "3  pv82zTlB5Txsu2Pusu__FA  CY4SWiYcUZTWS_T_cGaGPA           4   \n",
       "4  jlr3OBS1_Y3Lqa-H3-FR1g  VCKytaG-_YkxmQosH4E0jw           0   \n",
       "\n",
       "              business_id  votes.funny  stars        date  votes.useful  \\\n",
       "0  EmzaQR5hQlF0WIl24NxAZA            0      3  2007-09-14             1   \n",
       "1  EmzaQR5hQlF0WIl24NxAZA           12      2  2008-04-21             3   \n",
       "2  EmzaQR5hQlF0WIl24NxAZA            2      2  2009-11-16             0   \n",
       "3  EmzaQR5hQlF0WIl24NxAZA            9      2  2010-08-16             6   \n",
       "4  EmzaQR5hQlF0WIl24NxAZA            1      4  2010-12-04             0   \n",
       "\n",
       "   10 minutes  15 minutes     ...      service great  staff friendly  \\\n",
       "0           0           0     ...                  0               0   \n",
       "1           0           0     ...                  0               0   \n",
       "2           0           0     ...                  0               0   \n",
       "3           0           0     ...                  0               0   \n",
       "4           0           0     ...                  0               0   \n",
       "\n",
       "   super friendly  sweet potato  tasted like  time vegas  try place  ve seen  \\\n",
       "0               0             0            0           0          0        0   \n",
       "1               0             0            0           0          0        0   \n",
       "2               0             0            0           0          0        0   \n",
       "3               0             0            0           0          0        0   \n",
       "4               0             0            0           0          0        0   \n",
       "\n",
       "   ve tried  wait staff  \n",
       "0         0           0  \n",
       "1         0           0  \n",
       "2         0           0  \n",
       "3         0           0  \n",
       "4         0           0  \n",
       "\n",
       "[5 rows x 108 columns]"
      ]
     },
     "execution_count": 49,
     "metadata": {},
     "output_type": "execute_result"
    }
   ],
   "source": [
    "reviews.head()"
   ]
  },
  {
   "cell_type": "code",
   "execution_count": 51,
   "metadata": {
    "collapsed": false,
    "scrolled": true
   },
   "outputs": [
    {
     "data": {
      "text/plain": [
       "(322398, 108)"
      ]
     },
     "execution_count": 51,
     "metadata": {},
     "output_type": "execute_result"
    }
   ],
   "source": [
    "reviews.shape"
   ]
  },
  {
   "cell_type": "code",
   "execution_count": 53,
   "metadata": {
    "collapsed": true
   },
   "outputs": [],
   "source": [
    "reviews_samp = reviews.sample(frac=0.1)"
   ]
  },
  {
   "cell_type": "code",
   "execution_count": 54,
   "metadata": {
    "collapsed": false
   },
   "outputs": [
    {
     "data": {
      "text/plain": [
       "(32240, 108)"
      ]
     },
     "execution_count": 54,
     "metadata": {},
     "output_type": "execute_result"
    }
   ],
   "source": [
    "reviews_samp.shape"
   ]
  },
  {
   "cell_type": "code",
   "execution_count": 75,
   "metadata": {
    "collapsed": false
   },
   "outputs": [
    {
     "data": {
      "text/html": [
       "<div>\n",
       "<table border=\"1\" class=\"dataframe\">\n",
       "  <thead>\n",
       "    <tr style=\"text-align: right;\">\n",
       "      <th></th>\n",
       "      <th>user_id</th>\n",
       "      <th>review_id</th>\n",
       "      <th>votes.cool</th>\n",
       "      <th>business_id</th>\n",
       "      <th>votes.funny</th>\n",
       "      <th>stars</th>\n",
       "      <th>date</th>\n",
       "      <th>votes.useful</th>\n",
       "      <th>10 minutes</th>\n",
       "      <th>15 minutes</th>\n",
       "      <th>...</th>\n",
       "      <th>service great</th>\n",
       "      <th>staff friendly</th>\n",
       "      <th>super friendly</th>\n",
       "      <th>sweet potato</th>\n",
       "      <th>tasted like</th>\n",
       "      <th>time vegas</th>\n",
       "      <th>try place</th>\n",
       "      <th>ve seen</th>\n",
       "      <th>ve tried</th>\n",
       "      <th>wait staff</th>\n",
       "    </tr>\n",
       "  </thead>\n",
       "  <tbody>\n",
       "    <tr>\n",
       "      <th>311069</th>\n",
       "      <td>0trYkEZFTej_lt8mi0ELWw</td>\n",
       "      <td>YBk0SZTs42V8TVbv2vkQyw</td>\n",
       "      <td>0</td>\n",
       "      <td>hsRwhrj0zPJWm_5Z3ZemMw</td>\n",
       "      <td>0</td>\n",
       "      <td>4</td>\n",
       "      <td>2015-06-28</td>\n",
       "      <td>0</td>\n",
       "      <td>0</td>\n",
       "      <td>0</td>\n",
       "      <td>...</td>\n",
       "      <td>0</td>\n",
       "      <td>0</td>\n",
       "      <td>0</td>\n",
       "      <td>0</td>\n",
       "      <td>0</td>\n",
       "      <td>0</td>\n",
       "      <td>0</td>\n",
       "      <td>0</td>\n",
       "      <td>0</td>\n",
       "      <td>0</td>\n",
       "    </tr>\n",
       "    <tr>\n",
       "      <th>139684</th>\n",
       "      <td>1Eevry0X_8yb6yzsQilptg</td>\n",
       "      <td>PDnODS86pUXDOxLBe9Jqug</td>\n",
       "      <td>0</td>\n",
       "      <td>8UhKnPs2Jvz7vjzqYCTcWg</td>\n",
       "      <td>0</td>\n",
       "      <td>4</td>\n",
       "      <td>2011-11-06</td>\n",
       "      <td>0</td>\n",
       "      <td>0</td>\n",
       "      <td>0</td>\n",
       "      <td>...</td>\n",
       "      <td>0</td>\n",
       "      <td>0</td>\n",
       "      <td>0</td>\n",
       "      <td>0</td>\n",
       "      <td>0</td>\n",
       "      <td>0</td>\n",
       "      <td>0</td>\n",
       "      <td>0</td>\n",
       "      <td>0</td>\n",
       "      <td>0</td>\n",
       "    </tr>\n",
       "  </tbody>\n",
       "</table>\n",
       "<p>2 rows × 108 columns</p>\n",
       "</div>"
      ],
      "text/plain": [
       "                       user_id               review_id  votes.cool  \\\n",
       "311069  0trYkEZFTej_lt8mi0ELWw  YBk0SZTs42V8TVbv2vkQyw           0   \n",
       "139684  1Eevry0X_8yb6yzsQilptg  PDnODS86pUXDOxLBe9Jqug           0   \n",
       "\n",
       "                   business_id  votes.funny  stars        date  votes.useful  \\\n",
       "311069  hsRwhrj0zPJWm_5Z3ZemMw            0      4  2015-06-28             0   \n",
       "139684  8UhKnPs2Jvz7vjzqYCTcWg            0      4  2011-11-06             0   \n",
       "\n",
       "        10 minutes  15 minutes     ...      service great  staff friendly  \\\n",
       "311069           0           0     ...                  0               0   \n",
       "139684           0           0     ...                  0               0   \n",
       "\n",
       "        super friendly  sweet potato  tasted like  time vegas  try place  \\\n",
       "311069               0             0            0           0          0   \n",
       "139684               0             0            0           0          0   \n",
       "\n",
       "        ve seen  ve tried  wait staff  \n",
       "311069        0         0           0  \n",
       "139684        0         0           0  \n",
       "\n",
       "[2 rows x 108 columns]"
      ]
     },
     "execution_count": 75,
     "metadata": {},
     "output_type": "execute_result"
    }
   ],
   "source": [
    "reviews_samp.head(2)"
   ]
  },
  {
   "cell_type": "code",
   "execution_count": 113,
   "metadata": {
    "collapsed": false
   },
   "outputs": [
    {
     "data": {
      "text/html": [
       "<div>\n",
       "<table border=\"1\" class=\"dataframe\">\n",
       "  <thead>\n",
       "    <tr style=\"text-align: right;\">\n",
       "      <th></th>\n",
       "      <th>bottle service</th>\n",
       "      <th>customer service</th>\n",
       "      <th>food service</th>\n",
       "      <th>good service</th>\n",
       "      <th>great service</th>\n",
       "      <th>service excellent</th>\n",
       "      <th>service food</th>\n",
       "      <th>service friendly</th>\n",
       "      <th>service good</th>\n",
       "      <th>service great</th>\n",
       "      <th>user_id</th>\n",
       "      <th>10 minutes</th>\n",
       "      <th>15 minutes</th>\n",
       "      <th>20 minutes</th>\n",
       "      <th>30 minutes</th>\n",
       "      <th>friendly staff</th>\n",
       "      <th>wait staff</th>\n",
       "    </tr>\n",
       "  </thead>\n",
       "  <tbody>\n",
       "    <tr>\n",
       "      <th>311069</th>\n",
       "      <td>0</td>\n",
       "      <td>0</td>\n",
       "      <td>0</td>\n",
       "      <td>0</td>\n",
       "      <td>0</td>\n",
       "      <td>0</td>\n",
       "      <td>0</td>\n",
       "      <td>0</td>\n",
       "      <td>0</td>\n",
       "      <td>0</td>\n",
       "      <td>0trYkEZFTej_lt8mi0ELWw</td>\n",
       "      <td>0</td>\n",
       "      <td>0</td>\n",
       "      <td>0</td>\n",
       "      <td>0</td>\n",
       "      <td>0</td>\n",
       "      <td>0</td>\n",
       "    </tr>\n",
       "    <tr>\n",
       "      <th>139684</th>\n",
       "      <td>0</td>\n",
       "      <td>0</td>\n",
       "      <td>0</td>\n",
       "      <td>0</td>\n",
       "      <td>0</td>\n",
       "      <td>0</td>\n",
       "      <td>0</td>\n",
       "      <td>0</td>\n",
       "      <td>0</td>\n",
       "      <td>0</td>\n",
       "      <td>1Eevry0X_8yb6yzsQilptg</td>\n",
       "      <td>0</td>\n",
       "      <td>0</td>\n",
       "      <td>0</td>\n",
       "      <td>0</td>\n",
       "      <td>0</td>\n",
       "      <td>0</td>\n",
       "    </tr>\n",
       "    <tr>\n",
       "      <th>309880</th>\n",
       "      <td>0</td>\n",
       "      <td>0</td>\n",
       "      <td>0</td>\n",
       "      <td>0</td>\n",
       "      <td>0</td>\n",
       "      <td>0</td>\n",
       "      <td>0</td>\n",
       "      <td>0</td>\n",
       "      <td>0</td>\n",
       "      <td>0</td>\n",
       "      <td>O9sjk93qlDw3wSX7QNqZvw</td>\n",
       "      <td>0</td>\n",
       "      <td>0</td>\n",
       "      <td>0</td>\n",
       "      <td>0</td>\n",
       "      <td>0</td>\n",
       "      <td>0</td>\n",
       "    </tr>\n",
       "    <tr>\n",
       "      <th>90932</th>\n",
       "      <td>0</td>\n",
       "      <td>0</td>\n",
       "      <td>0</td>\n",
       "      <td>0</td>\n",
       "      <td>0</td>\n",
       "      <td>0</td>\n",
       "      <td>0</td>\n",
       "      <td>0</td>\n",
       "      <td>0</td>\n",
       "      <td>0</td>\n",
       "      <td>zF-rTa_IwAoYnykjVfWKgw</td>\n",
       "      <td>0</td>\n",
       "      <td>0</td>\n",
       "      <td>0</td>\n",
       "      <td>0</td>\n",
       "      <td>0</td>\n",
       "      <td>0</td>\n",
       "    </tr>\n",
       "    <tr>\n",
       "      <th>99008</th>\n",
       "      <td>0</td>\n",
       "      <td>0</td>\n",
       "      <td>0</td>\n",
       "      <td>0</td>\n",
       "      <td>0</td>\n",
       "      <td>0</td>\n",
       "      <td>0</td>\n",
       "      <td>0</td>\n",
       "      <td>0</td>\n",
       "      <td>0</td>\n",
       "      <td>W2nDVYm6tumd1VPFhIK2Dg</td>\n",
       "      <td>0</td>\n",
       "      <td>0</td>\n",
       "      <td>0</td>\n",
       "      <td>0</td>\n",
       "      <td>0</td>\n",
       "      <td>0</td>\n",
       "    </tr>\n",
       "  </tbody>\n",
       "</table>\n",
       "</div>"
      ],
      "text/plain": [
       "        bottle service  customer service  food service  good service  \\\n",
       "311069               0                 0             0             0   \n",
       "139684               0                 0             0             0   \n",
       "309880               0                 0             0             0   \n",
       "90932                0                 0             0             0   \n",
       "99008                0                 0             0             0   \n",
       "\n",
       "        great service  service excellent  service food  service friendly  \\\n",
       "311069              0                  0             0                 0   \n",
       "139684              0                  0             0                 0   \n",
       "309880              0                  0             0                 0   \n",
       "90932               0                  0             0                 0   \n",
       "99008               0                  0             0                 0   \n",
       "\n",
       "        service good  service great                 user_id  10 minutes  \\\n",
       "311069             0              0  0trYkEZFTej_lt8mi0ELWw           0   \n",
       "139684             0              0  1Eevry0X_8yb6yzsQilptg           0   \n",
       "309880             0              0  O9sjk93qlDw3wSX7QNqZvw           0   \n",
       "90932              0              0  zF-rTa_IwAoYnykjVfWKgw           0   \n",
       "99008              0              0  W2nDVYm6tumd1VPFhIK2Dg           0   \n",
       "\n",
       "        15 minutes  20 minutes  30 minutes  friendly staff  wait staff  \n",
       "311069           0           0           0               0           0  \n",
       "139684           0           0           0               0           0  \n",
       "309880           0           0           0               0           0  \n",
       "90932            0           0           0               0           0  \n",
       "99008            0           0           0               0           0  "
      ]
     },
     "execution_count": 113,
     "metadata": {},
     "output_type": "execute_result"
    }
   ],
   "source": [
    "samp_service = reviews_samp.filter(like='service')\n",
    "samp_service[['user_id', '10 minutes', '15 minutes', '20 minutes', '30 minutes', 'friendly staff', 'wait staff']] =\\\n",
    "reviews_samp[['user_id', '10 minutes', '15 minutes', '20 minutes', '30 minutes', 'friendly staff', 'wait staff']]\n",
    "samp_service.head()"
   ]
  },
  {
   "cell_type": "code",
   "execution_count": null,
   "metadata": {
    "collapsed": true
   },
   "outputs": [],
   "source": []
  },
  {
   "cell_type": "code",
   "execution_count": 83,
   "metadata": {
    "collapsed": false
   },
   "outputs": [],
   "source": [
    "# list(reviews)"
   ]
  },
  {
   "cell_type": "code",
   "execution_count": 114,
   "metadata": {
    "collapsed": false
   },
   "outputs": [],
   "source": [
    "base_cols = reviews_samp.ix[:,0:8]"
   ]
  },
  {
   "cell_type": "code",
   "execution_count": 115,
   "metadata": {
    "collapsed": false,
    "scrolled": false
   },
   "outputs": [
    {
     "data": {
      "text/html": [
       "<div>\n",
       "<table border=\"1\" class=\"dataframe\">\n",
       "  <thead>\n",
       "    <tr style=\"text-align: right;\">\n",
       "      <th></th>\n",
       "      <th>user_id</th>\n",
       "      <th>review_id</th>\n",
       "      <th>votes.cool</th>\n",
       "      <th>business_id</th>\n",
       "      <th>votes.funny</th>\n",
       "      <th>stars</th>\n",
       "      <th>date</th>\n",
       "      <th>votes.useful</th>\n",
       "    </tr>\n",
       "  </thead>\n",
       "  <tbody>\n",
       "    <tr>\n",
       "      <th>311069</th>\n",
       "      <td>0trYkEZFTej_lt8mi0ELWw</td>\n",
       "      <td>YBk0SZTs42V8TVbv2vkQyw</td>\n",
       "      <td>0</td>\n",
       "      <td>hsRwhrj0zPJWm_5Z3ZemMw</td>\n",
       "      <td>0</td>\n",
       "      <td>4</td>\n",
       "      <td>2015-06-28</td>\n",
       "      <td>0</td>\n",
       "    </tr>\n",
       "    <tr>\n",
       "      <th>139684</th>\n",
       "      <td>1Eevry0X_8yb6yzsQilptg</td>\n",
       "      <td>PDnODS86pUXDOxLBe9Jqug</td>\n",
       "      <td>0</td>\n",
       "      <td>8UhKnPs2Jvz7vjzqYCTcWg</td>\n",
       "      <td>0</td>\n",
       "      <td>4</td>\n",
       "      <td>2011-11-06</td>\n",
       "      <td>0</td>\n",
       "    </tr>\n",
       "  </tbody>\n",
       "</table>\n",
       "</div>"
      ],
      "text/plain": [
       "                       user_id               review_id  votes.cool  \\\n",
       "311069  0trYkEZFTej_lt8mi0ELWw  YBk0SZTs42V8TVbv2vkQyw           0   \n",
       "139684  1Eevry0X_8yb6yzsQilptg  PDnODS86pUXDOxLBe9Jqug           0   \n",
       "\n",
       "                   business_id  votes.funny  stars        date  votes.useful  \n",
       "311069  hsRwhrj0zPJWm_5Z3ZemMw            0      4  2015-06-28             0  \n",
       "139684  8UhKnPs2Jvz7vjzqYCTcWg            0      4  2011-11-06             0  "
      ]
     },
     "execution_count": 115,
     "metadata": {},
     "output_type": "execute_result"
    }
   ],
   "source": [
    "base_cols.head(2)"
   ]
  },
  {
   "cell_type": "code",
   "execution_count": 116,
   "metadata": {
    "collapsed": false
   },
   "outputs": [],
   "source": [
    "samp_service = pd.merge(samp_service, base_cols, on='user_id', how='left')"
   ]
  },
  {
   "cell_type": "code",
   "execution_count": 117,
   "metadata": {
    "collapsed": false
   },
   "outputs": [
    {
     "data": {
      "text/html": [
       "<div>\n",
       "<table border=\"1\" class=\"dataframe\">\n",
       "  <thead>\n",
       "    <tr style=\"text-align: right;\">\n",
       "      <th></th>\n",
       "      <th>bottle service</th>\n",
       "      <th>customer service</th>\n",
       "      <th>food service</th>\n",
       "      <th>good service</th>\n",
       "      <th>great service</th>\n",
       "      <th>service excellent</th>\n",
       "      <th>service food</th>\n",
       "      <th>service friendly</th>\n",
       "      <th>service good</th>\n",
       "      <th>service great</th>\n",
       "      <th>...</th>\n",
       "      <th>30 minutes</th>\n",
       "      <th>friendly staff</th>\n",
       "      <th>wait staff</th>\n",
       "      <th>review_id</th>\n",
       "      <th>votes.cool</th>\n",
       "      <th>business_id</th>\n",
       "      <th>votes.funny</th>\n",
       "      <th>stars</th>\n",
       "      <th>date</th>\n",
       "      <th>votes.useful</th>\n",
       "    </tr>\n",
       "  </thead>\n",
       "  <tbody>\n",
       "    <tr>\n",
       "      <th>0</th>\n",
       "      <td>0</td>\n",
       "      <td>0</td>\n",
       "      <td>0</td>\n",
       "      <td>0</td>\n",
       "      <td>0</td>\n",
       "      <td>0</td>\n",
       "      <td>0</td>\n",
       "      <td>0</td>\n",
       "      <td>0</td>\n",
       "      <td>0</td>\n",
       "      <td>...</td>\n",
       "      <td>0</td>\n",
       "      <td>0</td>\n",
       "      <td>0</td>\n",
       "      <td>YBk0SZTs42V8TVbv2vkQyw</td>\n",
       "      <td>0</td>\n",
       "      <td>hsRwhrj0zPJWm_5Z3ZemMw</td>\n",
       "      <td>0</td>\n",
       "      <td>4</td>\n",
       "      <td>2015-06-28</td>\n",
       "      <td>0</td>\n",
       "    </tr>\n",
       "    <tr>\n",
       "      <th>1</th>\n",
       "      <td>0</td>\n",
       "      <td>0</td>\n",
       "      <td>0</td>\n",
       "      <td>0</td>\n",
       "      <td>0</td>\n",
       "      <td>0</td>\n",
       "      <td>0</td>\n",
       "      <td>0</td>\n",
       "      <td>0</td>\n",
       "      <td>0</td>\n",
       "      <td>...</td>\n",
       "      <td>0</td>\n",
       "      <td>0</td>\n",
       "      <td>0</td>\n",
       "      <td>PDnODS86pUXDOxLBe9Jqug</td>\n",
       "      <td>0</td>\n",
       "      <td>8UhKnPs2Jvz7vjzqYCTcWg</td>\n",
       "      <td>0</td>\n",
       "      <td>4</td>\n",
       "      <td>2011-11-06</td>\n",
       "      <td>0</td>\n",
       "    </tr>\n",
       "    <tr>\n",
       "      <th>2</th>\n",
       "      <td>0</td>\n",
       "      <td>0</td>\n",
       "      <td>0</td>\n",
       "      <td>0</td>\n",
       "      <td>0</td>\n",
       "      <td>0</td>\n",
       "      <td>0</td>\n",
       "      <td>0</td>\n",
       "      <td>0</td>\n",
       "      <td>0</td>\n",
       "      <td>...</td>\n",
       "      <td>0</td>\n",
       "      <td>0</td>\n",
       "      <td>0</td>\n",
       "      <td>KcYm-Ob_tW2oDVr_vuUhQg</td>\n",
       "      <td>1</td>\n",
       "      <td>j72BJLvldv1gw9mSpUhiDg</td>\n",
       "      <td>1</td>\n",
       "      <td>5</td>\n",
       "      <td>2015-05-17</td>\n",
       "      <td>0</td>\n",
       "    </tr>\n",
       "    <tr>\n",
       "      <th>3</th>\n",
       "      <td>0</td>\n",
       "      <td>0</td>\n",
       "      <td>0</td>\n",
       "      <td>0</td>\n",
       "      <td>0</td>\n",
       "      <td>0</td>\n",
       "      <td>0</td>\n",
       "      <td>0</td>\n",
       "      <td>0</td>\n",
       "      <td>0</td>\n",
       "      <td>...</td>\n",
       "      <td>0</td>\n",
       "      <td>0</td>\n",
       "      <td>0</td>\n",
       "      <td>biIKD9AzVneziCxU19N9bA</td>\n",
       "      <td>1</td>\n",
       "      <td>HyfFenprdpIA4rmKu6DW3g</td>\n",
       "      <td>0</td>\n",
       "      <td>5</td>\n",
       "      <td>2015-08-18</td>\n",
       "      <td>0</td>\n",
       "    </tr>\n",
       "    <tr>\n",
       "      <th>4</th>\n",
       "      <td>0</td>\n",
       "      <td>0</td>\n",
       "      <td>0</td>\n",
       "      <td>0</td>\n",
       "      <td>0</td>\n",
       "      <td>0</td>\n",
       "      <td>0</td>\n",
       "      <td>0</td>\n",
       "      <td>0</td>\n",
       "      <td>0</td>\n",
       "      <td>...</td>\n",
       "      <td>0</td>\n",
       "      <td>0</td>\n",
       "      <td>0</td>\n",
       "      <td>R-73c5XSlyYP2EGOTbUS4g</td>\n",
       "      <td>1</td>\n",
       "      <td>50nln4YPr0QDo_v1uBmHfg</td>\n",
       "      <td>1</td>\n",
       "      <td>4</td>\n",
       "      <td>2010-06-09</td>\n",
       "      <td>1</td>\n",
       "    </tr>\n",
       "  </tbody>\n",
       "</table>\n",
       "<p>5 rows × 24 columns</p>\n",
       "</div>"
      ],
      "text/plain": [
       "   bottle service  customer service  food service  good service  \\\n",
       "0               0                 0             0             0   \n",
       "1               0                 0             0             0   \n",
       "2               0                 0             0             0   \n",
       "3               0                 0             0             0   \n",
       "4               0                 0             0             0   \n",
       "\n",
       "   great service  service excellent  service food  service friendly  \\\n",
       "0              0                  0             0                 0   \n",
       "1              0                  0             0                 0   \n",
       "2              0                  0             0                 0   \n",
       "3              0                  0             0                 0   \n",
       "4              0                  0             0                 0   \n",
       "\n",
       "   service good  service great     ...      30 minutes  friendly staff  \\\n",
       "0             0              0     ...               0               0   \n",
       "1             0              0     ...               0               0   \n",
       "2             0              0     ...               0               0   \n",
       "3             0              0     ...               0               0   \n",
       "4             0              0     ...               0               0   \n",
       "\n",
       "   wait staff               review_id  votes.cool             business_id  \\\n",
       "0           0  YBk0SZTs42V8TVbv2vkQyw           0  hsRwhrj0zPJWm_5Z3ZemMw   \n",
       "1           0  PDnODS86pUXDOxLBe9Jqug           0  8UhKnPs2Jvz7vjzqYCTcWg   \n",
       "2           0  KcYm-Ob_tW2oDVr_vuUhQg           1  j72BJLvldv1gw9mSpUhiDg   \n",
       "3           0  biIKD9AzVneziCxU19N9bA           1  HyfFenprdpIA4rmKu6DW3g   \n",
       "4           0  R-73c5XSlyYP2EGOTbUS4g           1  50nln4YPr0QDo_v1uBmHfg   \n",
       "\n",
       "   votes.funny stars        date votes.useful  \n",
       "0            0     4  2015-06-28            0  \n",
       "1            0     4  2011-11-06            0  \n",
       "2            1     5  2015-05-17            0  \n",
       "3            0     5  2015-08-18            0  \n",
       "4            1     4  2010-06-09            1  \n",
       "\n",
       "[5 rows x 24 columns]"
      ]
     },
     "execution_count": 117,
     "metadata": {},
     "output_type": "execute_result"
    }
   ],
   "source": [
    "samp_service.head()"
   ]
  },
  {
   "cell_type": "code",
   "execution_count": 118,
   "metadata": {
    "collapsed": false,
    "scrolled": true
   },
   "outputs": [
    {
     "name": "stdout",
     "output_type": "stream",
     "text": [
      "<class 'pandas.core.frame.DataFrame'>\n",
      "Int64Index: 67584 entries, 0 to 67583\n",
      "Data columns (total 24 columns):\n",
      "bottle service       67584 non-null int64\n",
      "customer service     67584 non-null int64\n",
      "food service         67584 non-null int64\n",
      "good service         67584 non-null int64\n",
      "great service        67584 non-null int64\n",
      "service excellent    67584 non-null int64\n",
      "service food         67584 non-null int64\n",
      "service friendly     67584 non-null int64\n",
      "service good         67584 non-null int64\n",
      "service great        67584 non-null int64\n",
      "user_id              67584 non-null object\n",
      "10 minutes           67584 non-null int64\n",
      "15 minutes           67584 non-null int64\n",
      "20 minutes           67584 non-null int64\n",
      "30 minutes           67584 non-null int64\n",
      "friendly staff       67584 non-null int64\n",
      "wait staff           67584 non-null int64\n",
      "review_id            67584 non-null object\n",
      "votes.cool           67584 non-null int64\n",
      "business_id          67584 non-null object\n",
      "votes.funny          67584 non-null int64\n",
      "stars                67584 non-null int64\n",
      "date                 67584 non-null object\n",
      "votes.useful         67584 non-null int64\n",
      "dtypes: int64(20), object(4)\n",
      "memory usage: 12.9+ MB\n"
     ]
    }
   ],
   "source": [
    "samp_service.info()"
   ]
  },
  {
   "cell_type": "code",
   "execution_count": 107,
   "metadata": {
    "collapsed": false
   },
   "outputs": [],
   "source": [
    "samp_not_service = [x for x in reviews_samp.columns if x not in samp_service]"
   ]
  },
  {
   "cell_type": "code",
   "execution_count": 109,
   "metadata": {
    "collapsed": false
   },
   "outputs": [
    {
     "data": {
      "text/html": [
       "<div>\n",
       "<table border=\"1\" class=\"dataframe\">\n",
       "  <thead>\n",
       "    <tr style=\"text-align: right;\">\n",
       "      <th></th>\n",
       "      <th>bar food</th>\n",
       "      <th>beer selection</th>\n",
       "      <th>best ve</th>\n",
       "      <th>bloody mary</th>\n",
       "      <th>chicken waffles</th>\n",
       "      <th>dance floor</th>\n",
       "      <th>decided try</th>\n",
       "      <th>definitely come</th>\n",
       "      <th>definitely recommend</th>\n",
       "      <th>didn want</th>\n",
       "      <th>...</th>\n",
       "      <th>saturday night</th>\n",
       "      <th>second time</th>\n",
       "      <th>staff friendly</th>\n",
       "      <th>super friendly</th>\n",
       "      <th>sweet potato</th>\n",
       "      <th>tasted like</th>\n",
       "      <th>time vegas</th>\n",
       "      <th>try place</th>\n",
       "      <th>ve seen</th>\n",
       "      <th>ve tried</th>\n",
       "    </tr>\n",
       "  </thead>\n",
       "  <tbody>\n",
       "    <tr>\n",
       "      <th>311069</th>\n",
       "      <td>0</td>\n",
       "      <td>0</td>\n",
       "      <td>0</td>\n",
       "      <td>0</td>\n",
       "      <td>0</td>\n",
       "      <td>0</td>\n",
       "      <td>0</td>\n",
       "      <td>0</td>\n",
       "      <td>0</td>\n",
       "      <td>0</td>\n",
       "      <td>...</td>\n",
       "      <td>0</td>\n",
       "      <td>0</td>\n",
       "      <td>0</td>\n",
       "      <td>0</td>\n",
       "      <td>0</td>\n",
       "      <td>0</td>\n",
       "      <td>0</td>\n",
       "      <td>0</td>\n",
       "      <td>0</td>\n",
       "      <td>0</td>\n",
       "    </tr>\n",
       "    <tr>\n",
       "      <th>139684</th>\n",
       "      <td>0</td>\n",
       "      <td>0</td>\n",
       "      <td>0</td>\n",
       "      <td>0</td>\n",
       "      <td>0</td>\n",
       "      <td>0</td>\n",
       "      <td>0</td>\n",
       "      <td>0</td>\n",
       "      <td>0</td>\n",
       "      <td>0</td>\n",
       "      <td>...</td>\n",
       "      <td>0</td>\n",
       "      <td>0</td>\n",
       "      <td>0</td>\n",
       "      <td>0</td>\n",
       "      <td>0</td>\n",
       "      <td>0</td>\n",
       "      <td>0</td>\n",
       "      <td>0</td>\n",
       "      <td>0</td>\n",
       "      <td>0</td>\n",
       "    </tr>\n",
       "  </tbody>\n",
       "</table>\n",
       "<p>2 rows × 84 columns</p>\n",
       "</div>"
      ],
      "text/plain": [
       "        bar food  beer selection  best ve  bloody mary  chicken waffles  \\\n",
       "311069         0               0        0            0                0   \n",
       "139684         0               0        0            0                0   \n",
       "\n",
       "        dance floor  decided try  definitely come  definitely recommend  \\\n",
       "311069            0            0                0                     0   \n",
       "139684            0            0                0                     0   \n",
       "\n",
       "        didn want    ...     saturday night  second time  staff friendly  \\\n",
       "311069          0    ...                  0            0               0   \n",
       "139684          0    ...                  0            0               0   \n",
       "\n",
       "        super friendly  sweet potato  tasted like  time vegas  try place  \\\n",
       "311069               0             0            0           0          0   \n",
       "139684               0             0            0           0          0   \n",
       "\n",
       "        ve seen  ve tried  \n",
       "311069        0         0  \n",
       "139684        0         0  \n",
       "\n",
       "[2 rows x 84 columns]"
      ]
     },
     "execution_count": 109,
     "metadata": {},
     "output_type": "execute_result"
    }
   ],
   "source": [
    "reviews_samp[reviews_samp_non_service].head(2)"
   ]
  },
  {
   "cell_type": "code",
   "execution_count": null,
   "metadata": {
    "collapsed": true
   },
   "outputs": [],
   "source": [
    "service_reviews = reviews.ix[:,(base_cols + service_cols)]"
   ]
  },
  {
   "cell_type": "code",
   "execution_count": 111,
   "metadata": {
    "collapsed": false
   },
   "outputs": [],
   "source": [
    "# list(reviews_samp[reviews_samp_non_service])"
   ]
  },
  {
   "cell_type": "markdown",
   "metadata": {},
   "source": [
    "<img src=\"http://imgur.com/l5NasQj.png\" style=\"float: left; margin: 25px 15px 0px 0px; height: 25px\">\n",
    "\n",
    "## 3. Identifying \"elite\" users\n",
    "\n",
    "---\n",
    "\n",
    "Yelp, though having their own formula for determining whether a user is elite or not, is interested in delving deeper into what differentiates an elite user from a normal user at a broader level.\n",
    "\n",
    "Use a classification model to predict whether a user is elite or not. Note that users can be elite in some years and not in others.\n",
    "\n",
    "1. What things predict well whether a user is elite or not?\n",
    "- Validate the model.\n",
    "- If you were to remove the \"counts\" metrics for users (reviews, votes, compliments), what distinguishes an elite user, if anything? Validate the model and compare it to the one with the count variables.\n",
    "- Think of a way to visually represent your results in a compelling way.\n",
    "- Give a brief write-up of your findings.\n"
   ]
  },
  {
   "cell_type": "code",
   "execution_count": null,
   "metadata": {
    "collapsed": true
   },
   "outputs": [],
   "source": []
  },
  {
   "cell_type": "markdown",
   "metadata": {},
   "source": [
    "<img src=\"http://imgur.com/GCAf1UX.png\" style=\"float: left; margin: 25px 15px 0px 0px; height: 25px\">\n",
    "\n",
    "## 4. Find something interesting on your own\n",
    "\n",
    "---\n",
    "\n",
    "You want to impress your superiors at Yelp by doing some investigation into the data on your own. You want to do classification, but you're not sure on what.\n",
    "\n",
    "1. Create a hypothesis or hypotheses about the data based on whatever you are interested in, as long as it is predicting a category of some kind (classification).\n",
    "2. Explore the data visually (ideally related to this hypothesis).\n",
    "3. Build one or more classification models to predict your target variable. **Your modeling should include gridsearching to find optimal model parameters.**\n",
    "4. Evaluate the performance of your model. Explain why your model may have chosen those specific parameters during the gridsearch process.\n",
    "5. Write up what the model tells you. Does it validate or invalidate your hypothesis? Write this up as if for a non-technical audience."
   ]
  },
  {
   "cell_type": "code",
   "execution_count": null,
   "metadata": {
    "collapsed": true
   },
   "outputs": [],
   "source": []
  },
  {
   "cell_type": "markdown",
   "metadata": {},
   "source": [
    "<img src=\"http://imgur.com/GCAf1UX.png\" style=\"float: left; margin: 25px 15px 0px 0px; height: 25px\">\n",
    "\n",
    "## 5. ROC and Precision-recall\n",
    "\n",
    "---\n",
    "\n",
    "Some categories have fewer overall businesses than others. Choose two categories of businesses to predict, one that makes your proportion of target classes as even as possible, and another that has very few businesses and thus makes the target varible imbalanced.\n",
    "\n",
    "1. Create two classification models predicting these categories. Optimize the models and choose variables as you see fit.\n",
    "- Make confusion matrices for your models. Describe the confusion matrices and explain what they tell you about your models' performance.\n",
    "- Make ROC curves for both models. What do the ROC curves describe and what do they tell you about your model?\n",
    "- Make Precision-Recall curves for the models. What do they describe? How do they compare to the ROC curves?\n",
    "- Explain when Precision-Recall may be preferable to ROC. Is that the case in either of your models?"
   ]
  },
  {
   "cell_type": "code",
   "execution_count": null,
   "metadata": {
    "collapsed": true
   },
   "outputs": [],
   "source": []
  }
 ],
 "metadata": {
  "kernelspec": {
   "display_name": "Python 2",
   "language": "python",
   "name": "python2"
  },
  "language_info": {
   "codemirror_mode": {
    "name": "ipython",
    "version": 2
   },
   "file_extension": ".py",
   "mimetype": "text/x-python",
   "name": "python",
   "nbconvert_exporter": "python",
   "pygments_lexer": "ipython2",
   "version": "2.7.11"
  }
 },
 "nbformat": 4,
 "nbformat_minor": 0
}
