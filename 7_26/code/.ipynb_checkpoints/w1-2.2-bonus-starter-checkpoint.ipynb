{
 "cells": [
  {
   "cell_type": "markdown",
   "metadata": {},
   "source": [
    "# Bonus Code Challenges #3\n",
    "\n",
    "To supplement what is going on in class related to control structures and functions, we've come up with this fun challenge to explore futher practice.  Although we're not specifically covering recursive functions, they can be useful to avoid application complexity when implenting repeating processes that test repeating conditions.  You don't have to use tehm in this exercize, but we strongly suggest you try solve the challenges using recursive methods.  \n",
    "\n",
    "[Recurve Function Review](http://www.python-course.eu/recursive_functions.php)\n",
    "\n",
    "Requirements For these challenges, you will need to have a basic working knowledge of Python and be comfortable with fundamental usage. To get the most out of these exercises you should avoid using libraries (but feel free to use buil-in types ie: zip()) as much as possible and try to construct solutions by hand as much as possible. Also, if solutions are available, try not to peek to get the most out of this. Feel free to search and use resources on the web but try to figure as much of these out with careful thought."
   ]
  },
  {
   "cell_type": "markdown",
   "metadata": {},
   "source": [
    "## Challenge 1 - Guess The Number\n",
    "\n",
    "In this challenge we will be creating one of the oldest, yet arguably exciting, games in the universe: \"Guess The Number\".  In order to provide the game mechanic, we will need to use control structures to facilitate the course of the game which is:\n",
    "\n",
    " 1. Generate random number\n",
    " 2. Ask for user input\n",
    " 3. Compare user input with generated number\n",
    " 4. Check winning conditions\n",
    " 5. Output response \"too high\", \"too low\", or \"You're the winner\"\n",
    " 6. Repeat until user wins\n",
    " \n",
    " \n",
    "**Input**\n",
    "\n",
    "     User prompt for numeric input.\n",
    "     \n",
    "**Output**\n",
    "\n",
    "     \"too high\" if user_input > random_number\n",
    "     \"too low\" if user_input < random_number\n",
    "     \"You're the winner\" if user_input == random_number\n",
    "\n",
    "*** The kernel may hang during testing of this type of app so use \"Kerenel -> Inturrupt\" as needed\n"
   ]
  },
  {
   "cell_type": "code",
   "execution_count": 2,
   "metadata": {
    "collapsed": false
   },
   "outputs": [
    {
     "name": "stdout",
     "output_type": "stream",
     "text": [
      "Are you excited?  It's time to play guess that number!\n",
      "Pick a number between 1-10:  4\n",
      "You guessed:   4\n",
      "Actual number:   6\n",
      "You're too low\n",
      "Pick a number between 1-10:  5\n",
      "You guessed:   5\n",
      "Actual number:   6\n",
      "You're too low\n"
     ]
    },
    {
     "ename": "KeyboardInterrupt",
     "evalue": "",
     "output_type": "error",
     "traceback": [
      "\u001b[0;31m---------------------------------------------------------------------------\u001b[0m",
      "\u001b[0;31mKeyboardInterrupt\u001b[0m                         Traceback (most recent call last)",
      "\u001b[0;32m<ipython-input-2-ccbae8247010>\u001b[0m in \u001b[0;36m<module>\u001b[0;34m()\u001b[0m\n\u001b[1;32m     28\u001b[0m \u001b[0;34m\u001b[0m\u001b[0m\n\u001b[1;32m     29\u001b[0m \u001b[0;31m# We pass \"random_number\" so it can be referenced throughout\u001b[0m\u001b[0;34m\u001b[0m\u001b[0;34m\u001b[0m\u001b[0m\n\u001b[0;32m---> 30\u001b[0;31m \u001b[0mplay_guess_that_number\u001b[0m\u001b[0;34m(\u001b[0m\u001b[0mrandom_number\u001b[0m\u001b[0;34m)\u001b[0m\u001b[0;34m\u001b[0m\u001b[0m\n\u001b[0m",
      "\u001b[0;32m<ipython-input-2-ccbae8247010>\u001b[0m in \u001b[0;36mplay_guess_that_number\u001b[0;34m(random_number)\u001b[0m\n\u001b[1;32m     24\u001b[0m     \u001b[0;32melse\u001b[0m\u001b[0;34m:\u001b[0m\u001b[0;34m\u001b[0m\u001b[0m\n\u001b[1;32m     25\u001b[0m         \u001b[0;32mprint\u001b[0m \u001b[0;34m\"You're too low\"\u001b[0m\u001b[0;34m\u001b[0m\u001b[0m\n\u001b[0;32m---> 26\u001b[0;31m         \u001b[0mplay_guess_that_number\u001b[0m\u001b[0;34m(\u001b[0m\u001b[0mrandom_number\u001b[0m\u001b[0;34m)\u001b[0m\u001b[0;34m\u001b[0m\u001b[0m\n\u001b[0m\u001b[1;32m     27\u001b[0m \u001b[0;34m\u001b[0m\u001b[0m\n\u001b[1;32m     28\u001b[0m \u001b[0;34m\u001b[0m\u001b[0m\n",
      "\u001b[0;32m<ipython-input-2-ccbae8247010>\u001b[0m in \u001b[0;36mplay_guess_that_number\u001b[0;34m(random_number)\u001b[0m\n\u001b[1;32m     24\u001b[0m     \u001b[0;32melse\u001b[0m\u001b[0;34m:\u001b[0m\u001b[0;34m\u001b[0m\u001b[0m\n\u001b[1;32m     25\u001b[0m         \u001b[0;32mprint\u001b[0m \u001b[0;34m\"You're too low\"\u001b[0m\u001b[0;34m\u001b[0m\u001b[0m\n\u001b[0;32m---> 26\u001b[0;31m         \u001b[0mplay_guess_that_number\u001b[0m\u001b[0;34m(\u001b[0m\u001b[0mrandom_number\u001b[0m\u001b[0;34m)\u001b[0m\u001b[0;34m\u001b[0m\u001b[0m\n\u001b[0m\u001b[1;32m     27\u001b[0m \u001b[0;34m\u001b[0m\u001b[0m\n\u001b[1;32m     28\u001b[0m \u001b[0;34m\u001b[0m\u001b[0m\n",
      "\u001b[0;32m<ipython-input-2-ccbae8247010>\u001b[0m in \u001b[0;36mplay_guess_that_number\u001b[0;34m(random_number)\u001b[0m\n\u001b[1;32m     12\u001b[0m \u001b[0;32mdef\u001b[0m \u001b[0mplay_guess_that_number\u001b[0m\u001b[0;34m(\u001b[0m\u001b[0mrandom_number\u001b[0m\u001b[0;34m)\u001b[0m\u001b[0;34m:\u001b[0m\u001b[0;34m\u001b[0m\u001b[0m\n\u001b[1;32m     13\u001b[0m \u001b[0;34m\u001b[0m\u001b[0m\n\u001b[0;32m---> 14\u001b[0;31m     \u001b[0muser_number\u001b[0m \u001b[0;34m=\u001b[0m \u001b[0mint\u001b[0m\u001b[0;34m(\u001b[0m\u001b[0mraw_input\u001b[0m\u001b[0;34m(\u001b[0m\u001b[0;34m\"Pick a number between 1-10:  \"\u001b[0m\u001b[0;34m)\u001b[0m\u001b[0;34m)\u001b[0m\u001b[0;34m\u001b[0m\u001b[0m\n\u001b[0m\u001b[1;32m     15\u001b[0m     \u001b[0;32mprint\u001b[0m \u001b[0;34m\"You guessed:  \"\u001b[0m\u001b[0;34m,\u001b[0m \u001b[0muser_number\u001b[0m\u001b[0;34m\u001b[0m\u001b[0m\n\u001b[1;32m     16\u001b[0m     \u001b[0;32mprint\u001b[0m \u001b[0;34m\"Actual number:  \"\u001b[0m\u001b[0;34m,\u001b[0m \u001b[0mrandom_number\u001b[0m\u001b[0;34m\u001b[0m\u001b[0m\n",
      "\u001b[0;32m/Users/VanessaG/anaconda/lib/python2.7/site-packages/ipykernel/kernelbase.pyc\u001b[0m in \u001b[0;36mraw_input\u001b[0;34m(self, prompt)\u001b[0m\n\u001b[1;32m    687\u001b[0m             \u001b[0mself\u001b[0m\u001b[0;34m.\u001b[0m\u001b[0m_parent_ident\u001b[0m\u001b[0;34m,\u001b[0m\u001b[0;34m\u001b[0m\u001b[0m\n\u001b[1;32m    688\u001b[0m             \u001b[0mself\u001b[0m\u001b[0;34m.\u001b[0m\u001b[0m_parent_header\u001b[0m\u001b[0;34m,\u001b[0m\u001b[0;34m\u001b[0m\u001b[0m\n\u001b[0;32m--> 689\u001b[0;31m             \u001b[0mpassword\u001b[0m\u001b[0;34m=\u001b[0m\u001b[0mFalse\u001b[0m\u001b[0;34m,\u001b[0m\u001b[0;34m\u001b[0m\u001b[0m\n\u001b[0m\u001b[1;32m    690\u001b[0m         )\n\u001b[1;32m    691\u001b[0m \u001b[0;34m\u001b[0m\u001b[0m\n",
      "\u001b[0;32m/Users/VanessaG/anaconda/lib/python2.7/site-packages/ipykernel/kernelbase.pyc\u001b[0m in \u001b[0;36m_input_request\u001b[0;34m(self, prompt, ident, parent, password)\u001b[0m\n\u001b[1;32m    717\u001b[0m             \u001b[0;32mexcept\u001b[0m \u001b[0mKeyboardInterrupt\u001b[0m\u001b[0;34m:\u001b[0m\u001b[0;34m\u001b[0m\u001b[0m\n\u001b[1;32m    718\u001b[0m                 \u001b[0;31m# re-raise KeyboardInterrupt, to truncate traceback\u001b[0m\u001b[0;34m\u001b[0m\u001b[0;34m\u001b[0m\u001b[0m\n\u001b[0;32m--> 719\u001b[0;31m                 \u001b[0;32mraise\u001b[0m \u001b[0mKeyboardInterrupt\u001b[0m\u001b[0;34m\u001b[0m\u001b[0m\n\u001b[0m\u001b[1;32m    720\u001b[0m             \u001b[0;32melse\u001b[0m\u001b[0;34m:\u001b[0m\u001b[0;34m\u001b[0m\u001b[0m\n\u001b[1;32m    721\u001b[0m                 \u001b[0;32mbreak\u001b[0m\u001b[0;34m\u001b[0m\u001b[0m\n",
      "\u001b[0;31mKeyboardInterrupt\u001b[0m: "
     ]
    }
   ],
   "source": [
    "# You may enjoy writing your own random number function, but for the sake of time, let's use Python's built-in random module.\n",
    "from random import randint\n",
    "\n",
    "# Here is your random number\n",
    "random_number = randint(1, 10)\n",
    "\n",
    "# Tell the user what they are about to experience\n",
    "print \"Are you excited?  It's time to play guess that number!\"\n",
    "\n",
    "# In a notebook, this will prompt the user to enter a number, and pause execution of the app.\n",
    "# We use int() because anything that comes into\n",
    "def play_guess_that_number(random_number):\n",
    "    \n",
    "    user_number = int(raw_input(\"Pick a number between 1-10:  \"))\n",
    "    print \"You guessed:  \", user_number\n",
    "    print \"Actual number:  \", random_number\n",
    "    \n",
    "    ## Your code here!\n",
    "    if user_number == random_number:\n",
    "        print \"You're the winner\"\n",
    "    elif user_number > random_number:\n",
    "        print \"You're too high\"\n",
    "        play_guess_that_number(random_number)\n",
    "    else:\n",
    "        print \"You're too low\"\n",
    "        play_guess_that_number(random_number)\n",
    "            \n",
    "\n",
    "# We pass \"random_number\" so it can be referenced throughout\n",
    "play_guess_that_number(random_number)\n"
   ]
  },
  {
   "cell_type": "markdown",
   "metadata": {},
   "source": [
    "## Challenge 2 - Guess The Number  _(Enhanced Edition)_\n",
    "\n",
    "Guessing a number is good fun, but why don't we indroduce an element of danger shall we?  Let's give the user only 5 chances to guess!  Also, print the number of chances the user has used after each guess.  Take the previous function you created and modify it for these new features!\n",
    "\n",
    "**Input**\n",
    "\n",
    "     User prompt for numeric input.\n",
    "     \n",
    "**Output**\n",
    "\n",
    "     \"too high\" if user_input > random_number\n",
    "     \"too low\" if user_input < random_number\n",
    "     \"You're the winner\" if user_input == random_number\n",
    "     \"Game Over: Too many guesses!\"\n",
    "\n"
   ]
  },
  {
   "cell_type": "code",
   "execution_count": null,
   "metadata": {
    "collapsed": false
   },
   "outputs": [
    {
     "name": "stdout",
     "output_type": "stream",
     "text": [
      "Are you excited?  It's time to play guess that number *ENHANCED EDITION*!\n",
      "Pick a number between 1-10:  4\n",
      "You guessed:   4\n",
      "You're too low\n",
      "Attempts:  1\n",
      "Remaining attempts:  4\n",
      "Pick a number between 1-10:  3\n",
      "You guessed:   3\n",
      "You're too low\n",
      "Attempts:  2\n",
      "Remaining attempts:  4\n"
     ]
    }
   ],
   "source": [
    "# Here is your random number\n",
    "random_number = randint(1, 10)\n",
    "\n",
    "# Number of changes to allow\n",
    "chances_remaining = 4\n",
    "\n",
    "# Number of attempts\n",
    "chances_taken = 0\n",
    "\n",
    "# Tell the user what they are about to experience\n",
    "print \"Are you excited?  It's time to play guess that number *ENHANCED EDITION*!\"\n",
    "\n",
    "# In a notebook, this will prompt the user to enter a number, and pause execution of the app.\n",
    "# We use int() because anything that comes into\n",
    "\n",
    "\n",
    "\n",
    "def play_guess_that_number(random_number, chances_remaining, chances_taken):\n",
    "    \n",
    "    # Increment guess attempt each time\n",
    "    chances_taken += 1\n",
    "    \n",
    "    ## Your code here\n",
    "    user_number = int(raw_input(\"Pick a number between 1-10:  \"))\n",
    "    print \"You guessed:  \", user_number\n",
    "    \n",
    "    ## Your code here!\n",
    "    if user_number == random_number:\n",
    "        print \"You're the winner\"\n",
    "    elif user_number > random_number:\n",
    "        print \"You're too high\"\n",
    "        print \"Attempts: \", chances_taken\n",
    "        print \"Remaining attempts: \", chances_remaining\n",
    "        play_guess_that_number(random_number, chances_remaining, chances_taken)\n",
    "        \n",
    "    else:\n",
    "        print \"You're too low\"\n",
    "        print \"Attempts: \", chances_taken\n",
    "        print \"Remaining attempts: \", chances_remaining\n",
    "        play_guess_that_number(random_number, chances_remaining, chances_taken)\n",
    "        \n",
    "\n",
    "# We pass \"random_number\" so it can be referenced throughout\n",
    "play_guess_that_number(random_number, chances_remaining, chances_taken)\n",
    "\n",
    "    "
   ]
  },
  {
   "cell_type": "code",
   "execution_count": null,
   "metadata": {
    "collapsed": true
   },
   "outputs": [],
   "source": []
  }
 ],
 "metadata": {
  "kernelspec": {
   "display_name": "Python 2",
   "language": "python",
   "name": "python2"
  },
  "language_info": {
   "codemirror_mode": {
    "name": "ipython",
    "version": 2
   },
   "file_extension": ".py",
   "mimetype": "text/x-python",
   "name": "python",
   "nbconvert_exporter": "python",
   "pygments_lexer": "ipython2",
   "version": "2.7.11"
  }
 },
 "nbformat": 4,
 "nbformat_minor": 0
}
