{
 "cells": [
  {
   "cell_type": "markdown",
   "metadata": {},
   "source": [
    "### Practice List Comprehensions\n",
    "\n",
    "This guided demo follows the lecture on list comprehensions!\n",
    "\n",
    "#### Section 1: Basic list comprehensions"
   ]
  },
  {
   "cell_type": "code",
   "execution_count": 2,
   "metadata": {
    "collapsed": false
   },
   "outputs": [
    {
     "name": "stdout",
     "output_type": "stream",
     "text": [
      "[2, 3, 4]\n"
     ]
    }
   ],
   "source": [
    "a = [1,2,3]\n",
    "b = []\n",
    "for item in a:\n",
    "    x = item +1\n",
    "    b.append(item+1)\n",
    "print b"
   ]
  },
  {
   "cell_type": "code",
   "execution_count": 5,
   "metadata": {
    "collapsed": false
   },
   "outputs": [
    {
     "name": "stdout",
     "output_type": "stream",
     "text": [
      "[2, 3, 4]\n"
     ]
    }
   ],
   "source": [
    "b = [item+1 for item in a]\n",
    "print b"
   ]
  },
  {
   "cell_type": "code",
   "execution_count": 6,
   "metadata": {
    "collapsed": true
   },
   "outputs": [],
   "source": [
    "import numpy as np\n",
    "import pandas as pd\n",
    "import string"
   ]
  },
  {
   "cell_type": "markdown",
   "metadata": {},
   "source": [
    "##### 1-A) Add 1 to every element in the list"
   ]
  },
  {
   "cell_type": "code",
   "execution_count": 7,
   "metadata": {
    "collapsed": false
   },
   "outputs": [
    {
     "name": "stdout",
     "output_type": "stream",
     "text": [
      "[1, 2, 3, 4, 5, 6, 7, 8, 9, 10]\n"
     ]
    }
   ],
   "source": [
    "numbers = [0,1,2,3,4,5,6,7,8,9]\n",
    "\n",
    "# for loop version\n",
    "new_nums = []\n",
    "for n in numbers:\n",
    "    new_nums.append(n+1)\n",
    "\n",
    "print new_nums\n"
   ]
  },
  {
   "cell_type": "code",
   "execution_count": 8,
   "metadata": {
    "collapsed": false
   },
   "outputs": [
    {
     "name": "stdout",
     "output_type": "stream",
     "text": [
      "[1, 2, 3, 4, 5, 6, 7, 8, 9, 10]\n"
     ]
    }
   ],
   "source": [
    "# list comprehension version\n",
    "lc_nums = [n+1 for n in numbers]\n",
    "\n",
    "print lc_nums"
   ]
  },
  {
   "cell_type": "code",
   "execution_count": 9,
   "metadata": {
    "collapsed": false
   },
   "outputs": [
    {
     "name": "stdout",
     "output_type": "stream",
     "text": [
      "[7, 8, 9, 10]\n"
     ]
    }
   ],
   "source": [
    "numbers = [0,1,2,3,4,5,6,7,8,9]\n",
    "\n",
    "# for loop version\n",
    "new_nums = []\n",
    "for n in numbers:\n",
    "    if n > 5:\n",
    "        new_nums.append(n+1)\n",
    "\n",
    "print new_nums\n"
   ]
  },
  {
   "cell_type": "code",
   "execution_count": 11,
   "metadata": {
    "collapsed": false
   },
   "outputs": [
    {
     "name": "stdout",
     "output_type": "stream",
     "text": [
      "[7, 8, 9, 10]\n"
     ]
    }
   ],
   "source": [
    "# list comprehension version\n",
    "lc_nums = [n+1 for n in numbers if n > 5]\n",
    "\n",
    "print lc_nums"
   ]
  },
  {
   "cell_type": "markdown",
   "metadata": {},
   "source": [
    "#### Section 2: List comprehension conditional logic\n",
    "\n",
    "##### 2-A) \"Binarize\" n so that any value greater than or equal to the mean of n is 1, otherwise 0"
   ]
  },
  {
   "cell_type": "code",
   "execution_count": 13,
   "metadata": {
    "collapsed": false
   },
   "outputs": [
    {
     "data": {
      "text/plain": [
       "2.5"
      ]
     },
     "execution_count": 13,
     "metadata": {},
     "output_type": "execute_result"
    }
   ],
   "source": [
    "np.mean([1,2,3,4])"
   ]
  },
  {
   "cell_type": "code",
   "execution_count": 12,
   "metadata": {
    "collapsed": true
   },
   "outputs": [],
   "source": [
    "n = [1, 2, 7, 21, 3, 1, 62, 3, 34, 12, 73, 44, 12, 11, 9]"
   ]
  },
  {
   "cell_type": "code",
   "execution_count": 14,
   "metadata": {
    "collapsed": false
   },
   "outputs": [
    {
     "name": "stdout",
     "output_type": "stream",
     "text": [
      "[0, 0, 0, 1, 0, 0, 1, 0, 1, 0, 1, 1, 0, 0, 0]\n"
     ]
    }
   ],
   "source": [
    "# for loop\n",
    "new_n = []\n",
    "for num in n:\n",
    "    if num >= np.mean(n):\n",
    "        new_n.append(1)\n",
    "    else:\n",
    "        new_n.append(0)\n",
    "print new_n"
   ]
  },
  {
   "cell_type": "code",
   "execution_count": 20,
   "metadata": {
    "collapsed": false
   },
   "outputs": [
    {
     "name": "stdout",
     "output_type": "stream",
     "text": [
      "[0, 0, 0, 1, 0, 0, 1, 0, 1, 0, 1, 1, 0, 0, 0]\n"
     ]
    }
   ],
   "source": [
    "# list comphrension \n",
    "\n",
    "new_n_lc = [1 if num >= np.mean(n) else 0 for num in n]\n",
    "\n",
    "print new_n_lc"
   ]
  },
  {
   "cell_type": "markdown",
   "metadata": {},
   "source": [
    "##### 2-B) Swap 1s to 0s and 0s to 1s. If the element is neither a 0 nor 1, make it None"
   ]
  },
  {
   "cell_type": "code",
   "execution_count": 26,
   "metadata": {
    "collapsed": true
   },
   "outputs": [],
   "source": [
    "n = [0, 1, 0, 1, 2, 3, 5, 2, 1, 0]\n"
   ]
  },
  {
   "cell_type": "code",
   "execution_count": 27,
   "metadata": {
    "collapsed": false
   },
   "outputs": [
    {
     "data": {
      "text/plain": [
       "[1, 0, 1, 0, None, None, None, None, 0, 1]"
      ]
     },
     "execution_count": 27,
     "metadata": {},
     "output_type": "execute_result"
    }
   ],
   "source": [
    "# for loop\n",
    "\n",
    "new_n =[]\n",
    "for num in n:\n",
    "    if num == 1:\n",
    "        new_n.append(0)\n",
    "    elif num == 0:\n",
    "        new_n.append(1)\n",
    "    else:\n",
    "        new_n.append(None)\n",
    "new_n\n"
   ]
  },
  {
   "cell_type": "code",
   "execution_count": 30,
   "metadata": {
    "collapsed": false
   },
   "outputs": [
    {
     "data": {
      "text/plain": [
       "[1, 0, 1, 0, None, None, None, None, 0, 1]"
      ]
     },
     "execution_count": 30,
     "metadata": {},
     "output_type": "execute_result"
    }
   ],
   "source": [
    "# list comphrension \n",
    "\n",
    "new_n_lc = [1 if num == 0 else 0 if num == 1 else None for num in n]\n",
    "\n",
    "new_n_lc"
   ]
  },
  {
   "cell_type": "code",
   "execution_count": null,
   "metadata": {
    "collapsed": true
   },
   "outputs": [],
   "source": [
    "# list comphrension \n",
    "\n",
    "new_n_lc = [\n",
    "    1 if num == 0 \n",
    "    else 0 if num == 1 \n",
    "    else None \n",
    "    for num in n]\n",
    "\n",
    "new_n_lc"
   ]
  },
  {
   "cell_type": "markdown",
   "metadata": {},
   "source": [
    "#### Section 3: Nested list comprehensions\n",
    "\n",
    "##### 3-A) Get the square and square root of all non-negative numbers in the list"
   ]
  },
  {
   "cell_type": "code",
   "execution_count": 31,
   "metadata": {
    "collapsed": false
   },
   "outputs": [
    {
     "name": "stdout",
     "output_type": "stream",
     "text": [
      "5.0\n",
      "25\n"
     ]
    }
   ],
   "source": [
    "print np.sqrt(25)\n",
    "print 5**2"
   ]
  },
  {
   "cell_type": "code",
   "execution_count": 32,
   "metadata": {
    "collapsed": true
   },
   "outputs": [],
   "source": [
    "n = [0, 1, 50, -23, -1, 75, -3]"
   ]
  },
  {
   "cell_type": "code",
   "execution_count": 33,
   "metadata": {
    "collapsed": false
   },
   "outputs": [
    {
     "name": "stdout",
     "output_type": "stream",
     "text": [
      "[[1.0, 1], [7.0710678118654755, 2500], [8.6602540378443873, 5625]]\n"
     ]
    }
   ],
   "source": [
    "# for loop\n",
    "new_n = []\n",
    "for num in n:\n",
    "    if num > 0:\n",
    "        new_n.append([np.sqrt(num),num**2])\n",
    "       \n",
    "print new_n                    "
   ]
  },
  {
   "cell_type": "code",
   "execution_count": 37,
   "metadata": {
    "collapsed": false
   },
   "outputs": [
    {
     "data": {
      "text/plain": [
       "[[1.0, 1], [7.0710678118654755, 2500], [8.6602540378443873, 5625]]"
      ]
     },
     "execution_count": 37,
     "metadata": {},
     "output_type": "execute_result"
    }
   ],
   "source": [
    "# list comphrension \n",
    "\n",
    "new_n_lc = [[np.sqrt(x), x**2] for x in n if x >0]\n",
    "\n",
    "new_n_lc"
   ]
  },
  {
   "cell_type": "markdown",
   "metadata": {},
   "source": [
    "#### Section 4: Functions in list comprehensions\n",
    "\n",
    "##### 4-A) Combine elements of these two lists item by item into list pairs"
   ]
  },
  {
   "cell_type": "code",
   "execution_count": 44,
   "metadata": {
    "collapsed": false
   },
   "outputs": [
    {
     "name": "stdout",
     "output_type": "stream",
     "text": [
      "[[0, 'a'], [1, 'b'], [2, 'c']]\n",
      "[[1, 'a'], [2, 'b'], [3, 'c']]\n",
      "[[0, 1, 'a'], [1, 2, 'b'], [2, 3, 'c']]\n"
     ]
    }
   ],
   "source": [
    "#enumerate:\n",
    "print [[i, x] for i, x in enumerate(['a', 'b', 'c']) ]\n",
    "\n",
    "#zip:\n",
    "\n",
    "a = [1,2,3]\n",
    "b = ['a','b','c']\n",
    "print [[a_item, b_item] for a_item, b_item in zip(a,b)]\n",
    "\n",
    "print [[index, a_item, b_item] for index, (a_item, b_item) in enumerate(zip(a,b))]"
   ]
  },
  {
   "cell_type": "code",
   "execution_count": 46,
   "metadata": {
    "collapsed": true
   },
   "outputs": [],
   "source": [
    "a = ['a','b','c','d']\n",
    "z = ['z','y','x','w']\n"
   ]
  },
  {
   "cell_type": "code",
   "execution_count": 48,
   "metadata": {
    "collapsed": false
   },
   "outputs": [
    {
     "data": {
      "text/plain": [
       "4"
      ]
     },
     "execution_count": 48,
     "metadata": {},
     "output_type": "execute_result"
    }
   ],
   "source": [
    "len(a)"
   ]
  },
  {
   "cell_type": "code",
   "execution_count": 52,
   "metadata": {
    "collapsed": false
   },
   "outputs": [
    {
     "data": {
      "text/plain": [
       "[3]"
      ]
     },
     "execution_count": 52,
     "metadata": {},
     "output_type": "execute_result"
    }
   ],
   "source": [
    "# range(integer) --> goes from 0 to integer (exclusive)\n",
    "# range(int1, int2) --> makes a list [int2 ... int2-1]\n",
    "# range(int1, int2, step) --> list from [int1 ... int2-1] with step size step\n",
    "\n",
    "range(3, len(a))"
   ]
  },
  {
   "cell_type": "code",
   "execution_count": 47,
   "metadata": {
    "collapsed": false
   },
   "outputs": [
    {
     "name": "stdout",
     "output_type": "stream",
     "text": [
      "[['a', 'z'], ['b', 'y'], ['c', 'x'], ['d', 'w']]\n"
     ]
    }
   ],
   "source": [
    "#for loop\n",
    "\n",
    "list_pairs = []\n",
    "\n",
    "for index, item in enumerate(a):\n",
    "    list_pairs.append([a[index], z[index]])\n",
    "\n",
    "print list_pairs"
   ]
  },
  {
   "cell_type": "code",
   "execution_count": 54,
   "metadata": {
    "collapsed": false
   },
   "outputs": [
    {
     "name": "stdout",
     "output_type": "stream",
     "text": [
      "0 a z\n",
      "1 b y\n",
      "2 c x\n",
      "3 d w\n",
      "[['a', 'z'], ['b', 'y'], ['c', 'x'], ['d', 'w']]\n"
     ]
    }
   ],
   "source": [
    "#for loop using range\n",
    "\n",
    "list_pairs = []\n",
    "\n",
    "for index in range(len(a)):\n",
    "    print index, a[index], z[index]\n",
    "    list_pairs.append([a[index], z[index]])\n",
    "\n",
    "print list_pairs"
   ]
  },
  {
   "cell_type": "code",
   "execution_count": 59,
   "metadata": {
    "collapsed": false
   },
   "outputs": [
    {
     "ename": "TypeError",
     "evalue": "list indices must be integers, not str",
     "output_type": "error",
     "traceback": [
      "\u001b[0;31m---------------------------------------------------------------------------\u001b[0m",
      "\u001b[0;31mTypeError\u001b[0m                                 Traceback (most recent call last)",
      "\u001b[0;32m<ipython-input-59-dae92dd2ce0c>\u001b[0m in \u001b[0;36m<module>\u001b[0;34m()\u001b[0m\n\u001b[1;32m      1\u001b[0m \u001b[0;31m#list comphrension\u001b[0m\u001b[0;34m\u001b[0m\u001b[0;34m\u001b[0m\u001b[0m\n\u001b[1;32m      2\u001b[0m \u001b[0;34m\u001b[0m\u001b[0m\n\u001b[0;32m----> 3\u001b[0;31m \u001b[0mlist_pairs_lc\u001b[0m \u001b[0;34m=\u001b[0m \u001b[0;34m[\u001b[0m\u001b[0;34m[\u001b[0m\u001b[0ma\u001b[0m\u001b[0;34m[\u001b[0m\u001b[0mindex\u001b[0m\u001b[0;34m]\u001b[0m\u001b[0;34m,\u001b[0m \u001b[0mz\u001b[0m\u001b[0;34m[\u001b[0m\u001b[0mindex\u001b[0m\u001b[0;34m]\u001b[0m\u001b[0;34m]\u001b[0m \u001b[0;32mfor\u001b[0m \u001b[0mindex\u001b[0m\u001b[0;34m,\u001b[0m \u001b[0mitems\u001b[0m \u001b[0;32min\u001b[0m \u001b[0mzip\u001b[0m\u001b[0;34m(\u001b[0m\u001b[0ma\u001b[0m\u001b[0;34m,\u001b[0m\u001b[0mz\u001b[0m\u001b[0;34m)\u001b[0m\u001b[0;34m]\u001b[0m\u001b[0;34m\u001b[0m\u001b[0m\n\u001b[0m\u001b[1;32m      4\u001b[0m \u001b[0;34m\u001b[0m\u001b[0m\n\u001b[1;32m      5\u001b[0m \u001b[0;34m\u001b[0m\u001b[0m\n",
      "\u001b[0;31mTypeError\u001b[0m: list indices must be integers, not str"
     ]
    }
   ],
   "source": [
    "#list comphrension\n",
    "\n",
    "list_pairs_lc = [[a_item, z_item] for a_item, items in zip(a,z)]\n",
    "    \n",
    "\n",
    "print list_pairs_lc"
   ]
  },
  {
   "cell_type": "markdown",
   "metadata": {},
   "source": [
    "##### 4-B) Pair each index and element of this list into list pairs"
   ]
  },
  {
   "cell_type": "code",
   "execution_count": 7,
   "metadata": {
    "collapsed": true
   },
   "outputs": [],
   "source": [
    "a = ['a','b','c','d']\n"
   ]
  },
  {
   "cell_type": "markdown",
   "metadata": {},
   "source": [
    "##### 4-C) For each element of each list, calculate the first list element times the index divided by the element of the second list"
   ]
  },
  {
   "cell_type": "code",
   "execution_count": 8,
   "metadata": {
    "collapsed": true
   },
   "outputs": [],
   "source": [
    "list_one = [10, 15, 20, 25, 40]\n",
    "list_two = [1, 2, 3, 4, 5]\n"
   ]
  },
  {
   "cell_type": "markdown",
   "metadata": {},
   "source": [
    "#### Section 5: Nested list comprehensions\n",
    "\n",
    "##### 5-A) Create all the alphabet \"syllables\" defined as consonant-vowel pairs in a flattened list [USING FOR LOOP ITERATION]"
   ]
  },
  {
   "cell_type": "code",
   "execution_count": 9,
   "metadata": {
    "collapsed": true
   },
   "outputs": [],
   "source": [
    "vowels = ['a', 'e', 'i', 'o', 'u']\n",
    "alphabet = string.ascii_lowercase\n"
   ]
  },
  {
   "cell_type": "markdown",
   "metadata": {},
   "source": [
    "##### 5-B) Create all the alphabet \"syllables\" defined as consonant-vowel pairs in a flattened list [USING A LIST COMPREHENSION]"
   ]
  },
  {
   "cell_type": "code",
   "execution_count": 10,
   "metadata": {
    "collapsed": true
   },
   "outputs": [],
   "source": [
    "vowels = ['a', 'e', 'i', 'o', 'u']\n",
    "alphabet = string.ascii_lowercase\n",
    "\n",
    "\n"
   ]
  },
  {
   "cell_type": "markdown",
   "metadata": {},
   "source": [
    "#### Section 6: Dictionary comprehensions\n",
    "\n",
    "##### 6-A) Make a dictionary where keys are animals and values are lists with the number value of each character in the key\n",
    "\n",
    "Hint: use the **ord()** function to convert characters to numbers."
   ]
  },
  {
   "cell_type": "code",
   "execution_count": 11,
   "metadata": {
    "collapsed": true
   },
   "outputs": [],
   "source": [
    "keys = ['dog', 'cat', 'bird', 'horse']\n"
   ]
  },
  {
   "cell_type": "markdown",
   "metadata": {},
   "source": [
    "##### 6-B) Create a dictionary with these column names and corresponding column values"
   ]
  },
  {
   "cell_type": "code",
   "execution_count": 12,
   "metadata": {
    "collapsed": true
   },
   "outputs": [],
   "source": [
    "column_names = ['height','weight','is_male']\n",
    "values = [[62, 54, 60, 50], [180, 120, 200, 100], [True, False, True, False]]\n"
   ]
  }
 ],
 "metadata": {
  "kernelspec": {
   "display_name": "Python 2",
   "language": "python",
   "name": "python2"
  },
  "language_info": {
   "codemirror_mode": {
    "name": "ipython",
    "version": 2
   },
   "file_extension": ".py",
   "mimetype": "text/x-python",
   "name": "python",
   "nbconvert_exporter": "python",
   "pygments_lexer": "ipython2",
   "version": "2.7.11"
  }
 },
 "nbformat": 4,
 "nbformat_minor": 0
}
