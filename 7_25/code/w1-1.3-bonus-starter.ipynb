{
 "cells": [
  {
   "cell_type": "markdown",
   "metadata": {},
   "source": [
    "# Alternate Code Challenges #1\n",
    "\n",
    "While the rest of the class learns about types, you've already known about types and have at least a basic level of experience working with Python.  We think there are plenty of algorithms and data structures that are important to know about, which are outside the scope of our class but fall under year 1-2 computer science fundamentals.  However, with these alternate exercises, we feel are at least somehow supportive of what you might find in job interviews and Python code challenges.\n",
    "\n",
    "These are completely **optional**, but if you are unable to complete these in the beginning, come back to them once you're ready.\n",
    "\n",
    "## Requirements\n",
    "For these challenges, you will need to have a basic working knowledge of Python and be comfortable with fundamental usage.  To get the most out of these exercises you should avoid using libraries (but feel free to use buil-in types ie: zip()) as much as possible and try to construct solutions by hand as much as possible.  Also, if solutions are available, try not to peek to get the most out of this.  \n",
    "\n",
    "Feel free to search and use resources on the web but try to figure as much of these out with careful thought."
   ]
  },
  {
   "cell_type": "markdown",
   "metadata": {},
   "source": [
    "## Optional Challenege 1 - Counting Types\n",
    "\n",
    "Given a list of mixed input, implement a method that counts types of elements (given a list) and reports the quantity of items found in the input.  Output can also be an object representation (ie: dictionary).\n",
    "\n",
    "**Input:**\n",
    "\n",
    "\n",
    "    [5, \"Foo\", (2, 4, 5, 100), {\"fox\": \"mammal\"}, False, True, 2.987, \"Bar\"]\n",
    "\n",
    "\n",
    "\n",
    "**Output:**\n",
    "\n",
    "    int: 1\n",
    "    float: 1\n",
    "    string: 2\n",
    "    tuple: 1\n",
    "    dict: 1\n",
    "    boolean: 2\n"
   ]
  },
  {
   "cell_type": "code",
   "execution_count": 73,
   "metadata": {
    "collapsed": true
   },
   "outputs": [],
   "source": [
    "list2 = ['x', 'y', 'z']\n",
    "length = 0"
   ]
  },
  {
   "cell_type": "code",
   "execution_count": 77,
   "metadata": {
    "collapsed": false
   },
   "outputs": [
    {
     "name": "stdout",
     "output_type": "stream",
     "text": [
      "3\n"
     ]
    }
   ],
   "source": [
    "for i in list2:\n",
    "    length += 1\n",
    "print length"
   ]
  },
  {
   "cell_type": "code",
   "execution_count": 81,
   "metadata": {
    "collapsed": false
   },
   "outputs": [
    {
     "data": {
      "text/plain": [
       "{'boolean': 3, 'dict': 1, 'float': 3, 'int': 5, 'string': 4, 'tuple': 1}"
      ]
     },
     "execution_count": 81,
     "metadata": {},
     "output_type": "execute_result"
    }
   ],
   "source": [
    "# Here's a bit of starter code to get you started:\n",
    "def count_types(input):\n",
    "    # Feel free to use this method or not.\n",
    "    type_dict = {\n",
    "        'int': 0,\n",
    "        'float': 0,\n",
    "        'string': 0,\n",
    "        'tuple': 0,\n",
    "        'dict': 0,\n",
    "        'boolean': 0}\n",
    "    \n",
    "    \n",
    "    for i in input: \n",
    "        if type(i) == int:\n",
    "             type_dict['int'] += 1 \n",
    "        elif type(i) == float:\n",
    "            type_dict['float'] += 1\n",
    "        elif type(i) == str:\n",
    "            type_dict['string'] += 1\n",
    "        elif type(i) == tuple:\n",
    "            type_dict['tuple'] += 1\n",
    "        elif type(i) == dict:\n",
    "            type_dict['dict'] += 1\n",
    "        else:\n",
    "            type_dict['boolean'] += 1\n",
    "        \n",
    "            \n",
    "    return type_dict\n",
    "    #print input\n",
    "\n",
    "example_input = [\n",
    "    True, \n",
    "    5, \n",
    "    23.234, \n",
    "    3.55, \n",
    "    \"Kiefer is a nerd\", \n",
    "    {\"steve\": \"jobs\"}, \n",
    "    (5, 23, 55), \n",
    "    max([1, 0, 1, 1]), \n",
    "    abs(-234), \n",
    "    (5 + 3.01), \n",
    "    \"\",\n",
    "    None,\n",
    "    [5] * 20,\n",
    "    \"343434\",\n",
    "    \"5\" + \"aaaaaa2\",\n",
    "    55 % 3,\n",
    "    5^2\n",
    "]\n",
    "\n",
    "count_types(example_input)\n"
   ]
  },
  {
   "cell_type": "code",
   "execution_count": null,
   "metadata": {
    "collapsed": true
   },
   "outputs": [],
   "source": [
    "def count_types(mixed_list):\n",
    "   type_counts = {}\n",
    "   for i in mixed_list:\n",
    "       if type(i) in type_counts:\n",
    "           type_counts[type(i)] += 1\n",
    "       else:\n",
    "           type_counts[type(i)] = 1\n",
    "   return type_counts"
   ]
  },
  {
   "cell_type": "code",
   "execution_count": null,
   "metadata": {
    "collapsed": true
   },
   "outputs": [],
   "source": []
  },
  {
   "cell_type": "code",
   "execution_count": 31,
   "metadata": {
    "collapsed": false
   },
   "outputs": [
    {
     "data": {
      "text/plain": [
       "1"
      ]
     },
     "execution_count": 31,
     "metadata": {},
     "output_type": "execute_result"
    }
   ],
   "source": [
    "example_input.count(5)"
   ]
  },
  {
   "cell_type": "code",
   "execution_count": 25,
   "metadata": {
    "collapsed": false
   },
   "outputs": [
    {
     "data": {
      "text/plain": [
       "int"
      ]
     },
     "execution_count": 25,
     "metadata": {},
     "output_type": "execute_result"
    }
   ],
   "source": [
    "type(2)"
   ]
  },
  {
   "cell_type": "markdown",
   "metadata": {},
   "source": [
    "## Optional Challenge 2 - Printing Max Type\n",
    "\n",
    "Given an list input of mixed element types (ie: *example_input*), print the most common type and count.  \n",
    "\n",
    "_If there are more than one common types, print both out._\n",
    "\n",
    "**Input:**\n",
    "\n",
    "    [5, \"Foo\", (2, 4, 5, 100), {\"fox\": \"mammal\"}, False, True, 2.987, \"Bar\"]\n",
    "    \n",
    "**Output:**\n",
    "\n",
    "    string: 2\n",
    "    boolean: 2\n",
    "    \n",
    "    # String and boolean have the greatest count: 2"
   ]
  },
  {
   "cell_type": "code",
   "execution_count": 1,
   "metadata": {
    "collapsed": true
   },
   "outputs": [],
   "source": [
    "## Solution here"
   ]
  },
  {
   "cell_type": "markdown",
   "metadata": {},
   "source": [
    "## Optional Challenge 3 - Intersection of Counts\n",
    "\n",
    "Given a 2 lists inputs with mixed element types (ie: _example_input_), print types that have the same counts from each list. \n",
    "\n",
    "_If there are more than one common types, print both out._\n",
    "\n",
    "**Input:**\n",
    "\n",
    "    Input 1:  [5, \"Foo\", (2, 4, 5, 100), {\"monkey\": \"mammal\"}, False, True, 2.987, \"Bar\", {\"snake\": \"reptile\"}]\n",
    "    Input 2:  [\"335\", False, True, \"Maybe\", 105.3, {\"kiefer\": \"nerd\"}, {234: \"value\"}]\n",
    "    \n",
    "**Output:**\n",
    "\n",
    "    strings: 2\n",
    "    booleans: 2\n",
    "    dictionaries: 2\n",
    "    floats: 2\n",
    "    \n",
    "\n",
    "** Explanation **\n",
    "* The first input has 1 int, **1 float**, **2 strings**, 1 tuple, **2 dictionaries**, **2 booleans**.\n",
    "* The second input as **2 strings**, **2 booleans**, **1 float**, **2 dictionaries**.\n",
    "* The quantities that match are **strings, booleans, dictionaries,** and **floats**.\n",
    "    \n",
    " "
   ]
  },
  {
   "cell_type": "code",
   "execution_count": 15,
   "metadata": {
    "collapsed": false
   },
   "outputs": [
    {
     "name": "stdout",
     "output_type": "stream",
     "text": [
      "\n",
      "Input1:  [True, 5, 23.234, 3.55, 'Kiefer is a nerd', {'steve': 'jobs'}, (5, 23, 55), 1, 234, 8.01, '', None, [5, 5, 5, 5, 5, 5, 5, 5, 5, 5, 5, 5, 5, 5, 5, 5, 5, 5, 5, 5], '343434', '5aaaaaa2', 1, 7] \n",
      "\n",
      "Input 2:  ['335', False, 'Maybe', 105.3, {'kiefer': 'nerd'}, 4, 12345]\n"
     ]
    }
   ],
   "source": [
    "## Reuse example_input\n",
    "def count_matching_quanities(input1, input2):\n",
    "    # update code here\n",
    "    print \"\\nInput1: \", input1, \"\\n\\nInput 2: \", input2\n",
    "\n",
    "example_input2 = [\n",
    "    \"335\", \n",
    "    False, \n",
    "    \"Maybe\", \n",
    "    105.3, \n",
    "    {\"kiefer\": \"nerd\"}, \n",
    "    4,\n",
    "    12345\n",
    "]\n",
    "\n",
    "count_matching_quanities(example_input, example_input2)"
   ]
  },
  {
   "cell_type": "code",
   "execution_count": null,
   "metadata": {
    "collapsed": true
   },
   "outputs": [],
   "source": []
  }
 ],
 "metadata": {
  "kernelspec": {
   "display_name": "Python 2",
   "language": "python",
   "name": "python2"
  },
  "language_info": {
   "codemirror_mode": {
    "name": "ipython",
    "version": 2
   },
   "file_extension": ".py",
   "mimetype": "text/x-python",
   "name": "python",
   "nbconvert_exporter": "python",
   "pygments_lexer": "ipython2",
   "version": "2.7.11"
  }
 },
 "nbformat": 4,
 "nbformat_minor": 0
}
