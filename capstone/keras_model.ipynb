{
 "cells": [
  {
   "cell_type": "markdown",
   "metadata": {},
   "source": [
    "## Image classification model with very little data\n",
    "from this [tutorial](https://blog.keras.io/building-powerful-image-classification-models-using-very-little-data.html) "
   ]
  },
  {
   "cell_type": "code",
   "execution_count": 2,
   "metadata": {
    "collapsed": false
   },
   "outputs": [],
   "source": [
    "import glob\n",
    "import numpy as np\n",
    "import cv2\n",
    "import matplotlib\n",
    "\n",
    "%matplotlib inline"
   ]
  },
  {
   "cell_type": "code",
   "execution_count": 1,
   "metadata": {
    "collapsed": false
   },
   "outputs": [
    {
     "name": "stderr",
     "output_type": "stream",
     "text": [
      "Using TensorFlow backend.\n"
     ]
    }
   ],
   "source": [
    "from keras.preprocessing import image as image_utils #????\n",
    "# from imagenet_utils import decode_predictions\n",
    "# from imagenet_utils import preprocess_input\n",
    "\n",
    "from keras.preprocessing.image import ImageDataGenerator, array_to_img, img_to_array, load_img\n",
    "from keras.models import Sequential\n",
    "from keras.layers import Convolution2D, MaxPooling2D\n",
    "from keras.layers import Activation, Dropout, Flatten, Dense"
   ]
  },
  {
   "cell_type": "markdown",
   "metadata": {},
   "source": [
    "Objectives:\n",
    "- train small network from scratch (as baseline)\n",
    "- use bottleneck features of pre-trained network\n",
    "- fine-tune top layers of pre-trained network\n",
    "\n",
    "Keras features to cover:\n",
    "- `fit_generator` (for training model using python data generators)\n",
    "- `ImageDataGenerator` (for real-time data augmentation)\n",
    "- layer freezing and model fine-tuning\n",
    "\n",
    "Setup:\n",
    "- Keras, SciPy, PIL installed\n",
    "- NVIDIA GPU (with cuDNN installed) is nice (but not neccessary on small image set)\n",
    "- training + validation data directories with one subdirectly per image class (png or jpg)\n",
    "\n",
    "Deep learning on small-data problems:\n",
    "- deep learning requires learning features automatically from data, generally only possible when lots of training data is available esp where input samples are very high-dimensional like images\n",
    "- but convolutional neural networks one of best models for \"perceptual problems\" such as image classification even with little data to learn from\n",
    "- training convnets from scrath on small image dataset will still yield reasonable results\n",
    "- deep learning models are highly repurposable - you can take an image classification trained on large-scale data then reuse it on significantly different problem\n",
    "- many pre-trained models (usually trained on ImageNet dataset) can be use to bootstrap powerful vision models out of very little data "
   ]
  },
  {
   "cell_type": "code",
   "execution_count": 4,
   "metadata": {
    "collapsed": false
   },
   "outputs": [],
   "source": [
    "# dimensions of our images.\n",
    "img_width, img_height = 150, 150"
   ]
  },
  {
   "cell_type": "code",
   "execution_count": 5,
   "metadata": {
    "collapsed": true
   },
   "outputs": [],
   "source": [
    "#path to images\n",
    "train_data_dir = '/Users/VanessaG/Desktop/pizza_class_data/train/'\n",
    "validation_data_dir = '/Users/VanessaG/Desktop/pizza_class_data/validation'\n",
    "\n",
    "#model paramter setup\n",
    "nb_train_samples = 2000\n",
    "nb_validation_samples = 800\n",
    "nb_epoch = 50"
   ]
  },
  {
   "cell_type": "code",
   "execution_count": 9,
   "metadata": {
    "collapsed": false
   },
   "outputs": [],
   "source": [
    "#instantiate moel\n",
    "model = Sequential()"
   ]
  },
  {
   "cell_type": "markdown",
   "metadata": {},
   "source": [
    "### stack of 3 convolution layers with a ReLU activation and followed by max-pooling layers"
   ]
  },
  {
   "cell_type": "markdown",
   "metadata": {},
   "source": [
    "dim_ordering: One of {\"th\", \"tf\"}. \"tf\" mode means that the images should have shape (samples, width, height, channels), \"th\" mode means that the images should have shape (samples, channels, width, height). It defaults to the image_dim_ordering value found in your Keras config file at ~/.keras/keras.json. If you never set it, then it will be \"tf\"."
   ]
  },
  {
   "cell_type": "code",
   "execution_count": 10,
   "metadata": {
    "collapsed": false,
    "scrolled": false
   },
   "outputs": [],
   "source": [
    "# Because you're using tensorflow you have to put the \"depth\" as the 3rd dimension.\n",
    "# Apparently for theano the depth comes first like in tutorial (3, 150, 150)\n",
    "# and in tensorflow it comes last like (150, 150, 3)\n",
    "model.add(Convolution2D(32, 3, 3, input_shape=(img_width, img_height, 3)))\n",
    "model.add(Activation('relu'))\n",
    "model.add(MaxPooling2D(pool_size=(2, 2)))"
   ]
  },
  {
   "cell_type": "code",
   "execution_count": 11,
   "metadata": {
    "collapsed": true
   },
   "outputs": [],
   "source": [
    "model.add(Convolution2D(32, 3, 3))\n",
    "model.add(Activation('relu'))\n",
    "model.add(MaxPooling2D(pool_size=(2, 2)))"
   ]
  },
  {
   "cell_type": "code",
   "execution_count": 12,
   "metadata": {
    "collapsed": true
   },
   "outputs": [],
   "source": [
    "model.add(Convolution2D(64, 3, 3))\n",
    "model.add(Activation('relu'))\n",
    "model.add(MaxPooling2D(pool_size=(2, 2)))"
   ]
  },
  {
   "cell_type": "markdown",
   "metadata": {},
   "source": [
    "### plus two fully-connected layers\n",
    "We end the model with a single unit and a sigmoid activation, which is perfect for a binary classification."
   ]
  },
  {
   "cell_type": "code",
   "execution_count": 13,
   "metadata": {
    "collapsed": false,
    "scrolled": true
   },
   "outputs": [],
   "source": [
    "model.add(Flatten())\n",
    "model.add(Dense(64))\n",
    "model.add(Activation('relu'))"
   ]
  },
  {
   "cell_type": "code",
   "execution_count": 14,
   "metadata": {
    "collapsed": true
   },
   "outputs": [],
   "source": [
    "model.add(Dropout(0.5))\n",
    "model.add(Dense(1))\n",
    "model.add(Activation('sigmoid'))"
   ]
  },
  {
   "cell_type": "code",
   "execution_count": 15,
   "metadata": {
    "collapsed": true
   },
   "outputs": [],
   "source": [
    "model.compile(loss='binary_crossentropy',\n",
    "              optimizer='rmsprop',\n",
    "              metrics=['accuracy'])"
   ]
  },
  {
   "cell_type": "code",
   "execution_count": 49,
   "metadata": {
    "collapsed": false
   },
   "outputs": [
    {
     "ename": "NameError",
     "evalue": "name 'X_train' is not defined",
     "output_type": "error",
     "traceback": [
      "\u001b[0;31m---------------------------------------------------------------------------\u001b[0m",
      "\u001b[0;31mNameError\u001b[0m                                 Traceback (most recent call last)",
      "\u001b[0;32m<ipython-input-49-490314a4446e>\u001b[0m in \u001b[0;36m<module>\u001b[0;34m()\u001b[0m\n\u001b[1;32m      1\u001b[0m \u001b[0;32mfrom\u001b[0m \u001b[0mkeras\u001b[0m \u001b[0;32mimport\u001b[0m \u001b[0mbackend\u001b[0m \u001b[0;32mas\u001b[0m \u001b[0mK\u001b[0m\u001b[0;34m\u001b[0m\u001b[0m\n\u001b[1;32m      2\u001b[0m \u001b[0;32mfrom\u001b[0m \u001b[0mrandom\u001b[0m \u001b[0;32mimport\u001b[0m \u001b[0mrandint\u001b[0m\u001b[0;34m\u001b[0m\u001b[0m\n\u001b[0;32m----> 3\u001b[0;31m \u001b[0mimg_to_visualize\u001b[0m \u001b[0;34m=\u001b[0m \u001b[0mrandint\u001b[0m\u001b[0;34m(\u001b[0m\u001b[0;36m0\u001b[0m\u001b[0;34m,\u001b[0m \u001b[0mlen\u001b[0m\u001b[0;34m(\u001b[0m\u001b[0mX_train\u001b[0m\u001b[0;34m)\u001b[0m \u001b[0;34m-\u001b[0m \u001b[0;36m1\u001b[0m\u001b[0;34m)\u001b[0m\u001b[0;34m\u001b[0m\u001b[0m\n\u001b[0m\u001b[1;32m      4\u001b[0m \u001b[0;34m\u001b[0m\u001b[0m\n\u001b[1;32m      5\u001b[0m \u001b[0;34m\u001b[0m\u001b[0m\n",
      "\u001b[0;31mNameError\u001b[0m: name 'X_train' is not defined"
     ]
    }
   ],
   "source": [
    "###this is to visualize output from convolutional layers\n",
    "### need to modify\n",
    "\n",
    "from keras import backend as K\n",
    "from random import randint\n",
    "img_to_visualize = randint(0, len(X_train) - 1)\n",
    "\n",
    "\n",
    "# Generate function to visualize first layer\n",
    "convout1_f = K.function([model.get_input(train=False)], convout1.get_output(train=False))\n",
    "convolutions = convout1_f(reshaped[img_to_visualize: img_to_visualize+1])\n",
    "\n",
    "\n",
    "%matplotlib inline\n",
    "#The non-magical version of the previous line is this:\n",
    "#get_ipython().magic(u'matplotlib inline')\n",
    "imshow = plt.imshow #alias\n",
    "plt.title(\"Image used: #%d (digit=%d)\" % (img_to_visualize, y_train[img_to_visualize]))\n",
    "imshow(X_train[img_to_visualize])\n",
    "\n",
    "\n",
    "plt.title(\"First convolution:\")\n",
    "imshow(convolutions[0][0])\n",
    "\n",
    "\n",
    "print \"The second dimension tells us how many convolutions do we have: %s (%d convolutions)\" % (\n",
    "    str(convolutions.shape),\n",
    "    convolutions.shape[1])\n",
    "\n",
    "\n",
    "for i, convolution in enumerate(convolutions[0]):\n",
    "    plt.figure()\n",
    "    plt.title(\"Convolution %d\" % (i))\n",
    "    plt.imshow(convolution)"
   ]
  },
  {
   "cell_type": "markdown",
   "metadata": {},
   "source": [
    "### prepare data\n",
    "use .flow_from_directory() to generate batches of image data (and their labels) directly from our jpgs in their respective folders.\n",
    "\n",
    "### rescale\n",
    "- value by which you mulitply the data before any other processing\n",
    "- original image RGB coefficients 0-255 but these values are too high for our models to process (given a typical learning rate) so target values between 0-1 by scalling with a 1/255 factor"
   ]
  },
  {
   "cell_type": "code",
   "execution_count": 16,
   "metadata": {
    "collapsed": true
   },
   "outputs": [],
   "source": [
    "# this is the augmentation configuration we will use for training\n",
    "\n",
    "train_datagen = ImageDataGenerator(\n",
    "        rescale=1./255,\n",
    "        shear_range=0.2,\n",
    "        zoom_range=0.2,\n",
    "        horizontal_flip=True)"
   ]
  },
  {
   "cell_type": "code",
   "execution_count": 17,
   "metadata": {
    "collapsed": true
   },
   "outputs": [],
   "source": [
    "# this is the augmentation configuration we will use for testing:\n",
    "# only rescaling\n",
    "test_datagen = ImageDataGenerator(rescale=1./255)"
   ]
  },
  {
   "cell_type": "code",
   "execution_count": 21,
   "metadata": {
    "collapsed": false
   },
   "outputs": [
    {
     "name": "stdout",
     "output_type": "stream",
     "text": [
      "Found 2000 images belonging to 2 classes.\n"
     ]
    }
   ],
   "source": [
    "# does this actually create additional images? if so how many and how can you control that... \n",
    "# see image processing keras notebook for example of .flow creating additional images\n",
    "\n",
    "train_generator = train_datagen.flow_from_directory(\n",
    "        train_data_dir,\n",
    "        target_size=(img_width, img_height),\n",
    "        batch_size=32,\n",
    "        class_mode='binary')"
   ]
  },
  {
   "cell_type": "code",
   "execution_count": 22,
   "metadata": {
    "collapsed": false
   },
   "outputs": [
    {
     "name": "stdout",
     "output_type": "stream",
     "text": [
      "Found 800 images belonging to 2 classes.\n"
     ]
    }
   ],
   "source": [
    "validation_generator = test_datagen.flow_from_directory(\n",
    "        validation_data_dir,\n",
    "        target_size=(img_width, img_height),\n",
    "        batch_size=32,\n",
    "        class_mode='binary')"
   ]
  },
  {
   "cell_type": "markdown",
   "metadata": {},
   "source": [
    "### use these generators to train model\n",
    "Fits the model on data generated batch-by-batch by a Python generator. The generator is run in parallel to the model, for efficiency. For instance, this allows you to do real-time data augmentation on images on CPU in parallel to training your model on GPU.\n",
    "\n"
   ]
  },
  {
   "cell_type": "code",
   "execution_count": 31,
   "metadata": {
    "collapsed": false,
    "scrolled": true
   },
   "outputs": [
    {
     "name": "stdout",
     "output_type": "stream",
     "text": [
      "Epoch 1/50\n",
      "2000/2000 [==============================] - 79s - loss: 0.6744 - acc: 0.5965 - val_loss: 0.6215 - val_acc: 0.6525\n",
      "Epoch 2/50\n",
      "2000/2000 [==============================] - 73s - loss: 0.6228 - acc: 0.6775 - val_loss: 0.5397 - val_acc: 0.7238\n",
      "Epoch 3/50\n",
      "2000/2000 [==============================] - 73s - loss: 0.5900 - acc: 0.7110 - val_loss: 0.5350 - val_acc: 0.7712\n",
      "Epoch 4/50\n",
      "2000/2000 [==============================] - 73s - loss: 0.5570 - acc: 0.7390 - val_loss: 0.5325 - val_acc: 0.7350\n",
      "Epoch 5/50\n",
      "2000/2000 [==============================] - 74s - loss: 0.5414 - acc: 0.7410 - val_loss: 0.7256 - val_acc: 0.5625\n",
      "Epoch 6/50\n",
      "2000/2000 [==============================] - 73s - loss: 0.5407 - acc: 0.7380 - val_loss: 0.5973 - val_acc: 0.6713\n",
      "Epoch 7/50\n",
      "2000/2000 [==============================] - 74s - loss: 0.5136 - acc: 0.7615 - val_loss: 0.4852 - val_acc: 0.7750\n",
      "Epoch 8/50\n",
      "2000/2000 [==============================] - 74s - loss: 0.5182 - acc: 0.7495 - val_loss: 0.4416 - val_acc: 0.7975\n",
      "Epoch 9/50\n",
      "2000/2000 [==============================] - 74s - loss: 0.5123 - acc: 0.7545 - val_loss: 0.6742 - val_acc: 0.6512\n",
      "Epoch 10/50\n",
      "2000/2000 [==============================] - 74s - loss: 0.5051 - acc: 0.7640 - val_loss: 0.4468 - val_acc: 0.7987\n",
      "Epoch 11/50\n",
      "2000/2000 [==============================] - 73s - loss: 0.4887 - acc: 0.7750 - val_loss: 0.4515 - val_acc: 0.7963\n",
      "Epoch 12/50\n",
      "2000/2000 [==============================] - 73s - loss: 0.4727 - acc: 0.7790 - val_loss: 0.4368 - val_acc: 0.7987\n",
      "Epoch 13/50\n",
      "2000/2000 [==============================] - 74s - loss: 0.4829 - acc: 0.7790 - val_loss: 0.4437 - val_acc: 0.8063\n",
      "Epoch 14/50\n",
      "2000/2000 [==============================] - 74s - loss: 0.4753 - acc: 0.7850 - val_loss: 0.4299 - val_acc: 0.8150\n",
      "Epoch 15/50\n",
      "2000/2000 [==============================] - 73s - loss: 0.4696 - acc: 0.7845 - val_loss: 0.4320 - val_acc: 0.8025\n",
      "Epoch 16/50\n",
      "2000/2000 [==============================] - 74s - loss: 0.4594 - acc: 0.7930 - val_loss: 0.4073 - val_acc: 0.8225\n",
      "Epoch 17/50\n",
      "2000/2000 [==============================] - 5486s - loss: 0.4712 - acc: 0.7855 - val_loss: 0.6452 - val_acc: 0.6687\n",
      "Epoch 18/50\n",
      "2000/2000 [==============================] - 720s - loss: 0.4469 - acc: 0.7940 - val_loss: 0.3951 - val_acc: 0.8350\n",
      "Epoch 19/50\n",
      "2000/2000 [==============================] - 74s - loss: 0.4421 - acc: 0.8055 - val_loss: 0.4220 - val_acc: 0.8137\n",
      "Epoch 20/50\n",
      "2000/2000 [==============================] - 74s - loss: 0.4230 - acc: 0.8140 - val_loss: 0.4308 - val_acc: 0.8087\n",
      "Epoch 21/50\n",
      "2000/2000 [==============================] - 73s - loss: 0.4143 - acc: 0.8235 - val_loss: 0.4080 - val_acc: 0.8250\n",
      "Epoch 22/50\n",
      "2000/2000 [==============================] - 73s - loss: 0.4309 - acc: 0.8135 - val_loss: 0.4325 - val_acc: 0.8100\n",
      "Epoch 23/50\n",
      "2000/2000 [==============================] - 74s - loss: 0.4165 - acc: 0.8170 - val_loss: 0.4221 - val_acc: 0.8150\n",
      "Epoch 24/50\n",
      "2000/2000 [==============================] - 74s - loss: 0.4094 - acc: 0.8170 - val_loss: 0.3873 - val_acc: 0.8300\n",
      "Epoch 25/50\n",
      "2000/2000 [==============================] - 73s - loss: 0.4095 - acc: 0.8135 - val_loss: 0.4140 - val_acc: 0.8250\n",
      "Epoch 26/50\n",
      "2000/2000 [==============================] - 74s - loss: 0.4047 - acc: 0.8125 - val_loss: 0.4010 - val_acc: 0.8300\n",
      "Epoch 27/50\n",
      "2000/2000 [==============================] - 74s - loss: 0.3903 - acc: 0.8265 - val_loss: 0.3843 - val_acc: 0.8313\n",
      "Epoch 28/50\n",
      "2000/2000 [==============================] - 73s - loss: 0.3945 - acc: 0.8400 - val_loss: 0.4029 - val_acc: 0.8213\n",
      "Epoch 29/50\n",
      "2000/2000 [==============================] - 73s - loss: 0.3859 - acc: 0.8285 - val_loss: 0.4012 - val_acc: 0.8263\n",
      "Epoch 30/50\n",
      "2000/2000 [==============================] - 73s - loss: 0.3957 - acc: 0.8260 - val_loss: 0.4153 - val_acc: 0.8000\n",
      "Epoch 31/50\n",
      "2000/2000 [==============================] - 73s - loss: 0.3727 - acc: 0.8330 - val_loss: 0.4698 - val_acc: 0.8137\n",
      "Epoch 32/50\n",
      "2000/2000 [==============================] - 74s - loss: 0.3701 - acc: 0.8455 - val_loss: 0.4009 - val_acc: 0.8225\n",
      "Epoch 33/50\n",
      "2000/2000 [==============================] - 75s - loss: 0.3709 - acc: 0.8415 - val_loss: 0.3884 - val_acc: 0.8313\n",
      "Epoch 34/50\n",
      "2000/2000 [==============================] - 74s - loss: 0.3674 - acc: 0.8375 - val_loss: 0.7211 - val_acc: 0.7400\n",
      "Epoch 35/50\n",
      "2000/2000 [==============================] - 74s - loss: 0.3629 - acc: 0.8465 - val_loss: 0.4519 - val_acc: 0.8037\n",
      "Epoch 36/50\n",
      "2000/2000 [==============================] - 75s - loss: 0.3650 - acc: 0.8525 - val_loss: 0.4637 - val_acc: 0.8213\n",
      "Epoch 37/50\n",
      "2000/2000 [==============================] - 75s - loss: 0.3736 - acc: 0.8375 - val_loss: 0.4306 - val_acc: 0.8213\n",
      "Epoch 38/50\n",
      "2000/2000 [==============================] - 74s - loss: 0.3636 - acc: 0.8470 - val_loss: 0.3822 - val_acc: 0.8450\n",
      "Epoch 39/50\n",
      "2000/2000 [==============================] - 74s - loss: 0.3639 - acc: 0.8370 - val_loss: 0.5109 - val_acc: 0.7700\n",
      "Epoch 40/50\n",
      "2000/2000 [==============================] - 74s - loss: 0.3432 - acc: 0.8495 - val_loss: 0.3912 - val_acc: 0.8425\n",
      "Epoch 41/50\n",
      "2000/2000 [==============================] - 74s - loss: 0.3397 - acc: 0.8535 - val_loss: 0.3630 - val_acc: 0.8425\n",
      "Epoch 42/50\n",
      "2000/2000 [==============================] - 74s - loss: 0.3427 - acc: 0.8485 - val_loss: 0.3772 - val_acc: 0.8387\n",
      "Epoch 43/50\n",
      "2000/2000 [==============================] - 74s - loss: 0.3381 - acc: 0.8505 - val_loss: 0.3810 - val_acc: 0.8387\n",
      "Epoch 44/50\n",
      "2000/2000 [==============================] - 74s - loss: 0.3438 - acc: 0.8475 - val_loss: 0.3636 - val_acc: 0.8462\n",
      "Epoch 45/50\n",
      "2000/2000 [==============================] - 76s - loss: 0.3462 - acc: 0.8515 - val_loss: 0.3699 - val_acc: 0.8350\n",
      "Epoch 46/50\n",
      "2000/2000 [==============================] - 74s - loss: 0.3400 - acc: 0.8535 - val_loss: 0.3622 - val_acc: 0.8413\n",
      "Epoch 47/50\n",
      "2000/2000 [==============================] - 74s - loss: 0.3338 - acc: 0.8570 - val_loss: 0.3947 - val_acc: 0.8588\n",
      "Epoch 48/50\n",
      "2000/2000 [==============================] - 73s - loss: 0.3463 - acc: 0.8535 - val_loss: 0.3638 - val_acc: 0.8413\n",
      "Epoch 49/50\n",
      "2000/2000 [==============================] - 73s - loss: 0.3275 - acc: 0.8555 - val_loss: 0.4177 - val_acc: 0.8263\n",
      "Epoch 50/50\n",
      "2000/2000 [==============================] - 73s - loss: 0.3255 - acc: 0.8650 - val_loss: 0.4663 - val_acc: 0.7762\n"
     ]
    }
   ],
   "source": [
    "pizza_model = model.fit_generator(\n",
    "        train_generator,\n",
    "        samples_per_epoch=nb_train_samples,\n",
    "        nb_epoch=nb_epoch,\n",
    "        validation_data=validation_generator,\n",
    "        nb_val_samples=nb_validation_samples)"
   ]
  },
  {
   "cell_type": "markdown",
   "metadata": {},
   "source": [
    "## Model stats"
   ]
  },
  {
   "cell_type": "code",
   "execution_count": 67,
   "metadata": {
    "collapsed": false,
    "scrolled": true
   },
   "outputs": [
    {
     "name": "stdout",
     "output_type": "stream",
     "text": [
      "____________________________________________________________________________________________________\n",
      "Layer (type)                     Output Shape          Param #     Connected to                     \n",
      "====================================================================================================\n",
      "convolution2d_1 (Convolution2D)  (None, 148, 148, 32)  896         convolution2d_input_1[0][0]      \n",
      "____________________________________________________________________________________________________\n",
      "activation_1 (Activation)        (None, 148, 148, 32)  0           convolution2d_1[0][0]            \n",
      "____________________________________________________________________________________________________\n",
      "maxpooling2d_1 (MaxPooling2D)    (None, 74, 74, 32)    0           activation_1[0][0]               \n",
      "____________________________________________________________________________________________________\n",
      "convolution2d_2 (Convolution2D)  (None, 72, 72, 32)    9248        maxpooling2d_1[0][0]             \n",
      "____________________________________________________________________________________________________\n",
      "activation_2 (Activation)        (None, 72, 72, 32)    0           convolution2d_2[0][0]            \n",
      "____________________________________________________________________________________________________\n",
      "maxpooling2d_2 (MaxPooling2D)    (None, 36, 36, 32)    0           activation_2[0][0]               \n",
      "____________________________________________________________________________________________________\n",
      "convolution2d_3 (Convolution2D)  (None, 34, 34, 64)    18496       maxpooling2d_2[0][0]             \n",
      "____________________________________________________________________________________________________\n",
      "activation_3 (Activation)        (None, 34, 34, 64)    0           convolution2d_3[0][0]            \n",
      "____________________________________________________________________________________________________\n",
      "maxpooling2d_3 (MaxPooling2D)    (None, 17, 17, 64)    0           activation_3[0][0]               \n",
      "____________________________________________________________________________________________________\n",
      "flatten_1 (Flatten)              (None, 18496)         0           maxpooling2d_3[0][0]             \n",
      "____________________________________________________________________________________________________\n",
      "dense_1 (Dense)                  (None, 64)            1183808     flatten_1[0][0]                  \n",
      "____________________________________________________________________________________________________\n",
      "activation_4 (Activation)        (None, 64)            0           dense_1[0][0]                    \n",
      "____________________________________________________________________________________________________\n",
      "dropout_1 (Dropout)              (None, 64)            0           activation_4[0][0]               \n",
      "____________________________________________________________________________________________________\n",
      "dense_2 (Dense)                  (None, 1)             65          dropout_1[0][0]                  \n",
      "____________________________________________________________________________________________________\n",
      "activation_5 (Activation)        (None, 1)             0           dense_2[0][0]                    \n",
      "====================================================================================================\n",
      "Total params: 1212513\n",
      "____________________________________________________________________________________________________\n"
     ]
    }
   ],
   "source": [
    "model.summary()"
   ]
  },
  {
   "cell_type": "code",
   "execution_count": 59,
   "metadata": {
    "collapsed": false
   },
   "outputs": [
    {
     "data": {
      "text/plain": [
       "[{'class_name': 'Convolution2D',\n",
       "  'config': {'W_constraint': None,\n",
       "   'W_regularizer': None,\n",
       "   'activation': 'linear',\n",
       "   'activity_regularizer': None,\n",
       "   'b_constraint': None,\n",
       "   'b_regularizer': None,\n",
       "   'batch_input_shape': (None, 150, 150, 3),\n",
       "   'bias': True,\n",
       "   'border_mode': 'valid',\n",
       "   'dim_ordering': 'tf',\n",
       "   'init': 'glorot_uniform',\n",
       "   'input_dtype': 'float32',\n",
       "   'name': 'convolution2d_1',\n",
       "   'nb_col': 3,\n",
       "   'nb_filter': 32,\n",
       "   'nb_row': 3,\n",
       "   'subsample': (1, 1),\n",
       "   'trainable': True}},\n",
       " {'class_name': 'Activation',\n",
       "  'config': {'activation': 'relu', 'name': 'activation_1', 'trainable': True}},\n",
       " {'class_name': 'MaxPooling2D',\n",
       "  'config': {'border_mode': 'valid',\n",
       "   'dim_ordering': 'tf',\n",
       "   'name': 'maxpooling2d_1',\n",
       "   'pool_size': (2, 2),\n",
       "   'strides': (2, 2),\n",
       "   'trainable': True}}]"
      ]
     },
     "execution_count": 59,
     "metadata": {},
     "output_type": "execute_result"
    }
   ],
   "source": [
    "model.get_config()[:3]"
   ]
  },
  {
   "cell_type": "code",
   "execution_count": 32,
   "metadata": {
    "collapsed": false
   },
   "outputs": [],
   "source": [
    "model.save_weights('/Users/VanessaG/Desktop/DSI-SF-2-vnessified/capstone/keras_pizza_model.h5')"
   ]
  },
  {
   "cell_type": "markdown",
   "metadata": {},
   "source": [
    "## Evaluate model results"
   ]
  },
  {
   "cell_type": "code",
   "execution_count": 51,
   "metadata": {
    "collapsed": true
   },
   "outputs": [],
   "source": [
    "## what does this mean: loss: 0.3629 - acc: 0.8465 - val_loss: 0.4519 - val_acc: 0.8037 ???? (loss)... val?"
   ]
  },
  {
   "cell_type": "code",
   "execution_count": 40,
   "metadata": {
    "collapsed": false,
    "scrolled": true
   },
   "outputs": [
    {
     "data": {
      "text/plain": [
       "['acc', 'loss', 'val_acc', 'val_loss']"
      ]
     },
     "execution_count": 40,
     "metadata": {},
     "output_type": "execute_result"
    }
   ],
   "source": [
    "pizza_model.history.keys()"
   ]
  },
  {
   "cell_type": "code",
   "execution_count": 94,
   "metadata": {
    "collapsed": false
   },
   "outputs": [
    {
     "data": {
      "image/png": "[encoded data removed]",
      "text/plain": [
       "<matplotlib.figure.Figure at 0x1256a5990>"
      ]
     },
     "metadata": {},
     "output_type": "display_data"
    }
   ],
   "source": [
    "# summarize history for accuracy\n",
    "plt.plot(pizza_model.history['acc'])\n",
    "plt.plot(pizza_model.history['val_acc'])\n",
    "plt.title('model accuracy')\n",
    "plt.ylabel('accuracy')\n",
    "plt.xlabel('epoch')\n",
    "plt.legend(['train', 'test'], loc='upper left')\n",
    "plt.show()"
   ]
  },
  {
   "cell_type": "code",
   "execution_count": 96,
   "metadata": {
    "collapsed": false
   },
   "outputs": [
    {
     "data": {
      "image/png": "[encoded data removed]",
      "text/plain": [
       "<matplotlib.figure.Figure at 0x125fd91d0>"
      ]
     },
     "metadata": {},
     "output_type": "display_data"
    }
   ],
   "source": [
    "# summarize history for loss\n",
    "plt.plot(pizza_model.history['loss'])\n",
    "plt.plot(pizza_model.history['val_loss'])\n",
    "plt.title('model loss')\n",
    "plt.ylabel('loss')\n",
    "plt.xlabel('epoch')\n",
    "plt.legend(['train', 'test'], loc='upper left')\n",
    "plt.show()"
   ]
  },
  {
   "cell_type": "code",
   "execution_count": 97,
   "metadata": {
    "collapsed": false
   },
   "outputs": [
    {
     "data": {
      "text/plain": [
       "0.80617000000000005"
      ]
     },
     "execution_count": 97,
     "metadata": {},
     "output_type": "execute_result"
    }
   ],
   "source": [
    "np.mean(pizza_model.history['acc'])"
   ]
  },
  {
   "cell_type": "code",
   "execution_count": 71,
   "metadata": {
    "collapsed": false,
    "scrolled": true
   },
   "outputs": [
    {
     "data": {
      "text/plain": [
       "['loss', 'acc']"
      ]
     },
     "execution_count": 71,
     "metadata": {},
     "output_type": "execute_result"
    }
   ],
   "source": [
    "model.metrics_names"
   ]
  },
  {
   "cell_type": "code",
   "execution_count": 98,
   "metadata": {
    "collapsed": false
   },
   "outputs": [
    {
     "data": {
      "text/plain": [
       "[0.46632025957107542, 0.77625]"
      ]
     },
     "execution_count": 98,
     "metadata": {},
     "output_type": "execute_result"
    }
   ],
   "source": [
    "#why is this different from np.mean(pizza_model.history['acc])\n",
    "model.evaluate_generator(validation_generator, nb_validation_samples, max_q_size=10,\n",
    "                         nb_worker=1)"
   ]
  },
  {
   "cell_type": "code",
   "execution_count": 99,
   "metadata": {
    "collapsed": false
   },
   "outputs": [],
   "source": [
    "predictions = model.predict_generator(validation_generator, nb_validation_samples,\n",
    "                                      max_q_size=10, nb_worker=1, pickle_safe=False)\n"
   ]
  },
  {
   "cell_type": "code",
   "execution_count": 100,
   "metadata": {
    "collapsed": false,
    "scrolled": true
   },
   "outputs": [
    {
     "data": {
      "text/plain": [
       "array([[ 0.99510431],\n",
       "       [ 0.22117342],\n",
       "       [ 0.91974723],\n",
       "       [ 0.98205471],\n",
       "       [ 0.31657547],\n",
       "       [ 0.90518534],\n",
       "       [ 0.73111486],\n",
       "       [ 0.96756828],\n",
       "       [ 0.85108924],\n",
       "       [ 0.46803811]], dtype=float32)"
      ]
     },
     "execution_count": 100,
     "metadata": {},
     "output_type": "execute_result"
    }
   ],
   "source": [
    "predictions[0:10]"
   ]
  },
  {
   "cell_type": "code",
   "execution_count": 102,
   "metadata": {
    "collapsed": false
   },
   "outputs": [
    {
     "data": {
      "text/plain": [
       "array([[<matplotlib.axes._subplots.AxesSubplot object at 0x126a73c10>]], dtype=object)"
      ]
     },
     "execution_count": 102,
     "metadata": {},
     "output_type": "execute_result"
    },
    {
     "data": {
      "image/png": "[encoded data removed]",
      "text/plain": [
       "<matplotlib.figure.Figure at 0x125f29410>"
      ]
     },
     "metadata": {},
     "output_type": "display_data"
    }
   ],
   "source": [
    "import pandas as pd\n",
    "%matplotlib inline\n",
    "preds = pd.DataFrame(predictions)\n",
    "preds.hist()"
   ]
  },
  {
   "cell_type": "code",
   "execution_count": 103,
   "metadata": {
    "collapsed": false,
    "scrolled": true
   },
   "outputs": [
    {
     "data": {
      "text/plain": [
       "{'not_pizza': 0, 'pizza': 1}"
      ]
     },
     "execution_count": 103,
     "metadata": {},
     "output_type": "execute_result"
    }
   ],
   "source": [
    "validation_generator.class_indices"
   ]
  },
  {
   "cell_type": "code",
   "execution_count": 104,
   "metadata": {
    "collapsed": false
   },
   "outputs": [
    {
     "name": "stdout",
     "output_type": "stream",
     "text": [
      "Found 800 images belonging to 2 classes.\n"
     ]
    }
   ],
   "source": [
    "validation_generator_2 = test_datagen.flow_from_directory(\n",
    "        validation_data_dir,\n",
    "        target_size=(img_width, img_height),\n",
    "        batch_size=1,\n",
    "        #save_to_dir='val_aug'\n",
    "        class_mode='binary',\n",
    "        shuffle=False)"
   ]
  },
  {
   "cell_type": "code",
   "execution_count": 75,
   "metadata": {
    "collapsed": false
   },
   "outputs": [
    {
     "name": "stdout",
     "output_type": "stream",
     "text": [
      "400 400\n"
     ]
    }
   ],
   "source": [
    "pizzas = glob.glob(validation_data_dir+'/pizza/*.jpg')\n",
    "not_pizzas = glob.glob(validation_data_dir+'/not_pizza/*.jpg')\n",
    "print len(pizzas), len(not_pizzas)"
   ]
  },
  {
   "cell_type": "code",
   "execution_count": 105,
   "metadata": {
    "collapsed": true
   },
   "outputs": [],
   "source": [
    "predictions = []\n",
    "predicted_labels = []\n",
    "for i, (img, y) in enumerate(validation_generator_2):\n",
    "    pp = model.predict(img)\n",
    "    label = int(pp[0] >= 0.5)\n",
    "    predictions.append(pp[0][0])\n",
    "    predicted_labels.append(label)\n",
    "    if i >= 800:\n",
    "        break"
   ]
  },
  {
   "cell_type": "code",
   "execution_count": 106,
   "metadata": {
    "collapsed": false,
    "scrolled": true
   },
   "outputs": [
    {
     "name": "stdout",
     "output_type": "stream",
     "text": [
      "[0.01505492, 0.2494195, 0.48538959, 0.17214279, 0.70707059, 0.53252172, 0.95420098, 0.36732924, 0.92302752, 0.14975837]\n",
      "[0, 0, 0, 0, 1, 1, 1, 0, 1, 0]\n"
     ]
    }
   ],
   "source": [
    "print predictions[0:10]\n",
    "print predicted_labels[0:10]"
   ]
  },
  {
   "cell_type": "code",
   "execution_count": 130,
   "metadata": {
    "collapsed": false,
    "scrolled": true
   },
   "outputs": [
    {
     "data": {
      "text/plain": [
       "(801, 801)"
      ]
     },
     "execution_count": 130,
     "metadata": {},
     "output_type": "execute_result"
    }
   ],
   "source": [
    "len(predicted_labels), len(predictions)"
   ]
  },
  {
   "cell_type": "code",
   "execution_count": 107,
   "metadata": {
    "collapsed": false
   },
   "outputs": [
    {
     "data": {
      "text/plain": [
       "0.77625"
      ]
     },
     "execution_count": 107,
     "metadata": {},
     "output_type": "execute_result"
    }
   ],
   "source": [
    "np.mean([1 if pl == l \n",
    "         else 0 for pl, l \n",
    "         in zip(predicted_labels, np.zeros(400).tolist()+np.ones(400).tolist())])"
   ]
  },
  {
   "cell_type": "code",
   "execution_count": 80,
   "metadata": {
    "collapsed": true
   },
   "outputs": [],
   "source": [
    "image_file_predictions = {}\n",
    "for i, filename in enumerate(not_pizzas+pizzas):\n",
    "    image_file_predictions[filename] = {\n",
    "        'predicted_class':predicted_labels[i],\n",
    "        'predicted_prob_pizza':predictions[i]\n",
    "    }"
   ]
  },
  {
   "cell_type": "code",
   "execution_count": 81,
   "metadata": {
    "collapsed": true
   },
   "outputs": [],
   "source": [
    "image_file_df = pd.DataFrame(image_file_predictions)"
   ]
  },
  {
   "cell_type": "code",
   "execution_count": 82,
   "metadata": {
    "collapsed": false
   },
   "outputs": [
    {
     "data": {
      "text/html": [
       "<div>\n",
       "<table border=\"1\" class=\"dataframe\">\n",
       "  <thead>\n",
       "    <tr style=\"text-align: right;\">\n",
       "      <th></th>\n",
       "      <th>predicted_class</th>\n",
       "      <th>predicted_prob_pizza</th>\n",
       "    </tr>\n",
       "  </thead>\n",
       "  <tbody>\n",
       "    <tr>\n",
       "      <th>/Users/VanessaG/Desktop/pizza_class_data/validation/not_pizza/1006400.jpg</th>\n",
       "      <td>0.0</td>\n",
       "      <td>0.015055</td>\n",
       "    </tr>\n",
       "    <tr>\n",
       "      <th>/Users/VanessaG/Desktop/pizza_class_data/validation/not_pizza/1010547.jpg</th>\n",
       "      <td>0.0</td>\n",
       "      <td>0.249419</td>\n",
       "    </tr>\n",
       "    <tr>\n",
       "      <th>/Users/VanessaG/Desktop/pizza_class_data/validation/not_pizza/1026621.jpg</th>\n",
       "      <td>0.0</td>\n",
       "      <td>0.485390</td>\n",
       "    </tr>\n",
       "    <tr>\n",
       "      <th>/Users/VanessaG/Desktop/pizza_class_data/validation/not_pizza/102854.jpg</th>\n",
       "      <td>0.0</td>\n",
       "      <td>0.172143</td>\n",
       "    </tr>\n",
       "    <tr>\n",
       "      <th>/Users/VanessaG/Desktop/pizza_class_data/validation/not_pizza/1053345.jpg</th>\n",
       "      <td>1.0</td>\n",
       "      <td>0.707071</td>\n",
       "    </tr>\n",
       "  </tbody>\n",
       "</table>\n",
       "</div>"
      ],
      "text/plain": [
       "                                                    predicted_class  \\\n",
       "/Users/VanessaG/Desktop/pizza_class_data/valida...              0.0   \n",
       "/Users/VanessaG/Desktop/pizza_class_data/valida...              0.0   \n",
       "/Users/VanessaG/Desktop/pizza_class_data/valida...              0.0   \n",
       "/Users/VanessaG/Desktop/pizza_class_data/valida...              0.0   \n",
       "/Users/VanessaG/Desktop/pizza_class_data/valida...              1.0   \n",
       "\n",
       "                                                    predicted_prob_pizza  \n",
       "/Users/VanessaG/Desktop/pizza_class_data/valida...              0.015055  \n",
       "/Users/VanessaG/Desktop/pizza_class_data/valida...              0.249419  \n",
       "/Users/VanessaG/Desktop/pizza_class_data/valida...              0.485390  \n",
       "/Users/VanessaG/Desktop/pizza_class_data/valida...              0.172143  \n",
       "/Users/VanessaG/Desktop/pizza_class_data/valida...              0.707071  "
      ]
     },
     "execution_count": 82,
     "metadata": {},
     "output_type": "execute_result"
    }
   ],
   "source": [
    "image_file_df.T.head()"
   ]
  },
  {
   "cell_type": "code",
   "execution_count": 121,
   "metadata": {
    "collapsed": false
   },
   "outputs": [],
   "source": [
    "actual_labels = list(train_generator.classes)"
   ]
  },
  {
   "cell_type": "code",
   "execution_count": 127,
   "metadata": {
    "collapsed": false
   },
   "outputs": [
    {
     "ename": "ValueError",
     "evalue": "Found arrays with inconsistent numbers of samples: [ 801 2000]",
     "output_type": "error",
     "traceback": [
      "\u001b[0;31m---------------------------------------------------------------------------\u001b[0m",
      "\u001b[0;31mValueError\u001b[0m                                Traceback (most recent call last)",
      "\u001b[0;32m<ipython-input-127-b1ebe517ee8a>\u001b[0m in \u001b[0;36m<module>\u001b[0;34m()\u001b[0m\n\u001b[1;32m      1\u001b[0m \u001b[0;32mfrom\u001b[0m \u001b[0msklearn\u001b[0m\u001b[0;34m.\u001b[0m\u001b[0mmetrics\u001b[0m \u001b[0;32mimport\u001b[0m \u001b[0mclassification_report\u001b[0m\u001b[0;34m\u001b[0m\u001b[0m\n\u001b[0;32m----> 2\u001b[0;31m \u001b[0;32mprint\u001b[0m\u001b[0;34m(\u001b[0m\u001b[0mclassification_report\u001b[0m\u001b[0;34m(\u001b[0m\u001b[0mactual_labels\u001b[0m\u001b[0;34m,\u001b[0m \u001b[0mpredicted_labels\u001b[0m\u001b[0;34m)\u001b[0m\u001b[0;34m)\u001b[0m\u001b[0;34m\u001b[0m\u001b[0m\n\u001b[0m\u001b[1;32m      3\u001b[0m \u001b[0;31m#???? how do i get actual classes...\u001b[0m\u001b[0;34m\u001b[0m\u001b[0;34m\u001b[0m\u001b[0m\n\u001b[1;32m      4\u001b[0m \u001b[0;31m#loop through val folder - assign 0 1 based on not_pizza / pizza folders\u001b[0m\u001b[0;34m\u001b[0m\u001b[0;34m\u001b[0m\u001b[0m\n",
      "\u001b[0;32m/Users/VanessaG/anaconda/lib/python2.7/site-packages/sklearn/metrics/classification.pyc\u001b[0m in \u001b[0;36mclassification_report\u001b[0;34m(y_true, y_pred, labels, target_names, sample_weight, digits)\u001b[0m\n\u001b[1;32m   1382\u001b[0m                                                   \u001b[0mlabels\u001b[0m\u001b[0;34m=\u001b[0m\u001b[0mlabels\u001b[0m\u001b[0;34m,\u001b[0m\u001b[0;34m\u001b[0m\u001b[0m\n\u001b[1;32m   1383\u001b[0m                                                   \u001b[0maverage\u001b[0m\u001b[0;34m=\u001b[0m\u001b[0mNone\u001b[0m\u001b[0;34m,\u001b[0m\u001b[0;34m\u001b[0m\u001b[0m\n\u001b[0;32m-> 1384\u001b[0;31m                                                   sample_weight=sample_weight)\n\u001b[0m\u001b[1;32m   1385\u001b[0m \u001b[0;34m\u001b[0m\u001b[0m\n\u001b[1;32m   1386\u001b[0m     \u001b[0;32mfor\u001b[0m \u001b[0mi\u001b[0m\u001b[0;34m,\u001b[0m \u001b[0mlabel\u001b[0m \u001b[0;32min\u001b[0m \u001b[0menumerate\u001b[0m\u001b[0;34m(\u001b[0m\u001b[0mlabels\u001b[0m\u001b[0;34m)\u001b[0m\u001b[0;34m:\u001b[0m\u001b[0;34m\u001b[0m\u001b[0m\n",
      "\u001b[0;32m/Users/VanessaG/anaconda/lib/python2.7/site-packages/sklearn/metrics/classification.pyc\u001b[0m in \u001b[0;36mprecision_recall_fscore_support\u001b[0;34m(y_true, y_pred, beta, labels, pos_label, average, warn_for, sample_weight)\u001b[0m\n\u001b[1;32m    954\u001b[0m         \u001b[0;32mraise\u001b[0m \u001b[0mValueError\u001b[0m\u001b[0;34m(\u001b[0m\u001b[0;34m\"beta should be >0 in the F-beta score\"\u001b[0m\u001b[0;34m)\u001b[0m\u001b[0;34m\u001b[0m\u001b[0m\n\u001b[1;32m    955\u001b[0m \u001b[0;34m\u001b[0m\u001b[0m\n\u001b[0;32m--> 956\u001b[0;31m     \u001b[0my_type\u001b[0m\u001b[0;34m,\u001b[0m \u001b[0my_true\u001b[0m\u001b[0;34m,\u001b[0m \u001b[0my_pred\u001b[0m \u001b[0;34m=\u001b[0m \u001b[0m_check_targets\u001b[0m\u001b[0;34m(\u001b[0m\u001b[0my_true\u001b[0m\u001b[0;34m,\u001b[0m \u001b[0my_pred\u001b[0m\u001b[0;34m)\u001b[0m\u001b[0;34m\u001b[0m\u001b[0m\n\u001b[0m\u001b[1;32m    957\u001b[0m     \u001b[0mpresent_labels\u001b[0m \u001b[0;34m=\u001b[0m \u001b[0munique_labels\u001b[0m\u001b[0;34m(\u001b[0m\u001b[0my_true\u001b[0m\u001b[0;34m,\u001b[0m \u001b[0my_pred\u001b[0m\u001b[0;34m)\u001b[0m\u001b[0;34m\u001b[0m\u001b[0m\n\u001b[1;32m    958\u001b[0m \u001b[0;34m\u001b[0m\u001b[0m\n",
      "\u001b[0;32m/Users/VanessaG/anaconda/lib/python2.7/site-packages/sklearn/metrics/classification.pyc\u001b[0m in \u001b[0;36m_check_targets\u001b[0;34m(y_true, y_pred)\u001b[0m\n\u001b[1;32m     70\u001b[0m     \u001b[0my_pred\u001b[0m \u001b[0;34m:\u001b[0m \u001b[0marray\u001b[0m \u001b[0;32mor\u001b[0m \u001b[0mindicator\u001b[0m \u001b[0mmatrix\u001b[0m\u001b[0;34m\u001b[0m\u001b[0m\n\u001b[1;32m     71\u001b[0m     \"\"\"\n\u001b[0;32m---> 72\u001b[0;31m     \u001b[0mcheck_consistent_length\u001b[0m\u001b[0;34m(\u001b[0m\u001b[0my_true\u001b[0m\u001b[0;34m,\u001b[0m \u001b[0my_pred\u001b[0m\u001b[0;34m)\u001b[0m\u001b[0;34m\u001b[0m\u001b[0m\n\u001b[0m\u001b[1;32m     73\u001b[0m     \u001b[0mtype_true\u001b[0m \u001b[0;34m=\u001b[0m \u001b[0mtype_of_target\u001b[0m\u001b[0;34m(\u001b[0m\u001b[0my_true\u001b[0m\u001b[0;34m)\u001b[0m\u001b[0;34m\u001b[0m\u001b[0m\n\u001b[1;32m     74\u001b[0m     \u001b[0mtype_pred\u001b[0m \u001b[0;34m=\u001b[0m \u001b[0mtype_of_target\u001b[0m\u001b[0;34m(\u001b[0m\u001b[0my_pred\u001b[0m\u001b[0;34m)\u001b[0m\u001b[0;34m\u001b[0m\u001b[0m\n",
      "\u001b[0;32m/Users/VanessaG/anaconda/lib/python2.7/site-packages/sklearn/utils/validation.pyc\u001b[0m in \u001b[0;36mcheck_consistent_length\u001b[0;34m(*arrays)\u001b[0m\n\u001b[1;32m    174\u001b[0m     \u001b[0;32mif\u001b[0m \u001b[0mlen\u001b[0m\u001b[0;34m(\u001b[0m\u001b[0muniques\u001b[0m\u001b[0;34m)\u001b[0m \u001b[0;34m>\u001b[0m \u001b[0;36m1\u001b[0m\u001b[0;34m:\u001b[0m\u001b[0;34m\u001b[0m\u001b[0m\n\u001b[1;32m    175\u001b[0m         raise ValueError(\"Found arrays with inconsistent numbers of samples: \"\n\u001b[0;32m--> 176\u001b[0;31m                          \"%s\" % str(uniques))\n\u001b[0m\u001b[1;32m    177\u001b[0m \u001b[0;34m\u001b[0m\u001b[0m\n\u001b[1;32m    178\u001b[0m \u001b[0;34m\u001b[0m\u001b[0m\n",
      "\u001b[0;31mValueError\u001b[0m: Found arrays with inconsistent numbers of samples: [ 801 2000]"
     ]
    }
   ],
   "source": [
    "from sklearn.metrics import classification_report\n",
    "print(classification_report(????, ?????))\n"
   ]
  },
  {
   "cell_type": "code",
   "execution_count": 114,
   "metadata": {
    "collapsed": false
   },
   "outputs": [
    {
     "ename": "TypeError",
     "evalue": "roc_curve() takes at least 2 arguments (0 given)",
     "output_type": "error",
     "traceback": [
      "\u001b[0;31m---------------------------------------------------------------------------\u001b[0m",
      "\u001b[0;31mTypeError\u001b[0m                                 Traceback (most recent call last)",
      "\u001b[0;32m<ipython-input-114-0c1f37a3a188>\u001b[0m in \u001b[0;36m<module>\u001b[0;34m()\u001b[0m\n\u001b[1;32m      1\u001b[0m \u001b[0;32mfrom\u001b[0m \u001b[0msklearn\u001b[0m\u001b[0;34m.\u001b[0m\u001b[0mmetrics\u001b[0m \u001b[0;32mimport\u001b[0m \u001b[0mroc_curve\u001b[0m\u001b[0;34m\u001b[0m\u001b[0m\n\u001b[1;32m      2\u001b[0m \u001b[0;34m\u001b[0m\u001b[0m\n\u001b[0;32m----> 3\u001b[0;31m \u001b[0mfpr\u001b[0m\u001b[0;34m,\u001b[0m \u001b[0mtpr\u001b[0m\u001b[0;34m,\u001b[0m \u001b[0mthres\u001b[0m \u001b[0;34m=\u001b[0m \u001b[0mroc_curve\u001b[0m\u001b[0;34m(\u001b[0m\u001b[0;34m)\u001b[0m\u001b[0;34m\u001b[0m\u001b[0m\n\u001b[0m\u001b[1;32m      4\u001b[0m \u001b[0;34m\u001b[0m\u001b[0m\n\u001b[1;32m      5\u001b[0m \u001b[0mplt\u001b[0m\u001b[0;34m.\u001b[0m\u001b[0mfigure\u001b[0m\u001b[0;34m(\u001b[0m\u001b[0mfigsize\u001b[0m\u001b[0;34m=\u001b[0m\u001b[0;34m(\u001b[0m\u001b[0;36m8\u001b[0m\u001b[0;34m,\u001b[0m\u001b[0;36m8\u001b[0m\u001b[0;34m)\u001b[0m\u001b[0;34m)\u001b[0m\u001b[0;34m\u001b[0m\u001b[0m\n",
      "\u001b[0;31mTypeError\u001b[0m: roc_curve() takes at least 2 arguments (0 given)"
     ]
    }
   ],
   "source": [
    "from sklearn.metrics import roc_curve\n",
    "\n",
    "fpr, tpr, thres = roc_curve()\n",
    "\n",
    "plt.figure(figsize=(8,8))\n",
    "plt.plot(fpr, tpr, 'b',)\n",
    "plt.plot([0, 1], [0, 1], 'k--')\n",
    "\n",
    "plt.title('ROC Curve')\n",
    "\n",
    "plt.xlabel('False Positive Rate')\n",
    "plt.xlim(0,1.0)\n",
    "plt.ylabel('True Positive Rate')\n",
    "plt.ylim(0,1.0)\n",
    "\n",
    "plt.show()"
   ]
  },
  {
   "cell_type": "code",
   "execution_count": 111,
   "metadata": {
    "collapsed": false
   },
   "outputs": [],
   "source": [
    "#not as cool as i thought\n",
    "from keras.utils.visualize_util import plot\n",
    "plot(model, to_file='model.png')"
   ]
  },
  {
   "cell_type": "code",
   "execution_count": null,
   "metadata": {
    "collapsed": true
   },
   "outputs": [],
   "source": []
  },
  {
   "cell_type": "code",
   "execution_count": null,
   "metadata": {
    "collapsed": true
   },
   "outputs": [],
   "source": []
  },
  {
   "cell_type": "code",
   "execution_count": null,
   "metadata": {
    "collapsed": true
   },
   "outputs": [],
   "source": []
  }
 ],
 "metadata": {
  "kernelspec": {
   "display_name": "Python 2",
   "language": "python",
   "name": "python2"
  },
  "language_info": {
   "codemirror_mode": {
    "name": "ipython",
    "version": 2
   },
   "file_extension": ".py",
   "mimetype": "text/x-python",
   "name": "python",
   "nbconvert_exporter": "python",
   "pygments_lexer": "ipython2",
   "version": "2.7.11"
  }
 },
 "nbformat": 4,
 "nbformat_minor": 0
}
