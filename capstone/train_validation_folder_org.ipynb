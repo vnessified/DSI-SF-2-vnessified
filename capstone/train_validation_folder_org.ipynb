{
 "cells": [
  {
   "cell_type": "code",
   "execution_count": 1,
   "metadata": {
    "collapsed": true
   },
   "outputs": [],
   "source": [
    "import pandas as pd\n",
    "import numpy as np\n",
    "import glob, os, shutil\n",
    "import fnmatch\n",
    "from sklearn.cross_validation import train_test_split"
   ]
  },
  {
   "cell_type": "markdown",
   "metadata": {},
   "source": [
    "## organize not_pizza images into train (1000) and validation (400) folders"
   ]
  },
  {
   "cell_type": "code",
   "execution_count": 2,
   "metadata": {
    "collapsed": true
   },
   "outputs": [],
   "source": [
    "not_pizza = [x for x in glob.glob('/Users/VanessaG/Desktop/food_images/*') if x.endswith('.jpg')]"
   ]
  },
  {
   "cell_type": "code",
   "execution_count": 3,
   "metadata": {
    "collapsed": false
   },
   "outputs": [
    {
     "data": {
      "text/plain": [
       "['/Users/VanessaG/Desktop/food_images/1000016.jpg',\n",
       " '/Users/VanessaG/Desktop/food_images/100009.jpg',\n",
       " '/Users/VanessaG/Desktop/food_images/1000104.jpg',\n",
       " '/Users/VanessaG/Desktop/food_images/1000205.jpg',\n",
       " '/Users/VanessaG/Desktop/food_images/1000288.jpg',\n",
       " '/Users/VanessaG/Desktop/food_images/1000314.jpg',\n",
       " '/Users/VanessaG/Desktop/food_images/1000325.jpg',\n",
       " '/Users/VanessaG/Desktop/food_images/1000351.jpg',\n",
       " '/Users/VanessaG/Desktop/food_images/100038.jpg',\n",
       " '/Users/VanessaG/Desktop/food_images/1000388.jpg']"
      ]
     },
     "execution_count": 3,
     "metadata": {},
     "output_type": "execute_result"
    }
   ],
   "source": [
    "not_pizza[0:10]"
   ]
  },
  {
   "cell_type": "code",
   "execution_count": 4,
   "metadata": {
    "collapsed": false
   },
   "outputs": [],
   "source": [
    "not_pizza = np.random.choice(not_pizza, 1400)"
   ]
  },
  {
   "cell_type": "code",
   "execution_count": 5,
   "metadata": {
    "collapsed": false
   },
   "outputs": [
    {
     "data": {
      "text/plain": [
       "array(['/Users/VanessaG/Desktop/food_images/1668990.jpg',\n",
       "       '/Users/VanessaG/Desktop/food_images/776742.jpg',\n",
       "       '/Users/VanessaG/Desktop/food_images/614933.jpg',\n",
       "       '/Users/VanessaG/Desktop/food_images/38442.jpg',\n",
       "       '/Users/VanessaG/Desktop/food_images/2550272.jpg',\n",
       "       '/Users/VanessaG/Desktop/food_images/3247076.jpg',\n",
       "       '/Users/VanessaG/Desktop/food_images/3222548.jpg',\n",
       "       '/Users/VanessaG/Desktop/food_images/2290026.jpg',\n",
       "       '/Users/VanessaG/Desktop/food_images/971218.jpg',\n",
       "       '/Users/VanessaG/Desktop/food_images/3201152.jpg'], \n",
       "      dtype='|S47')"
      ]
     },
     "execution_count": 5,
     "metadata": {},
     "output_type": "execute_result"
    }
   ],
   "source": [
    "not_pizza[0:10]"
   ]
  },
  {
   "cell_type": "code",
   "execution_count": 6,
   "metadata": {
    "collapsed": true
   },
   "outputs": [],
   "source": [
    "not_pizza_train, not_pizza_val = train_test_split(not_pizza, train_size=(1000/1400.))"
   ]
  },
  {
   "cell_type": "code",
   "execution_count": 7,
   "metadata": {
    "collapsed": false,
    "scrolled": true
   },
   "outputs": [
    {
     "data": {
      "text/plain": [
       "(1000, 400)"
      ]
     },
     "execution_count": 7,
     "metadata": {},
     "output_type": "execute_result"
    }
   ],
   "source": [
    "len(not_pizza_train), len(not_pizza_val)"
   ]
  },
  {
   "cell_type": "markdown",
   "metadata": {},
   "source": [
    "### copy images into folders\n",
    "how to do this with creating folders via python?"
   ]
  },
  {
   "cell_type": "code",
   "execution_count": 11,
   "metadata": {
    "collapsed": true
   },
   "outputs": [],
   "source": [
    "#for train folder\n",
    "not_pizza_train_dest = '/Users/VanessaG/Desktop/pizza_class_data/train/not_pizza/'"
   ]
  },
  {
   "cell_type": "code",
   "execution_count": 12,
   "metadata": {
    "collapsed": false
   },
   "outputs": [],
   "source": [
    "for i, image in enumerate(not_pizza_train):\n",
    "    shutil.copy2(image, not_pizza_train_dest)"
   ]
  },
  {
   "cell_type": "code",
   "execution_count": 13,
   "metadata": {
    "collapsed": false
   },
   "outputs": [
    {
     "data": {
      "text/plain": [
       "990"
      ]
     },
     "execution_count": 13,
     "metadata": {},
     "output_type": "execute_result"
    }
   ],
   "source": [
    "len([x for x in glob.glob('/Users/VanessaG/Desktop/pizza_class_data/train/not_pizza/*') if x.endswith('.jpg')])"
   ]
  },
  {
   "cell_type": "code",
   "execution_count": 14,
   "metadata": {
    "collapsed": true
   },
   "outputs": [],
   "source": [
    "#for validation folder\n",
    "not_pizza_val_dest = '/Users/VanessaG/Desktop/pizza_class_data/validation/not_pizza/'"
   ]
  },
  {
   "cell_type": "code",
   "execution_count": 15,
   "metadata": {
    "collapsed": true
   },
   "outputs": [],
   "source": [
    "for i, image in enumerate(not_pizza_val):\n",
    "    shutil.copy2(image, not_pizza_val_dest)"
   ]
  },
  {
   "cell_type": "code",
   "execution_count": 16,
   "metadata": {
    "collapsed": false
   },
   "outputs": [
    {
     "data": {
      "text/plain": [
       "399"
      ]
     },
     "execution_count": 16,
     "metadata": {},
     "output_type": "execute_result"
    }
   ],
   "source": [
    "len([x for x in glob.glob('/Users/VanessaG/Desktop/pizza_class_data/validation/not_pizza/*') if x.endswith('.jpg')])"
   ]
  },
  {
   "cell_type": "markdown",
   "metadata": {},
   "source": [
    "## organize pizza images into train (1000) and validation (400) folders"
   ]
  },
  {
   "cell_type": "code",
   "execution_count": 17,
   "metadata": {
    "collapsed": true
   },
   "outputs": [],
   "source": [
    "moar_pizza = [x for x in glob.glob('/Users/VanessaG/Desktop/moar_pizza/*') if x.endswith('.jpg')]"
   ]
  },
  {
   "cell_type": "code",
   "execution_count": 18,
   "metadata": {
    "collapsed": false
   },
   "outputs": [],
   "source": [
    "#remove files less than 5kb\n",
    "for f in moar_pizza:\n",
    "    if (os.path.getsize(f)/1024. < 5):\n",
    "        os.remove(f)\n",
    "    "
   ]
  },
  {
   "cell_type": "code",
   "execution_count": 19,
   "metadata": {
    "collapsed": true
   },
   "outputs": [],
   "source": [
    "pizza = [x for x in glob.glob('/Users/VanessaG/Desktop/DSI-SF-2-vnessified/capstone/data_sources/food-101/images/pizza//*') if x.endswith('.jpg')]"
   ]
  },
  {
   "cell_type": "code",
   "execution_count": 20,
   "metadata": {
    "collapsed": false
   },
   "outputs": [
    {
     "data": {
      "text/plain": [
       "['/Users/VanessaG/Desktop/DSI-SF-2-vnessified/capstone/data_sources/food-101/images/pizza/1001116.jpg',\n",
       " '/Users/VanessaG/Desktop/DSI-SF-2-vnessified/capstone/data_sources/food-101/images/pizza/1008104.jpg',\n",
       " '/Users/VanessaG/Desktop/DSI-SF-2-vnessified/capstone/data_sources/food-101/images/pizza/1008144.jpg',\n",
       " '/Users/VanessaG/Desktop/DSI-SF-2-vnessified/capstone/data_sources/food-101/images/pizza/1008844.jpg',\n",
       " '/Users/VanessaG/Desktop/DSI-SF-2-vnessified/capstone/data_sources/food-101/images/pizza/1008941.jpg',\n",
       " '/Users/VanessaG/Desktop/DSI-SF-2-vnessified/capstone/data_sources/food-101/images/pizza/1011404.jpg',\n",
       " '/Users/VanessaG/Desktop/DSI-SF-2-vnessified/capstone/data_sources/food-101/images/pizza/102037.jpg',\n",
       " '/Users/VanessaG/Desktop/DSI-SF-2-vnessified/capstone/data_sources/food-101/images/pizza/1026922.jpg',\n",
       " '/Users/VanessaG/Desktop/DSI-SF-2-vnessified/capstone/data_sources/food-101/images/pizza/1029698.jpg',\n",
       " '/Users/VanessaG/Desktop/DSI-SF-2-vnessified/capstone/data_sources/food-101/images/pizza/1032754.jpg']"
      ]
     },
     "execution_count": 20,
     "metadata": {},
     "output_type": "execute_result"
    }
   ],
   "source": [
    "pizza[0:10]"
   ]
  },
  {
   "cell_type": "code",
   "execution_count": 21,
   "metadata": {
    "collapsed": false
   },
   "outputs": [],
   "source": [
    "all_pizza = pizza + moar_pizza"
   ]
  },
  {
   "cell_type": "code",
   "execution_count": 22,
   "metadata": {
    "collapsed": false
   },
   "outputs": [
    {
     "data": {
      "text/plain": [
       "(1000, 1163)"
      ]
     },
     "execution_count": 22,
     "metadata": {},
     "output_type": "execute_result"
    }
   ],
   "source": [
    "len(pizza), len(moar_pizza)"
   ]
  },
  {
   "cell_type": "code",
   "execution_count": 23,
   "metadata": {
    "collapsed": false,
    "scrolled": true
   },
   "outputs": [
    {
     "data": {
      "text/plain": [
       "2163"
      ]
     },
     "execution_count": 23,
     "metadata": {},
     "output_type": "execute_result"
    }
   ],
   "source": [
    "len(all_pizza)"
   ]
  },
  {
   "cell_type": "code",
   "execution_count": 24,
   "metadata": {
    "collapsed": true
   },
   "outputs": [],
   "source": [
    "pizza = np.random.choice(all_pizza, 1400)"
   ]
  },
  {
   "cell_type": "code",
   "execution_count": 25,
   "metadata": {
    "collapsed": false
   },
   "outputs": [
    {
     "data": {
      "text/plain": [
       "1400"
      ]
     },
     "execution_count": 25,
     "metadata": {},
     "output_type": "execute_result"
    }
   ],
   "source": [
    "len(pizza)"
   ]
  },
  {
   "cell_type": "code",
   "execution_count": 26,
   "metadata": {
    "collapsed": true
   },
   "outputs": [],
   "source": [
    "pizza_train, pizza_val = train_test_split(pizza, train_size=(1000/1400.))"
   ]
  },
  {
   "cell_type": "code",
   "execution_count": 27,
   "metadata": {
    "collapsed": false
   },
   "outputs": [
    {
     "data": {
      "text/plain": [
       "(1000, 400)"
      ]
     },
     "execution_count": 27,
     "metadata": {},
     "output_type": "execute_result"
    }
   ],
   "source": [
    "len(pizza_train), len(pizza_val)"
   ]
  },
  {
   "cell_type": "markdown",
   "metadata": {},
   "source": [
    "### copy images into folders"
   ]
  },
  {
   "cell_type": "code",
   "execution_count": 28,
   "metadata": {
    "collapsed": true
   },
   "outputs": [],
   "source": [
    "#for train folder\n",
    "pizza_train_dest = '/Users/VanessaG/Desktop/pizza_class_data/train/pizza/'"
   ]
  },
  {
   "cell_type": "code",
   "execution_count": 29,
   "metadata": {
    "collapsed": false
   },
   "outputs": [],
   "source": [
    "for i, image in enumerate(pizza_train):\n",
    "    shutil.copy2(image, pizza_train_dest)"
   ]
  },
  {
   "cell_type": "code",
   "execution_count": 30,
   "metadata": {
    "collapsed": false,
    "scrolled": true
   },
   "outputs": [
    {
     "data": {
      "text/plain": [
       "808"
      ]
     },
     "execution_count": 30,
     "metadata": {},
     "output_type": "execute_result"
    }
   ],
   "source": [
    "len([x for x in glob.glob('/Users/VanessaG/Desktop/pizza_class_data/train/pizza/*') if x.endswith('.jpg')])"
   ]
  },
  {
   "cell_type": "code",
   "execution_count": 31,
   "metadata": {
    "collapsed": true
   },
   "outputs": [],
   "source": [
    "#for validation folder\n",
    "pizza_val_dest = '/Users/VanessaG/Desktop/pizza_class_data/validation/pizza/'"
   ]
  },
  {
   "cell_type": "code",
   "execution_count": 32,
   "metadata": {
    "collapsed": true
   },
   "outputs": [],
   "source": [
    "for i, image in enumerate(pizza_val):\n",
    "    shutil.copy2(image, pizza_val_dest)"
   ]
  },
  {
   "cell_type": "code",
   "execution_count": 33,
   "metadata": {
    "collapsed": false,
    "scrolled": false
   },
   "outputs": [
    {
     "data": {
      "text/plain": [
       "361"
      ]
     },
     "execution_count": 33,
     "metadata": {},
     "output_type": "execute_result"
    }
   ],
   "source": [
    "len([x for x in glob.glob('/Users/VanessaG/Desktop/pizza_class_data/validation/pizza/*') if x.endswith('.jpg')])"
   ]
  },
  {
   "cell_type": "code",
   "execution_count": 34,
   "metadata": {
    "collapsed": false
   },
   "outputs": [
    {
     "data": {
      "text/plain": [
       "1000"
      ]
     },
     "execution_count": 34,
     "metadata": {},
     "output_type": "execute_result"
    }
   ],
   "source": [
    "len(pizza_train)"
   ]
  },
  {
   "cell_type": "code",
   "execution_count": 35,
   "metadata": {
    "collapsed": true
   },
   "outputs": [],
   "source": [
    "pizza_train = [os.path.basename(x) for x in pizza_train]"
   ]
  },
  {
   "cell_type": "code",
   "execution_count": 36,
   "metadata": {
    "collapsed": true
   },
   "outputs": [],
   "source": [
    "pizza_train_folder = [x for x in glob.glob('/Users/VanessaG/Desktop/pizza_class_data/train/pizza/*') if x.endswith('.jpg')]"
   ]
  },
  {
   "cell_type": "code",
   "execution_count": 37,
   "metadata": {
    "collapsed": false
   },
   "outputs": [],
   "source": [
    "pizza_train_folder = [os.path.basename(x) for x in pizza_train_folder]"
   ]
  },
  {
   "cell_type": "code",
   "execution_count": 40,
   "metadata": {
    "collapsed": false
   },
   "outputs": [
    {
     "data": {
      "text/plain": [
       "('2574896.jpg', '1030775944_f4ed5d0743.jpg')"
      ]
     },
     "execution_count": 40,
     "metadata": {},
     "output_type": "execute_result"
    }
   ],
   "source": [
    "pizza_train[5], pizza_train_folder[5]"
   ]
  },
  {
   "cell_type": "code",
   "execution_count": 38,
   "metadata": {
    "collapsed": false
   },
   "outputs": [
    {
     "data": {
      "text/plain": [
       "[]"
      ]
     },
     "execution_count": 38,
     "metadata": {},
     "output_type": "execute_result"
    }
   ],
   "source": [
    "[x for x in pizza_train if x not in pizza_train_folder]"
   ]
  },
  {
   "cell_type": "code",
   "execution_count": 39,
   "metadata": {
    "collapsed": false,
    "scrolled": true
   },
   "outputs": [
    {
     "data": {
      "text/plain": [
       "list"
      ]
     },
     "execution_count": 39,
     "metadata": {},
     "output_type": "execute_result"
    }
   ],
   "source": [
    "type(pizza_train_folder)"
   ]
  },
  {
   "cell_type": "code",
   "execution_count": 41,
   "metadata": {
    "collapsed": false
   },
   "outputs": [
    {
     "data": {
      "text/plain": [
       "['alice']"
      ]
     },
     "execution_count": 41,
     "metadata": {},
     "output_type": "execute_result"
    }
   ],
   "source": [
    "a=['bob', 'sue', 'alice', 'same', 'kyle', 'tim'] \n",
    "\n",
    "b=['bob', 'sue', 'same', 'kyle', 'tim'] \n",
    "\n",
    "[i for i in a if i not in b]\n"
   ]
  },
  {
   "cell_type": "code",
   "execution_count": null,
   "metadata": {
    "collapsed": true
   },
   "outputs": [],
   "source": []
  }
 ],
 "metadata": {
  "kernelspec": {
   "display_name": "Python 2",
   "language": "python",
   "name": "python2"
  },
  "language_info": {
   "codemirror_mode": {
    "name": "ipython",
    "version": 2
   },
   "file_extension": ".py",
   "mimetype": "text/x-python",
   "name": "python",
   "nbconvert_exporter": "python",
   "pygments_lexer": "ipython2",
   "version": "2.7.11"
  }
 },
 "nbformat": 4,
 "nbformat_minor": 0
}
