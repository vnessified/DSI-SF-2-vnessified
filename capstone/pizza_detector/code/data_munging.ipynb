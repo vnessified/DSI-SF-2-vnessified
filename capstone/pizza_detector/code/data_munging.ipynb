{
 "cells": [
  {
   "cell_type": "markdown",
   "metadata": {},
   "source": [
    "### Data munging\n",
    "Creates a csv file from image info."
   ]
  },
  {
   "cell_type": "code",
   "execution_count": 22,
   "metadata": {
    "collapsed": false
   },
   "outputs": [],
   "source": [
    "# general imports\n",
    "import os, glob, fnmatch\n",
    "import pandas as pd\n",
    "import numpy as np\n",
    "\n",
    "# image processing imports\n",
    "import cv2"
   ]
  },
  {
   "cell_type": "markdown",
   "metadata": {},
   "source": [
    "---\n",
    "## Create dataframe\n",
    "Creates a dataframe from RGB, HSV, image height & width image data using OpenCV methods and `.shape`."
   ]
  },
  {
   "cell_type": "code",
   "execution_count": 6,
   "metadata": {
    "collapsed": true
   },
   "outputs": [],
   "source": [
    "# create list of all the image filepaths\n",
    "images = []\n",
    "for root, dirnames, filenames in os.walk('/Users/VanessaG/Desktop/pizza_class_data/'):\n",
    "    for filename in fnmatch.filter(filenames, '*.jpg'):\n",
    "        images.append(os.path.join(root, filename))"
   ]
  },
  {
   "cell_type": "code",
   "execution_count": 7,
   "metadata": {
    "collapsed": true
   },
   "outputs": [],
   "source": [
    "# create lists for dataframe of image info - rgb, hsv, image height & width\n",
    "data = []\n",
    "for img in images:\n",
    "    image = cv2.imread(img)\n",
    "    data.append(cv2.normalize(image, alpha=0, beta=1, norm_type=cv2.NORM_MINMAX, dtype=cv2.CV_32F))\n",
    "    \n",
    "rgb_means = []\n",
    "hsv_means = []\n",
    "img_height = []\n",
    "img_width = [] \n",
    "\n",
    "for i in data:\n",
    "    means = cv2.mean(cv2.cvtColor(i, cv2.COLOR_BGR2RGB))[:3]\n",
    "    rgb_means.append(means)\n",
    "    means2 = cv2.mean(cv2.cvtColor(i, cv2.COLOR_BGR2HSV))[:3]\n",
    "    hsv_means.append(means2)\n",
    "    img_height.append(i.shape[0])\n",
    "    img_width.append(i.shape[1])"
   ]
  },
  {
   "cell_type": "code",
   "execution_count": 8,
   "metadata": {
    "collapsed": true
   },
   "outputs": [],
   "source": [
    "# create dataframes from the lists above\n",
    "df1 = pd.DataFrame(rgb_means, columns=['red', 'green', 'blue'])\n",
    "df2 = pd.DataFrame(hsv_means, columns=['hue', 'sat', 'val'])\n",
    "df = pd.concat([df1, df2], axis=1)"
   ]
  },
  {
   "cell_type": "code",
   "execution_count": 9,
   "metadata": {
    "collapsed": true
   },
   "outputs": [],
   "source": [
    "# just nice to have - used to display images in EDA\n",
    "df['full_path'] = images"
   ]
  },
  {
   "cell_type": "code",
   "execution_count": 10,
   "metadata": {
    "collapsed": true
   },
   "outputs": [],
   "source": [
    "# 0 is not pizza, 1 is pizza\n",
    "df['label'] = df.full_path.map(lambda x: 0 if '/not_pizza/' in x else 1)"
   ]
  },
  {
   "cell_type": "code",
   "execution_count": 11,
   "metadata": {
    "collapsed": true
   },
   "outputs": [],
   "source": [
    "# basically confirming labels are correct\n",
    "df['short_path'] = df['full_path'].replace({'/Users/VanessaG/Desktop/pizza_class_data/': ''}, regex=True)"
   ]
  },
  {
   "cell_type": "code",
   "execution_count": 12,
   "metadata": {
    "collapsed": true
   },
   "outputs": [],
   "source": [
    "# add in width, height, total pixels and re-order columns\n",
    "df['img_height'] = img_height\n",
    "df['img_width'] = img_width\n",
    "df['total_px'] = df.img_height * df.img_width\n",
    "df = df[['label', 'red', 'green', 'blue','hue', 'sat', 'val', 'img_height', 'img_width', 'total_px', 'short_path', 'full_path']]"
   ]
  },
  {
   "cell_type": "code",
   "execution_count": 13,
   "metadata": {
    "collapsed": true
   },
   "outputs": [],
   "source": [
    "# save csv\n",
    "df.to_csv('image_info.csv')"
   ]
  },
  {
   "cell_type": "code",
   "execution_count": null,
   "metadata": {
    "collapsed": true
   },
   "outputs": [],
   "source": []
  }
 ],
 "metadata": {
  "kernelspec": {
   "display_name": "Python 2",
   "language": "python",
   "name": "python2"
  },
  "language_info": {
   "codemirror_mode": {
    "name": "ipython",
    "version": 2
   },
   "file_extension": ".py",
   "mimetype": "text/x-python",
   "name": "python",
   "nbconvert_exporter": "python",
   "pygments_lexer": "ipython2",
   "version": "2.7.11"
  }
 },
 "nbformat": 4,
 "nbformat_minor": 0
}
